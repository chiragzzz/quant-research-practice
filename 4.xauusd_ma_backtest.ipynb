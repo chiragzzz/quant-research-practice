{
 "cells": [
  {
   "cell_type": "code",
   "execution_count": 1,
   "id": "6aef7614-1325-4042-946a-0d4d22585904",
   "metadata": {},
   "outputs": [],
   "source": [
    "import pandas as pd\n",
    "import matplotlib.pyplot as plt\n",
    "\n",
    "\n",
    "## Python reads '\\' as escape and might give an error , hence to avoid this we use r in prefix\n",
    "\n",
    "path = r\"C:\\Users\\chira\\Downloads\\XAUUSD_sample_2025.csv\"\n",
    "\n",
    "df = pd.read_csv(path)"
   ]
  },
  {
   "cell_type": "code",
   "execution_count": 2,
   "id": "115045af-813e-498c-b50e-3d9452a6c867",
   "metadata": {},
   "outputs": [
    {
     "data": {
      "text/html": [
       "<div>\n",
       "<style scoped>\n",
       "    .dataframe tbody tr th:only-of-type {\n",
       "        vertical-align: middle;\n",
       "    }\n",
       "\n",
       "    .dataframe tbody tr th {\n",
       "        vertical-align: top;\n",
       "    }\n",
       "\n",
       "    .dataframe thead th {\n",
       "        text-align: right;\n",
       "    }\n",
       "</style>\n",
       "<table border=\"1\" class=\"dataframe\">\n",
       "  <thead>\n",
       "    <tr style=\"text-align: right;\">\n",
       "      <th></th>\n",
       "      <th>Date</th>\n",
       "      <th>Close</th>\n",
       "    </tr>\n",
       "  </thead>\n",
       "  <tbody>\n",
       "    <tr>\n",
       "      <th>124</th>\n",
       "      <td>2025-06-24</td>\n",
       "      <td>1993.835817</td>\n",
       "    </tr>\n",
       "    <tr>\n",
       "      <th>125</th>\n",
       "      <td>2025-06-25</td>\n",
       "      <td>1988.175649</td>\n",
       "    </tr>\n",
       "    <tr>\n",
       "      <th>126</th>\n",
       "      <td>2025-06-26</td>\n",
       "      <td>1992.163630</td>\n",
       "    </tr>\n",
       "    <tr>\n",
       "      <th>127</th>\n",
       "      <td>2025-06-27</td>\n",
       "      <td>1983.221274</td>\n",
       "    </tr>\n",
       "    <tr>\n",
       "      <th>128</th>\n",
       "      <td>2025-06-30</td>\n",
       "      <td>1990.829715</td>\n",
       "    </tr>\n",
       "  </tbody>\n",
       "</table>\n",
       "</div>"
      ],
      "text/plain": [
       "           Date        Close\n",
       "124  2025-06-24  1993.835817\n",
       "125  2025-06-25  1988.175649\n",
       "126  2025-06-26  1992.163630\n",
       "127  2025-06-27  1983.221274\n",
       "128  2025-06-30  1990.829715"
      ]
     },
     "execution_count": 2,
     "metadata": {},
     "output_type": "execute_result"
    }
   ],
   "source": [
    "df.tail()"
   ]
  },
  {
   "cell_type": "code",
   "execution_count": 3,
   "id": "4c7cadb2-3ca4-48e9-b775-327bf7c6791b",
   "metadata": {},
   "outputs": [
    {
     "data": {
      "text/html": [
       "<div>\n",
       "<style scoped>\n",
       "    .dataframe tbody tr th:only-of-type {\n",
       "        vertical-align: middle;\n",
       "    }\n",
       "\n",
       "    .dataframe tbody tr th {\n",
       "        vertical-align: top;\n",
       "    }\n",
       "\n",
       "    .dataframe thead th {\n",
       "        text-align: right;\n",
       "    }\n",
       "</style>\n",
       "<table border=\"1\" class=\"dataframe\">\n",
       "  <thead>\n",
       "    <tr style=\"text-align: right;\">\n",
       "      <th></th>\n",
       "      <th>Date</th>\n",
       "      <th>Close</th>\n",
       "      <th>MA_7</th>\n",
       "    </tr>\n",
       "  </thead>\n",
       "  <tbody>\n",
       "    <tr>\n",
       "      <th>124</th>\n",
       "      <td>2025-06-24</td>\n",
       "      <td>1993.835817</td>\n",
       "      <td>1994.823065</td>\n",
       "    </tr>\n",
       "    <tr>\n",
       "      <th>125</th>\n",
       "      <td>2025-06-25</td>\n",
       "      <td>1988.175649</td>\n",
       "      <td>1994.176049</td>\n",
       "    </tr>\n",
       "    <tr>\n",
       "      <th>126</th>\n",
       "      <td>2025-06-26</td>\n",
       "      <td>1992.163630</td>\n",
       "      <td>1993.750836</td>\n",
       "    </tr>\n",
       "    <tr>\n",
       "      <th>127</th>\n",
       "      <td>2025-06-27</td>\n",
       "      <td>1983.221274</td>\n",
       "      <td>1992.654173</td>\n",
       "    </tr>\n",
       "    <tr>\n",
       "      <th>128</th>\n",
       "      <td>2025-06-30</td>\n",
       "      <td>1990.829715</td>\n",
       "      <td>1992.155982</td>\n",
       "    </tr>\n",
       "  </tbody>\n",
       "</table>\n",
       "</div>"
      ],
      "text/plain": [
       "           Date        Close         MA_7\n",
       "124  2025-06-24  1993.835817  1994.823065\n",
       "125  2025-06-25  1988.175649  1994.176049\n",
       "126  2025-06-26  1992.163630  1993.750836\n",
       "127  2025-06-27  1983.221274  1992.654173\n",
       "128  2025-06-30  1990.829715  1992.155982"
      ]
     },
     "execution_count": 3,
     "metadata": {},
     "output_type": "execute_result"
    }
   ],
   "source": [
    "## Calculating Moving average of 7\n",
    "\n",
    "df[\"MA_7\"] = df[\"Close\"].rolling(window = 7).mean()\n",
    "\n",
    "df.tail()"
   ]
  },
  {
   "cell_type": "code",
   "execution_count": 4,
   "id": "48efcb18-6eb2-4140-8cf9-864401f1b480",
   "metadata": {},
   "outputs": [
    {
     "data": {
      "text/html": [
       "<div>\n",
       "<style scoped>\n",
       "    .dataframe tbody tr th:only-of-type {\n",
       "        vertical-align: middle;\n",
       "    }\n",
       "\n",
       "    .dataframe tbody tr th {\n",
       "        vertical-align: top;\n",
       "    }\n",
       "\n",
       "    .dataframe thead th {\n",
       "        text-align: right;\n",
       "    }\n",
       "</style>\n",
       "<table border=\"1\" class=\"dataframe\">\n",
       "  <thead>\n",
       "    <tr style=\"text-align: right;\">\n",
       "      <th></th>\n",
       "      <th>Date</th>\n",
       "      <th>Close</th>\n",
       "      <th>MA_7</th>\n",
       "      <th>Signal</th>\n",
       "    </tr>\n",
       "  </thead>\n",
       "  <tbody>\n",
       "    <tr>\n",
       "      <th>124</th>\n",
       "      <td>2025-06-24</td>\n",
       "      <td>1993.835817</td>\n",
       "      <td>1994.823065</td>\n",
       "      <td>0</td>\n",
       "    </tr>\n",
       "    <tr>\n",
       "      <th>125</th>\n",
       "      <td>2025-06-25</td>\n",
       "      <td>1988.175649</td>\n",
       "      <td>1994.176049</td>\n",
       "      <td>0</td>\n",
       "    </tr>\n",
       "    <tr>\n",
       "      <th>126</th>\n",
       "      <td>2025-06-26</td>\n",
       "      <td>1992.163630</td>\n",
       "      <td>1993.750836</td>\n",
       "      <td>0</td>\n",
       "    </tr>\n",
       "    <tr>\n",
       "      <th>127</th>\n",
       "      <td>2025-06-27</td>\n",
       "      <td>1983.221274</td>\n",
       "      <td>1992.654173</td>\n",
       "      <td>0</td>\n",
       "    </tr>\n",
       "    <tr>\n",
       "      <th>128</th>\n",
       "      <td>2025-06-30</td>\n",
       "      <td>1990.829715</td>\n",
       "      <td>1992.155982</td>\n",
       "      <td>0</td>\n",
       "    </tr>\n",
       "  </tbody>\n",
       "</table>\n",
       "</div>"
      ],
      "text/plain": [
       "           Date        Close         MA_7  Signal\n",
       "124  2025-06-24  1993.835817  1994.823065       0\n",
       "125  2025-06-25  1988.175649  1994.176049       0\n",
       "126  2025-06-26  1992.163630  1993.750836       0\n",
       "127  2025-06-27  1983.221274  1992.654173       0\n",
       "128  2025-06-30  1990.829715  1992.155982       0"
      ]
     },
     "execution_count": 4,
     "metadata": {},
     "output_type": "execute_result"
    }
   ],
   "source": [
    "## Creating BUY Signal\n",
    "## astype(int) creates boolean to int\n",
    "\n",
    "\n",
    "df[\"Signal\"] = (df[\"Close\"] > df[\"MA_7\"]).astype(int)\n",
    "\n",
    "df.tail()"
   ]
  },
  {
   "cell_type": "markdown",
   "id": "f3770f49-9543-496f-b824-7c47be1d154f",
   "metadata": {},
   "source": [
    "Backtesting the MA Buy Signal on XAUUSD"
   ]
  },
  {
   "cell_type": "raw",
   "id": "f94ed416-5b9f-43eb-97a5-b2c92ddf6860",
   "metadata": {},
   "source": []
  },
  {
   "cell_type": "code",
   "execution_count": 5,
   "id": "cac6a936-45e5-4fb1-9425-0972f99f853d",
   "metadata": {},
   "outputs": [],
   "source": [
    "## Creating an empty list to store the trade returns\n",
    "\n",
    "strategy_returns = []\n",
    "\n",
    "for i in range(len(df) - 6):\n",
    "    if df.loc[i, \"Signal\"] == 1:\n",
    "        entry_price = df.loc[i + 1, \"Close\"]\n",
    "        exit_price = df.loc[i + 6, \"Close\"]\n",
    "        return_pct = (entry_price - exit_price) / entry_price\n",
    "        strategy_returns.append(return_pct)\n",
    "\n"
   ]
  },
  {
   "cell_type": "code",
   "execution_count": 24,
   "id": "12877885-4be3-41d8-9151-b48afcca6953",
   "metadata": {},
   "outputs": [
    {
     "name": "stdout",
     "output_type": "stream",
     "text": [
      "[0.0034477493596381716, 0.0012173096801091454, 0.00305074978342941, 0.00856368073978241, 0.0049518236729614185, 0.007378310616428549, 0.0047395334182730765, 0.006029430540463486, 0.007707454618656524, 0.0037917699175923853, 0.0032258294303317767, 0.004262054107997121, -0.0008889031980186058, -0.012133664855318551, -0.001556203258187026, -0.004052904602913404, -0.0038603229132670902, -0.005356067342368679, -0.006103402185342137, -0.006109022179460326, -0.0020148068292995367, -0.0033506474901451597, -0.0007621570592282865, 0.001955901395663135, 0.0002085188449995095, -0.0038202799098160014, -0.00575337321110423, -0.0057178362737565405, -0.010635733608902697, 0.0028635664710003348, 0.005543033773834976, 0.010232215877822175, 0.008351975887004622, 0.006977803090548122, 0.005691723646142063, -0.004595170955488187, -0.0018772667215346873, 0.005897945469790614, 0.005687659327463763, 0.005679390781936471, 0.011926892414821597, 0.0065683554822719694, 0.0014158044018720676, -0.003179665319152984, 0.0006537394936089875, 0.0013673578232174808, 0.0010797775091276529, 0.007309761039454509, 0.004107559206080125]\n"
     ]
    }
   ],
   "source": [
    "print(strategy_returns)\n",
    "\n"
   ]
  },
  {
   "cell_type": "code",
   "execution_count": 23,
   "id": "c7321261-9500-450a-b10a-5ead17d5fd6c",
   "metadata": {},
   "outputs": [],
   "source": [
    "# Converting to Series, BECAUSE we easily get mean(), meadian() , prod() etc. for compounding\n",
    "\n",
    "returns_series = pd.Series(strategy_returns)\n",
    "\n",
    "\n",
    "### calculating the cumulative return from multiple trades, assuming you reinvest gains from each trade into the next one.\n",
    "# Compounded Return\n",
    "\n",
    "#  1 + converts each return into a growth factor so that simple multiplication correctly chains the gains and losses. \n",
    "#  Without the +1, multiplication would give meaningless numbers.\n",
    "\n",
    "## -1 is for getting percentage and .prod() multiples the values inside a list[] i.e series\n",
    "\n",
    "cumulative_return = (1 + returns_series).prod() - 1\n"
   ]
  },
  {
   "cell_type": "code",
   "execution_count": 8,
   "id": "cd6a20ba-45be-45f9-b7f8-ebb884af66f1",
   "metadata": {},
   "outputs": [
    {
     "name": "stdout",
     "output_type": "stream",
     "text": [
      "Total Trades: 49\n",
      "Average Return per Trade: 0.1431%\n",
      "Cumulative Strategy Return: 7.18%\n"
     ]
    }
   ],
   "source": [
    "print(f\"Total Trades: {len(strategy_returns)}\")\n",
    "print(f\"Average Return per Trade: {returns_series.mean():.4%}\")\n",
    "print(f\"Cumulative Strategy Return: {cumulative_return:.2%}\")"
   ]
  },
  {
   "cell_type": "code",
   "execution_count": null,
   "id": "e9ca7b35-1592-4946-80bd-d3c500b16d7d",
   "metadata": {},
   "outputs": [],
   "source": []
  },
  {
   "cell_type": "markdown",
   "id": "0743aed8-30b5-48f2-bd31-7a803d933921",
   "metadata": {},
   "source": [
    "Plot cumulative returns vs buy-and-hold\n",
    "\n"
   ]
  },
  {
   "cell_type": "code",
   "execution_count": 27,
   "id": "160d2b2c-5af7-4a71-b336-d098527cad50",
   "metadata": {},
   "outputs": [
    {
     "data": {
      "image/png": "[encoded data removed]",
      "text/plain": [
       "<Figure size 1000x500 with 1 Axes>"
      ]
     },
     "metadata": {},
     "output_type": "display_data"
    }
   ],
   "source": [
    "strategy_equity = (1 + returns_series).cumprod()\n",
    "\n",
    "\n",
    "# Buy-and-hold: assume buy on Day 1, hold till end\n",
    "buy_hold_return = df['Close'].iloc[-1] / df['Close'].iloc[0]\n",
    "\n",
    "\n",
    "buy_hold_series = pd.Series([1, buy_hold_return], index=[0, len(strategy_equity) - 1])\n",
    "\n",
    "\n",
    "plt.figure(figsize = (10,5))\n",
    "plt.plot(strategy_equity.values, label = \"Strategy (MA7, 5-day Hold)\", linewidth = 2)\n",
    "\n",
    "plt.plot(buy_hold_series.index, buy_hold_series.values, label=\"Buy & Hold\", linestyle=\"--\", color=\"gray\")\n",
    "plt.title(\"XAUUSD Strategy vs Buy-and-Hold\")\n",
    "plt.xlabel(\"Trades Executed\")\n",
    "plt.ylabel(\"Cumulative Return\")\n",
    "plt.legend()\n",
    "plt.grid(True)\n",
    "plt.tight_layout()\n",
    "plt.savefig(\"xauusd_strategy_vs_bh.png\")\n",
    "plt.show()"
   ]
  },
  {
   "cell_type": "code",
   "execution_count": null,
   "id": "fe61b61a-4add-4df9-9648-e960ccf31f74",
   "metadata": {},
   "outputs": [],
   "source": [
    "### Further Improvements :   Stoploss, Target Price, Trailing, Position sizing"
   ]
  }
 ],
 "metadata": {
  "kernelspec": {
   "display_name": "Python 3 (ipykernel)",
   "language": "python",
   "name": "python3"
  },
  "language_info": {
   "codemirror_mode": {
    "name": "ipython",
    "version": 3
   },
   "file_extension": ".py",
   "mimetype": "text/x-python",
   "name": "python",
   "nbconvert_exporter": "python",
   "pygments_lexer": "ipython3",
   "version": "3.12.7"
  }
 },
 "nbformat": 4,
 "nbformat_minor": 5
}
