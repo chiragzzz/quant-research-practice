{
 "cells": [
  {
   "cell_type": "code",
   "execution_count": 1,
   "id": "b475a856-1265-4ebe-ab96-af8bc5466b28",
   "metadata": {},
   "outputs": [],
   "source": [
    "%load_ext sql"
   ]
  },
  {
   "cell_type": "code",
   "execution_count": 2,
   "id": "8daf557e-cd35-42b9-b635-4f555d088670",
   "metadata": {},
   "outputs": [],
   "source": [
    "%sql sqlite://"
   ]
  },
  {
   "cell_type": "code",
   "execution_count": 3,
   "id": "a33f9e38-cd68-4d5d-9232-63aa2ca072ba",
   "metadata": {},
   "outputs": [
    {
     "name": "stdout",
     "output_type": "stream",
     "text": [
      "['ALL', 'DEFAULT', 'DOUBLE_BORDER', 'FRAME', 'HEADER', 'MARKDOWN', 'MSWORD_FRIENDLY', 'NONE', 'ORGMODE', 'PLAIN_COLUMNS', 'RANDOM', 'SINGLE_BORDER']\n"
     ]
    }
   ],
   "source": [
    " "
   ]
  },
  {
   "cell_type": "code",
   "execution_count": 4,
   "id": "ae47db5e-aebb-4461-9fd4-ca6d22759087",
   "metadata": {},
   "outputs": [
    {
     "name": "stdout",
     "output_type": "stream",
     "text": [
      " * sqlite://\n",
      "Done.\n",
      "Done.\n"
     ]
    },
    {
     "data": {
      "text/plain": [
       "[]"
      ]
     },
     "execution_count": 4,
     "metadata": {},
     "output_type": "execute_result"
    }
   ],
   "source": [
    "%%sql\n",
    "\n",
    "CREATE TABLE sectors (\n",
    "    sector_id INTEGER PRIMARY KEY,\n",
    "    sector_name TEXT\n",
    ");\n",
    "\n",
    "CREATE TABLE stocks (\n",
    "    stock_id INTEGER PRIMARY KEY,\n",
    "    stock_name TEXT,\n",
    "    sector_id INTEGER,\n",
    "    price INTEGER\n",
    ");"
   ]
  },
  {
   "cell_type": "code",
   "execution_count": 5,
   "id": "374c1751-028c-470d-b58d-8fb40d12823c",
   "metadata": {},
   "outputs": [],
   "source": [
    "%config SqlMagic.style = 'DEFAULT'"
   ]
  },
  {
   "cell_type": "code",
   "execution_count": 6,
   "id": "8409a672-a9e3-461b-a669-70cc69b7704f",
   "metadata": {},
   "outputs": [
    {
     "name": "stdout",
     "output_type": "stream",
     "text": [
      " * sqlite://\n",
      "4 rows affected.\n",
      "5 rows affected.\n"
     ]
    },
    {
     "data": {
      "text/plain": [
       "[]"
      ]
     },
     "execution_count": 6,
     "metadata": {},
     "output_type": "execute_result"
    }
   ],
   "source": [
    "%%sql\n",
    "\n",
    "INSERT INTO sectors VALUES (101, 'Technology'), (102, 'Banking'), (103, 'IT Services'), (104, 'Pharma');\n",
    "\n",
    "INSERT INTO stocks VALUES\n",
    "(1, 'AAPL', 101, 180),\n",
    "(2, 'MSFT', 101, 320),\n",
    "(3, 'JPM', 102, 150),\n",
    "(4, 'TCS', 103, 3500),\n",
    "(5, 'INFY', 103, 1450);"
   ]
  },
  {
   "cell_type": "code",
   "execution_count": 7,
   "id": "447ba6d2-5b0d-48a8-af52-78a9457a04ee",
   "metadata": {},
   "outputs": [
    {
     "name": "stdout",
     "output_type": "stream",
     "text": [
      " * sqlite://\n",
      "Done.\n"
     ]
    },
    {
     "data": {
      "text/html": [
       "<table>\n",
       "    <thead>\n",
       "        <tr>\n",
       "            <th>stock_name</th>\n",
       "            <th>price</th>\n",
       "            <th>sector_name</th>\n",
       "        </tr>\n",
       "    </thead>\n",
       "    <tbody>\n",
       "        <tr>\n",
       "            <td>AAPL</td>\n",
       "            <td>180</td>\n",
       "            <td>Technology</td>\n",
       "        </tr>\n",
       "        <tr>\n",
       "            <td>MSFT</td>\n",
       "            <td>320</td>\n",
       "            <td>Technology</td>\n",
       "        </tr>\n",
       "        <tr>\n",
       "            <td>JPM</td>\n",
       "            <td>150</td>\n",
       "            <td>Banking</td>\n",
       "        </tr>\n",
       "        <tr>\n",
       "            <td>TCS</td>\n",
       "            <td>3500</td>\n",
       "            <td>IT Services</td>\n",
       "        </tr>\n",
       "        <tr>\n",
       "            <td>INFY</td>\n",
       "            <td>1450</td>\n",
       "            <td>IT Services</td>\n",
       "        </tr>\n",
       "    </tbody>\n",
       "</table>"
      ],
      "text/plain": [
       "[('AAPL', 180, 'Technology'),\n",
       " ('MSFT', 320, 'Technology'),\n",
       " ('JPM', 150, 'Banking'),\n",
       " ('TCS', 3500, 'IT Services'),\n",
       " ('INFY', 1450, 'IT Services')]"
      ]
     },
     "execution_count": 7,
     "metadata": {},
     "output_type": "execute_result"
    }
   ],
   "source": [
    "%%sql\n",
    "SELECT s.stock_name, s.price, sec.sector_name\n",
    "FROM stocks s\n",
    "JOIN sectors sec ON s.sector_id = sec.sector_id;"
   ]
  },
  {
   "cell_type": "markdown",
   "id": "2ee165b7-ca1d-4aaf-a928-38f7cfabf9cc",
   "metadata": {},
   "source": [
    "##########################"
   ]
  },
  {
   "cell_type": "code",
   "execution_count": null,
   "id": "0529dae5-830a-4b9d-9547-371f005eb662",
   "metadata": {},
   "outputs": [],
   "source": [
    "\n"
   ]
  },
  {
   "cell_type": "code",
   "execution_count": 8,
   "id": "d3b1d10b-93f1-41c1-a7f7-0bcd4f814793",
   "metadata": {},
   "outputs": [
    {
     "name": "stdout",
     "output_type": "stream",
     "text": [
      " * sqlite://\n",
      "Done.\n",
      "4 rows affected.\n",
      "Done.\n",
      "4 rows affected.\n"
     ]
    },
    {
     "data": {
      "text/plain": [
       "[]"
      ]
     },
     "execution_count": 8,
     "metadata": {},
     "output_type": "execute_result"
    }
   ],
   "source": [
    "\n",
    "\n",
    "%%sql\n",
    "\n",
    "\n",
    "\n",
    "CREATE TABLE customers (\n",
    "    customer_id INT PRIMARY KEY,\n",
    "    name VARCHAR(30),\n",
    "    city VARCHAR(30)\n",
    ");\n",
    "\n",
    "INSERT INTO customers (customer_id, name, city) VALUES\n",
    "(1, \"Asha Rao\", \"Mumbai\"),\n",
    "(2, \"Ravi Shah\", \"Delhi\"),\n",
    "(3, \"Neha Jain\", \"Pune\"),\n",
    "(4, \"Karan Das\", \"Chennai\");\n",
    "\n",
    "\n",
    "\n",
    "\n",
    "CREATE TABLE transactions (\n",
    "    txn_id INT PRIMARY KEY,\n",
    "    customer_id INT,\n",
    "    txn_date DATE,\n",
    "    amount INT\n",
    ");\n",
    "\n",
    "INSERT INTO transactions (txn_id, customer_id, txn_date, amount) VALUES\n",
    "(101, 1, \"2024-06-01\", 1200),\n",
    "(102, 1, \"2024-06-03\", 2200),\n",
    "(103, 2, \"2024-06-01\", 500),\n",
    "(104, 3, \"2024-06-02\", 0);"
   ]
  },
  {
   "cell_type": "code",
   "execution_count": 12,
   "id": "c012b84f-c499-43a1-8430-533d33f7da04",
   "metadata": {},
   "outputs": [],
   "source": [
    "## Problem 1 : Total txn per customer"
   ]
  },
  {
   "cell_type": "code",
   "execution_count": 19,
   "id": "de4a8acf-e224-4e51-90ac-0783759460ef",
   "metadata": {},
   "outputs": [
    {
     "name": "stdout",
     "output_type": "stream",
     "text": [
      " * sqlite://\n",
      "Done.\n"
     ]
    },
    {
     "data": {
      "text/html": [
       "<table>\n",
       "    <thead>\n",
       "        <tr>\n",
       "            <th>name</th>\n",
       "            <th>SUM(amount)</th>\n",
       "        </tr>\n",
       "    </thead>\n",
       "    <tbody>\n",
       "        <tr>\n",
       "            <td>Neha Jain</td>\n",
       "            <td>0</td>\n",
       "        </tr>\n",
       "        <tr>\n",
       "            <td>Ravi Shah</td>\n",
       "            <td>500</td>\n",
       "        </tr>\n",
       "        <tr>\n",
       "            <td>Asha Rao</td>\n",
       "            <td>3400</td>\n",
       "        </tr>\n",
       "    </tbody>\n",
       "</table>"
      ],
      "text/plain": [
       "[('Neha Jain', 0), ('Ravi Shah', 500), ('Asha Rao', 3400)]"
      ]
     },
     "execution_count": 19,
     "metadata": {},
     "output_type": "execute_result"
    }
   ],
   "source": [
    "%%sql\n",
    "\n",
    "SELECT name, SUM(amount)\n",
    "FROM customers\n",
    "JOIN transactions ON customers.customer_id = transactions.customer_id\n",
    "GROUP BY customers.name\n",
    "ORDER BY amount ;"
   ]
  },
  {
   "cell_type": "code",
   "execution_count": 27,
   "id": "7b7dbd49-5f99-4cf2-bb14-611d6029b506",
   "metadata": {},
   "outputs": [
    {
     "name": "stdout",
     "output_type": "stream",
     "text": [
      " * sqlite://\n",
      "Done.\n"
     ]
    },
    {
     "data": {
      "text/html": [
       "<table>\n",
       "    <thead>\n",
       "        <tr>\n",
       "            <th>name</th>\n",
       "            <th>txn_id</th>\n",
       "        </tr>\n",
       "    </thead>\n",
       "    <tbody>\n",
       "        <tr>\n",
       "            <td>Karan Das</td>\n",
       "            <td>None</td>\n",
       "        </tr>\n",
       "    </tbody>\n",
       "</table>"
      ],
      "text/plain": [
       "[('Karan Das', None)]"
      ]
     },
     "execution_count": 27,
     "metadata": {},
     "output_type": "execute_result"
    }
   ],
   "source": [
    "%%sql\n",
    "\n",
    "SELECT name, txn_id\n",
    "FROM customers\n",
    "LEFT JOIN transactions ON \n",
    "customers.customer_id = transactions.customer_id\n",
    "WHERE transactions.txn_id IS NULL\n"
   ]
  },
  {
   "cell_type": "code",
   "execution_count": 10,
   "id": "daf5dc22-c88a-4b57-91f9-55063f7a7d82",
   "metadata": {},
   "outputs": [
    {
     "name": "stdout",
     "output_type": "stream",
     "text": [
      " * sqlite://\n",
      "Done.\n"
     ]
    },
    {
     "data": {
      "text/html": [
       "<table>\n",
       "    <thead>\n",
       "        <tr>\n",
       "            <th>customer_id</th>\n",
       "            <th>name</th>\n",
       "            <th>city</th>\n",
       "        </tr>\n",
       "    </thead>\n",
       "    <tbody>\n",
       "        <tr>\n",
       "            <td>1</td>\n",
       "            <td>Asha Rao</td>\n",
       "            <td>Mumbai</td>\n",
       "        </tr>\n",
       "        <tr>\n",
       "            <td>2</td>\n",
       "            <td>Ravi Shah</td>\n",
       "            <td>Delhi</td>\n",
       "        </tr>\n",
       "        <tr>\n",
       "            <td>3</td>\n",
       "            <td>Neha Jain</td>\n",
       "            <td>Pune</td>\n",
       "        </tr>\n",
       "        <tr>\n",
       "            <td>4</td>\n",
       "            <td>Karan Das</td>\n",
       "            <td>Chennai</td>\n",
       "        </tr>\n",
       "    </tbody>\n",
       "</table>"
      ],
      "text/plain": [
       "[(1, 'Asha Rao', 'Mumbai'),\n",
       " (2, 'Ravi Shah', 'Delhi'),\n",
       " (3, 'Neha Jain', 'Pune'),\n",
       " (4, 'Karan Das', 'Chennai')]"
      ]
     },
     "execution_count": 10,
     "metadata": {},
     "output_type": "execute_result"
    }
   ],
   "source": [
    "%%sql\n",
    "\n",
    "SELECT *\n",
    "FROM customers"
   ]
  },
  {
   "cell_type": "code",
   "execution_count": 11,
   "id": "76d0bd49-1ec6-4b8d-b4dc-f2d8a1524a3a",
   "metadata": {},
   "outputs": [
    {
     "name": "stdout",
     "output_type": "stream",
     "text": [
      " * sqlite://\n",
      "Done.\n"
     ]
    },
    {
     "data": {
      "text/html": [
       "<table>\n",
       "    <thead>\n",
       "        <tr>\n",
       "            <th>txn_id</th>\n",
       "            <th>customer_id</th>\n",
       "            <th>txn_date</th>\n",
       "            <th>amount</th>\n",
       "        </tr>\n",
       "    </thead>\n",
       "    <tbody>\n",
       "        <tr>\n",
       "            <td>101</td>\n",
       "            <td>1</td>\n",
       "            <td>2024-06-01</td>\n",
       "            <td>1200</td>\n",
       "        </tr>\n",
       "        <tr>\n",
       "            <td>102</td>\n",
       "            <td>1</td>\n",
       "            <td>2024-06-03</td>\n",
       "            <td>2200</td>\n",
       "        </tr>\n",
       "        <tr>\n",
       "            <td>103</td>\n",
       "            <td>2</td>\n",
       "            <td>2024-06-01</td>\n",
       "            <td>500</td>\n",
       "        </tr>\n",
       "        <tr>\n",
       "            <td>104</td>\n",
       "            <td>3</td>\n",
       "            <td>2024-06-02</td>\n",
       "            <td>0</td>\n",
       "        </tr>\n",
       "    </tbody>\n",
       "</table>"
      ],
      "text/plain": [
       "[(101, 1, '2024-06-01', 1200),\n",
       " (102, 1, '2024-06-03', 2200),\n",
       " (103, 2, '2024-06-01', 500),\n",
       " (104, 3, '2024-06-02', 0)]"
      ]
     },
     "execution_count": 11,
     "metadata": {},
     "output_type": "execute_result"
    }
   ],
   "source": [
    "%%sql\n",
    "\n",
    "SELECT *\n",
    "FROM transactions"
   ]
  },
  {
   "cell_type": "code",
   "execution_count": 20,
   "id": "c5acac58-2e7b-4511-9425-d41c570d029d",
   "metadata": {},
   "outputs": [],
   "source": [
    "## Problem 2 : customers with no txns"
   ]
  },
  {
   "cell_type": "code",
   "execution_count": 28,
   "id": "950984f2-7f09-45c5-9142-9776acf1f83e",
   "metadata": {},
   "outputs": [],
   "source": [
    "##  Problem 3: Find the city with the highest total transaction amount"
   ]
  },
  {
   "cell_type": "code",
   "execution_count": 37,
   "id": "e0f07e21-c03a-48a7-8933-652267d136af",
   "metadata": {},
   "outputs": [
    {
     "name": "stdout",
     "output_type": "stream",
     "text": [
      " * sqlite://\n",
      "Done.\n"
     ]
    },
    {
     "data": {
      "text/html": [
       "<table>\n",
       "    <thead>\n",
       "        <tr>\n",
       "            <th>city</th>\n",
       "            <th>total_txn</th>\n",
       "        </tr>\n",
       "    </thead>\n",
       "    <tbody>\n",
       "        <tr>\n",
       "            <td>Mumbai</td>\n",
       "            <td>3400</td>\n",
       "        </tr>\n",
       "    </tbody>\n",
       "</table>"
      ],
      "text/plain": [
       "[('Mumbai', 3400)]"
      ]
     },
     "execution_count": 37,
     "metadata": {},
     "output_type": "execute_result"
    }
   ],
   "source": [
    "%%sql\n",
    "\n",
    "SELECT city, SUM(amount) as total_txn\n",
    "FROM customers\n",
    "JOIN transactions ON \n",
    "customers.customer_id = transactions.customer_id\n",
    "GROUP BY customers.city\n",
    "ORDER BY SUM(amount) DESC\n",
    "LIMIT 1;\n",
    "\n"
   ]
  },
  {
   "cell_type": "code",
   "execution_count": 38,
   "id": "83b1cf95-1b93-40e3-b590-be068cc69986",
   "metadata": {},
   "outputs": [
    {
     "name": "stdout",
     "output_type": "stream",
     "text": [
      " * sqlite://\n",
      "Done.\n",
      "4 rows affected.\n",
      "Done.\n",
      "6 rows affected.\n"
     ]
    },
    {
     "data": {
      "text/plain": [
       "[]"
      ]
     },
     "execution_count": 38,
     "metadata": {},
     "output_type": "execute_result"
    }
   ],
   "source": [
    "%%sql\n",
    "\n",
    "CREATE TABLE funds(\n",
    "    fund_id INT PRIMARY KEY,\n",
    "    fund_name VARCHAR (20),\n",
    "    category VARCHAR (20)\n",
    ");\n",
    "\n",
    "INSERT INTO funds (fund_id, fund_name, category) VALUES\n",
    "(1, 'Alpha Growth Fund', 'Equity'),\n",
    "(2, 'Secure Yield Fund', 'Debt'),\n",
    "(3, 'Future Tech Fund', 'Tech-Focused'),\n",
    "(4, 'Green ESG Fund', 'ESG');\n",
    "\n",
    "\n",
    "CREATE TABLE investments(\n",
    "    invest_id INT PRIMARY KEY,\n",
    "    fund_id INT,\n",
    "    investor_name VARCHAR (10),\n",
    "    amount_invested INT,\n",
    "    date DATE\n",
    ");\n",
    "\n",
    "INSERT INTO investments (invest_id, fund_id, investor_name, amount_invested, date) VALUES\n",
    "(101, 1, 'Raj', 100000, '2024-01-01'),\n",
    "(102, 2, 'Mira', 50000, '2024-01-15'),\n",
    "(103, 1, 'Akash', 75000, '2024-02-01'),\n",
    "(104, 3, 'Raj', 120000, '2024-03-01'),\n",
    "(105, 2, 'Neha', 60000, '2024-04-01'),\n",
    "(106, 4, 'Akash', 25000, '2024-04-15');\n"
   ]
  },
  {
   "cell_type": "code",
   "execution_count": 42,
   "id": "0bc0ec8c-55b0-453a-9e9b-6356436f8ef7",
   "metadata": {},
   "outputs": [],
   "source": [
    "##    Problem 1: Total funds raised per fund"
   ]
  },
  {
   "cell_type": "code",
   "execution_count": 46,
   "id": "5d99f976-2bdd-4408-8251-17f5673c1434",
   "metadata": {},
   "outputs": [
    {
     "name": "stdout",
     "output_type": "stream",
     "text": [
      " * sqlite://\n",
      "Done.\n"
     ]
    },
    {
     "data": {
      "text/html": [
       "<table>\n",
       "    <thead>\n",
       "        <tr>\n",
       "            <th>fund_name</th>\n",
       "            <th>SUM(amount_invested)</th>\n",
       "        </tr>\n",
       "    </thead>\n",
       "    <tbody>\n",
       "        <tr>\n",
       "            <td>Alpha Growth Fund</td>\n",
       "            <td>175000</td>\n",
       "        </tr>\n",
       "        <tr>\n",
       "            <td>Future Tech Fund</td>\n",
       "            <td>120000</td>\n",
       "        </tr>\n",
       "        <tr>\n",
       "            <td>Green ESG Fund</td>\n",
       "            <td>25000</td>\n",
       "        </tr>\n",
       "        <tr>\n",
       "            <td>Secure Yield Fund</td>\n",
       "            <td>110000</td>\n",
       "        </tr>\n",
       "    </tbody>\n",
       "</table>"
      ],
      "text/plain": [
       "[('Alpha Growth Fund', 175000),\n",
       " ('Future Tech Fund', 120000),\n",
       " ('Green ESG Fund', 25000),\n",
       " ('Secure Yield Fund', 110000)]"
      ]
     },
     "execution_count": 46,
     "metadata": {},
     "output_type": "execute_result"
    }
   ],
   "source": [
    "%%sql\n",
    "\n",
    "SELECT fund_name, SUM(amount_invested)\n",
    "FROM funds\n",
    "INNER JOIN investments \n",
    "ON funds.fund_id = investments.fund_id\n",
    "GROUP BY fund_name"
   ]
  },
  {
   "cell_type": "code",
   "execution_count": 47,
   "id": "a130b8b9-6b19-4905-9c3c-72ba9597ae42",
   "metadata": {},
   "outputs": [],
   "source": [
    "##   Problem 2: List investors who have invested in more than one fund"
   ]
  },
  {
   "cell_type": "code",
   "execution_count": 52,
   "id": "242d105d-e024-4817-a976-76763b23b4b8",
   "metadata": {},
   "outputs": [
    {
     "name": "stdout",
     "output_type": "stream",
     "text": [
      " * sqlite://\n",
      "Done.\n"
     ]
    },
    {
     "data": {
      "text/html": [
       "<table>\n",
       "    <thead>\n",
       "        <tr>\n",
       "            <th>investor_name</th>\n",
       "            <th>COUNT(DISTINCT fund_id)</th>\n",
       "        </tr>\n",
       "    </thead>\n",
       "    <tbody>\n",
       "        <tr>\n",
       "            <td>Akash</td>\n",
       "            <td>2</td>\n",
       "        </tr>\n",
       "        <tr>\n",
       "            <td>Raj</td>\n",
       "            <td>2</td>\n",
       "        </tr>\n",
       "    </tbody>\n",
       "</table>"
      ],
      "text/plain": [
       "[('Akash', 2), ('Raj', 2)]"
      ]
     },
     "execution_count": 52,
     "metadata": {},
     "output_type": "execute_result"
    }
   ],
   "source": [
    "%%sql\n",
    "\n",
    "SELECT investor_name, COUNT(DISTINCT fund_id)\n",
    "FROM investments\n",
    "GROUP BY investor_name\n",
    "HAVING COUNT(DISTINCT fund_id) > 1"
   ]
  },
  {
   "cell_type": "code",
   "execution_count": 53,
   "id": "86fbe282-2ea5-4a8d-8f4a-3c6f03e2087a",
   "metadata": {},
   "outputs": [],
   "source": [
    "##  Problem 3: Find the top fund category by total amount raised"
   ]
  },
  {
   "cell_type": "code",
   "execution_count": 56,
   "id": "c54220b7-4622-45c9-9d2d-9f8c5050dd67",
   "metadata": {},
   "outputs": [
    {
     "name": "stdout",
     "output_type": "stream",
     "text": [
      " * sqlite://\n",
      "Done.\n"
     ]
    },
    {
     "data": {
      "text/html": [
       "<table>\n",
       "    <thead>\n",
       "        <tr>\n",
       "            <th>category</th>\n",
       "            <th>SUM(amount_invested)</th>\n",
       "        </tr>\n",
       "    </thead>\n",
       "    <tbody>\n",
       "        <tr>\n",
       "            <td>Equity</td>\n",
       "            <td>175000</td>\n",
       "        </tr>\n",
       "    </tbody>\n",
       "</table>"
      ],
      "text/plain": [
       "[('Equity', 175000)]"
      ]
     },
     "execution_count": 56,
     "metadata": {},
     "output_type": "execute_result"
    }
   ],
   "source": [
    "%%sql\n",
    "\n",
    "SELECT category, SUM(amount_invested)\n",
    "FROM funds\n",
    "INNER JOIN investments \n",
    "ON funds.fund_id = investments.fund_id\n",
    "GROUP BY category\n",
    "ORDER BY SUM(amount_invested) DESC\n",
    "LIMIT 1;"
   ]
  },
  {
   "cell_type": "code",
   "execution_count": 40,
   "id": "317fcc54-9fd1-47cc-953b-94b9dc50d421",
   "metadata": {},
   "outputs": [
    {
     "name": "stdout",
     "output_type": "stream",
     "text": [
      " * sqlite://\n",
      "Done.\n"
     ]
    },
    {
     "data": {
      "text/html": [
       "<table>\n",
       "    <thead>\n",
       "        <tr>\n",
       "            <th>fund_id</th>\n",
       "            <th>fund_name</th>\n",
       "            <th>category</th>\n",
       "        </tr>\n",
       "    </thead>\n",
       "    <tbody>\n",
       "        <tr>\n",
       "            <td>1</td>\n",
       "            <td>Alpha Growth Fund</td>\n",
       "            <td>Equity</td>\n",
       "        </tr>\n",
       "        <tr>\n",
       "            <td>2</td>\n",
       "            <td>Secure Yield Fund</td>\n",
       "            <td>Debt</td>\n",
       "        </tr>\n",
       "        <tr>\n",
       "            <td>3</td>\n",
       "            <td>Future Tech Fund</td>\n",
       "            <td>Tech-Focused</td>\n",
       "        </tr>\n",
       "        <tr>\n",
       "            <td>4</td>\n",
       "            <td>Green ESG Fund</td>\n",
       "            <td>ESG</td>\n",
       "        </tr>\n",
       "    </tbody>\n",
       "</table>"
      ],
      "text/plain": [
       "[(1, 'Alpha Growth Fund', 'Equity'),\n",
       " (2, 'Secure Yield Fund', 'Debt'),\n",
       " (3, 'Future Tech Fund', 'Tech-Focused'),\n",
       " (4, 'Green ESG Fund', 'ESG')]"
      ]
     },
     "execution_count": 40,
     "metadata": {},
     "output_type": "execute_result"
    }
   ],
   "source": [
    "%%sql\n",
    "\n",
    "SELECT *\n",
    "FROM funds"
   ]
  },
  {
   "cell_type": "code",
   "execution_count": 41,
   "id": "0150092a-1351-4e6b-987f-2932f5639cba",
   "metadata": {},
   "outputs": [
    {
     "name": "stdout",
     "output_type": "stream",
     "text": [
      " * sqlite://\n",
      "Done.\n"
     ]
    },
    {
     "data": {
      "text/html": [
       "<table>\n",
       "    <thead>\n",
       "        <tr>\n",
       "            <th>invest_id</th>\n",
       "            <th>fund_id</th>\n",
       "            <th>investor_name</th>\n",
       "            <th>amount_invested</th>\n",
       "            <th>date</th>\n",
       "        </tr>\n",
       "    </thead>\n",
       "    <tbody>\n",
       "        <tr>\n",
       "            <td>101</td>\n",
       "            <td>1</td>\n",
       "            <td>Raj</td>\n",
       "            <td>100000</td>\n",
       "            <td>2024-01-01</td>\n",
       "        </tr>\n",
       "        <tr>\n",
       "            <td>102</td>\n",
       "            <td>2</td>\n",
       "            <td>Mira</td>\n",
       "            <td>50000</td>\n",
       "            <td>2024-01-15</td>\n",
       "        </tr>\n",
       "        <tr>\n",
       "            <td>103</td>\n",
       "            <td>1</td>\n",
       "            <td>Akash</td>\n",
       "            <td>75000</td>\n",
       "            <td>2024-02-01</td>\n",
       "        </tr>\n",
       "        <tr>\n",
       "            <td>104</td>\n",
       "            <td>3</td>\n",
       "            <td>Raj</td>\n",
       "            <td>120000</td>\n",
       "            <td>2024-03-01</td>\n",
       "        </tr>\n",
       "        <tr>\n",
       "            <td>105</td>\n",
       "            <td>2</td>\n",
       "            <td>Neha</td>\n",
       "            <td>60000</td>\n",
       "            <td>2024-04-01</td>\n",
       "        </tr>\n",
       "        <tr>\n",
       "            <td>106</td>\n",
       "            <td>4</td>\n",
       "            <td>Akash</td>\n",
       "            <td>25000</td>\n",
       "            <td>2024-04-15</td>\n",
       "        </tr>\n",
       "    </tbody>\n",
       "</table>"
      ],
      "text/plain": [
       "[(101, 1, 'Raj', 100000, '2024-01-01'),\n",
       " (102, 2, 'Mira', 50000, '2024-01-15'),\n",
       " (103, 1, 'Akash', 75000, '2024-02-01'),\n",
       " (104, 3, 'Raj', 120000, '2024-03-01'),\n",
       " (105, 2, 'Neha', 60000, '2024-04-01'),\n",
       " (106, 4, 'Akash', 25000, '2024-04-15')]"
      ]
     },
     "execution_count": 41,
     "metadata": {},
     "output_type": "execute_result"
    }
   ],
   "source": [
    "%%sql\n",
    "\n",
    "SELECT *\n",
    "FROM investments"
   ]
  },
  {
   "cell_type": "code",
   "execution_count": 57,
   "id": "8e803ca0-0882-4638-9ef0-c690ce7a43d1",
   "metadata": {},
   "outputs": [],
   "source": [
    "##    Problem 4: Funds with no investments yet"
   ]
  },
  {
   "cell_type": "code",
   "execution_count": 63,
   "id": "9c9ccda1-16c2-4a88-aec1-08ecdca43c0b",
   "metadata": {},
   "outputs": [
    {
     "name": "stdout",
     "output_type": "stream",
     "text": [
      " * sqlite://\n",
      "Done.\n"
     ]
    },
    {
     "data": {
      "text/html": [
       "<table>\n",
       "    <thead>\n",
       "        <tr>\n",
       "            <th>fund_name</th>\n",
       "        </tr>\n",
       "    </thead>\n",
       "    <tbody>\n",
       "    </tbody>\n",
       "</table>"
      ],
      "text/plain": [
       "[]"
      ]
     },
     "execution_count": 63,
     "metadata": {},
     "output_type": "execute_result"
    }
   ],
   "source": [
    "%%sql\n",
    "\n",
    "SELECT fund_name\n",
    "FROM funds\n",
    "LEFT JOIN investments \n",
    "ON funds.fund_id = investments.fund_id\n",
    "WHERE invest_id IS NULL"
   ]
  },
  {
   "cell_type": "code",
   "execution_count": null,
   "id": "20e79070-ba31-4f6e-8628-f7407d7de346",
   "metadata": {},
   "outputs": [],
   "source": []
  },
  {
   "cell_type": "code",
   "execution_count": null,
   "id": "ceb2bc4f-64e6-48c1-b862-a6ca8f62d391",
   "metadata": {},
   "outputs": [],
   "source": []
  }
 ],
 "metadata": {
  "kernelspec": {
   "display_name": "Python 3 (ipykernel)",
   "language": "python",
   "name": "python3"
  },
  "language_info": {
   "codemirror_mode": {
    "name": "ipython",
    "version": 3
   },
   "file_extension": ".py",
   "mimetype": "text/x-python",
   "name": "python",
   "nbconvert_exporter": "python",
   "pygments_lexer": "ipython3",
   "version": "3.12.7"
  }
 },
 "nbformat": 4,
 "nbformat_minor": 5
}
