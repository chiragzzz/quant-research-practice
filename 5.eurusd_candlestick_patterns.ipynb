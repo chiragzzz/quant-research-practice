{
 "cells": [
  {
   "cell_type": "code",
   "execution_count": 1,
   "id": "f2bed760-3e06-44f1-a316-977230d4ebe0",
   "metadata": {},
   "outputs": [],
   "source": [
    "import pandas as pd\n",
    "import matplotlib.pyplot as plt\n",
    "\n",
    "##  Matplotlib: simple, static image. \n",
    "\n",
    "##  Plotly: interactive chart (you can hover, zoom  etc.) , output is in HTML (interactive in web, notebook)\n",
    "\n",
    "\n",
    "\n",
    "import plotly.graph_objects as go"
   ]
  },
  {
   "cell_type": "code",
   "execution_count": null,
   "id": "56c7dccf-40ac-4e43-9787-27c2691a3756",
   "metadata": {},
   "outputs": [],
   "source": []
  },
  {
   "cell_type": "code",
   "execution_count": 2,
   "id": "3009f6bd-e8ea-48bc-966b-62d7cdf9bdeb",
   "metadata": {},
   "outputs": [
    {
     "data": {
      "text/html": [
       "<div>\n",
       "<style scoped>\n",
       "    .dataframe tbody tr th:only-of-type {\n",
       "        vertical-align: middle;\n",
       "    }\n",
       "\n",
       "    .dataframe tbody tr th {\n",
       "        vertical-align: top;\n",
       "    }\n",
       "\n",
       "    .dataframe thead th {\n",
       "        text-align: right;\n",
       "    }\n",
       "</style>\n",
       "<table border=\"1\" class=\"dataframe\">\n",
       "  <thead>\n",
       "    <tr style=\"text-align: right;\">\n",
       "      <th></th>\n",
       "      <th>Open</th>\n",
       "      <th>High</th>\n",
       "      <th>Low</th>\n",
       "      <th>Close</th>\n",
       "    </tr>\n",
       "    <tr>\n",
       "      <th>Date</th>\n",
       "      <th></th>\n",
       "      <th></th>\n",
       "      <th></th>\n",
       "      <th></th>\n",
       "    </tr>\n",
       "  </thead>\n",
       "  <tbody>\n",
       "    <tr>\n",
       "      <th>2025-06-26</th>\n",
       "      <td>1.143856</td>\n",
       "      <td>1.143992</td>\n",
       "      <td>1.142734</td>\n",
       "      <td>1.143176</td>\n",
       "    </tr>\n",
       "    <tr>\n",
       "      <th>2025-06-27</th>\n",
       "      <td>1.149057</td>\n",
       "      <td>1.149767</td>\n",
       "      <td>1.147277</td>\n",
       "      <td>1.148671</td>\n",
       "    </tr>\n",
       "    <tr>\n",
       "      <th>2025-06-30</th>\n",
       "      <td>1.149511</td>\n",
       "      <td>1.150375</td>\n",
       "      <td>1.148596</td>\n",
       "      <td>1.149364</td>\n",
       "    </tr>\n",
       "  </tbody>\n",
       "</table>\n",
       "</div>"
      ],
      "text/plain": [
       "                Open      High       Low     Close\n",
       "Date                                              \n",
       "2025-06-26  1.143856  1.143992  1.142734  1.143176\n",
       "2025-06-27  1.149057  1.149767  1.147277  1.148671\n",
       "2025-06-30  1.149511  1.150375  1.148596  1.149364"
      ]
     },
     "execution_count": 2,
     "metadata": {},
     "output_type": "execute_result"
    }
   ],
   "source": [
    "df = pd.read_csv(r\"C:\\Users\\chira\\Downloads\\EURUSD_OHLC_2025.csv\", parse_dates = [\"Date\"])\n",
    "df.set_index(\"Date\", inplace = True)\n",
    "\n",
    "df.tail(3)"
   ]
  },
  {
   "cell_type": "code",
   "execution_count": 3,
   "id": "d760a08d-dbc1-4532-8161-ff1ea74ff19f",
   "metadata": {},
   "outputs": [],
   "source": [
    "# Creating a candle stick\n",
    "\n",
    "fig =  go.Figure(data = [go.Candlestick(\n",
    "    x = df.index,\n",
    "    open = df[\"Open\"],\n",
    "    high = df[\"High\"],\n",
    "    low = df[\"Low\"],\n",
    "    close = df[\"Close\"],\n",
    "    increasing_line_color = \"green\",\n",
    "    decreasing_line_color = \"red\",\n",
    "    whiskerwidth=0.3\n",
    ")\n",
    "  ])\n",
    "\n",
    "\n",
    "    "
   ]
  },
  {
   "cell_type": "code",
   "execution_count": 4,
   "id": "fc53403b-603a-4d18-8c27-11e37bbda7e1",
   "metadata": {},
   "outputs": [
    {
     "data": {
      "application/vnd.plotly.v1+json": {
       "config": {
        "plotlyServerURL": "https://plot.ly"
       },
       "data": [
        {
         "close": {
          "_inputArray": {
           "0": 1.0919671245985,
           "1": 1.093737456370461,
           "10": 1.0974180833125824,
           "100": 1.150809419758868,
           "101": 1.148220144840211,
           "102": 1.1449566984479238,
           "103": 1.1418325483008618,
           "104": 1.1421361981580709,
           "105": 1.1413085596500394,
           "106": 1.1395802381381963,
           "107": 1.140056431666022,
           "108": 1.138244802887256,
           "109": 1.1390786729909552,
           "11": 1.096145581979366,
           "110": 1.1409015423570732,
           "111": 1.1419988936705108,
           "112": 1.1394977150143328,
           "113": 1.141953709407335,
           "114": 1.1425581623779362,
           "115": 1.144840735688374,
           "116": 1.1474800348892331,
           "117": 1.1467094381394078,
           "118": 1.148867728266434,
           "119": 1.1472953439222375,
           "12": 1.096817320252989,
           "120": 1.1489624621607473,
           "121": 1.145109092597111,
           "122": 1.14700293038185,
           "123": 1.1472681940826568,
           "124": 1.1432724849376654,
           "125": 1.1443074176906187,
           "126": 1.1431762413768125,
           "127": 1.1486705598318694,
           "128": 1.1493643697962392,
           "13": 1.0951201401124628,
           "14": 1.0929870470717105,
           "15": 1.0955746883448698,
           "16": 1.096251674150799,
           "17": 1.1013985674610811,
           "18": 1.1081134856605594,
           "19": 1.1100222578744066,
           "2": 1.0962073799866523,
           "20": 1.1109789214958696,
           "21": 1.1154132288088796,
           "22": 1.111348013982042,
           "23": 1.108650215443171,
           "24": 1.108513113641656,
           "25": 1.1096894332484903,
           "26": 1.1103066948387224,
           "27": 1.110967949486928,
           "28": 1.1131872142725725,
           "29": 1.1135696134608648,
           "3": 1.0976669443712084,
           "30": 1.1153665809946132,
           "31": 1.1163906967416244,
           "32": 1.115347936684401,
           "33": 1.113662762431801,
           "34": 1.111504246423671,
           "35": 1.1129161255416251,
           "36": 1.1128241922504576,
           "37": 1.1177785792386088,
           "38": 1.1185738966355314,
           "39": 1.1237655273489553,
           "4": 1.0994947392410666,
           "40": 1.1214823685990218,
           "41": 1.1221743673615,
           "42": 1.1195327558774772,
           "43": 1.1197336720764912,
           "44": 1.1224986324566952,
           "45": 1.1223071376959728,
           "46": 1.1224281898362023,
           "47": 1.1242527544199297,
           "48": 1.1298398705280783,
           "49": 1.1285142233885217,
           "5": 1.098896444129584,
           "50": 1.126825910038495,
           "51": 1.1261598637796988,
           "52": 1.126727430708009,
           "53": 1.1257288106104062,
           "54": 1.127325734126514,
           "55": 1.1300877598223569,
           "56": 1.1279730741753322,
           "57": 1.132830234521567,
           "58": 1.1301956916176077,
           "59": 1.1319218863864535,
           "6": 1.0969762516710748,
           "60": 1.1330869621667377,
           "61": 1.138497008492585,
           "62": 1.137755711804462,
           "63": 1.138531552663443,
           "64": 1.14043457589491,
           "65": 1.1432223885818449,
           "66": 1.143344487378112,
           "67": 1.1483943181555936,
           "68": 1.1460813508624528,
           "69": 1.1444268766007806,
           "7": 1.098691165044812,
           "70": 1.145094687905191,
           "71": 1.143462575036334,
           "72": 1.140205274791044,
           "73": 1.1441115135312527,
           "74": 1.1467151589214823,
           "75": 1.14156212819378,
           "76": 1.1442435618264115,
           "77": 1.1474241634196003,
           "78": 1.1450072145753545,
           "79": 1.1484391260176776,
           "8": 1.0938457444347187,
           "80": 1.1449703409668373,
           "81": 1.1439351025709896,
           "82": 1.143728765734058,
           "83": 1.1451432875776952,
           "84": 1.1463245096053938,
           "85": 1.1470782363179026,
           "86": 1.1451402462159574,
           "87": 1.1491952222360355,
           "88": 1.151061020538335,
           "89": 1.1499154339745417,
           "9": 1.0958960495773589,
           "90": 1.1486939805728662,
           "91": 1.1524123261927686,
           "92": 1.154216839971381,
           "93": 1.152154090216855,
           "94": 1.1513761986488904,
           "95": 1.1541469315509372,
           "96": 1.1494154187919137,
           "97": 1.1474482062036429,
           "98": 1.1494501752005395,
           "99": 1.146592470105778,
           "bdata": "zVIHhbJ48T96V9jY8n/xPwPT6r8QivE/7Ze/NguQ8T+AobLLh5fxP9aiE3AUlfE/qKdW+DaN8T9/WOQvPZTxP0p0M2VkgPE/cAHMS8qI8T9e3Z1DBo/xP6gZJPPPifE/Y8SCUZCM8T9dlS+ynIXxP2b+YfzffPE/B0QMU3mH8T9dmwoyP4rxP5u0sRpUn/E/3bLSNNW68T9GcfaypsLxP/rrZdWRxvE/kCi0irvY8T9RcOjaFMjxPyWCIAIIvfE/3nIkP3i88T/+TQi1ScHxP23L7fPQw/E/ZTUfVIbG8T9GBHplnc/xP/Ij+l4u0fE/bMXGoIrY8T/cBcF9vNzxP4CH+xN32PE/gK52C5DR8T+hEzytuMjxP+dGpiOBzvE/Ap1+vSDO8T+Z/J/Ka+LxP59XA76t5fE/FGDFj/H68T9QxgJ/l/HxP1WiAxxt9PE/V7bULZvp8T+7xtzaberxP7hMQyDB9fE/j4tHVPj08T+NR/dCd/XxP4m+ynTw/PE/1yja+NIT8j+DZCjuZA7yP5Jp/pp6B/I/pAaQNMAE8j8iWqZXEwfyP2nJmzb8AvI/ezOAtYYJ8j81wCDn1hTyP0ughX4tDPI/0QqTmBIg8j9ePtkTSBXyP82Auh9aHPI/Z3tgyx8h8j+eHKGjSDfyPw2ZUFU/NPI/GnWC3Gw38j/qI2tTOD/yP3U5MI+jSvI/MJ3VliNL8j92P3a40l/yP+EnCGZZVvI/2J56jpJP8j+ZBLbOTlLyPy6yv2mfS/I/hETf4kc+8j8sgNnfR07yP8dSlv7xWPI/chxvptZD8j90P0tW0k7yP/9viHDZW/I/MJDEFfNR8j9/FXu0AWDyPwZ7lWvMUfI/857k5I5N8j/VJ8WItkzyP/0UlsSBUvI/Brx1XlhX8j8gBW+1blryP3hLLZR+UvI/VJKDhxpj8j+8me71vmryP4Bh4bkNZvI/pMJ68Axh8j9nFUjoR3DyP3e2whOsd/I/xfGWIDlv8j/Bb+lyCWzyP/Kj3MVid/I/rasTbAFk8j/m+Xem8lvyP3Xi7d0lZPI/VhuPWHFY8j9vsFwjt2nyP0cnKxYcX/I/L7hyHb5R8j9hXsc08kTyP8OqKpswRvI/83elw8xC8j8Ki998uDvyP7KZGdCrPfI/OuKzLkA28j9hEwGPqjnyP8sSxvkhQfI/3yDGoaBF8j8Rp730YTvyP840t0BxRfI/uA5TEetH8j/2j+6ERFHyP1qYagYUXPI/NCzt/utY8j+sWIUgw2HyPz78z1xSW/I/Jf50diZi8j/E6HDpXVLyP9d/pr4fWvI/QzfV5DVb8j8zldMW2EryP53SeEsVT/I/GXGkK3NK8j+6sYVh9GDyP2Rmt+TLY/I/",
           "dtype": "f8",
           "shape": "129"
          },
          "bdata": "zVIHhbJ48T96V9jY8n/xPwPT6r8QivE/7Ze/NguQ8T+AobLLh5fxP9aiE3AUlfE/qKdW+DaN8T9/WOQvPZTxP0p0M2VkgPE/cAHMS8qI8T9e3Z1DBo/xP6gZJPPPifE/Y8SCUZCM8T9dlS+ynIXxP2b+YfzffPE/B0QMU3mH8T9dmwoyP4rxP5u0sRpUn/E/3bLSNNW68T9GcfaypsLxP/rrZdWRxvE/kCi0irvY8T9RcOjaFMjxPyWCIAIIvfE/3nIkP3i88T/+TQi1ScHxP23L7fPQw/E/ZTUfVIbG8T9GBHplnc/xP/Ij+l4u0fE/bMXGoIrY8T/cBcF9vNzxP4CH+xN32PE/gK52C5DR8T+hEzytuMjxP+dGpiOBzvE/Ap1+vSDO8T+Z/J/Ka+LxP59XA76t5fE/FGDFj/H68T9QxgJ/l/HxP1WiAxxt9PE/V7bULZvp8T+7xtzaberxP7hMQyDB9fE/j4tHVPj08T+NR/dCd/XxP4m+ynTw/PE/1yja+NIT8j+DZCjuZA7yP5Jp/pp6B/I/pAaQNMAE8j8iWqZXEwfyP2nJmzb8AvI/ezOAtYYJ8j81wCDn1hTyP0ughX4tDPI/0QqTmBIg8j9ePtkTSBXyP82Auh9aHPI/Z3tgyx8h8j+eHKGjSDfyPw2ZUFU/NPI/GnWC3Gw38j/qI2tTOD/yP3U5MI+jSvI/MJ3VliNL8j92P3a40l/yP+EnCGZZVvI/2J56jpJP8j+ZBLbOTlLyPy6yv2mfS/I/hETf4kc+8j8sgNnfR07yP8dSlv7xWPI/chxvptZD8j90P0tW0k7yP/9viHDZW/I/MJDEFfNR8j9/FXu0AWDyPwZ7lWvMUfI/857k5I5N8j/VJ8WItkzyP/0UlsSBUvI/Brx1XlhX8j8gBW+1blryP3hLLZR+UvI/VJKDhxpj8j+8me71vmryP4Bh4bkNZvI/pMJ68Axh8j9nFUjoR3DyP3e2whOsd/I/xfGWIDlv8j/Bb+lyCWzyP/Kj3MVid/I/rasTbAFk8j/m+Xem8lvyP3Xi7d0lZPI/VhuPWHFY8j9vsFwjt2nyP0cnKxYcX/I/L7hyHb5R8j9hXsc08kTyP8OqKpswRvI/83elw8xC8j8Ki998uDvyP7KZGdCrPfI/OuKzLkA28j9hEwGPqjnyP8sSxvkhQfI/3yDGoaBF8j8Rp730YTvyP840t0BxRfI/uA5TEetH8j/2j+6ERFHyP1qYagYUXPI/NCzt/utY8j+sWIUgw2HyPz78z1xSW/I/Jf50diZi8j/E6HDpXVLyP9d/pr4fWvI/QzfV5DVb8j8zldMW2EryP53SeEsVT/I/GXGkK3NK8j+6sYVh9GDyP2Rmt+TLY/I/",
          "dtype": "f8"
         },
         "decreasing": {
          "line": {
           "color": "red"
          }
         },
         "high": {
          "_inputArray": {
           "0": 1.0945101372922883,
           "1": 1.0942494547075925,
           "10": 1.097738355095505,
           "100": 1.1508430101402898,
           "101": 1.1484403527750136,
           "102": 1.1452651701616603,
           "103": 1.142674614797504,
           "104": 1.1437687676831216,
           "105": 1.1418952404587686,
           "106": 1.1401330324551755,
           "107": 1.1402469428139432,
           "108": 1.138476412052867,
           "109": 1.139234084882779,
           "11": 1.0966022994803462,
           "110": 1.1414465282464477,
           "111": 1.1426510131334864,
           "112": 1.1407908648084506,
           "113": 1.1431201107841118,
           "114": 1.1430389660622404,
           "115": 1.1462738662782084,
           "116": 1.148737043967182,
           "117": 1.1476906075811544,
           "118": 1.1496846345133476,
           "119": 1.1485003410843213,
           "12": 1.09798891736811,
           "120": 1.1503892206837711,
           "121": 1.146369568038344,
           "122": 1.1483547374267844,
           "123": 1.1475707263348425,
           "124": 1.144059428346786,
           "125": 1.1451705260895249,
           "126": 1.1439919098746676,
           "127": 1.1497672118517084,
           "128": 1.150375123627643,
           "13": 1.0952605719435482,
           "14": 1.0934962618916442,
           "15": 1.0962404029310286,
           "16": 1.0966592606005847,
           "17": 1.1023781797977017,
           "18": 1.1109480877636724,
           "19": 1.1110074107292418,
           "2": 1.0969368463235944,
           "20": 1.112249974868086,
           "21": 1.1164264568213802,
           "22": 1.1124354498717983,
           "23": 1.1117848338597334,
           "24": 1.109438236206812,
           "25": 1.1102190844289572,
           "26": 1.1112352971125157,
           "27": 1.1126838996532806,
           "28": 1.1136559705582574,
           "29": 1.1144297104966492,
           "3": 1.0985398698750373,
           "30": 1.1156028785337622,
           "31": 1.1170561687272185,
           "32": 1.1180209059127528,
           "33": 1.113829408547804,
           "34": 1.1119501192062486,
           "35": 1.1136019993063933,
           "36": 1.1156092019182062,
           "37": 1.1193023296964892,
           "38": 1.1206254076218107,
           "39": 1.125332851259086,
           "4": 1.0999015848144116,
           "40": 1.1216966027926671,
           "41": 1.1224148773095268,
           "42": 1.1218254438270063,
           "43": 1.1206203406880948,
           "44": 1.1239548547444314,
           "45": 1.1228023541586345,
           "46": 1.1233487150085435,
           "47": 1.1256018919448607,
           "48": 1.130217732021107,
           "49": 1.1314844153689427,
           "5": 1.101419065717889,
           "50": 1.1276842142497847,
           "51": 1.1263820740246426,
           "52": 1.1267786335717516,
           "53": 1.12656900331847,
           "54": 1.128826775361581,
           "55": 1.131450545393672,
           "56": 1.1299712778320423,
           "57": 1.1333324848582522,
           "58": 1.1315572675870151,
           "59": 1.1322903738834011,
           "6": 1.097980307819084,
           "60": 1.1337946687121012,
           "61": 1.1390825211757083,
           "62": 1.1379376154941483,
           "63": 1.139511848845927,
           "64": 1.1429872361518656,
           "65": 1.143254315556147,
           "66": 1.1450958804335218,
           "67": 1.1484960506436974,
           "68": 1.147623743587343,
           "69": 1.1452748169056577,
           "7": 1.099723080904823,
           "70": 1.1466938585627926,
           "71": 1.1455314113932706,
           "72": 1.1422463770101925,
           "73": 1.145162203948856,
           "74": 1.147526359786487,
           "75": 1.1438454006533023,
           "76": 1.1448715401877894,
           "77": 1.148122459153478,
           "78": 1.1467413077933204,
           "79": 1.1499388862824254,
           "8": 1.0949268627117543,
           "80": 1.1462516612603817,
           "81": 1.1452118340211486,
           "82": 1.144591524575667,
           "83": 1.146070876510267,
           "84": 1.147080251801152,
           "85": 1.1489694614519994,
           "86": 1.1456535821772276,
           "87": 1.150219535589545,
           "88": 1.1522580571739522,
           "89": 1.1506616551933109,
           "9": 1.0960149023536545,
           "90": 1.1492586987471218,
           "91": 1.1524978550003468,
           "92": 1.1561152194296995,
           "93": 1.1539127478333056,
           "94": 1.1539774387421406,
           "95": 1.1551912813136398,
           "96": 1.151130381398219,
           "97": 1.1487982519959772,
           "98": 1.1518536787193767,
           "99": 1.1485061957837752,
           "bdata": "PPnMDx2D8T+6KFq3C4LxP6PLi6YNjfE/M3Lnip6T8T8ii3lnMpnxP/UvJ5lpn/E/ecKbzFOR8T//R7I6d5jxP+u9rQfShPE/7ZkY7EaJ8T9SM+sXVpDxP6TIT9qui/E/s3a301yR8T9giBHzL4bxPz/3se/1fvE/N0hyYDOK8T8tKbKU6ovxP9fhYE1Xo/E/uPqHgHHG8T+5Ieu0r8bxP2SQMKHGy/E/4/0G/eHc8T9JxEEdiczxP5Dc2eTeyfE/+wrXTkLA8T9pRzAWdcPxP0QltKmex/E/0b78oY3N8T+Ir0jsiNHxP7dhhD+01PE/+ANqZ4LZ8T/HpwdKdt/xP6o7suNp4/E/zpIwyT7S8T/gYkw1jMrxP7B/fFRQ0fE/iq/VCInZ8T/lIEaPqejxP2nWTOgU7vE/9loUBV0B8j//dRAjePLxP45paU1p9fE/P+yQPP/y8T/OzSeYD+7xP5ns9BW4+/E/9rrvmf/28T/ycY+APPnxP6CAIyF3AvI/OT1GMF8V8j+2F/9mjxryP0mxRpr+CvI/q8irNakF8j8ZW1AISQfyP9UKHzhtBvI/H28wqqwP8j9uHRjjaxryP8VTO8NcFPI/p15fPiEi8j/KZR3L2xryPyV61oLcHfI/Svbn4AUk8j99Uf6XrjnyPy34thL+NPI//inDxnA78j93SPD7rEnyPzcxhQnFSvI/2/DTDlBS8j/ymBFlPWDyP7Qh7baqXPI/zay4rwtT8j/l0dCo21jyP9yYx74YVPI/crsTI6RG8j+8NWmalVLyP1VLqZlEXPI/dMa31TBN8j+upPPRZFHyP2Xg3ae1XvI/AR3faQ1Z8j/2tE9RJmbyP4uVYfsLV/I/587hpMlS8j/iTNUzP1DyP4gnWGpOVvI/a/l10nBa8j8IoFDNLWLyP2zxv9mYVPI/DD2JmUxn8j9/1QElpm/yP2EQHTIcafI/zzLcFl1j8j96/D6XoXDyPxq8Haxyf/I/zBqmNm128j9ogvsLsXbyP9rcXdqpe/I/BJnYsAdr8j8gZaBGemHyP0AIfh/+bfI/pFBiCEhg8j+1HzZc2mnyP8g0yf0CYPI/rXkxkgFT8j8UZUgtZUjyP+YptnrgTPI/zaeT8TNF8j+iv3ci/D3yP3b/C5RzPvI/P43QCjM38j/c9RCFTTryP0A4T29dQ/I/uWTCbUxI8j982P7rrUDyP4Z7M1A4SvI/16cUOuNJ8j9Fyv5DI1fyPyavOBg6YfI/gcyX0/Bc8j85LR+3G2XyP51uxuRBYPI/ox8Ih/5n8j9aq72dh1fyP3pGlzepX/I/Jkg3H3Nc8j/g4FZCEU7yP6tcXlSeUvI/7838dcpN8j+4qM5NcmXyP43N4b7vZ/I/",
           "dtype": "f8",
           "shape": "129"
          },
          "bdata": "PPnMDx2D8T+6KFq3C4LxP6PLi6YNjfE/M3Lnip6T8T8ii3lnMpnxP/UvJ5lpn/E/ecKbzFOR8T//R7I6d5jxP+u9rQfShPE/7ZkY7EaJ8T9SM+sXVpDxP6TIT9qui/E/s3a301yR8T9giBHzL4bxPz/3se/1fvE/N0hyYDOK8T8tKbKU6ovxP9fhYE1Xo/E/uPqHgHHG8T+5Ieu0r8bxP2SQMKHGy/E/4/0G/eHc8T9JxEEdiczxP5Dc2eTeyfE/+wrXTkLA8T9pRzAWdcPxP0QltKmex/E/0b78oY3N8T+Ir0jsiNHxP7dhhD+01PE/+ANqZ4LZ8T/HpwdKdt/xP6o7suNp4/E/zpIwyT7S8T/gYkw1jMrxP7B/fFRQ0fE/iq/VCInZ8T/lIEaPqejxP2nWTOgU7vE/9loUBV0B8j//dRAjePLxP45paU1p9fE/P+yQPP/y8T/OzSeYD+7xP5ns9BW4+/E/9rrvmf/28T/ycY+APPnxP6CAIyF3AvI/OT1GMF8V8j+2F/9mjxryP0mxRpr+CvI/q8irNakF8j8ZW1AISQfyP9UKHzhtBvI/H28wqqwP8j9uHRjjaxryP8VTO8NcFPI/p15fPiEi8j/KZR3L2xryPyV61oLcHfI/Svbn4AUk8j99Uf6XrjnyPy34thL+NPI//inDxnA78j93SPD7rEnyPzcxhQnFSvI/2/DTDlBS8j/ymBFlPWDyP7Qh7baqXPI/zay4rwtT8j/l0dCo21jyP9yYx74YVPI/crsTI6RG8j+8NWmalVLyP1VLqZlEXPI/dMa31TBN8j+upPPRZFHyP2Xg3ae1XvI/AR3faQ1Z8j/2tE9RJmbyP4uVYfsLV/I/587hpMlS8j/iTNUzP1DyP4gnWGpOVvI/a/l10nBa8j8IoFDNLWLyP2zxv9mYVPI/DD2JmUxn8j9/1QElpm/yP2EQHTIcafI/zzLcFl1j8j96/D6XoXDyPxq8Haxyf/I/zBqmNm128j9ogvsLsXbyP9rcXdqpe/I/BJnYsAdr8j8gZaBGemHyP0AIfh/+bfI/pFBiCEhg8j+1HzZc2mnyP8g0yf0CYPI/rXkxkgFT8j8UZUgtZUjyP+YptnrgTPI/zaeT8TNF8j+iv3ci/D3yP3b/C5RzPvI/P43QCjM38j/c9RCFTTryP0A4T29dQ/I/uWTCbUxI8j982P7rrUDyP4Z7M1A4SvI/16cUOuNJ8j9Fyv5DI1fyPyavOBg6YfI/gcyX0/Bc8j85LR+3G2XyP51uxuRBYPI/ox8Ih/5n8j9aq72dh1fyP3pGlzepX/I/Jkg3H3Nc8j/g4FZCEU7yP6tcXlSeUvI/7838dcpN8j+4qM5NcmXyP43N4b7vZ/I/",
          "dtype": "f8"
         },
         "increasing": {
          "line": {
           "color": "green"
          }
         },
         "low": {
          "_inputArray": {
           "0": 1.091240383941596,
           "1": 1.093320044541935,
           "10": 1.096417081112007,
           "100": 1.150330659798583,
           "101": 1.147516672812775,
           "102": 1.1428992474722317,
           "103": 1.1398684351619357,
           "104": 1.140241666189431,
           "105": 1.1391586484678091,
           "106": 1.1386164692435796,
           "107": 1.1395501723020862,
           "108": 1.1369963928358613,
           "109": 1.1387633106501442,
           "11": 1.0944765710879227,
           "110": 1.1387655071254328,
           "111": 1.1394021940729175,
           "112": 1.1387998562305768,
           "113": 1.1415955582278974,
           "114": 1.1425372674110743,
           "115": 1.1442331595261384,
           "116": 1.1463603862871794,
           "117": 1.1449517140508023,
           "118": 1.1469665400036615,
           "119": 1.144709083818975,
           "12": 1.095337172548718,
           "120": 1.1476666481338187,
           "121": 1.1443635683533644,
           "122": 1.1465976158447952,
           "123": 1.1469094221992988,
           "124": 1.1421381070495338,
           "125": 1.1432817800985808,
           "126": 1.1427338677689822,
           "127": 1.1472773956793678,
           "128": 1.1485963821052108,
           "13": 1.0929479959420256,
           "14": 1.0926952254110165,
           "15": 1.0941917545030828,
           "16": 1.0957063807932566,
           "17": 1.1001645099475343,
           "18": 1.1071679627026554,
           "19": 1.1091298530940517,
           "2": 1.0945025649983686,
           "20": 1.1091994510790006,
           "21": 1.1149048408754392,
           "22": 1.1105553733012337,
           "23": 1.1057619677066184,
           "24": 1.1082081562663264,
           "25": 1.1083028339018426,
           "26": 1.1094324639582656,
           "27": 1.1095823384201786,
           "28": 1.1121080990762429,
           "29": 1.1129736822156582,
           "3": 1.0964722450414015,
           "30": 1.115031631278941,
           "31": 1.1152243921408642,
           "32": 1.114096983414841,
           "33": 1.1127218027879364,
           "34": 1.110302646167631,
           "35": 1.1119273937365166,
           "36": 1.1118018530904026,
           "37": 1.1161332563160256,
           "38": 1.1180203617276372,
           "39": 1.1236234863520072,
           "4": 1.0993495079453586,
           "40": 1.1205302649359614,
           "41": 1.1206274660598254,
           "42": 1.1193030015185994,
           "43": 1.1191619605593257,
           "44": 1.121075184507326,
           "45": 1.1205543131414069,
           "46": 1.1217657518679212,
           "47": 1.1226389382363788,
           "48": 1.1281244279034346,
           "49": 1.127708388935721,
           "5": 1.0988829247195646,
           "50": 1.1262660190813965,
           "51": 1.124469411146262,
           "52": 1.1251689926094854,
           "53": 1.124629260342797,
           "54": 1.1254664665461038,
           "55": 1.128955590152033,
           "56": 1.127054852566875,
           "57": 1.1314363464783277,
           "58": 1.1301868153084884,
           "59": 1.1315761456720277,
           "6": 1.094039298295039,
           "60": 1.131794417157679,
           "61": 1.1376649433739,
           "62": 1.1370315020988715,
           "63": 1.137512178609569,
           "64": 1.1388052042245314,
           "65": 1.142838491568142,
           "66": 1.1427551510017389,
           "67": 1.1457746505320037,
           "68": 1.1448091820569668,
           "69": 1.1426004163908778,
           "7": 1.098070299098591,
           "70": 1.1437497349014094,
           "71": 1.1418915458333645,
           "72": 1.1387183763856052,
           "73": 1.1438468811657372,
           "74": 1.146554473843832,
           "75": 1.1411096218628216,
           "76": 1.1439674231832802,
           "77": 1.1470402345262825,
           "78": 1.1448768923075476,
           "79": 1.1465303784504532,
           "8": 1.0934849143340617,
           "80": 1.1434347309289965,
           "81": 1.1422695844616788,
           "82": 1.1409447991543284,
           "83": 1.1437573145250526,
           "84": 1.1453547224612997,
           "85": 1.1467695777998863,
           "86": 1.1442045755111283,
           "87": 1.1482539774485527,
           "88": 1.1510527090622018,
           "89": 1.1485061072400924,
           "9": 1.0946044903945251,
           "90": 1.148067708089845,
           "91": 1.1509237093856837,
           "92": 1.1538600905741236,
           "93": 1.1514155969048545,
           "94": 1.1501637375149796,
           "95": 1.1538211656384234,
           "96": 1.1476162122015274,
           "97": 1.1457830582513857,
           "98": 1.1483267130860004,
           "99": 1.14627918056921,
           "bdata": "gagRerh18T/p5rUoPX7xP9HlIB8Vg/E/08oWeyaL8T/v+3eC75bxP5Da/EIGlfE/qXTrWS+B8T/wZXUpspHxPxu/mwnqfvE/p8mE/3+D8T/6bSKj7IrxPzv5cN35gvE/owljRYCG8T+9y6wJt3zxP64rGv2te/E/MUySNs+B8T+xaPhpA4jxP8gc5xlGmvE/JsrvwPW28T9Y5uDx/r7xP+IBcuxHv/E/vmRbdabW8T8qnQu21cTxP1leB3YzsfE/dDDFeTi78T+zwprAm7vxP6gkXUE8wPE/8L37aNnA8T8WY7LcMcvxP5fM5n29zvE/y5NlaCvX8T/UJD+I9dfxP4hsxVtX0/E/WVOIYLXN8T9bPB+1zMPxP2f/+WB0yvE/1HxqvfDJ8T9fr52LrtvxP94dnlFp4/E/1WPunlz68T8vQKEkse3xP+2e2xAX7vE/cmSdQ6ro8T8FeThfFujxP98OXYjs7/E/algFXMrt8T+quiClwPLxPwUQTz9U9vE/lp86M8wM8j/XdZ7zFwvyP7XPaIQvBfI/85sjo9P98T8zspszsQDyP3HAVEB7/vE/jvYoIOkB8j8GbqW8MxDyP1AqSatqCPI/EBWa/1wa8j/07CHFPhXyP36FqZbvGvI/Q813dtQb8j+ki9kn4DPyPyGVwPFHMfI/gOBe+D8z8j8di0rOizjyP4BSngMRSfI/SjUOoLlI8j+87snMF1XyP96F0W4jUfI/g7fMXxdI8j8TXaOFzEzyP1TuzhEwRfI/5OKewjA48j+m0CNjMk3yPzHeA4FJWPI/89OwKfxB8j9vL+TIsE3yP+zIZ9xGWvI/M4OmbmpR8j8PC/U8MFjyP6g1ZzeCS/I/nKfHeLxG8j/Li25VT0HyP1oiR3jUTPI/o6U0eV9T8j/9K4sOK1nyP84P/HSpTvI/mEsKkD9f8j9MT9Y+tmryP7OjnfBHYPI/1W69Pnxe8j9SCsD6LmryP67Okv81dvI/gPjMwjJs8j9fwFoXEmfyPxOYvS4NdvI/Qz080aJc8j9QAridIFXyP6I93dSLX/I/RBaK1ihX8j97vDYfwWfyP5WHVXE6XPI/i0KouFBJ8j8cNiyv5jzyP1sfnQtuPvI/L/9Ba/458j8faSHnxTfyP5wEI/aYO/I/X2YuISMx8j9uCJLgXzjyP1mqLi5iOPI/jYqIy/068j+AMrMyhjjyPxyQPbT5Q/I/S95fKNVH8j/CnfJtx07yP6eICP19V/I/tI5147hR8j+FwC6W+VnyP2b85ni6UPI/dB0HtNdc8j8n/EwsUE/yP3eZ2712WPI/uR+9sb1Z8j+EsJSbMkbyP1Yt+tXhSvI/ApfhTqNI8j+CIN6KP1vyP/8hl5mmYPI/",
           "dtype": "f8",
           "shape": "129"
          },
          "bdata": "gagRerh18T/p5rUoPX7xP9HlIB8Vg/E/08oWeyaL8T/v+3eC75bxP5Da/EIGlfE/qXTrWS+B8T/wZXUpspHxPxu/mwnqfvE/p8mE/3+D8T/6bSKj7IrxPzv5cN35gvE/owljRYCG8T+9y6wJt3zxP64rGv2te/E/MUySNs+B8T+xaPhpA4jxP8gc5xlGmvE/JsrvwPW28T9Y5uDx/r7xP+IBcuxHv/E/vmRbdabW8T8qnQu21cTxP1leB3YzsfE/dDDFeTi78T+zwprAm7vxP6gkXUE8wPE/8L37aNnA8T8WY7LcMcvxP5fM5n29zvE/y5NlaCvX8T/UJD+I9dfxP4hsxVtX0/E/WVOIYLXN8T9bPB+1zMPxP2f/+WB0yvE/1HxqvfDJ8T9fr52LrtvxP94dnlFp4/E/1WPunlz68T8vQKEkse3xP+2e2xAX7vE/cmSdQ6ro8T8FeThfFujxP98OXYjs7/E/algFXMrt8T+quiClwPLxPwUQTz9U9vE/lp86M8wM8j/XdZ7zFwvyP7XPaIQvBfI/85sjo9P98T8zspszsQDyP3HAVEB7/vE/jvYoIOkB8j8GbqW8MxDyP1AqSatqCPI/EBWa/1wa8j/07CHFPhXyP36FqZbvGvI/Q813dtQb8j+ki9kn4DPyPyGVwPFHMfI/gOBe+D8z8j8di0rOizjyP4BSngMRSfI/SjUOoLlI8j+87snMF1XyP96F0W4jUfI/g7fMXxdI8j8TXaOFzEzyP1TuzhEwRfI/5OKewjA48j+m0CNjMk3yPzHeA4FJWPI/89OwKfxB8j9vL+TIsE3yP+zIZ9xGWvI/M4OmbmpR8j8PC/U8MFjyP6g1ZzeCS/I/nKfHeLxG8j/Li25VT0HyP1oiR3jUTPI/o6U0eV9T8j/9K4sOK1nyP84P/HSpTvI/mEsKkD9f8j9MT9Y+tmryP7OjnfBHYPI/1W69Pnxe8j9SCsD6LmryP67Okv81dvI/gPjMwjJs8j9fwFoXEmfyPxOYvS4NdvI/Qz080aJc8j9QAridIFXyP6I93dSLX/I/RBaK1ihX8j97vDYfwWfyP5WHVXE6XPI/i0KouFBJ8j8cNiyv5jzyP1sfnQtuPvI/L/9Ba/458j8faSHnxTfyP5wEI/aYO/I/X2YuISMx8j9uCJLgXzjyP1mqLi5iOPI/jYqIy/068j+AMrMyhjjyPxyQPbT5Q/I/S95fKNVH8j/CnfJtx07yP6eICP19V/I/tI5147hR8j+FwC6W+VnyP2b85ni6UPI/dB0HtNdc8j8n/EwsUE/yP3eZ2712WPI/uR+9sb1Z8j+EsJSbMkbyP1Yt+tXhSvI/ApfhTqNI8j+CIN6KP1vyP/8hl5mmYPI/",
          "dtype": "f8"
         },
         "open": {
          "_inputArray": {
           "0": 1.0931186182311754,
           "1": 1.0941019682365287,
           "10": 1.097518473547086,
           "100": 1.150399188177006,
           "101": 1.1477053562617296,
           "102": 1.1441942706795445,
           "103": 1.141405118350204,
           "104": 1.1429376059265337,
           "105": 1.1414012991437732,
           "106": 1.1390832289920865,
           "107": 1.13999047859763,
           "108": 1.1375772570199407,
           "109": 1.1390340237701,
           "11": 1.0963095043495008,
           "110": 1.141250825559165,
           "111": 1.1412943308304595,
           "112": 1.1399331685227352,
           "113": 1.142746615604343,
           "114": 1.143022991298254,
           "115": 1.1445652976868312,
           "116": 1.1479510573779037,
           "117": 1.146221763464378,
           "118": 1.1483403029676469,
           "119": 1.1483780544807438,
           "12": 1.0971545628464838,
           "120": 1.1483288420728357,
           "121": 1.1447076710113624,
           "122": 1.1468761906904597,
           "123": 1.1473135434546404,
           "124": 1.1439333426109617,
           "125": 1.1447044819438528,
           "126": 1.1438560973655858,
           "127": 1.149056544851532,
           "128": 1.1495114781095055,
           "13": 1.0950331118418353,
           "14": 1.0933771169292434,
           "15": 1.0953830592791447,
           "16": 1.0960470149088253,
           "17": 1.1015703370543604,
           "18": 1.1082116233186092,
           "19": 1.1095308698759403,
           "2": 1.0957758343521191,
           "20": 1.1120946991175926,
           "21": 1.1149275325259045,
           "22": 1.1105868475451066,
           "23": 1.1092170669385593,
           "24": 1.108777207008882,
           "25": 1.109886163628568,
           "26": 1.1099914415222214,
           "27": 1.1102688046477922,
           "28": 1.1130775589145243,
           "29": 1.1135467752209942,
           "3": 1.0978197601269633,
           "30": 1.115372791489741,
           "31": 1.1164375107339897,
           "32": 1.1159683429909837,
           "33": 1.1131139159202683,
           "34": 1.1105502420130546,
           "35": 1.1127260737905995,
           "36": 1.1119911626611725,
           "37": 1.1164100819407854,
           "38": 1.1193351776908655,
           "39": 1.1238545318946345,
           "4": 1.0996163280479867,
           "40": 1.1211689658964603,
           "41": 1.12197882287802,
           "42": 1.1204044943510385,
           "43": 1.120298681102866,
           "44": 1.1229475306122547,
           "45": 1.122472570506197,
           "46": 1.1218966653893934,
           "47": 1.124190064019235,
           "48": 1.129367076465711,
           "49": 1.1295289954809815,
           "5": 1.0993285265686887,
           "50": 1.1263027308455338,
           "51": 1.1255066226271546,
           "52": 1.1259109687096007,
           "53": 1.1261298752953472,
           "54": 1.1264919657360997,
           "55": 1.1303921884682575,
           "56": 1.1281163106693124,
           "57": 1.1327273383724294,
           "58": 1.1314426867104836,
           "59": 1.1316482564423025,
           "6": 1.0961957859474678,
           "60": 1.133335325643805,
           "61": 1.1378792013618515,
           "62": 1.1373564978240942,
           "63": 1.1389086133800843,
           "64": 1.1400485555729247,
           "65": 1.143205172763358,
           "66": 1.1436886915903204,
           "67": 1.1484350798344762,
           "68": 1.145873755304385,
           "69": 1.1444537073297394,
           "7": 1.0985652165689996,
           "70": 1.144037131356335,
           "71": 1.143322819929072,
           "72": 1.1407366299991146,
           "73": 1.1449875207425906,
           "74": 1.147062932283755,
           "75": 1.1416389586107891,
           "76": 1.14432738094847,
           "77": 1.1470411983822857,
           "78": 1.1454883641604294,
           "79": 1.148890538947294,
           "8": 1.093556684305395,
           "80": 1.1447013863883615,
           "81": 1.1431602670188123,
           "82": 1.143946392195064,
           "83": 1.1457732394224696,
           "84": 1.1461005604294303,
           "85": 1.147211339707514,
           "86": 1.145346536296672,
           "87": 1.1496896086585748,
           "88": 1.1513179369028528,
           "89": 1.1494513315587296,
           "9": 1.0960145473925655,
           "90": 1.1491174325218958,
           "91": 1.1522631083206123,
           "92": 1.1542314107092495,
           "93": 1.1525986056589683,
           "94": 1.15045656821722,
           "95": 1.154578729351968,
           "96": 1.148877123539686,
           "97": 1.14715801471203,
           "98": 1.1500546888428254,
           "99": 1.1471933421199372,
           "bdata": "yTm/8ml98T+9CsEQcYHxP6ahxD1MiPE/r13qc6uQ8T/C0XFKB5jxPxfCUoLZlvE/rISqlwSK8T///doeuZPxPzSfNks1f/E/adzPjEaJ8T/MP+qHb4/xP+mZt9V7ivE/QFNh8fGN8T9cXbZwQYXxP3B+9gB5fvE/RiQDY7CG8T/alj6YaInxP1lGvjcIoPE/PTVzHDy78T9DUABxo8DxP4Y9rM8jy/E/Yr2ZQL7W8T/8Ltm29sTxP5KoKmVav/E/NHQqK4298T/oFHH+F8LxP2zYwmKGwvE/U7PbOKnD8T+5MBdqKs/xPzc/YmwW0fE/I7/kI5HY8T8IFUqU7dzxPwhICJ8B2/E/ypmZiVDP8T/fLKBU0MTxP8tkBdu5zfE/zSHRPrfK8T8CxG3R0NzxPyYd1wDM6PE/dy6/40778T8HDJ3eTvDxP/8M8RCg8/E/TndYQy3t8T99a1FPvuzxP1GocdSX9/E/4LJPzKX18T8ibPXqSfPxP1E2d7iu/PE/+5YpNuMR8j+/l/f+jBLyP24IJgNWBfI/N9d5OxMC8j/wC004uwPyP70Sl8KgBPI/XLGAcBwG8j8kAJIeFhbyP76KRrDDDPI/74OZs6Yf8j+3hIulYxryP/nrvzM7G/I/nKrwOCQi8j8wXUrSwDTyP+PCILqcMvI/TJr5PPg48j+gmuCNoz3yP7sv2oGRSvI/ofdyg4xM8j/ZfVd2/V/yP1sIBrh/VfI/ZUbMsK5P8j+hXAnh+U3yP5Hahd4MS/I/kCBzDXVA8j9Hrj5v3lHyPyzNSaleWvI/VypxNidE8j/JdFE6Kk/yPw13I99HWvI/BUhgm+tT8j8qZrcL22HyP/uUo2ayUPI/OOuOa2JK8j8Krm27mk3yP0g5/1EWVfI/+4uPim1W8j9QThpH+lryP4Syv+NWU/I/edVb7iBl8j8wvGRbzGvyP982VhQnZPI/1x7/9chi8j9H/elwq2/yP9oxEFu7d/I/C4dLPAtx8j+0YX8lRWjyP0CVs4snefI/qZuL+sxh8j/whMhcwlryP/AP076fZvI/T4HpZ+da8j8FC6n6CGjyPxhpqUoAXfI/bW3Npp5O8j900WwDMkPyPwArbfF4SfI/YfM2Ai5D8j/mFv9VrznyP1hA9admPfI/PC+5NYQz8j9b+5G9eznyPy70xDmQQvI/tW4g2L1C8j+T5OaPKj3yP1cq2qywSPI/xjvjedJJ8j8eOZuzI1DyPyaMje0BXvI/7q/AoexW8j/hy94Uml/yP70Ft6rBX/I/IBpcEI5f8j8Ilqf9uFDyP7A5OdmaWfI/MlQ2cmVb8j+1FnUMjU3yPxiJmKW1UPI/Aj8YDTxN8j/9RZYdiWLyPw22zSVmZPI/",
           "dtype": "f8",
           "shape": "129"
          },
          "bdata": "yTm/8ml98T+9CsEQcYHxP6ahxD1MiPE/r13qc6uQ8T/C0XFKB5jxPxfCUoLZlvE/rISqlwSK8T///doeuZPxPzSfNks1f/E/adzPjEaJ8T/MP+qHb4/xP+mZt9V7ivE/QFNh8fGN8T9cXbZwQYXxP3B+9gB5fvE/RiQDY7CG8T/alj6YaInxP1lGvjcIoPE/PTVzHDy78T9DUABxo8DxP4Y9rM8jy/E/Yr2ZQL7W8T/8Ltm29sTxP5KoKmVav/E/NHQqK4298T/oFHH+F8LxP2zYwmKGwvE/U7PbOKnD8T+5MBdqKs/xPzc/YmwW0fE/I7/kI5HY8T8IFUqU7dzxPwhICJ8B2/E/ypmZiVDP8T/fLKBU0MTxP8tkBdu5zfE/zSHRPrfK8T8CxG3R0NzxPyYd1wDM6PE/dy6/40778T8HDJ3eTvDxP/8M8RCg8/E/TndYQy3t8T99a1FPvuzxP1GocdSX9/E/4LJPzKX18T8ibPXqSfPxP1E2d7iu/PE/+5YpNuMR8j+/l/f+jBLyP24IJgNWBfI/N9d5OxMC8j/wC004uwPyP70Sl8KgBPI/XLGAcBwG8j8kAJIeFhbyP76KRrDDDPI/74OZs6Yf8j+3hIulYxryP/nrvzM7G/I/nKrwOCQi8j8wXUrSwDTyP+PCILqcMvI/TJr5PPg48j+gmuCNoz3yP7sv2oGRSvI/ofdyg4xM8j/ZfVd2/V/yP1sIBrh/VfI/ZUbMsK5P8j+hXAnh+U3yP5Hahd4MS/I/kCBzDXVA8j9Hrj5v3lHyPyzNSaleWvI/VypxNidE8j/JdFE6Kk/yPw13I99HWvI/BUhgm+tT8j8qZrcL22HyP/uUo2ayUPI/OOuOa2JK8j8Krm27mk3yP0g5/1EWVfI/+4uPim1W8j9QThpH+lryP4Syv+NWU/I/edVb7iBl8j8wvGRbzGvyP982VhQnZPI/1x7/9chi8j9H/elwq2/yP9oxEFu7d/I/C4dLPAtx8j+0YX8lRWjyP0CVs4snefI/qZuL+sxh8j/whMhcwlryP/AP076fZvI/T4HpZ+da8j8FC6n6CGjyPxhpqUoAXfI/bW3Npp5O8j900WwDMkPyPwArbfF4SfI/YfM2Ai5D8j/mFv9VrznyP1hA9admPfI/PC+5NYQz8j9b+5G9eznyPy70xDmQQvI/tW4g2L1C8j+T5OaPKj3yP1cq2qywSPI/xjvjedJJ8j8eOZuzI1DyPyaMje0BXvI/7q/AoexW8j/hy94Uml/yP70Ft6rBX/I/IBpcEI5f8j8Ilqf9uFDyP7A5OdmaWfI/MlQ2cmVb8j+1FnUMjU3yPxiJmKW1UPI/Aj8YDTxN8j/9RZYdiWLyPw22zSVmZPI/",
          "dtype": "f8"
         },
         "type": "candlestick",
         "whiskerwidth": 0.3,
         "x": [
          "2025-01-01T00:00:00",
          "2025-01-02T00:00:00",
          "2025-01-03T00:00:00",
          "2025-01-06T00:00:00",
          "2025-01-07T00:00:00",
          "2025-01-08T00:00:00",
          "2025-01-09T00:00:00",
          "2025-01-10T00:00:00",
          "2025-01-13T00:00:00",
          "2025-01-14T00:00:00",
          "2025-01-15T00:00:00",
          "2025-01-16T00:00:00",
          "2025-01-17T00:00:00",
          "2025-01-20T00:00:00",
          "2025-01-21T00:00:00",
          "2025-01-22T00:00:00",
          "2025-01-23T00:00:00",
          "2025-01-24T00:00:00",
          "2025-01-27T00:00:00",
          "2025-01-28T00:00:00",
          "2025-01-29T00:00:00",
          "2025-01-30T00:00:00",
          "2025-01-31T00:00:00",
          "2025-02-03T00:00:00",
          "2025-02-04T00:00:00",
          "2025-02-05T00:00:00",
          "2025-02-06T00:00:00",
          "2025-02-07T00:00:00",
          "2025-02-10T00:00:00",
          "2025-02-11T00:00:00",
          "2025-02-12T00:00:00",
          "2025-02-13T00:00:00",
          "2025-02-14T00:00:00",
          "2025-02-17T00:00:00",
          "2025-02-18T00:00:00",
          "2025-02-19T00:00:00",
          "2025-02-20T00:00:00",
          "2025-02-21T00:00:00",
          "2025-02-24T00:00:00",
          "2025-02-25T00:00:00",
          "2025-02-26T00:00:00",
          "2025-02-27T00:00:00",
          "2025-02-28T00:00:00",
          "2025-03-03T00:00:00",
          "2025-03-04T00:00:00",
          "2025-03-05T00:00:00",
          "2025-03-06T00:00:00",
          "2025-03-07T00:00:00",
          "2025-03-10T00:00:00",
          "2025-03-11T00:00:00",
          "2025-03-12T00:00:00",
          "2025-03-13T00:00:00",
          "2025-03-14T00:00:00",
          "2025-03-17T00:00:00",
          "2025-03-18T00:00:00",
          "2025-03-19T00:00:00",
          "2025-03-20T00:00:00",
          "2025-03-21T00:00:00",
          "2025-03-24T00:00:00",
          "2025-03-25T00:00:00",
          "2025-03-26T00:00:00",
          "2025-03-27T00:00:00",
          "2025-03-28T00:00:00",
          "2025-03-31T00:00:00",
          "2025-04-01T00:00:00",
          "2025-04-02T00:00:00",
          "2025-04-03T00:00:00",
          "2025-04-04T00:00:00",
          "2025-04-07T00:00:00",
          "2025-04-08T00:00:00",
          "2025-04-09T00:00:00",
          "2025-04-10T00:00:00",
          "2025-04-11T00:00:00",
          "2025-04-14T00:00:00",
          "2025-04-15T00:00:00",
          "2025-04-16T00:00:00",
          "2025-04-17T00:00:00",
          "2025-04-18T00:00:00",
          "2025-04-21T00:00:00",
          "2025-04-22T00:00:00",
          "2025-04-23T00:00:00",
          "2025-04-24T00:00:00",
          "2025-04-25T00:00:00",
          "2025-04-28T00:00:00",
          "2025-04-29T00:00:00",
          "2025-04-30T00:00:00",
          "2025-05-01T00:00:00",
          "2025-05-02T00:00:00",
          "2025-05-05T00:00:00",
          "2025-05-06T00:00:00",
          "2025-05-07T00:00:00",
          "2025-05-08T00:00:00",
          "2025-05-09T00:00:00",
          "2025-05-12T00:00:00",
          "2025-05-13T00:00:00",
          "2025-05-14T00:00:00",
          "2025-05-15T00:00:00",
          "2025-05-16T00:00:00",
          "2025-05-19T00:00:00",
          "2025-05-20T00:00:00",
          "2025-05-21T00:00:00",
          "2025-05-22T00:00:00",
          "2025-05-23T00:00:00",
          "2025-05-26T00:00:00",
          "2025-05-27T00:00:00",
          "2025-05-28T00:00:00",
          "2025-05-29T00:00:00",
          "2025-05-30T00:00:00",
          "2025-06-02T00:00:00",
          "2025-06-03T00:00:00",
          "2025-06-04T00:00:00",
          "2025-06-05T00:00:00",
          "2025-06-06T00:00:00",
          "2025-06-09T00:00:00",
          "2025-06-10T00:00:00",
          "2025-06-11T00:00:00",
          "2025-06-12T00:00:00",
          "2025-06-13T00:00:00",
          "2025-06-16T00:00:00",
          "2025-06-17T00:00:00",
          "2025-06-18T00:00:00",
          "2025-06-19T00:00:00",
          "2025-06-20T00:00:00",
          "2025-06-23T00:00:00",
          "2025-06-24T00:00:00",
          "2025-06-25T00:00:00",
          "2025-06-26T00:00:00",
          "2025-06-27T00:00:00",
          "2025-06-30T00:00:00"
         ]
        }
       ],
       "layout": {
        "autosize": true,
        "template": {
         "data": {
          "bar": [
           {
            "error_x": {
             "color": "#2a3f5f"
            },
            "error_y": {
             "color": "#2a3f5f"
            },
            "marker": {
             "line": {
              "color": "#E5ECF6",
              "width": 0.5
             },
             "pattern": {
              "fillmode": "overlay",
              "size": 10,
              "solidity": 0.2
             }
            },
            "type": "bar"
           }
          ],
          "barpolar": [
           {
            "marker": {
             "line": {
              "color": "#E5ECF6",
              "width": 0.5
             },
             "pattern": {
              "fillmode": "overlay",
              "size": 10,
              "solidity": 0.2
             }
            },
            "type": "barpolar"
           }
          ],
          "carpet": [
           {
            "aaxis": {
             "endlinecolor": "#2a3f5f",
             "gridcolor": "white",
             "linecolor": "white",
             "minorgridcolor": "white",
             "startlinecolor": "#2a3f5f"
            },
            "baxis": {
             "endlinecolor": "#2a3f5f",
             "gridcolor": "white",
             "linecolor": "white",
             "minorgridcolor": "white",
             "startlinecolor": "#2a3f5f"
            },
            "type": "carpet"
           }
          ],
          "choropleth": [
           {
            "colorbar": {
             "outlinewidth": 0,
             "ticks": ""
            },
            "type": "choropleth"
           }
          ],
          "contour": [
           {
            "colorbar": {
             "outlinewidth": 0,
             "ticks": ""
            },
            "colorscale": [
             [
              0,
              "#0d0887"
             ],
             [
              0.1111111111111111,
              "#46039f"
             ],
             [
              0.2222222222222222,
              "#7201a8"
             ],
             [
              0.3333333333333333,
              "#9c179e"
             ],
             [
              0.4444444444444444,
              "#bd3786"
             ],
             [
              0.5555555555555556,
              "#d8576b"
             ],
             [
              0.6666666666666666,
              "#ed7953"
             ],
             [
              0.7777777777777778,
              "#fb9f3a"
             ],
             [
              0.8888888888888888,
              "#fdca26"
             ],
             [
              1,
              "#f0f921"
             ]
            ],
            "type": "contour"
           }
          ],
          "contourcarpet": [
           {
            "colorbar": {
             "outlinewidth": 0,
             "ticks": ""
            },
            "type": "contourcarpet"
           }
          ],
          "heatmap": [
           {
            "colorbar": {
             "outlinewidth": 0,
             "ticks": ""
            },
            "colorscale": [
             [
              0,
              "#0d0887"
             ],
             [
              0.1111111111111111,
              "#46039f"
             ],
             [
              0.2222222222222222,
              "#7201a8"
             ],
             [
              0.3333333333333333,
              "#9c179e"
             ],
             [
              0.4444444444444444,
              "#bd3786"
             ],
             [
              0.5555555555555556,
              "#d8576b"
             ],
             [
              0.6666666666666666,
              "#ed7953"
             ],
             [
              0.7777777777777778,
              "#fb9f3a"
             ],
             [
              0.8888888888888888,
              "#fdca26"
             ],
             [
              1,
              "#f0f921"
             ]
            ],
            "type": "heatmap"
           }
          ],
          "histogram": [
           {
            "marker": {
             "pattern": {
              "fillmode": "overlay",
              "size": 10,
              "solidity": 0.2
             }
            },
            "type": "histogram"
           }
          ],
          "histogram2d": [
           {
            "colorbar": {
             "outlinewidth": 0,
             "ticks": ""
            },
            "colorscale": [
             [
              0,
              "#0d0887"
             ],
             [
              0.1111111111111111,
              "#46039f"
             ],
             [
              0.2222222222222222,
              "#7201a8"
             ],
             [
              0.3333333333333333,
              "#9c179e"
             ],
             [
              0.4444444444444444,
              "#bd3786"
             ],
             [
              0.5555555555555556,
              "#d8576b"
             ],
             [
              0.6666666666666666,
              "#ed7953"
             ],
             [
              0.7777777777777778,
              "#fb9f3a"
             ],
             [
              0.8888888888888888,
              "#fdca26"
             ],
             [
              1,
              "#f0f921"
             ]
            ],
            "type": "histogram2d"
           }
          ],
          "histogram2dcontour": [
           {
            "colorbar": {
             "outlinewidth": 0,
             "ticks": ""
            },
            "colorscale": [
             [
              0,
              "#0d0887"
             ],
             [
              0.1111111111111111,
              "#46039f"
             ],
             [
              0.2222222222222222,
              "#7201a8"
             ],
             [
              0.3333333333333333,
              "#9c179e"
             ],
             [
              0.4444444444444444,
              "#bd3786"
             ],
             [
              0.5555555555555556,
              "#d8576b"
             ],
             [
              0.6666666666666666,
              "#ed7953"
             ],
             [
              0.7777777777777778,
              "#fb9f3a"
             ],
             [
              0.8888888888888888,
              "#fdca26"
             ],
             [
              1,
              "#f0f921"
             ]
            ],
            "type": "histogram2dcontour"
           }
          ],
          "mesh3d": [
           {
            "colorbar": {
             "outlinewidth": 0,
             "ticks": ""
            },
            "type": "mesh3d"
           }
          ],
          "parcoords": [
           {
            "line": {
             "colorbar": {
              "outlinewidth": 0,
              "ticks": ""
             }
            },
            "type": "parcoords"
           }
          ],
          "pie": [
           {
            "automargin": true,
            "type": "pie"
           }
          ],
          "scatter": [
           {
            "fillpattern": {
             "fillmode": "overlay",
             "size": 10,
             "solidity": 0.2
            },
            "type": "scatter"
           }
          ],
          "scatter3d": [
           {
            "line": {
             "colorbar": {
              "outlinewidth": 0,
              "ticks": ""
             }
            },
            "marker": {
             "colorbar": {
              "outlinewidth": 0,
              "ticks": ""
             }
            },
            "type": "scatter3d"
           }
          ],
          "scattercarpet": [
           {
            "marker": {
             "colorbar": {
              "outlinewidth": 0,
              "ticks": ""
             }
            },
            "type": "scattercarpet"
           }
          ],
          "scattergeo": [
           {
            "marker": {
             "colorbar": {
              "outlinewidth": 0,
              "ticks": ""
             }
            },
            "type": "scattergeo"
           }
          ],
          "scattergl": [
           {
            "marker": {
             "colorbar": {
              "outlinewidth": 0,
              "ticks": ""
             }
            },
            "type": "scattergl"
           }
          ],
          "scattermap": [
           {
            "marker": {
             "colorbar": {
              "outlinewidth": 0,
              "ticks": ""
             }
            },
            "type": "scattermap"
           }
          ],
          "scattermapbox": [
           {
            "marker": {
             "colorbar": {
              "outlinewidth": 0,
              "ticks": ""
             }
            },
            "type": "scattermapbox"
           }
          ],
          "scatterpolar": [
           {
            "marker": {
             "colorbar": {
              "outlinewidth": 0,
              "ticks": ""
             }
            },
            "type": "scatterpolar"
           }
          ],
          "scatterpolargl": [
           {
            "marker": {
             "colorbar": {
              "outlinewidth": 0,
              "ticks": ""
             }
            },
            "type": "scatterpolargl"
           }
          ],
          "scatterternary": [
           {
            "marker": {
             "colorbar": {
              "outlinewidth": 0,
              "ticks": ""
             }
            },
            "type": "scatterternary"
           }
          ],
          "surface": [
           {
            "colorbar": {
             "outlinewidth": 0,
             "ticks": ""
            },
            "colorscale": [
             [
              0,
              "#0d0887"
             ],
             [
              0.1111111111111111,
              "#46039f"
             ],
             [
              0.2222222222222222,
              "#7201a8"
             ],
             [
              0.3333333333333333,
              "#9c179e"
             ],
             [
              0.4444444444444444,
              "#bd3786"
             ],
             [
              0.5555555555555556,
              "#d8576b"
             ],
             [
              0.6666666666666666,
              "#ed7953"
             ],
             [
              0.7777777777777778,
              "#fb9f3a"
             ],
             [
              0.8888888888888888,
              "#fdca26"
             ],
             [
              1,
              "#f0f921"
             ]
            ],
            "type": "surface"
           }
          ],
          "table": [
           {
            "cells": {
             "fill": {
              "color": "#EBF0F8"
             },
             "line": {
              "color": "white"
             }
            },
            "header": {
             "fill": {
              "color": "#C8D4E3"
             },
             "line": {
              "color": "white"
             }
            },
            "type": "table"
           }
          ]
         },
         "layout": {
          "annotationdefaults": {
           "arrowcolor": "#2a3f5f",
           "arrowhead": 0,
           "arrowwidth": 1
          },
          "autotypenumbers": "strict",
          "coloraxis": {
           "colorbar": {
            "outlinewidth": 0,
            "ticks": ""
           }
          },
          "colorscale": {
           "diverging": [
            [
             0,
             "#8e0152"
            ],
            [
             0.1,
             "#c51b7d"
            ],
            [
             0.2,
             "#de77ae"
            ],
            [
             0.3,
             "#f1b6da"
            ],
            [
             0.4,
             "#fde0ef"
            ],
            [
             0.5,
             "#f7f7f7"
            ],
            [
             0.6,
             "#e6f5d0"
            ],
            [
             0.7,
             "#b8e186"
            ],
            [
             0.8,
             "#7fbc41"
            ],
            [
             0.9,
             "#4d9221"
            ],
            [
             1,
             "#276419"
            ]
           ],
           "sequential": [
            [
             0,
             "#0d0887"
            ],
            [
             0.1111111111111111,
             "#46039f"
            ],
            [
             0.2222222222222222,
             "#7201a8"
            ],
            [
             0.3333333333333333,
             "#9c179e"
            ],
            [
             0.4444444444444444,
             "#bd3786"
            ],
            [
             0.5555555555555556,
             "#d8576b"
            ],
            [
             0.6666666666666666,
             "#ed7953"
            ],
            [
             0.7777777777777778,
             "#fb9f3a"
            ],
            [
             0.8888888888888888,
             "#fdca26"
            ],
            [
             1,
             "#f0f921"
            ]
           ],
           "sequentialminus": [
            [
             0,
             "#0d0887"
            ],
            [
             0.1111111111111111,
             "#46039f"
            ],
            [
             0.2222222222222222,
             "#7201a8"
            ],
            [
             0.3333333333333333,
             "#9c179e"
            ],
            [
             0.4444444444444444,
             "#bd3786"
            ],
            [
             0.5555555555555556,
             "#d8576b"
            ],
            [
             0.6666666666666666,
             "#ed7953"
            ],
            [
             0.7777777777777778,
             "#fb9f3a"
            ],
            [
             0.8888888888888888,
             "#fdca26"
            ],
            [
             1,
             "#f0f921"
            ]
           ]
          },
          "colorway": [
           "#636efa",
           "#EF553B",
           "#00cc96",
           "#ab63fa",
           "#FFA15A",
           "#19d3f3",
           "#FF6692",
           "#B6E880",
           "#FF97FF",
           "#FECB52"
          ],
          "font": {
           "color": "#2a3f5f"
          },
          "geo": {
           "bgcolor": "white",
           "lakecolor": "white",
           "landcolor": "#E5ECF6",
           "showlakes": true,
           "showland": true,
           "subunitcolor": "white"
          },
          "hoverlabel": {
           "align": "left"
          },
          "hovermode": "closest",
          "mapbox": {
           "style": "light"
          },
          "paper_bgcolor": "white",
          "plot_bgcolor": "#E5ECF6",
          "polar": {
           "angularaxis": {
            "gridcolor": "white",
            "linecolor": "white",
            "ticks": ""
           },
           "bgcolor": "#E5ECF6",
           "radialaxis": {
            "gridcolor": "white",
            "linecolor": "white",
            "ticks": ""
           }
          },
          "scene": {
           "xaxis": {
            "backgroundcolor": "#E5ECF6",
            "gridcolor": "white",
            "gridwidth": 2,
            "linecolor": "white",
            "showbackground": true,
            "ticks": "",
            "zerolinecolor": "white"
           },
           "yaxis": {
            "backgroundcolor": "#E5ECF6",
            "gridcolor": "white",
            "gridwidth": 2,
            "linecolor": "white",
            "showbackground": true,
            "ticks": "",
            "zerolinecolor": "white"
           },
           "zaxis": {
            "backgroundcolor": "#E5ECF6",
            "gridcolor": "white",
            "gridwidth": 2,
            "linecolor": "white",
            "showbackground": true,
            "ticks": "",
            "zerolinecolor": "white"
           }
          },
          "shapedefaults": {
           "line": {
            "color": "#2a3f5f"
           }
          },
          "ternary": {
           "aaxis": {
            "gridcolor": "white",
            "linecolor": "white",
            "ticks": ""
           },
           "baxis": {
            "gridcolor": "white",
            "linecolor": "white",
            "ticks": ""
           },
           "bgcolor": "#E5ECF6",
           "caxis": {
            "gridcolor": "white",
            "linecolor": "white",
            "ticks": ""
           }
          },
          "title": {
           "x": 0.05
          },
          "xaxis": {
           "automargin": true,
           "gridcolor": "white",
           "linecolor": "white",
           "ticks": "",
           "title": {
            "standoff": 15
           },
           "zerolinecolor": "white",
           "zerolinewidth": 2
          },
          "yaxis": {
           "automargin": true,
           "gridcolor": "white",
           "linecolor": "white",
           "ticks": "",
           "title": {
            "standoff": 15
           },
           "zerolinecolor": "white",
           "zerolinewidth": 2
          }
         }
        },
        "xaxis": {
         "autorange": true,
         "range": [
          "2024-12-31 12:00",
          "2025-06-30 12:00"
         ],
         "rangeslider": {
          "autorange": true,
          "range": [
           "2024-12-31 12:00",
           "2025-06-30 12:00"
          ],
          "yaxis": {
           "_template": null,
           "rangemode": "match"
          }
         },
         "type": "date"
        },
        "yaxis": {
         "autorange": true,
         "range": [
          1.0876362264144792,
          1.1597193769568164
         ]
        }
       }
      },
      "image/png": "[encoded data removed]"
     },
     "metadata": {},
     "output_type": "display_data"
    }
   ],
   "source": [
    "\n",
    "fig.show()"
   ]
  },
  {
   "cell_type": "code",
   "execution_count": 5,
   "id": "8accc368-f6be-4b95-8877-702753112d79",
   "metadata": {},
   "outputs": [
    {
     "data": {
      "application/vnd.plotly.v1+json": {
       "config": {
        "plotlyServerURL": "https://plot.ly"
       },
       "data": [
        {
         "close": {
          "_inputArray": {
           "0": 1.0919671245985,
           "1": 1.093737456370461,
           "10": 1.0974180833125824,
           "100": 1.150809419758868,
           "101": 1.148220144840211,
           "102": 1.1449566984479238,
           "103": 1.1418325483008618,
           "104": 1.1421361981580709,
           "105": 1.1413085596500394,
           "106": 1.1395802381381963,
           "107": 1.140056431666022,
           "108": 1.138244802887256,
           "109": 1.1390786729909552,
           "11": 1.096145581979366,
           "110": 1.1409015423570732,
           "111": 1.1419988936705108,
           "112": 1.1394977150143328,
           "113": 1.141953709407335,
           "114": 1.1425581623779362,
           "115": 1.144840735688374,
           "116": 1.1474800348892331,
           "117": 1.1467094381394078,
           "118": 1.148867728266434,
           "119": 1.1472953439222375,
           "12": 1.096817320252989,
           "120": 1.1489624621607473,
           "121": 1.145109092597111,
           "122": 1.14700293038185,
           "123": 1.1472681940826568,
           "124": 1.1432724849376654,
           "125": 1.1443074176906187,
           "126": 1.1431762413768125,
           "127": 1.1486705598318694,
           "128": 1.1493643697962392,
           "13": 1.0951201401124628,
           "14": 1.0929870470717105,
           "15": 1.0955746883448698,
           "16": 1.096251674150799,
           "17": 1.1013985674610811,
           "18": 1.1081134856605594,
           "19": 1.1100222578744066,
           "2": 1.0962073799866523,
           "20": 1.1109789214958696,
           "21": 1.1154132288088796,
           "22": 1.111348013982042,
           "23": 1.108650215443171,
           "24": 1.108513113641656,
           "25": 1.1096894332484903,
           "26": 1.1103066948387224,
           "27": 1.110967949486928,
           "28": 1.1131872142725725,
           "29": 1.1135696134608648,
           "3": 1.0976669443712084,
           "30": 1.1153665809946132,
           "31": 1.1163906967416244,
           "32": 1.115347936684401,
           "33": 1.113662762431801,
           "34": 1.111504246423671,
           "35": 1.1129161255416251,
           "36": 1.1128241922504576,
           "37": 1.1177785792386088,
           "38": 1.1185738966355314,
           "39": 1.1237655273489553,
           "4": 1.0994947392410666,
           "40": 1.1214823685990218,
           "41": 1.1221743673615,
           "42": 1.1195327558774772,
           "43": 1.1197336720764912,
           "44": 1.1224986324566952,
           "45": 1.1223071376959728,
           "46": 1.1224281898362023,
           "47": 1.1242527544199297,
           "48": 1.1298398705280783,
           "49": 1.1285142233885217,
           "5": 1.098896444129584,
           "50": 1.126825910038495,
           "51": 1.1261598637796988,
           "52": 1.126727430708009,
           "53": 1.1257288106104062,
           "54": 1.127325734126514,
           "55": 1.1300877598223569,
           "56": 1.1279730741753322,
           "57": 1.132830234521567,
           "58": 1.1301956916176077,
           "59": 1.1319218863864535,
           "6": 1.0969762516710748,
           "60": 1.1330869621667377,
           "61": 1.138497008492585,
           "62": 1.137755711804462,
           "63": 1.138531552663443,
           "64": 1.14043457589491,
           "65": 1.1432223885818449,
           "66": 1.143344487378112,
           "67": 1.1483943181555936,
           "68": 1.1460813508624528,
           "69": 1.1444268766007806,
           "7": 1.098691165044812,
           "70": 1.145094687905191,
           "71": 1.143462575036334,
           "72": 1.140205274791044,
           "73": 1.1441115135312527,
           "74": 1.1467151589214823,
           "75": 1.14156212819378,
           "76": 1.1442435618264115,
           "77": 1.1474241634196003,
           "78": 1.1450072145753545,
           "79": 1.1484391260176776,
           "8": 1.0938457444347187,
           "80": 1.1449703409668373,
           "81": 1.1439351025709896,
           "82": 1.143728765734058,
           "83": 1.1451432875776952,
           "84": 1.1463245096053938,
           "85": 1.1470782363179026,
           "86": 1.1451402462159574,
           "87": 1.1491952222360355,
           "88": 1.151061020538335,
           "89": 1.1499154339745417,
           "9": 1.0958960495773589,
           "90": 1.1486939805728662,
           "91": 1.1524123261927686,
           "92": 1.154216839971381,
           "93": 1.152154090216855,
           "94": 1.1513761986488904,
           "95": 1.1541469315509372,
           "96": 1.1494154187919137,
           "97": 1.1474482062036429,
           "98": 1.1494501752005395,
           "99": 1.146592470105778,
           "bdata": "zVIHhbJ48T96V9jY8n/xPwPT6r8QivE/7Ze/NguQ8T+AobLLh5fxP9aiE3AUlfE/qKdW+DaN8T9/WOQvPZTxP0p0M2VkgPE/cAHMS8qI8T9e3Z1DBo/xP6gZJPPPifE/Y8SCUZCM8T9dlS+ynIXxP2b+YfzffPE/B0QMU3mH8T9dmwoyP4rxP5u0sRpUn/E/3bLSNNW68T9GcfaypsLxP/rrZdWRxvE/kCi0irvY8T9RcOjaFMjxPyWCIAIIvfE/3nIkP3i88T/+TQi1ScHxP23L7fPQw/E/ZTUfVIbG8T9GBHplnc/xP/Ij+l4u0fE/bMXGoIrY8T/cBcF9vNzxP4CH+xN32PE/gK52C5DR8T+hEzytuMjxP+dGpiOBzvE/Ap1+vSDO8T+Z/J/Ka+LxP59XA76t5fE/FGDFj/H68T9QxgJ/l/HxP1WiAxxt9PE/V7bULZvp8T+7xtzaberxP7hMQyDB9fE/j4tHVPj08T+NR/dCd/XxP4m+ynTw/PE/1yja+NIT8j+DZCjuZA7yP5Jp/pp6B/I/pAaQNMAE8j8iWqZXEwfyP2nJmzb8AvI/ezOAtYYJ8j81wCDn1hTyP0ughX4tDPI/0QqTmBIg8j9ePtkTSBXyP82Auh9aHPI/Z3tgyx8h8j+eHKGjSDfyPw2ZUFU/NPI/GnWC3Gw38j/qI2tTOD/yP3U5MI+jSvI/MJ3VliNL8j92P3a40l/yP+EnCGZZVvI/2J56jpJP8j+ZBLbOTlLyPy6yv2mfS/I/hETf4kc+8j8sgNnfR07yP8dSlv7xWPI/chxvptZD8j90P0tW0k7yP/9viHDZW/I/MJDEFfNR8j9/FXu0AWDyPwZ7lWvMUfI/857k5I5N8j/VJ8WItkzyP/0UlsSBUvI/Brx1XlhX8j8gBW+1blryP3hLLZR+UvI/VJKDhxpj8j+8me71vmryP4Bh4bkNZvI/pMJ68Axh8j9nFUjoR3DyP3e2whOsd/I/xfGWIDlv8j/Bb+lyCWzyP/Kj3MVid/I/rasTbAFk8j/m+Xem8lvyP3Xi7d0lZPI/VhuPWHFY8j9vsFwjt2nyP0cnKxYcX/I/L7hyHb5R8j9hXsc08kTyP8OqKpswRvI/83elw8xC8j8Ki998uDvyP7KZGdCrPfI/OuKzLkA28j9hEwGPqjnyP8sSxvkhQfI/3yDGoaBF8j8Rp730YTvyP840t0BxRfI/uA5TEetH8j/2j+6ERFHyP1qYagYUXPI/NCzt/utY8j+sWIUgw2HyPz78z1xSW/I/Jf50diZi8j/E6HDpXVLyP9d/pr4fWvI/QzfV5DVb8j8zldMW2EryP53SeEsVT/I/GXGkK3NK8j+6sYVh9GDyP2Rmt+TLY/I/",
           "dtype": "f8",
           "shape": "129"
          },
          "bdata": "zVIHhbJ48T96V9jY8n/xPwPT6r8QivE/7Ze/NguQ8T+AobLLh5fxP9aiE3AUlfE/qKdW+DaN8T9/WOQvPZTxP0p0M2VkgPE/cAHMS8qI8T9e3Z1DBo/xP6gZJPPPifE/Y8SCUZCM8T9dlS+ynIXxP2b+YfzffPE/B0QMU3mH8T9dmwoyP4rxP5u0sRpUn/E/3bLSNNW68T9GcfaypsLxP/rrZdWRxvE/kCi0irvY8T9RcOjaFMjxPyWCIAIIvfE/3nIkP3i88T/+TQi1ScHxP23L7fPQw/E/ZTUfVIbG8T9GBHplnc/xP/Ij+l4u0fE/bMXGoIrY8T/cBcF9vNzxP4CH+xN32PE/gK52C5DR8T+hEzytuMjxP+dGpiOBzvE/Ap1+vSDO8T+Z/J/Ka+LxP59XA76t5fE/FGDFj/H68T9QxgJ/l/HxP1WiAxxt9PE/V7bULZvp8T+7xtzaberxP7hMQyDB9fE/j4tHVPj08T+NR/dCd/XxP4m+ynTw/PE/1yja+NIT8j+DZCjuZA7yP5Jp/pp6B/I/pAaQNMAE8j8iWqZXEwfyP2nJmzb8AvI/ezOAtYYJ8j81wCDn1hTyP0ughX4tDPI/0QqTmBIg8j9ePtkTSBXyP82Auh9aHPI/Z3tgyx8h8j+eHKGjSDfyPw2ZUFU/NPI/GnWC3Gw38j/qI2tTOD/yP3U5MI+jSvI/MJ3VliNL8j92P3a40l/yP+EnCGZZVvI/2J56jpJP8j+ZBLbOTlLyPy6yv2mfS/I/hETf4kc+8j8sgNnfR07yP8dSlv7xWPI/chxvptZD8j90P0tW0k7yP/9viHDZW/I/MJDEFfNR8j9/FXu0AWDyPwZ7lWvMUfI/857k5I5N8j/VJ8WItkzyP/0UlsSBUvI/Brx1XlhX8j8gBW+1blryP3hLLZR+UvI/VJKDhxpj8j+8me71vmryP4Bh4bkNZvI/pMJ68Axh8j9nFUjoR3DyP3e2whOsd/I/xfGWIDlv8j/Bb+lyCWzyP/Kj3MVid/I/rasTbAFk8j/m+Xem8lvyP3Xi7d0lZPI/VhuPWHFY8j9vsFwjt2nyP0cnKxYcX/I/L7hyHb5R8j9hXsc08kTyP8OqKpswRvI/83elw8xC8j8Ki998uDvyP7KZGdCrPfI/OuKzLkA28j9hEwGPqjnyP8sSxvkhQfI/3yDGoaBF8j8Rp730YTvyP840t0BxRfI/uA5TEetH8j/2j+6ERFHyP1qYagYUXPI/NCzt/utY8j+sWIUgw2HyPz78z1xSW/I/Jf50diZi8j/E6HDpXVLyP9d/pr4fWvI/QzfV5DVb8j8zldMW2EryP53SeEsVT/I/GXGkK3NK8j+6sYVh9GDyP2Rmt+TLY/I/",
          "dtype": "f8"
         },
         "decreasing": {
          "line": {
           "color": "red"
          }
         },
         "high": {
          "_inputArray": {
           "0": 1.0945101372922883,
           "1": 1.0942494547075925,
           "10": 1.097738355095505,
           "100": 1.1508430101402898,
           "101": 1.1484403527750136,
           "102": 1.1452651701616603,
           "103": 1.142674614797504,
           "104": 1.1437687676831216,
           "105": 1.1418952404587686,
           "106": 1.1401330324551755,
           "107": 1.1402469428139432,
           "108": 1.138476412052867,
           "109": 1.139234084882779,
           "11": 1.0966022994803462,
           "110": 1.1414465282464477,
           "111": 1.1426510131334864,
           "112": 1.1407908648084506,
           "113": 1.1431201107841118,
           "114": 1.1430389660622404,
           "115": 1.1462738662782084,
           "116": 1.148737043967182,
           "117": 1.1476906075811544,
           "118": 1.1496846345133476,
           "119": 1.1485003410843213,
           "12": 1.09798891736811,
           "120": 1.1503892206837711,
           "121": 1.146369568038344,
           "122": 1.1483547374267844,
           "123": 1.1475707263348425,
           "124": 1.144059428346786,
           "125": 1.1451705260895249,
           "126": 1.1439919098746676,
           "127": 1.1497672118517084,
           "128": 1.150375123627643,
           "13": 1.0952605719435482,
           "14": 1.0934962618916442,
           "15": 1.0962404029310286,
           "16": 1.0966592606005847,
           "17": 1.1023781797977017,
           "18": 1.1109480877636724,
           "19": 1.1110074107292418,
           "2": 1.0969368463235944,
           "20": 1.112249974868086,
           "21": 1.1164264568213802,
           "22": 1.1124354498717983,
           "23": 1.1117848338597334,
           "24": 1.109438236206812,
           "25": 1.1102190844289572,
           "26": 1.1112352971125157,
           "27": 1.1126838996532806,
           "28": 1.1136559705582574,
           "29": 1.1144297104966492,
           "3": 1.0985398698750373,
           "30": 1.1156028785337622,
           "31": 1.1170561687272185,
           "32": 1.1180209059127528,
           "33": 1.113829408547804,
           "34": 1.1119501192062486,
           "35": 1.1136019993063933,
           "36": 1.1156092019182062,
           "37": 1.1193023296964892,
           "38": 1.1206254076218107,
           "39": 1.125332851259086,
           "4": 1.0999015848144116,
           "40": 1.1216966027926671,
           "41": 1.1224148773095268,
           "42": 1.1218254438270063,
           "43": 1.1206203406880948,
           "44": 1.1239548547444314,
           "45": 1.1228023541586345,
           "46": 1.1233487150085435,
           "47": 1.1256018919448607,
           "48": 1.130217732021107,
           "49": 1.1314844153689427,
           "5": 1.101419065717889,
           "50": 1.1276842142497847,
           "51": 1.1263820740246426,
           "52": 1.1267786335717516,
           "53": 1.12656900331847,
           "54": 1.128826775361581,
           "55": 1.131450545393672,
           "56": 1.1299712778320423,
           "57": 1.1333324848582522,
           "58": 1.1315572675870151,
           "59": 1.1322903738834011,
           "6": 1.097980307819084,
           "60": 1.1337946687121012,
           "61": 1.1390825211757083,
           "62": 1.1379376154941483,
           "63": 1.139511848845927,
           "64": 1.1429872361518656,
           "65": 1.143254315556147,
           "66": 1.1450958804335218,
           "67": 1.1484960506436974,
           "68": 1.147623743587343,
           "69": 1.1452748169056577,
           "7": 1.099723080904823,
           "70": 1.1466938585627926,
           "71": 1.1455314113932706,
           "72": 1.1422463770101925,
           "73": 1.145162203948856,
           "74": 1.147526359786487,
           "75": 1.1438454006533023,
           "76": 1.1448715401877894,
           "77": 1.148122459153478,
           "78": 1.1467413077933204,
           "79": 1.1499388862824254,
           "8": 1.0949268627117543,
           "80": 1.1462516612603817,
           "81": 1.1452118340211486,
           "82": 1.144591524575667,
           "83": 1.146070876510267,
           "84": 1.147080251801152,
           "85": 1.1489694614519994,
           "86": 1.1456535821772276,
           "87": 1.150219535589545,
           "88": 1.1522580571739522,
           "89": 1.1506616551933109,
           "9": 1.0960149023536545,
           "90": 1.1492586987471218,
           "91": 1.1524978550003468,
           "92": 1.1561152194296995,
           "93": 1.1539127478333056,
           "94": 1.1539774387421406,
           "95": 1.1551912813136398,
           "96": 1.151130381398219,
           "97": 1.1487982519959772,
           "98": 1.1518536787193767,
           "99": 1.1485061957837752,
           "bdata": "PPnMDx2D8T+6KFq3C4LxP6PLi6YNjfE/M3Lnip6T8T8ii3lnMpnxP/UvJ5lpn/E/ecKbzFOR8T//R7I6d5jxP+u9rQfShPE/7ZkY7EaJ8T9SM+sXVpDxP6TIT9qui/E/s3a301yR8T9giBHzL4bxPz/3se/1fvE/N0hyYDOK8T8tKbKU6ovxP9fhYE1Xo/E/uPqHgHHG8T+5Ieu0r8bxP2SQMKHGy/E/4/0G/eHc8T9JxEEdiczxP5Dc2eTeyfE/+wrXTkLA8T9pRzAWdcPxP0QltKmex/E/0b78oY3N8T+Ir0jsiNHxP7dhhD+01PE/+ANqZ4LZ8T/HpwdKdt/xP6o7suNp4/E/zpIwyT7S8T/gYkw1jMrxP7B/fFRQ0fE/iq/VCInZ8T/lIEaPqejxP2nWTOgU7vE/9loUBV0B8j//dRAjePLxP45paU1p9fE/P+yQPP/y8T/OzSeYD+7xP5ns9BW4+/E/9rrvmf/28T/ycY+APPnxP6CAIyF3AvI/OT1GMF8V8j+2F/9mjxryP0mxRpr+CvI/q8irNakF8j8ZW1AISQfyP9UKHzhtBvI/H28wqqwP8j9uHRjjaxryP8VTO8NcFPI/p15fPiEi8j/KZR3L2xryPyV61oLcHfI/Svbn4AUk8j99Uf6XrjnyPy34thL+NPI//inDxnA78j93SPD7rEnyPzcxhQnFSvI/2/DTDlBS8j/ymBFlPWDyP7Qh7baqXPI/zay4rwtT8j/l0dCo21jyP9yYx74YVPI/crsTI6RG8j+8NWmalVLyP1VLqZlEXPI/dMa31TBN8j+upPPRZFHyP2Xg3ae1XvI/AR3faQ1Z8j/2tE9RJmbyP4uVYfsLV/I/587hpMlS8j/iTNUzP1DyP4gnWGpOVvI/a/l10nBa8j8IoFDNLWLyP2zxv9mYVPI/DD2JmUxn8j9/1QElpm/yP2EQHTIcafI/zzLcFl1j8j96/D6XoXDyPxq8Haxyf/I/zBqmNm128j9ogvsLsXbyP9rcXdqpe/I/BJnYsAdr8j8gZaBGemHyP0AIfh/+bfI/pFBiCEhg8j+1HzZc2mnyP8g0yf0CYPI/rXkxkgFT8j8UZUgtZUjyP+YptnrgTPI/zaeT8TNF8j+iv3ci/D3yP3b/C5RzPvI/P43QCjM38j/c9RCFTTryP0A4T29dQ/I/uWTCbUxI8j982P7rrUDyP4Z7M1A4SvI/16cUOuNJ8j9Fyv5DI1fyPyavOBg6YfI/gcyX0/Bc8j85LR+3G2XyP51uxuRBYPI/ox8Ih/5n8j9aq72dh1fyP3pGlzepX/I/Jkg3H3Nc8j/g4FZCEU7yP6tcXlSeUvI/7838dcpN8j+4qM5NcmXyP43N4b7vZ/I/",
           "dtype": "f8",
           "shape": "129"
          },
          "bdata": "PPnMDx2D8T+6KFq3C4LxP6PLi6YNjfE/M3Lnip6T8T8ii3lnMpnxP/UvJ5lpn/E/ecKbzFOR8T//R7I6d5jxP+u9rQfShPE/7ZkY7EaJ8T9SM+sXVpDxP6TIT9qui/E/s3a301yR8T9giBHzL4bxPz/3se/1fvE/N0hyYDOK8T8tKbKU6ovxP9fhYE1Xo/E/uPqHgHHG8T+5Ieu0r8bxP2SQMKHGy/E/4/0G/eHc8T9JxEEdiczxP5Dc2eTeyfE/+wrXTkLA8T9pRzAWdcPxP0QltKmex/E/0b78oY3N8T+Ir0jsiNHxP7dhhD+01PE/+ANqZ4LZ8T/HpwdKdt/xP6o7suNp4/E/zpIwyT7S8T/gYkw1jMrxP7B/fFRQ0fE/iq/VCInZ8T/lIEaPqejxP2nWTOgU7vE/9loUBV0B8j//dRAjePLxP45paU1p9fE/P+yQPP/y8T/OzSeYD+7xP5ns9BW4+/E/9rrvmf/28T/ycY+APPnxP6CAIyF3AvI/OT1GMF8V8j+2F/9mjxryP0mxRpr+CvI/q8irNakF8j8ZW1AISQfyP9UKHzhtBvI/H28wqqwP8j9uHRjjaxryP8VTO8NcFPI/p15fPiEi8j/KZR3L2xryPyV61oLcHfI/Svbn4AUk8j99Uf6XrjnyPy34thL+NPI//inDxnA78j93SPD7rEnyPzcxhQnFSvI/2/DTDlBS8j/ymBFlPWDyP7Qh7baqXPI/zay4rwtT8j/l0dCo21jyP9yYx74YVPI/crsTI6RG8j+8NWmalVLyP1VLqZlEXPI/dMa31TBN8j+upPPRZFHyP2Xg3ae1XvI/AR3faQ1Z8j/2tE9RJmbyP4uVYfsLV/I/587hpMlS8j/iTNUzP1DyP4gnWGpOVvI/a/l10nBa8j8IoFDNLWLyP2zxv9mYVPI/DD2JmUxn8j9/1QElpm/yP2EQHTIcafI/zzLcFl1j8j96/D6XoXDyPxq8Haxyf/I/zBqmNm128j9ogvsLsXbyP9rcXdqpe/I/BJnYsAdr8j8gZaBGemHyP0AIfh/+bfI/pFBiCEhg8j+1HzZc2mnyP8g0yf0CYPI/rXkxkgFT8j8UZUgtZUjyP+YptnrgTPI/zaeT8TNF8j+iv3ci/D3yP3b/C5RzPvI/P43QCjM38j/c9RCFTTryP0A4T29dQ/I/uWTCbUxI8j982P7rrUDyP4Z7M1A4SvI/16cUOuNJ8j9Fyv5DI1fyPyavOBg6YfI/gcyX0/Bc8j85LR+3G2XyP51uxuRBYPI/ox8Ih/5n8j9aq72dh1fyP3pGlzepX/I/Jkg3H3Nc8j/g4FZCEU7yP6tcXlSeUvI/7838dcpN8j+4qM5NcmXyP43N4b7vZ/I/",
          "dtype": "f8"
         },
         "increasing": {
          "line": {
           "color": "green"
          }
         },
         "low": {
          "_inputArray": {
           "0": 1.091240383941596,
           "1": 1.093320044541935,
           "10": 1.096417081112007,
           "100": 1.150330659798583,
           "101": 1.147516672812775,
           "102": 1.1428992474722317,
           "103": 1.1398684351619357,
           "104": 1.140241666189431,
           "105": 1.1391586484678091,
           "106": 1.1386164692435796,
           "107": 1.1395501723020862,
           "108": 1.1369963928358613,
           "109": 1.1387633106501442,
           "11": 1.0944765710879227,
           "110": 1.1387655071254328,
           "111": 1.1394021940729175,
           "112": 1.1387998562305768,
           "113": 1.1415955582278974,
           "114": 1.1425372674110743,
           "115": 1.1442331595261384,
           "116": 1.1463603862871794,
           "117": 1.1449517140508023,
           "118": 1.1469665400036615,
           "119": 1.144709083818975,
           "12": 1.095337172548718,
           "120": 1.1476666481338187,
           "121": 1.1443635683533644,
           "122": 1.1465976158447952,
           "123": 1.1469094221992988,
           "124": 1.1421381070495338,
           "125": 1.1432817800985808,
           "126": 1.1427338677689822,
           "127": 1.1472773956793678,
           "128": 1.1485963821052108,
           "13": 1.0929479959420256,
           "14": 1.0926952254110165,
           "15": 1.0941917545030828,
           "16": 1.0957063807932566,
           "17": 1.1001645099475343,
           "18": 1.1071679627026554,
           "19": 1.1091298530940517,
           "2": 1.0945025649983686,
           "20": 1.1091994510790006,
           "21": 1.1149048408754392,
           "22": 1.1105553733012337,
           "23": 1.1057619677066184,
           "24": 1.1082081562663264,
           "25": 1.1083028339018426,
           "26": 1.1094324639582656,
           "27": 1.1095823384201786,
           "28": 1.1121080990762429,
           "29": 1.1129736822156582,
           "3": 1.0964722450414015,
           "30": 1.115031631278941,
           "31": 1.1152243921408642,
           "32": 1.114096983414841,
           "33": 1.1127218027879364,
           "34": 1.110302646167631,
           "35": 1.1119273937365166,
           "36": 1.1118018530904026,
           "37": 1.1161332563160256,
           "38": 1.1180203617276372,
           "39": 1.1236234863520072,
           "4": 1.0993495079453586,
           "40": 1.1205302649359614,
           "41": 1.1206274660598254,
           "42": 1.1193030015185994,
           "43": 1.1191619605593257,
           "44": 1.121075184507326,
           "45": 1.1205543131414069,
           "46": 1.1217657518679212,
           "47": 1.1226389382363788,
           "48": 1.1281244279034346,
           "49": 1.127708388935721,
           "5": 1.0988829247195646,
           "50": 1.1262660190813965,
           "51": 1.124469411146262,
           "52": 1.1251689926094854,
           "53": 1.124629260342797,
           "54": 1.1254664665461038,
           "55": 1.128955590152033,
           "56": 1.127054852566875,
           "57": 1.1314363464783277,
           "58": 1.1301868153084884,
           "59": 1.1315761456720277,
           "6": 1.094039298295039,
           "60": 1.131794417157679,
           "61": 1.1376649433739,
           "62": 1.1370315020988715,
           "63": 1.137512178609569,
           "64": 1.1388052042245314,
           "65": 1.142838491568142,
           "66": 1.1427551510017389,
           "67": 1.1457746505320037,
           "68": 1.1448091820569668,
           "69": 1.1426004163908778,
           "7": 1.098070299098591,
           "70": 1.1437497349014094,
           "71": 1.1418915458333645,
           "72": 1.1387183763856052,
           "73": 1.1438468811657372,
           "74": 1.146554473843832,
           "75": 1.1411096218628216,
           "76": 1.1439674231832802,
           "77": 1.1470402345262825,
           "78": 1.1448768923075476,
           "79": 1.1465303784504532,
           "8": 1.0934849143340617,
           "80": 1.1434347309289965,
           "81": 1.1422695844616788,
           "82": 1.1409447991543284,
           "83": 1.1437573145250526,
           "84": 1.1453547224612997,
           "85": 1.1467695777998863,
           "86": 1.1442045755111283,
           "87": 1.1482539774485527,
           "88": 1.1510527090622018,
           "89": 1.1485061072400924,
           "9": 1.0946044903945251,
           "90": 1.148067708089845,
           "91": 1.1509237093856837,
           "92": 1.1538600905741236,
           "93": 1.1514155969048545,
           "94": 1.1501637375149796,
           "95": 1.1538211656384234,
           "96": 1.1476162122015274,
           "97": 1.1457830582513857,
           "98": 1.1483267130860004,
           "99": 1.14627918056921,
           "bdata": "gagRerh18T/p5rUoPX7xP9HlIB8Vg/E/08oWeyaL8T/v+3eC75bxP5Da/EIGlfE/qXTrWS+B8T/wZXUpspHxPxu/mwnqfvE/p8mE/3+D8T/6bSKj7IrxPzv5cN35gvE/owljRYCG8T+9y6wJt3zxP64rGv2te/E/MUySNs+B8T+xaPhpA4jxP8gc5xlGmvE/JsrvwPW28T9Y5uDx/r7xP+IBcuxHv/E/vmRbdabW8T8qnQu21cTxP1leB3YzsfE/dDDFeTi78T+zwprAm7vxP6gkXUE8wPE/8L37aNnA8T8WY7LcMcvxP5fM5n29zvE/y5NlaCvX8T/UJD+I9dfxP4hsxVtX0/E/WVOIYLXN8T9bPB+1zMPxP2f/+WB0yvE/1HxqvfDJ8T9fr52LrtvxP94dnlFp4/E/1WPunlz68T8vQKEkse3xP+2e2xAX7vE/cmSdQ6ro8T8FeThfFujxP98OXYjs7/E/algFXMrt8T+quiClwPLxPwUQTz9U9vE/lp86M8wM8j/XdZ7zFwvyP7XPaIQvBfI/85sjo9P98T8zspszsQDyP3HAVEB7/vE/jvYoIOkB8j8GbqW8MxDyP1AqSatqCPI/EBWa/1wa8j/07CHFPhXyP36FqZbvGvI/Q813dtQb8j+ki9kn4DPyPyGVwPFHMfI/gOBe+D8z8j8di0rOizjyP4BSngMRSfI/SjUOoLlI8j+87snMF1XyP96F0W4jUfI/g7fMXxdI8j8TXaOFzEzyP1TuzhEwRfI/5OKewjA48j+m0CNjMk3yPzHeA4FJWPI/89OwKfxB8j9vL+TIsE3yP+zIZ9xGWvI/M4OmbmpR8j8PC/U8MFjyP6g1ZzeCS/I/nKfHeLxG8j/Li25VT0HyP1oiR3jUTPI/o6U0eV9T8j/9K4sOK1nyP84P/HSpTvI/mEsKkD9f8j9MT9Y+tmryP7OjnfBHYPI/1W69Pnxe8j9SCsD6LmryP67Okv81dvI/gPjMwjJs8j9fwFoXEmfyPxOYvS4NdvI/Qz080aJc8j9QAridIFXyP6I93dSLX/I/RBaK1ihX8j97vDYfwWfyP5WHVXE6XPI/i0KouFBJ8j8cNiyv5jzyP1sfnQtuPvI/L/9Ba/458j8faSHnxTfyP5wEI/aYO/I/X2YuISMx8j9uCJLgXzjyP1mqLi5iOPI/jYqIy/068j+AMrMyhjjyPxyQPbT5Q/I/S95fKNVH8j/CnfJtx07yP6eICP19V/I/tI5147hR8j+FwC6W+VnyP2b85ni6UPI/dB0HtNdc8j8n/EwsUE/yP3eZ2712WPI/uR+9sb1Z8j+EsJSbMkbyP1Yt+tXhSvI/ApfhTqNI8j+CIN6KP1vyP/8hl5mmYPI/",
           "dtype": "f8",
           "shape": "129"
          },
          "bdata": "gagRerh18T/p5rUoPX7xP9HlIB8Vg/E/08oWeyaL8T/v+3eC75bxP5Da/EIGlfE/qXTrWS+B8T/wZXUpspHxPxu/mwnqfvE/p8mE/3+D8T/6bSKj7IrxPzv5cN35gvE/owljRYCG8T+9y6wJt3zxP64rGv2te/E/MUySNs+B8T+xaPhpA4jxP8gc5xlGmvE/JsrvwPW28T9Y5uDx/r7xP+IBcuxHv/E/vmRbdabW8T8qnQu21cTxP1leB3YzsfE/dDDFeTi78T+zwprAm7vxP6gkXUE8wPE/8L37aNnA8T8WY7LcMcvxP5fM5n29zvE/y5NlaCvX8T/UJD+I9dfxP4hsxVtX0/E/WVOIYLXN8T9bPB+1zMPxP2f/+WB0yvE/1HxqvfDJ8T9fr52LrtvxP94dnlFp4/E/1WPunlz68T8vQKEkse3xP+2e2xAX7vE/cmSdQ6ro8T8FeThfFujxP98OXYjs7/E/algFXMrt8T+quiClwPLxPwUQTz9U9vE/lp86M8wM8j/XdZ7zFwvyP7XPaIQvBfI/85sjo9P98T8zspszsQDyP3HAVEB7/vE/jvYoIOkB8j8GbqW8MxDyP1AqSatqCPI/EBWa/1wa8j/07CHFPhXyP36FqZbvGvI/Q813dtQb8j+ki9kn4DPyPyGVwPFHMfI/gOBe+D8z8j8di0rOizjyP4BSngMRSfI/SjUOoLlI8j+87snMF1XyP96F0W4jUfI/g7fMXxdI8j8TXaOFzEzyP1TuzhEwRfI/5OKewjA48j+m0CNjMk3yPzHeA4FJWPI/89OwKfxB8j9vL+TIsE3yP+zIZ9xGWvI/M4OmbmpR8j8PC/U8MFjyP6g1ZzeCS/I/nKfHeLxG8j/Li25VT0HyP1oiR3jUTPI/o6U0eV9T8j/9K4sOK1nyP84P/HSpTvI/mEsKkD9f8j9MT9Y+tmryP7OjnfBHYPI/1W69Pnxe8j9SCsD6LmryP67Okv81dvI/gPjMwjJs8j9fwFoXEmfyPxOYvS4NdvI/Qz080aJc8j9QAridIFXyP6I93dSLX/I/RBaK1ihX8j97vDYfwWfyP5WHVXE6XPI/i0KouFBJ8j8cNiyv5jzyP1sfnQtuPvI/L/9Ba/458j8faSHnxTfyP5wEI/aYO/I/X2YuISMx8j9uCJLgXzjyP1mqLi5iOPI/jYqIy/068j+AMrMyhjjyPxyQPbT5Q/I/S95fKNVH8j/CnfJtx07yP6eICP19V/I/tI5147hR8j+FwC6W+VnyP2b85ni6UPI/dB0HtNdc8j8n/EwsUE/yP3eZ2712WPI/uR+9sb1Z8j+EsJSbMkbyP1Yt+tXhSvI/ApfhTqNI8j+CIN6KP1vyP/8hl5mmYPI/",
          "dtype": "f8"
         },
         "open": {
          "_inputArray": {
           "0": 1.0931186182311754,
           "1": 1.0941019682365287,
           "10": 1.097518473547086,
           "100": 1.150399188177006,
           "101": 1.1477053562617296,
           "102": 1.1441942706795445,
           "103": 1.141405118350204,
           "104": 1.1429376059265337,
           "105": 1.1414012991437732,
           "106": 1.1390832289920865,
           "107": 1.13999047859763,
           "108": 1.1375772570199407,
           "109": 1.1390340237701,
           "11": 1.0963095043495008,
           "110": 1.141250825559165,
           "111": 1.1412943308304595,
           "112": 1.1399331685227352,
           "113": 1.142746615604343,
           "114": 1.143022991298254,
           "115": 1.1445652976868312,
           "116": 1.1479510573779037,
           "117": 1.146221763464378,
           "118": 1.1483403029676469,
           "119": 1.1483780544807438,
           "12": 1.0971545628464838,
           "120": 1.1483288420728357,
           "121": 1.1447076710113624,
           "122": 1.1468761906904597,
           "123": 1.1473135434546404,
           "124": 1.1439333426109617,
           "125": 1.1447044819438528,
           "126": 1.1438560973655858,
           "127": 1.149056544851532,
           "128": 1.1495114781095055,
           "13": 1.0950331118418353,
           "14": 1.0933771169292434,
           "15": 1.0953830592791447,
           "16": 1.0960470149088253,
           "17": 1.1015703370543604,
           "18": 1.1082116233186092,
           "19": 1.1095308698759403,
           "2": 1.0957758343521191,
           "20": 1.1120946991175926,
           "21": 1.1149275325259045,
           "22": 1.1105868475451066,
           "23": 1.1092170669385593,
           "24": 1.108777207008882,
           "25": 1.109886163628568,
           "26": 1.1099914415222214,
           "27": 1.1102688046477922,
           "28": 1.1130775589145243,
           "29": 1.1135467752209942,
           "3": 1.0978197601269633,
           "30": 1.115372791489741,
           "31": 1.1164375107339897,
           "32": 1.1159683429909837,
           "33": 1.1131139159202683,
           "34": 1.1105502420130546,
           "35": 1.1127260737905995,
           "36": 1.1119911626611725,
           "37": 1.1164100819407854,
           "38": 1.1193351776908655,
           "39": 1.1238545318946345,
           "4": 1.0996163280479867,
           "40": 1.1211689658964603,
           "41": 1.12197882287802,
           "42": 1.1204044943510385,
           "43": 1.120298681102866,
           "44": 1.1229475306122547,
           "45": 1.122472570506197,
           "46": 1.1218966653893934,
           "47": 1.124190064019235,
           "48": 1.129367076465711,
           "49": 1.1295289954809815,
           "5": 1.0993285265686887,
           "50": 1.1263027308455338,
           "51": 1.1255066226271546,
           "52": 1.1259109687096007,
           "53": 1.1261298752953472,
           "54": 1.1264919657360997,
           "55": 1.1303921884682575,
           "56": 1.1281163106693124,
           "57": 1.1327273383724294,
           "58": 1.1314426867104836,
           "59": 1.1316482564423025,
           "6": 1.0961957859474678,
           "60": 1.133335325643805,
           "61": 1.1378792013618515,
           "62": 1.1373564978240942,
           "63": 1.1389086133800843,
           "64": 1.1400485555729247,
           "65": 1.143205172763358,
           "66": 1.1436886915903204,
           "67": 1.1484350798344762,
           "68": 1.145873755304385,
           "69": 1.1444537073297394,
           "7": 1.0985652165689996,
           "70": 1.144037131356335,
           "71": 1.143322819929072,
           "72": 1.1407366299991146,
           "73": 1.1449875207425906,
           "74": 1.147062932283755,
           "75": 1.1416389586107891,
           "76": 1.14432738094847,
           "77": 1.1470411983822857,
           "78": 1.1454883641604294,
           "79": 1.148890538947294,
           "8": 1.093556684305395,
           "80": 1.1447013863883615,
           "81": 1.1431602670188123,
           "82": 1.143946392195064,
           "83": 1.1457732394224696,
           "84": 1.1461005604294303,
           "85": 1.147211339707514,
           "86": 1.145346536296672,
           "87": 1.1496896086585748,
           "88": 1.1513179369028528,
           "89": 1.1494513315587296,
           "9": 1.0960145473925655,
           "90": 1.1491174325218958,
           "91": 1.1522631083206123,
           "92": 1.1542314107092495,
           "93": 1.1525986056589683,
           "94": 1.15045656821722,
           "95": 1.154578729351968,
           "96": 1.148877123539686,
           "97": 1.14715801471203,
           "98": 1.1500546888428254,
           "99": 1.1471933421199372,
           "bdata": "yTm/8ml98T+9CsEQcYHxP6ahxD1MiPE/r13qc6uQ8T/C0XFKB5jxPxfCUoLZlvE/rISqlwSK8T///doeuZPxPzSfNks1f/E/adzPjEaJ8T/MP+qHb4/xP+mZt9V7ivE/QFNh8fGN8T9cXbZwQYXxP3B+9gB5fvE/RiQDY7CG8T/alj6YaInxP1lGvjcIoPE/PTVzHDy78T9DUABxo8DxP4Y9rM8jy/E/Yr2ZQL7W8T/8Ltm29sTxP5KoKmVav/E/NHQqK4298T/oFHH+F8LxP2zYwmKGwvE/U7PbOKnD8T+5MBdqKs/xPzc/YmwW0fE/I7/kI5HY8T8IFUqU7dzxPwhICJ8B2/E/ypmZiVDP8T/fLKBU0MTxP8tkBdu5zfE/zSHRPrfK8T8CxG3R0NzxPyYd1wDM6PE/dy6/40778T8HDJ3eTvDxP/8M8RCg8/E/TndYQy3t8T99a1FPvuzxP1GocdSX9/E/4LJPzKX18T8ibPXqSfPxP1E2d7iu/PE/+5YpNuMR8j+/l/f+jBLyP24IJgNWBfI/N9d5OxMC8j/wC004uwPyP70Sl8KgBPI/XLGAcBwG8j8kAJIeFhbyP76KRrDDDPI/74OZs6Yf8j+3hIulYxryP/nrvzM7G/I/nKrwOCQi8j8wXUrSwDTyP+PCILqcMvI/TJr5PPg48j+gmuCNoz3yP7sv2oGRSvI/ofdyg4xM8j/ZfVd2/V/yP1sIBrh/VfI/ZUbMsK5P8j+hXAnh+U3yP5Hahd4MS/I/kCBzDXVA8j9Hrj5v3lHyPyzNSaleWvI/VypxNidE8j/JdFE6Kk/yPw13I99HWvI/BUhgm+tT8j8qZrcL22HyP/uUo2ayUPI/OOuOa2JK8j8Krm27mk3yP0g5/1EWVfI/+4uPim1W8j9QThpH+lryP4Syv+NWU/I/edVb7iBl8j8wvGRbzGvyP982VhQnZPI/1x7/9chi8j9H/elwq2/yP9oxEFu7d/I/C4dLPAtx8j+0YX8lRWjyP0CVs4snefI/qZuL+sxh8j/whMhcwlryP/AP076fZvI/T4HpZ+da8j8FC6n6CGjyPxhpqUoAXfI/bW3Npp5O8j900WwDMkPyPwArbfF4SfI/YfM2Ai5D8j/mFv9VrznyP1hA9admPfI/PC+5NYQz8j9b+5G9eznyPy70xDmQQvI/tW4g2L1C8j+T5OaPKj3yP1cq2qywSPI/xjvjedJJ8j8eOZuzI1DyPyaMje0BXvI/7q/AoexW8j/hy94Uml/yP70Ft6rBX/I/IBpcEI5f8j8Ilqf9uFDyP7A5OdmaWfI/MlQ2cmVb8j+1FnUMjU3yPxiJmKW1UPI/Aj8YDTxN8j/9RZYdiWLyPw22zSVmZPI/",
           "dtype": "f8",
           "shape": "129"
          },
          "bdata": "yTm/8ml98T+9CsEQcYHxP6ahxD1MiPE/r13qc6uQ8T/C0XFKB5jxPxfCUoLZlvE/rISqlwSK8T///doeuZPxPzSfNks1f/E/adzPjEaJ8T/MP+qHb4/xP+mZt9V7ivE/QFNh8fGN8T9cXbZwQYXxP3B+9gB5fvE/RiQDY7CG8T/alj6YaInxP1lGvjcIoPE/PTVzHDy78T9DUABxo8DxP4Y9rM8jy/E/Yr2ZQL7W8T/8Ltm29sTxP5KoKmVav/E/NHQqK4298T/oFHH+F8LxP2zYwmKGwvE/U7PbOKnD8T+5MBdqKs/xPzc/YmwW0fE/I7/kI5HY8T8IFUqU7dzxPwhICJ8B2/E/ypmZiVDP8T/fLKBU0MTxP8tkBdu5zfE/zSHRPrfK8T8CxG3R0NzxPyYd1wDM6PE/dy6/40778T8HDJ3eTvDxP/8M8RCg8/E/TndYQy3t8T99a1FPvuzxP1GocdSX9/E/4LJPzKX18T8ibPXqSfPxP1E2d7iu/PE/+5YpNuMR8j+/l/f+jBLyP24IJgNWBfI/N9d5OxMC8j/wC004uwPyP70Sl8KgBPI/XLGAcBwG8j8kAJIeFhbyP76KRrDDDPI/74OZs6Yf8j+3hIulYxryP/nrvzM7G/I/nKrwOCQi8j8wXUrSwDTyP+PCILqcMvI/TJr5PPg48j+gmuCNoz3yP7sv2oGRSvI/ofdyg4xM8j/ZfVd2/V/yP1sIBrh/VfI/ZUbMsK5P8j+hXAnh+U3yP5Hahd4MS/I/kCBzDXVA8j9Hrj5v3lHyPyzNSaleWvI/VypxNidE8j/JdFE6Kk/yPw13I99HWvI/BUhgm+tT8j8qZrcL22HyP/uUo2ayUPI/OOuOa2JK8j8Krm27mk3yP0g5/1EWVfI/+4uPim1W8j9QThpH+lryP4Syv+NWU/I/edVb7iBl8j8wvGRbzGvyP982VhQnZPI/1x7/9chi8j9H/elwq2/yP9oxEFu7d/I/C4dLPAtx8j+0YX8lRWjyP0CVs4snefI/qZuL+sxh8j/whMhcwlryP/AP076fZvI/T4HpZ+da8j8FC6n6CGjyPxhpqUoAXfI/bW3Npp5O8j900WwDMkPyPwArbfF4SfI/YfM2Ai5D8j/mFv9VrznyP1hA9admPfI/PC+5NYQz8j9b+5G9eznyPy70xDmQQvI/tW4g2L1C8j+T5OaPKj3yP1cq2qywSPI/xjvjedJJ8j8eOZuzI1DyPyaMje0BXvI/7q/AoexW8j/hy94Uml/yP70Ft6rBX/I/IBpcEI5f8j8Ilqf9uFDyP7A5OdmaWfI/MlQ2cmVb8j+1FnUMjU3yPxiJmKW1UPI/Aj8YDTxN8j/9RZYdiWLyPw22zSVmZPI/",
          "dtype": "f8"
         },
         "type": "candlestick",
         "whiskerwidth": 0.3,
         "x": [
          "2025-01-01T00:00:00",
          "2025-01-02T00:00:00",
          "2025-01-03T00:00:00",
          "2025-01-06T00:00:00",
          "2025-01-07T00:00:00",
          "2025-01-08T00:00:00",
          "2025-01-09T00:00:00",
          "2025-01-10T00:00:00",
          "2025-01-13T00:00:00",
          "2025-01-14T00:00:00",
          "2025-01-15T00:00:00",
          "2025-01-16T00:00:00",
          "2025-01-17T00:00:00",
          "2025-01-20T00:00:00",
          "2025-01-21T00:00:00",
          "2025-01-22T00:00:00",
          "2025-01-23T00:00:00",
          "2025-01-24T00:00:00",
          "2025-01-27T00:00:00",
          "2025-01-28T00:00:00",
          "2025-01-29T00:00:00",
          "2025-01-30T00:00:00",
          "2025-01-31T00:00:00",
          "2025-02-03T00:00:00",
          "2025-02-04T00:00:00",
          "2025-02-05T00:00:00",
          "2025-02-06T00:00:00",
          "2025-02-07T00:00:00",
          "2025-02-10T00:00:00",
          "2025-02-11T00:00:00",
          "2025-02-12T00:00:00",
          "2025-02-13T00:00:00",
          "2025-02-14T00:00:00",
          "2025-02-17T00:00:00",
          "2025-02-18T00:00:00",
          "2025-02-19T00:00:00",
          "2025-02-20T00:00:00",
          "2025-02-21T00:00:00",
          "2025-02-24T00:00:00",
          "2025-02-25T00:00:00",
          "2025-02-26T00:00:00",
          "2025-02-27T00:00:00",
          "2025-02-28T00:00:00",
          "2025-03-03T00:00:00",
          "2025-03-04T00:00:00",
          "2025-03-05T00:00:00",
          "2025-03-06T00:00:00",
          "2025-03-07T00:00:00",
          "2025-03-10T00:00:00",
          "2025-03-11T00:00:00",
          "2025-03-12T00:00:00",
          "2025-03-13T00:00:00",
          "2025-03-14T00:00:00",
          "2025-03-17T00:00:00",
          "2025-03-18T00:00:00",
          "2025-03-19T00:00:00",
          "2025-03-20T00:00:00",
          "2025-03-21T00:00:00",
          "2025-03-24T00:00:00",
          "2025-03-25T00:00:00",
          "2025-03-26T00:00:00",
          "2025-03-27T00:00:00",
          "2025-03-28T00:00:00",
          "2025-03-31T00:00:00",
          "2025-04-01T00:00:00",
          "2025-04-02T00:00:00",
          "2025-04-03T00:00:00",
          "2025-04-04T00:00:00",
          "2025-04-07T00:00:00",
          "2025-04-08T00:00:00",
          "2025-04-09T00:00:00",
          "2025-04-10T00:00:00",
          "2025-04-11T00:00:00",
          "2025-04-14T00:00:00",
          "2025-04-15T00:00:00",
          "2025-04-16T00:00:00",
          "2025-04-17T00:00:00",
          "2025-04-18T00:00:00",
          "2025-04-21T00:00:00",
          "2025-04-22T00:00:00",
          "2025-04-23T00:00:00",
          "2025-04-24T00:00:00",
          "2025-04-25T00:00:00",
          "2025-04-28T00:00:00",
          "2025-04-29T00:00:00",
          "2025-04-30T00:00:00",
          "2025-05-01T00:00:00",
          "2025-05-02T00:00:00",
          "2025-05-05T00:00:00",
          "2025-05-06T00:00:00",
          "2025-05-07T00:00:00",
          "2025-05-08T00:00:00",
          "2025-05-09T00:00:00",
          "2025-05-12T00:00:00",
          "2025-05-13T00:00:00",
          "2025-05-14T00:00:00",
          "2025-05-15T00:00:00",
          "2025-05-16T00:00:00",
          "2025-05-19T00:00:00",
          "2025-05-20T00:00:00",
          "2025-05-21T00:00:00",
          "2025-05-22T00:00:00",
          "2025-05-23T00:00:00",
          "2025-05-26T00:00:00",
          "2025-05-27T00:00:00",
          "2025-05-28T00:00:00",
          "2025-05-29T00:00:00",
          "2025-05-30T00:00:00",
          "2025-06-02T00:00:00",
          "2025-06-03T00:00:00",
          "2025-06-04T00:00:00",
          "2025-06-05T00:00:00",
          "2025-06-06T00:00:00",
          "2025-06-09T00:00:00",
          "2025-06-10T00:00:00",
          "2025-06-11T00:00:00",
          "2025-06-12T00:00:00",
          "2025-06-13T00:00:00",
          "2025-06-16T00:00:00",
          "2025-06-17T00:00:00",
          "2025-06-18T00:00:00",
          "2025-06-19T00:00:00",
          "2025-06-20T00:00:00",
          "2025-06-23T00:00:00",
          "2025-06-24T00:00:00",
          "2025-06-25T00:00:00",
          "2025-06-26T00:00:00",
          "2025-06-27T00:00:00",
          "2025-06-30T00:00:00"
         ]
        }
       ],
       "layout": {
        "height": 500,
        "template": {
         "data": {
          "bar": [
           {
            "error_x": {
             "color": "#2a3f5f"
            },
            "error_y": {
             "color": "#2a3f5f"
            },
            "marker": {
             "line": {
              "color": "white",
              "width": 0.5
             },
             "pattern": {
              "fillmode": "overlay",
              "size": 10,
              "solidity": 0.2
             }
            },
            "type": "bar"
           }
          ],
          "barpolar": [
           {
            "marker": {
             "line": {
              "color": "white",
              "width": 0.5
             },
             "pattern": {
              "fillmode": "overlay",
              "size": 10,
              "solidity": 0.2
             }
            },
            "type": "barpolar"
           }
          ],
          "carpet": [
           {
            "aaxis": {
             "endlinecolor": "#2a3f5f",
             "gridcolor": "#C8D4E3",
             "linecolor": "#C8D4E3",
             "minorgridcolor": "#C8D4E3",
             "startlinecolor": "#2a3f5f"
            },
            "baxis": {
             "endlinecolor": "#2a3f5f",
             "gridcolor": "#C8D4E3",
             "linecolor": "#C8D4E3",
             "minorgridcolor": "#C8D4E3",
             "startlinecolor": "#2a3f5f"
            },
            "type": "carpet"
           }
          ],
          "choropleth": [
           {
            "colorbar": {
             "outlinewidth": 0,
             "ticks": ""
            },
            "type": "choropleth"
           }
          ],
          "contour": [
           {
            "colorbar": {
             "outlinewidth": 0,
             "ticks": ""
            },
            "colorscale": [
             [
              0,
              "#0d0887"
             ],
             [
              0.1111111111111111,
              "#46039f"
             ],
             [
              0.2222222222222222,
              "#7201a8"
             ],
             [
              0.3333333333333333,
              "#9c179e"
             ],
             [
              0.4444444444444444,
              "#bd3786"
             ],
             [
              0.5555555555555556,
              "#d8576b"
             ],
             [
              0.6666666666666666,
              "#ed7953"
             ],
             [
              0.7777777777777778,
              "#fb9f3a"
             ],
             [
              0.8888888888888888,
              "#fdca26"
             ],
             [
              1,
              "#f0f921"
             ]
            ],
            "type": "contour"
           }
          ],
          "contourcarpet": [
           {
            "colorbar": {
             "outlinewidth": 0,
             "ticks": ""
            },
            "type": "contourcarpet"
           }
          ],
          "heatmap": [
           {
            "colorbar": {
             "outlinewidth": 0,
             "ticks": ""
            },
            "colorscale": [
             [
              0,
              "#0d0887"
             ],
             [
              0.1111111111111111,
              "#46039f"
             ],
             [
              0.2222222222222222,
              "#7201a8"
             ],
             [
              0.3333333333333333,
              "#9c179e"
             ],
             [
              0.4444444444444444,
              "#bd3786"
             ],
             [
              0.5555555555555556,
              "#d8576b"
             ],
             [
              0.6666666666666666,
              "#ed7953"
             ],
             [
              0.7777777777777778,
              "#fb9f3a"
             ],
             [
              0.8888888888888888,
              "#fdca26"
             ],
             [
              1,
              "#f0f921"
             ]
            ],
            "type": "heatmap"
           }
          ],
          "histogram": [
           {
            "marker": {
             "pattern": {
              "fillmode": "overlay",
              "size": 10,
              "solidity": 0.2
             }
            },
            "type": "histogram"
           }
          ],
          "histogram2d": [
           {
            "colorbar": {
             "outlinewidth": 0,
             "ticks": ""
            },
            "colorscale": [
             [
              0,
              "#0d0887"
             ],
             [
              0.1111111111111111,
              "#46039f"
             ],
             [
              0.2222222222222222,
              "#7201a8"
             ],
             [
              0.3333333333333333,
              "#9c179e"
             ],
             [
              0.4444444444444444,
              "#bd3786"
             ],
             [
              0.5555555555555556,
              "#d8576b"
             ],
             [
              0.6666666666666666,
              "#ed7953"
             ],
             [
              0.7777777777777778,
              "#fb9f3a"
             ],
             [
              0.8888888888888888,
              "#fdca26"
             ],
             [
              1,
              "#f0f921"
             ]
            ],
            "type": "histogram2d"
           }
          ],
          "histogram2dcontour": [
           {
            "colorbar": {
             "outlinewidth": 0,
             "ticks": ""
            },
            "colorscale": [
             [
              0,
              "#0d0887"
             ],
             [
              0.1111111111111111,
              "#46039f"
             ],
             [
              0.2222222222222222,
              "#7201a8"
             ],
             [
              0.3333333333333333,
              "#9c179e"
             ],
             [
              0.4444444444444444,
              "#bd3786"
             ],
             [
              0.5555555555555556,
              "#d8576b"
             ],
             [
              0.6666666666666666,
              "#ed7953"
             ],
             [
              0.7777777777777778,
              "#fb9f3a"
             ],
             [
              0.8888888888888888,
              "#fdca26"
             ],
             [
              1,
              "#f0f921"
             ]
            ],
            "type": "histogram2dcontour"
           }
          ],
          "mesh3d": [
           {
            "colorbar": {
             "outlinewidth": 0,
             "ticks": ""
            },
            "type": "mesh3d"
           }
          ],
          "parcoords": [
           {
            "line": {
             "colorbar": {
              "outlinewidth": 0,
              "ticks": ""
             }
            },
            "type": "parcoords"
           }
          ],
          "pie": [
           {
            "automargin": true,
            "type": "pie"
           }
          ],
          "scatter": [
           {
            "fillpattern": {
             "fillmode": "overlay",
             "size": 10,
             "solidity": 0.2
            },
            "type": "scatter"
           }
          ],
          "scatter3d": [
           {
            "line": {
             "colorbar": {
              "outlinewidth": 0,
              "ticks": ""
             }
            },
            "marker": {
             "colorbar": {
              "outlinewidth": 0,
              "ticks": ""
             }
            },
            "type": "scatter3d"
           }
          ],
          "scattercarpet": [
           {
            "marker": {
             "colorbar": {
              "outlinewidth": 0,
              "ticks": ""
             }
            },
            "type": "scattercarpet"
           }
          ],
          "scattergeo": [
           {
            "marker": {
             "colorbar": {
              "outlinewidth": 0,
              "ticks": ""
             }
            },
            "type": "scattergeo"
           }
          ],
          "scattergl": [
           {
            "marker": {
             "colorbar": {
              "outlinewidth": 0,
              "ticks": ""
             }
            },
            "type": "scattergl"
           }
          ],
          "scattermap": [
           {
            "marker": {
             "colorbar": {
              "outlinewidth": 0,
              "ticks": ""
             }
            },
            "type": "scattermap"
           }
          ],
          "scattermapbox": [
           {
            "marker": {
             "colorbar": {
              "outlinewidth": 0,
              "ticks": ""
             }
            },
            "type": "scattermapbox"
           }
          ],
          "scatterpolar": [
           {
            "marker": {
             "colorbar": {
              "outlinewidth": 0,
              "ticks": ""
             }
            },
            "type": "scatterpolar"
           }
          ],
          "scatterpolargl": [
           {
            "marker": {
             "colorbar": {
              "outlinewidth": 0,
              "ticks": ""
             }
            },
            "type": "scatterpolargl"
           }
          ],
          "scatterternary": [
           {
            "marker": {
             "colorbar": {
              "outlinewidth": 0,
              "ticks": ""
             }
            },
            "type": "scatterternary"
           }
          ],
          "surface": [
           {
            "colorbar": {
             "outlinewidth": 0,
             "ticks": ""
            },
            "colorscale": [
             [
              0,
              "#0d0887"
             ],
             [
              0.1111111111111111,
              "#46039f"
             ],
             [
              0.2222222222222222,
              "#7201a8"
             ],
             [
              0.3333333333333333,
              "#9c179e"
             ],
             [
              0.4444444444444444,
              "#bd3786"
             ],
             [
              0.5555555555555556,
              "#d8576b"
             ],
             [
              0.6666666666666666,
              "#ed7953"
             ],
             [
              0.7777777777777778,
              "#fb9f3a"
             ],
             [
              0.8888888888888888,
              "#fdca26"
             ],
             [
              1,
              "#f0f921"
             ]
            ],
            "type": "surface"
           }
          ],
          "table": [
           {
            "cells": {
             "fill": {
              "color": "#EBF0F8"
             },
             "line": {
              "color": "white"
             }
            },
            "header": {
             "fill": {
              "color": "#C8D4E3"
             },
             "line": {
              "color": "white"
             }
            },
            "type": "table"
           }
          ]
         },
         "layout": {
          "annotationdefaults": {
           "arrowcolor": "#2a3f5f",
           "arrowhead": 0,
           "arrowwidth": 1
          },
          "autotypenumbers": "strict",
          "coloraxis": {
           "colorbar": {
            "outlinewidth": 0,
            "ticks": ""
           }
          },
          "colorscale": {
           "diverging": [
            [
             0,
             "#8e0152"
            ],
            [
             0.1,
             "#c51b7d"
            ],
            [
             0.2,
             "#de77ae"
            ],
            [
             0.3,
             "#f1b6da"
            ],
            [
             0.4,
             "#fde0ef"
            ],
            [
             0.5,
             "#f7f7f7"
            ],
            [
             0.6,
             "#e6f5d0"
            ],
            [
             0.7,
             "#b8e186"
            ],
            [
             0.8,
             "#7fbc41"
            ],
            [
             0.9,
             "#4d9221"
            ],
            [
             1,
             "#276419"
            ]
           ],
           "sequential": [
            [
             0,
             "#0d0887"
            ],
            [
             0.1111111111111111,
             "#46039f"
            ],
            [
             0.2222222222222222,
             "#7201a8"
            ],
            [
             0.3333333333333333,
             "#9c179e"
            ],
            [
             0.4444444444444444,
             "#bd3786"
            ],
            [
             0.5555555555555556,
             "#d8576b"
            ],
            [
             0.6666666666666666,
             "#ed7953"
            ],
            [
             0.7777777777777778,
             "#fb9f3a"
            ],
            [
             0.8888888888888888,
             "#fdca26"
            ],
            [
             1,
             "#f0f921"
            ]
           ],
           "sequentialminus": [
            [
             0,
             "#0d0887"
            ],
            [
             0.1111111111111111,
             "#46039f"
            ],
            [
             0.2222222222222222,
             "#7201a8"
            ],
            [
             0.3333333333333333,
             "#9c179e"
            ],
            [
             0.4444444444444444,
             "#bd3786"
            ],
            [
             0.5555555555555556,
             "#d8576b"
            ],
            [
             0.6666666666666666,
             "#ed7953"
            ],
            [
             0.7777777777777778,
             "#fb9f3a"
            ],
            [
             0.8888888888888888,
             "#fdca26"
            ],
            [
             1,
             "#f0f921"
            ]
           ]
          },
          "colorway": [
           "#636efa",
           "#EF553B",
           "#00cc96",
           "#ab63fa",
           "#FFA15A",
           "#19d3f3",
           "#FF6692",
           "#B6E880",
           "#FF97FF",
           "#FECB52"
          ],
          "font": {
           "color": "#2a3f5f"
          },
          "geo": {
           "bgcolor": "white",
           "lakecolor": "white",
           "landcolor": "white",
           "showlakes": true,
           "showland": true,
           "subunitcolor": "#C8D4E3"
          },
          "hoverlabel": {
           "align": "left"
          },
          "hovermode": "closest",
          "mapbox": {
           "style": "light"
          },
          "paper_bgcolor": "white",
          "plot_bgcolor": "white",
          "polar": {
           "angularaxis": {
            "gridcolor": "#EBF0F8",
            "linecolor": "#EBF0F8",
            "ticks": ""
           },
           "bgcolor": "white",
           "radialaxis": {
            "gridcolor": "#EBF0F8",
            "linecolor": "#EBF0F8",
            "ticks": ""
           }
          },
          "scene": {
           "xaxis": {
            "backgroundcolor": "white",
            "gridcolor": "#DFE8F3",
            "gridwidth": 2,
            "linecolor": "#EBF0F8",
            "showbackground": true,
            "ticks": "",
            "zerolinecolor": "#EBF0F8"
           },
           "yaxis": {
            "backgroundcolor": "white",
            "gridcolor": "#DFE8F3",
            "gridwidth": 2,
            "linecolor": "#EBF0F8",
            "showbackground": true,
            "ticks": "",
            "zerolinecolor": "#EBF0F8"
           },
           "zaxis": {
            "backgroundcolor": "white",
            "gridcolor": "#DFE8F3",
            "gridwidth": 2,
            "linecolor": "#EBF0F8",
            "showbackground": true,
            "ticks": "",
            "zerolinecolor": "#EBF0F8"
           }
          },
          "shapedefaults": {
           "line": {
            "color": "#2a3f5f"
           }
          },
          "ternary": {
           "aaxis": {
            "gridcolor": "#DFE8F3",
            "linecolor": "#A2B1C6",
            "ticks": ""
           },
           "baxis": {
            "gridcolor": "#DFE8F3",
            "linecolor": "#A2B1C6",
            "ticks": ""
           },
           "bgcolor": "white",
           "caxis": {
            "gridcolor": "#DFE8F3",
            "linecolor": "#A2B1C6",
            "ticks": ""
           }
          },
          "title": {
           "x": 0.05
          },
          "xaxis": {
           "automargin": true,
           "gridcolor": "#EBF0F8",
           "linecolor": "#EBF0F8",
           "ticks": "",
           "title": {
            "standoff": 15
           },
           "zerolinecolor": "#EBF0F8",
           "zerolinewidth": 2
          },
          "yaxis": {
           "automargin": true,
           "gridcolor": "#EBF0F8",
           "linecolor": "#EBF0F8",
           "ticks": "",
           "title": {
            "standoff": 15
           },
           "zerolinecolor": "#EBF0F8",
           "zerolinewidth": 2
          }
         }
        },
        "title": {
         "text": "EURUSD Candlestick Chart (Jan-Jun 2025)"
        },
        "width": 1000,
        "xaxis": {
         "autorange": true,
         "range": [
          "2024-12-31 12:00",
          "2025-06-30 12:00"
         ],
         "rangeslider": {
          "visible": false,
          "yaxis": {}
         },
         "title": {
          "text": "Date"
         },
         "type": "date"
        },
        "yaxis": {
         "autorange": true,
         "range": [
          1.0876362264144792,
          1.1597193769568164
         ],
         "tickformat": ".4f",
         "title": {
          "text": "Price"
         }
        }
       }
      }
     },
     "metadata": {},
     "output_type": "display_data"
    }
   ],
   "source": [
    "fig.update_layout(title = \"EURUSD Candlestick Chart (Jan-Jun 2025)\",\n",
    "                  xaxis_title = \"Date\",\n",
    "                  \n",
    "      ##  yaxis_title = \"Price\", This was good too but was giving numbers upto 2 decimals, we needed to customize it to 4 hence used another approach\n",
    "                  \n",
    "                  yaxis = dict(title = \"Price\",tickformat = \".4f\"), # 4 decimals\n",
    "                  xaxis_rangeslider_visible = False,\n",
    "                  template = \"plotly_white\",\n",
    "                  width = 1000,\n",
    "                  height = 500\n",
    "                 )\n",
    "fig.show()"
   ]
  },
  {
   "cell_type": "code",
   "execution_count": null,
   "id": "8dfa56cd-b406-4cc3-9c57-d31a80086d85",
   "metadata": {},
   "outputs": [],
   "source": []
  },
  {
   "cell_type": "markdown",
   "id": "476a2fa1-02fb-440c-a30a-ea1871f448a5",
   "metadata": {},
   "source": [
    "Pattern Detection "
   ]
  },
  {
   "cell_type": "code",
   "execution_count": 6,
   "id": "43d26aaf-19df-4c14-b255-2bdd30573c93",
   "metadata": {},
   "outputs": [],
   "source": [
    "## DOJI\n",
    "\n",
    "threshold = 0.1\n",
    "\n",
    "## Calculating Body and Range\n",
    "\n",
    "df[\"Body\"] = abs(df[\"Close\"] - df[\"Open\"])\n",
    "df[\"Range\"] = df[\"High\"] - df[\"Low\"]\n",
    "\n",
    "# Detecing Doji: body very small compared to total range\n",
    "\n",
    "\n",
    "df[\"Doji\"] = (df[\"Body\"] / df[\"Range\"]) < threshold"
   ]
  },
  {
   "cell_type": "code",
   "execution_count": 7,
   "id": "d61e640f-fb5d-4cf7-b9f4-f9f58e4bc3fd",
   "metadata": {},
   "outputs": [
    {
     "data": {
      "application/vnd.plotly.v1+json": {
       "config": {
        "plotlyServerURL": "https://plot.ly"
       },
       "data": [
        {
         "close": {
          "_inputArray": {
           "0": 1.0919671245985,
           "1": 1.093737456370461,
           "10": 1.0974180833125824,
           "100": 1.150809419758868,
           "101": 1.148220144840211,
           "102": 1.1449566984479238,
           "103": 1.1418325483008618,
           "104": 1.1421361981580709,
           "105": 1.1413085596500394,
           "106": 1.1395802381381963,
           "107": 1.140056431666022,
           "108": 1.138244802887256,
           "109": 1.1390786729909552,
           "11": 1.096145581979366,
           "110": 1.1409015423570732,
           "111": 1.1419988936705108,
           "112": 1.1394977150143328,
           "113": 1.141953709407335,
           "114": 1.1425581623779362,
           "115": 1.144840735688374,
           "116": 1.1474800348892331,
           "117": 1.1467094381394078,
           "118": 1.148867728266434,
           "119": 1.1472953439222375,
           "12": 1.096817320252989,
           "120": 1.1489624621607473,
           "121": 1.145109092597111,
           "122": 1.14700293038185,
           "123": 1.1472681940826568,
           "124": 1.1432724849376654,
           "125": 1.1443074176906187,
           "126": 1.1431762413768125,
           "127": 1.1486705598318694,
           "128": 1.1493643697962392,
           "13": 1.0951201401124628,
           "14": 1.0929870470717105,
           "15": 1.0955746883448698,
           "16": 1.096251674150799,
           "17": 1.1013985674610811,
           "18": 1.1081134856605594,
           "19": 1.1100222578744066,
           "2": 1.0962073799866523,
           "20": 1.1109789214958696,
           "21": 1.1154132288088796,
           "22": 1.111348013982042,
           "23": 1.108650215443171,
           "24": 1.108513113641656,
           "25": 1.1096894332484903,
           "26": 1.1103066948387224,
           "27": 1.110967949486928,
           "28": 1.1131872142725725,
           "29": 1.1135696134608648,
           "3": 1.0976669443712084,
           "30": 1.1153665809946132,
           "31": 1.1163906967416244,
           "32": 1.115347936684401,
           "33": 1.113662762431801,
           "34": 1.111504246423671,
           "35": 1.1129161255416251,
           "36": 1.1128241922504576,
           "37": 1.1177785792386088,
           "38": 1.1185738966355314,
           "39": 1.1237655273489553,
           "4": 1.0994947392410666,
           "40": 1.1214823685990218,
           "41": 1.1221743673615,
           "42": 1.1195327558774772,
           "43": 1.1197336720764912,
           "44": 1.1224986324566952,
           "45": 1.1223071376959728,
           "46": 1.1224281898362023,
           "47": 1.1242527544199297,
           "48": 1.1298398705280783,
           "49": 1.1285142233885217,
           "5": 1.098896444129584,
           "50": 1.126825910038495,
           "51": 1.1261598637796988,
           "52": 1.126727430708009,
           "53": 1.1257288106104062,
           "54": 1.127325734126514,
           "55": 1.1300877598223569,
           "56": 1.1279730741753322,
           "57": 1.132830234521567,
           "58": 1.1301956916176077,
           "59": 1.1319218863864535,
           "6": 1.0969762516710748,
           "60": 1.1330869621667377,
           "61": 1.138497008492585,
           "62": 1.137755711804462,
           "63": 1.138531552663443,
           "64": 1.14043457589491,
           "65": 1.1432223885818449,
           "66": 1.143344487378112,
           "67": 1.1483943181555936,
           "68": 1.1460813508624528,
           "69": 1.1444268766007806,
           "7": 1.098691165044812,
           "70": 1.145094687905191,
           "71": 1.143462575036334,
           "72": 1.140205274791044,
           "73": 1.1441115135312527,
           "74": 1.1467151589214823,
           "75": 1.14156212819378,
           "76": 1.1442435618264115,
           "77": 1.1474241634196003,
           "78": 1.1450072145753545,
           "79": 1.1484391260176776,
           "8": 1.0938457444347187,
           "80": 1.1449703409668373,
           "81": 1.1439351025709896,
           "82": 1.143728765734058,
           "83": 1.1451432875776952,
           "84": 1.1463245096053938,
           "85": 1.1470782363179026,
           "86": 1.1451402462159574,
           "87": 1.1491952222360355,
           "88": 1.151061020538335,
           "89": 1.1499154339745417,
           "9": 1.0958960495773589,
           "90": 1.1486939805728662,
           "91": 1.1524123261927686,
           "92": 1.154216839971381,
           "93": 1.152154090216855,
           "94": 1.1513761986488904,
           "95": 1.1541469315509372,
           "96": 1.1494154187919137,
           "97": 1.1474482062036429,
           "98": 1.1494501752005395,
           "99": 1.146592470105778,
           "bdata": "zVIHhbJ48T96V9jY8n/xPwPT6r8QivE/7Ze/NguQ8T+AobLLh5fxP9aiE3AUlfE/qKdW+DaN8T9/WOQvPZTxP0p0M2VkgPE/cAHMS8qI8T9e3Z1DBo/xP6gZJPPPifE/Y8SCUZCM8T9dlS+ynIXxP2b+YfzffPE/B0QMU3mH8T9dmwoyP4rxP5u0sRpUn/E/3bLSNNW68T9GcfaypsLxP/rrZdWRxvE/kCi0irvY8T9RcOjaFMjxPyWCIAIIvfE/3nIkP3i88T/+TQi1ScHxP23L7fPQw/E/ZTUfVIbG8T9GBHplnc/xP/Ij+l4u0fE/bMXGoIrY8T/cBcF9vNzxP4CH+xN32PE/gK52C5DR8T+hEzytuMjxP+dGpiOBzvE/Ap1+vSDO8T+Z/J/Ka+LxP59XA76t5fE/FGDFj/H68T9QxgJ/l/HxP1WiAxxt9PE/V7bULZvp8T+7xtzaberxP7hMQyDB9fE/j4tHVPj08T+NR/dCd/XxP4m+ynTw/PE/1yja+NIT8j+DZCjuZA7yP5Jp/pp6B/I/pAaQNMAE8j8iWqZXEwfyP2nJmzb8AvI/ezOAtYYJ8j81wCDn1hTyP0ughX4tDPI/0QqTmBIg8j9ePtkTSBXyP82Auh9aHPI/Z3tgyx8h8j+eHKGjSDfyPw2ZUFU/NPI/GnWC3Gw38j/qI2tTOD/yP3U5MI+jSvI/MJ3VliNL8j92P3a40l/yP+EnCGZZVvI/2J56jpJP8j+ZBLbOTlLyPy6yv2mfS/I/hETf4kc+8j8sgNnfR07yP8dSlv7xWPI/chxvptZD8j90P0tW0k7yP/9viHDZW/I/MJDEFfNR8j9/FXu0AWDyPwZ7lWvMUfI/857k5I5N8j/VJ8WItkzyP/0UlsSBUvI/Brx1XlhX8j8gBW+1blryP3hLLZR+UvI/VJKDhxpj8j+8me71vmryP4Bh4bkNZvI/pMJ68Axh8j9nFUjoR3DyP3e2whOsd/I/xfGWIDlv8j/Bb+lyCWzyP/Kj3MVid/I/rasTbAFk8j/m+Xem8lvyP3Xi7d0lZPI/VhuPWHFY8j9vsFwjt2nyP0cnKxYcX/I/L7hyHb5R8j9hXsc08kTyP8OqKpswRvI/83elw8xC8j8Ki998uDvyP7KZGdCrPfI/OuKzLkA28j9hEwGPqjnyP8sSxvkhQfI/3yDGoaBF8j8Rp730YTvyP840t0BxRfI/uA5TEetH8j/2j+6ERFHyP1qYagYUXPI/NCzt/utY8j+sWIUgw2HyPz78z1xSW/I/Jf50diZi8j/E6HDpXVLyP9d/pr4fWvI/QzfV5DVb8j8zldMW2EryP53SeEsVT/I/GXGkK3NK8j+6sYVh9GDyP2Rmt+TLY/I/",
           "dtype": "f8",
           "shape": "129"
          },
          "bdata": "zVIHhbJ48T96V9jY8n/xPwPT6r8QivE/7Ze/NguQ8T+AobLLh5fxP9aiE3AUlfE/qKdW+DaN8T9/WOQvPZTxP0p0M2VkgPE/cAHMS8qI8T9e3Z1DBo/xP6gZJPPPifE/Y8SCUZCM8T9dlS+ynIXxP2b+YfzffPE/B0QMU3mH8T9dmwoyP4rxP5u0sRpUn/E/3bLSNNW68T9GcfaypsLxP/rrZdWRxvE/kCi0irvY8T9RcOjaFMjxPyWCIAIIvfE/3nIkP3i88T/+TQi1ScHxP23L7fPQw/E/ZTUfVIbG8T9GBHplnc/xP/Ij+l4u0fE/bMXGoIrY8T/cBcF9vNzxP4CH+xN32PE/gK52C5DR8T+hEzytuMjxP+dGpiOBzvE/Ap1+vSDO8T+Z/J/Ka+LxP59XA76t5fE/FGDFj/H68T9QxgJ/l/HxP1WiAxxt9PE/V7bULZvp8T+7xtzaberxP7hMQyDB9fE/j4tHVPj08T+NR/dCd/XxP4m+ynTw/PE/1yja+NIT8j+DZCjuZA7yP5Jp/pp6B/I/pAaQNMAE8j8iWqZXEwfyP2nJmzb8AvI/ezOAtYYJ8j81wCDn1hTyP0ughX4tDPI/0QqTmBIg8j9ePtkTSBXyP82Auh9aHPI/Z3tgyx8h8j+eHKGjSDfyPw2ZUFU/NPI/GnWC3Gw38j/qI2tTOD/yP3U5MI+jSvI/MJ3VliNL8j92P3a40l/yP+EnCGZZVvI/2J56jpJP8j+ZBLbOTlLyPy6yv2mfS/I/hETf4kc+8j8sgNnfR07yP8dSlv7xWPI/chxvptZD8j90P0tW0k7yP/9viHDZW/I/MJDEFfNR8j9/FXu0AWDyPwZ7lWvMUfI/857k5I5N8j/VJ8WItkzyP/0UlsSBUvI/Brx1XlhX8j8gBW+1blryP3hLLZR+UvI/VJKDhxpj8j+8me71vmryP4Bh4bkNZvI/pMJ68Axh8j9nFUjoR3DyP3e2whOsd/I/xfGWIDlv8j/Bb+lyCWzyP/Kj3MVid/I/rasTbAFk8j/m+Xem8lvyP3Xi7d0lZPI/VhuPWHFY8j9vsFwjt2nyP0cnKxYcX/I/L7hyHb5R8j9hXsc08kTyP8OqKpswRvI/83elw8xC8j8Ki998uDvyP7KZGdCrPfI/OuKzLkA28j9hEwGPqjnyP8sSxvkhQfI/3yDGoaBF8j8Rp730YTvyP840t0BxRfI/uA5TEetH8j/2j+6ERFHyP1qYagYUXPI/NCzt/utY8j+sWIUgw2HyPz78z1xSW/I/Jf50diZi8j/E6HDpXVLyP9d/pr4fWvI/QzfV5DVb8j8zldMW2EryP53SeEsVT/I/GXGkK3NK8j+6sYVh9GDyP2Rmt+TLY/I/",
          "dtype": "f8"
         },
         "decreasing": {
          "line": {
           "color": "red"
          }
         },
         "high": {
          "_inputArray": {
           "0": 1.0945101372922883,
           "1": 1.0942494547075925,
           "10": 1.097738355095505,
           "100": 1.1508430101402898,
           "101": 1.1484403527750136,
           "102": 1.1452651701616603,
           "103": 1.142674614797504,
           "104": 1.1437687676831216,
           "105": 1.1418952404587686,
           "106": 1.1401330324551755,
           "107": 1.1402469428139432,
           "108": 1.138476412052867,
           "109": 1.139234084882779,
           "11": 1.0966022994803462,
           "110": 1.1414465282464477,
           "111": 1.1426510131334864,
           "112": 1.1407908648084506,
           "113": 1.1431201107841118,
           "114": 1.1430389660622404,
           "115": 1.1462738662782084,
           "116": 1.148737043967182,
           "117": 1.1476906075811544,
           "118": 1.1496846345133476,
           "119": 1.1485003410843213,
           "12": 1.09798891736811,
           "120": 1.1503892206837711,
           "121": 1.146369568038344,
           "122": 1.1483547374267844,
           "123": 1.1475707263348425,
           "124": 1.144059428346786,
           "125": 1.1451705260895249,
           "126": 1.1439919098746676,
           "127": 1.1497672118517084,
           "128": 1.150375123627643,
           "13": 1.0952605719435482,
           "14": 1.0934962618916442,
           "15": 1.0962404029310286,
           "16": 1.0966592606005847,
           "17": 1.1023781797977017,
           "18": 1.1109480877636724,
           "19": 1.1110074107292418,
           "2": 1.0969368463235944,
           "20": 1.112249974868086,
           "21": 1.1164264568213802,
           "22": 1.1124354498717983,
           "23": 1.1117848338597334,
           "24": 1.109438236206812,
           "25": 1.1102190844289572,
           "26": 1.1112352971125157,
           "27": 1.1126838996532806,
           "28": 1.1136559705582574,
           "29": 1.1144297104966492,
           "3": 1.0985398698750373,
           "30": 1.1156028785337622,
           "31": 1.1170561687272185,
           "32": 1.1180209059127528,
           "33": 1.113829408547804,
           "34": 1.1119501192062486,
           "35": 1.1136019993063933,
           "36": 1.1156092019182062,
           "37": 1.1193023296964892,
           "38": 1.1206254076218107,
           "39": 1.125332851259086,
           "4": 1.0999015848144116,
           "40": 1.1216966027926671,
           "41": 1.1224148773095268,
           "42": 1.1218254438270063,
           "43": 1.1206203406880948,
           "44": 1.1239548547444314,
           "45": 1.1228023541586345,
           "46": 1.1233487150085435,
           "47": 1.1256018919448607,
           "48": 1.130217732021107,
           "49": 1.1314844153689427,
           "5": 1.101419065717889,
           "50": 1.1276842142497847,
           "51": 1.1263820740246426,
           "52": 1.1267786335717516,
           "53": 1.12656900331847,
           "54": 1.128826775361581,
           "55": 1.131450545393672,
           "56": 1.1299712778320423,
           "57": 1.1333324848582522,
           "58": 1.1315572675870151,
           "59": 1.1322903738834011,
           "6": 1.097980307819084,
           "60": 1.1337946687121012,
           "61": 1.1390825211757083,
           "62": 1.1379376154941483,
           "63": 1.139511848845927,
           "64": 1.1429872361518656,
           "65": 1.143254315556147,
           "66": 1.1450958804335218,
           "67": 1.1484960506436974,
           "68": 1.147623743587343,
           "69": 1.1452748169056577,
           "7": 1.099723080904823,
           "70": 1.1466938585627926,
           "71": 1.1455314113932706,
           "72": 1.1422463770101925,
           "73": 1.145162203948856,
           "74": 1.147526359786487,
           "75": 1.1438454006533023,
           "76": 1.1448715401877894,
           "77": 1.148122459153478,
           "78": 1.1467413077933204,
           "79": 1.1499388862824254,
           "8": 1.0949268627117543,
           "80": 1.1462516612603817,
           "81": 1.1452118340211486,
           "82": 1.144591524575667,
           "83": 1.146070876510267,
           "84": 1.147080251801152,
           "85": 1.1489694614519994,
           "86": 1.1456535821772276,
           "87": 1.150219535589545,
           "88": 1.1522580571739522,
           "89": 1.1506616551933109,
           "9": 1.0960149023536545,
           "90": 1.1492586987471218,
           "91": 1.1524978550003468,
           "92": 1.1561152194296995,
           "93": 1.1539127478333056,
           "94": 1.1539774387421406,
           "95": 1.1551912813136398,
           "96": 1.151130381398219,
           "97": 1.1487982519959772,
           "98": 1.1518536787193767,
           "99": 1.1485061957837752,
           "bdata": "PPnMDx2D8T+6KFq3C4LxP6PLi6YNjfE/M3Lnip6T8T8ii3lnMpnxP/UvJ5lpn/E/ecKbzFOR8T//R7I6d5jxP+u9rQfShPE/7ZkY7EaJ8T9SM+sXVpDxP6TIT9qui/E/s3a301yR8T9giBHzL4bxPz/3se/1fvE/N0hyYDOK8T8tKbKU6ovxP9fhYE1Xo/E/uPqHgHHG8T+5Ieu0r8bxP2SQMKHGy/E/4/0G/eHc8T9JxEEdiczxP5Dc2eTeyfE/+wrXTkLA8T9pRzAWdcPxP0QltKmex/E/0b78oY3N8T+Ir0jsiNHxP7dhhD+01PE/+ANqZ4LZ8T/HpwdKdt/xP6o7suNp4/E/zpIwyT7S8T/gYkw1jMrxP7B/fFRQ0fE/iq/VCInZ8T/lIEaPqejxP2nWTOgU7vE/9loUBV0B8j//dRAjePLxP45paU1p9fE/P+yQPP/y8T/OzSeYD+7xP5ns9BW4+/E/9rrvmf/28T/ycY+APPnxP6CAIyF3AvI/OT1GMF8V8j+2F/9mjxryP0mxRpr+CvI/q8irNakF8j8ZW1AISQfyP9UKHzhtBvI/H28wqqwP8j9uHRjjaxryP8VTO8NcFPI/p15fPiEi8j/KZR3L2xryPyV61oLcHfI/Svbn4AUk8j99Uf6XrjnyPy34thL+NPI//inDxnA78j93SPD7rEnyPzcxhQnFSvI/2/DTDlBS8j/ymBFlPWDyP7Qh7baqXPI/zay4rwtT8j/l0dCo21jyP9yYx74YVPI/crsTI6RG8j+8NWmalVLyP1VLqZlEXPI/dMa31TBN8j+upPPRZFHyP2Xg3ae1XvI/AR3faQ1Z8j/2tE9RJmbyP4uVYfsLV/I/587hpMlS8j/iTNUzP1DyP4gnWGpOVvI/a/l10nBa8j8IoFDNLWLyP2zxv9mYVPI/DD2JmUxn8j9/1QElpm/yP2EQHTIcafI/zzLcFl1j8j96/D6XoXDyPxq8Haxyf/I/zBqmNm128j9ogvsLsXbyP9rcXdqpe/I/BJnYsAdr8j8gZaBGemHyP0AIfh/+bfI/pFBiCEhg8j+1HzZc2mnyP8g0yf0CYPI/rXkxkgFT8j8UZUgtZUjyP+YptnrgTPI/zaeT8TNF8j+iv3ci/D3yP3b/C5RzPvI/P43QCjM38j/c9RCFTTryP0A4T29dQ/I/uWTCbUxI8j982P7rrUDyP4Z7M1A4SvI/16cUOuNJ8j9Fyv5DI1fyPyavOBg6YfI/gcyX0/Bc8j85LR+3G2XyP51uxuRBYPI/ox8Ih/5n8j9aq72dh1fyP3pGlzepX/I/Jkg3H3Nc8j/g4FZCEU7yP6tcXlSeUvI/7838dcpN8j+4qM5NcmXyP43N4b7vZ/I/",
           "dtype": "f8",
           "shape": "129"
          },
          "bdata": "PPnMDx2D8T+6KFq3C4LxP6PLi6YNjfE/M3Lnip6T8T8ii3lnMpnxP/UvJ5lpn/E/ecKbzFOR8T//R7I6d5jxP+u9rQfShPE/7ZkY7EaJ8T9SM+sXVpDxP6TIT9qui/E/s3a301yR8T9giBHzL4bxPz/3se/1fvE/N0hyYDOK8T8tKbKU6ovxP9fhYE1Xo/E/uPqHgHHG8T+5Ieu0r8bxP2SQMKHGy/E/4/0G/eHc8T9JxEEdiczxP5Dc2eTeyfE/+wrXTkLA8T9pRzAWdcPxP0QltKmex/E/0b78oY3N8T+Ir0jsiNHxP7dhhD+01PE/+ANqZ4LZ8T/HpwdKdt/xP6o7suNp4/E/zpIwyT7S8T/gYkw1jMrxP7B/fFRQ0fE/iq/VCInZ8T/lIEaPqejxP2nWTOgU7vE/9loUBV0B8j//dRAjePLxP45paU1p9fE/P+yQPP/y8T/OzSeYD+7xP5ns9BW4+/E/9rrvmf/28T/ycY+APPnxP6CAIyF3AvI/OT1GMF8V8j+2F/9mjxryP0mxRpr+CvI/q8irNakF8j8ZW1AISQfyP9UKHzhtBvI/H28wqqwP8j9uHRjjaxryP8VTO8NcFPI/p15fPiEi8j/KZR3L2xryPyV61oLcHfI/Svbn4AUk8j99Uf6XrjnyPy34thL+NPI//inDxnA78j93SPD7rEnyPzcxhQnFSvI/2/DTDlBS8j/ymBFlPWDyP7Qh7baqXPI/zay4rwtT8j/l0dCo21jyP9yYx74YVPI/crsTI6RG8j+8NWmalVLyP1VLqZlEXPI/dMa31TBN8j+upPPRZFHyP2Xg3ae1XvI/AR3faQ1Z8j/2tE9RJmbyP4uVYfsLV/I/587hpMlS8j/iTNUzP1DyP4gnWGpOVvI/a/l10nBa8j8IoFDNLWLyP2zxv9mYVPI/DD2JmUxn8j9/1QElpm/yP2EQHTIcafI/zzLcFl1j8j96/D6XoXDyPxq8Haxyf/I/zBqmNm128j9ogvsLsXbyP9rcXdqpe/I/BJnYsAdr8j8gZaBGemHyP0AIfh/+bfI/pFBiCEhg8j+1HzZc2mnyP8g0yf0CYPI/rXkxkgFT8j8UZUgtZUjyP+YptnrgTPI/zaeT8TNF8j+iv3ci/D3yP3b/C5RzPvI/P43QCjM38j/c9RCFTTryP0A4T29dQ/I/uWTCbUxI8j982P7rrUDyP4Z7M1A4SvI/16cUOuNJ8j9Fyv5DI1fyPyavOBg6YfI/gcyX0/Bc8j85LR+3G2XyP51uxuRBYPI/ox8Ih/5n8j9aq72dh1fyP3pGlzepX/I/Jkg3H3Nc8j/g4FZCEU7yP6tcXlSeUvI/7838dcpN8j+4qM5NcmXyP43N4b7vZ/I/",
          "dtype": "f8"
         },
         "increasing": {
          "line": {
           "color": "green"
          }
         },
         "low": {
          "_inputArray": {
           "0": 1.091240383941596,
           "1": 1.093320044541935,
           "10": 1.096417081112007,
           "100": 1.150330659798583,
           "101": 1.147516672812775,
           "102": 1.1428992474722317,
           "103": 1.1398684351619357,
           "104": 1.140241666189431,
           "105": 1.1391586484678091,
           "106": 1.1386164692435796,
           "107": 1.1395501723020862,
           "108": 1.1369963928358613,
           "109": 1.1387633106501442,
           "11": 1.0944765710879227,
           "110": 1.1387655071254328,
           "111": 1.1394021940729175,
           "112": 1.1387998562305768,
           "113": 1.1415955582278974,
           "114": 1.1425372674110743,
           "115": 1.1442331595261384,
           "116": 1.1463603862871794,
           "117": 1.1449517140508023,
           "118": 1.1469665400036615,
           "119": 1.144709083818975,
           "12": 1.095337172548718,
           "120": 1.1476666481338187,
           "121": 1.1443635683533644,
           "122": 1.1465976158447952,
           "123": 1.1469094221992988,
           "124": 1.1421381070495338,
           "125": 1.1432817800985808,
           "126": 1.1427338677689822,
           "127": 1.1472773956793678,
           "128": 1.1485963821052108,
           "13": 1.0929479959420256,
           "14": 1.0926952254110165,
           "15": 1.0941917545030828,
           "16": 1.0957063807932566,
           "17": 1.1001645099475343,
           "18": 1.1071679627026554,
           "19": 1.1091298530940517,
           "2": 1.0945025649983686,
           "20": 1.1091994510790006,
           "21": 1.1149048408754392,
           "22": 1.1105553733012337,
           "23": 1.1057619677066184,
           "24": 1.1082081562663264,
           "25": 1.1083028339018426,
           "26": 1.1094324639582656,
           "27": 1.1095823384201786,
           "28": 1.1121080990762429,
           "29": 1.1129736822156582,
           "3": 1.0964722450414015,
           "30": 1.115031631278941,
           "31": 1.1152243921408642,
           "32": 1.114096983414841,
           "33": 1.1127218027879364,
           "34": 1.110302646167631,
           "35": 1.1119273937365166,
           "36": 1.1118018530904026,
           "37": 1.1161332563160256,
           "38": 1.1180203617276372,
           "39": 1.1236234863520072,
           "4": 1.0993495079453586,
           "40": 1.1205302649359614,
           "41": 1.1206274660598254,
           "42": 1.1193030015185994,
           "43": 1.1191619605593257,
           "44": 1.121075184507326,
           "45": 1.1205543131414069,
           "46": 1.1217657518679212,
           "47": 1.1226389382363788,
           "48": 1.1281244279034346,
           "49": 1.127708388935721,
           "5": 1.0988829247195646,
           "50": 1.1262660190813965,
           "51": 1.124469411146262,
           "52": 1.1251689926094854,
           "53": 1.124629260342797,
           "54": 1.1254664665461038,
           "55": 1.128955590152033,
           "56": 1.127054852566875,
           "57": 1.1314363464783277,
           "58": 1.1301868153084884,
           "59": 1.1315761456720277,
           "6": 1.094039298295039,
           "60": 1.131794417157679,
           "61": 1.1376649433739,
           "62": 1.1370315020988715,
           "63": 1.137512178609569,
           "64": 1.1388052042245314,
           "65": 1.142838491568142,
           "66": 1.1427551510017389,
           "67": 1.1457746505320037,
           "68": 1.1448091820569668,
           "69": 1.1426004163908778,
           "7": 1.098070299098591,
           "70": 1.1437497349014094,
           "71": 1.1418915458333645,
           "72": 1.1387183763856052,
           "73": 1.1438468811657372,
           "74": 1.146554473843832,
           "75": 1.1411096218628216,
           "76": 1.1439674231832802,
           "77": 1.1470402345262825,
           "78": 1.1448768923075476,
           "79": 1.1465303784504532,
           "8": 1.0934849143340617,
           "80": 1.1434347309289965,
           "81": 1.1422695844616788,
           "82": 1.1409447991543284,
           "83": 1.1437573145250526,
           "84": 1.1453547224612997,
           "85": 1.1467695777998863,
           "86": 1.1442045755111283,
           "87": 1.1482539774485527,
           "88": 1.1510527090622018,
           "89": 1.1485061072400924,
           "9": 1.0946044903945251,
           "90": 1.148067708089845,
           "91": 1.1509237093856837,
           "92": 1.1538600905741236,
           "93": 1.1514155969048545,
           "94": 1.1501637375149796,
           "95": 1.1538211656384234,
           "96": 1.1476162122015274,
           "97": 1.1457830582513857,
           "98": 1.1483267130860004,
           "99": 1.14627918056921,
           "bdata": "gagRerh18T/p5rUoPX7xP9HlIB8Vg/E/08oWeyaL8T/v+3eC75bxP5Da/EIGlfE/qXTrWS+B8T/wZXUpspHxPxu/mwnqfvE/p8mE/3+D8T/6bSKj7IrxPzv5cN35gvE/owljRYCG8T+9y6wJt3zxP64rGv2te/E/MUySNs+B8T+xaPhpA4jxP8gc5xlGmvE/JsrvwPW28T9Y5uDx/r7xP+IBcuxHv/E/vmRbdabW8T8qnQu21cTxP1leB3YzsfE/dDDFeTi78T+zwprAm7vxP6gkXUE8wPE/8L37aNnA8T8WY7LcMcvxP5fM5n29zvE/y5NlaCvX8T/UJD+I9dfxP4hsxVtX0/E/WVOIYLXN8T9bPB+1zMPxP2f/+WB0yvE/1HxqvfDJ8T9fr52LrtvxP94dnlFp4/E/1WPunlz68T8vQKEkse3xP+2e2xAX7vE/cmSdQ6ro8T8FeThfFujxP98OXYjs7/E/algFXMrt8T+quiClwPLxPwUQTz9U9vE/lp86M8wM8j/XdZ7zFwvyP7XPaIQvBfI/85sjo9P98T8zspszsQDyP3HAVEB7/vE/jvYoIOkB8j8GbqW8MxDyP1AqSatqCPI/EBWa/1wa8j/07CHFPhXyP36FqZbvGvI/Q813dtQb8j+ki9kn4DPyPyGVwPFHMfI/gOBe+D8z8j8di0rOizjyP4BSngMRSfI/SjUOoLlI8j+87snMF1XyP96F0W4jUfI/g7fMXxdI8j8TXaOFzEzyP1TuzhEwRfI/5OKewjA48j+m0CNjMk3yPzHeA4FJWPI/89OwKfxB8j9vL+TIsE3yP+zIZ9xGWvI/M4OmbmpR8j8PC/U8MFjyP6g1ZzeCS/I/nKfHeLxG8j/Li25VT0HyP1oiR3jUTPI/o6U0eV9T8j/9K4sOK1nyP84P/HSpTvI/mEsKkD9f8j9MT9Y+tmryP7OjnfBHYPI/1W69Pnxe8j9SCsD6LmryP67Okv81dvI/gPjMwjJs8j9fwFoXEmfyPxOYvS4NdvI/Qz080aJc8j9QAridIFXyP6I93dSLX/I/RBaK1ihX8j97vDYfwWfyP5WHVXE6XPI/i0KouFBJ8j8cNiyv5jzyP1sfnQtuPvI/L/9Ba/458j8faSHnxTfyP5wEI/aYO/I/X2YuISMx8j9uCJLgXzjyP1mqLi5iOPI/jYqIy/068j+AMrMyhjjyPxyQPbT5Q/I/S95fKNVH8j/CnfJtx07yP6eICP19V/I/tI5147hR8j+FwC6W+VnyP2b85ni6UPI/dB0HtNdc8j8n/EwsUE/yP3eZ2712WPI/uR+9sb1Z8j+EsJSbMkbyP1Yt+tXhSvI/ApfhTqNI8j+CIN6KP1vyP/8hl5mmYPI/",
           "dtype": "f8",
           "shape": "129"
          },
          "bdata": "gagRerh18T/p5rUoPX7xP9HlIB8Vg/E/08oWeyaL8T/v+3eC75bxP5Da/EIGlfE/qXTrWS+B8T/wZXUpspHxPxu/mwnqfvE/p8mE/3+D8T/6bSKj7IrxPzv5cN35gvE/owljRYCG8T+9y6wJt3zxP64rGv2te/E/MUySNs+B8T+xaPhpA4jxP8gc5xlGmvE/JsrvwPW28T9Y5uDx/r7xP+IBcuxHv/E/vmRbdabW8T8qnQu21cTxP1leB3YzsfE/dDDFeTi78T+zwprAm7vxP6gkXUE8wPE/8L37aNnA8T8WY7LcMcvxP5fM5n29zvE/y5NlaCvX8T/UJD+I9dfxP4hsxVtX0/E/WVOIYLXN8T9bPB+1zMPxP2f/+WB0yvE/1HxqvfDJ8T9fr52LrtvxP94dnlFp4/E/1WPunlz68T8vQKEkse3xP+2e2xAX7vE/cmSdQ6ro8T8FeThfFujxP98OXYjs7/E/algFXMrt8T+quiClwPLxPwUQTz9U9vE/lp86M8wM8j/XdZ7zFwvyP7XPaIQvBfI/85sjo9P98T8zspszsQDyP3HAVEB7/vE/jvYoIOkB8j8GbqW8MxDyP1AqSatqCPI/EBWa/1wa8j/07CHFPhXyP36FqZbvGvI/Q813dtQb8j+ki9kn4DPyPyGVwPFHMfI/gOBe+D8z8j8di0rOizjyP4BSngMRSfI/SjUOoLlI8j+87snMF1XyP96F0W4jUfI/g7fMXxdI8j8TXaOFzEzyP1TuzhEwRfI/5OKewjA48j+m0CNjMk3yPzHeA4FJWPI/89OwKfxB8j9vL+TIsE3yP+zIZ9xGWvI/M4OmbmpR8j8PC/U8MFjyP6g1ZzeCS/I/nKfHeLxG8j/Li25VT0HyP1oiR3jUTPI/o6U0eV9T8j/9K4sOK1nyP84P/HSpTvI/mEsKkD9f8j9MT9Y+tmryP7OjnfBHYPI/1W69Pnxe8j9SCsD6LmryP67Okv81dvI/gPjMwjJs8j9fwFoXEmfyPxOYvS4NdvI/Qz080aJc8j9QAridIFXyP6I93dSLX/I/RBaK1ihX8j97vDYfwWfyP5WHVXE6XPI/i0KouFBJ8j8cNiyv5jzyP1sfnQtuPvI/L/9Ba/458j8faSHnxTfyP5wEI/aYO/I/X2YuISMx8j9uCJLgXzjyP1mqLi5iOPI/jYqIy/068j+AMrMyhjjyPxyQPbT5Q/I/S95fKNVH8j/CnfJtx07yP6eICP19V/I/tI5147hR8j+FwC6W+VnyP2b85ni6UPI/dB0HtNdc8j8n/EwsUE/yP3eZ2712WPI/uR+9sb1Z8j+EsJSbMkbyP1Yt+tXhSvI/ApfhTqNI8j+CIN6KP1vyP/8hl5mmYPI/",
          "dtype": "f8"
         },
         "open": {
          "_inputArray": {
           "0": 1.0931186182311754,
           "1": 1.0941019682365287,
           "10": 1.097518473547086,
           "100": 1.150399188177006,
           "101": 1.1477053562617296,
           "102": 1.1441942706795445,
           "103": 1.141405118350204,
           "104": 1.1429376059265337,
           "105": 1.1414012991437732,
           "106": 1.1390832289920865,
           "107": 1.13999047859763,
           "108": 1.1375772570199407,
           "109": 1.1390340237701,
           "11": 1.0963095043495008,
           "110": 1.141250825559165,
           "111": 1.1412943308304595,
           "112": 1.1399331685227352,
           "113": 1.142746615604343,
           "114": 1.143022991298254,
           "115": 1.1445652976868312,
           "116": 1.1479510573779037,
           "117": 1.146221763464378,
           "118": 1.1483403029676469,
           "119": 1.1483780544807438,
           "12": 1.0971545628464838,
           "120": 1.1483288420728357,
           "121": 1.1447076710113624,
           "122": 1.1468761906904597,
           "123": 1.1473135434546404,
           "124": 1.1439333426109617,
           "125": 1.1447044819438528,
           "126": 1.1438560973655858,
           "127": 1.149056544851532,
           "128": 1.1495114781095055,
           "13": 1.0950331118418353,
           "14": 1.0933771169292434,
           "15": 1.0953830592791447,
           "16": 1.0960470149088253,
           "17": 1.1015703370543604,
           "18": 1.1082116233186092,
           "19": 1.1095308698759403,
           "2": 1.0957758343521191,
           "20": 1.1120946991175926,
           "21": 1.1149275325259045,
           "22": 1.1105868475451066,
           "23": 1.1092170669385593,
           "24": 1.108777207008882,
           "25": 1.109886163628568,
           "26": 1.1099914415222214,
           "27": 1.1102688046477922,
           "28": 1.1130775589145243,
           "29": 1.1135467752209942,
           "3": 1.0978197601269633,
           "30": 1.115372791489741,
           "31": 1.1164375107339897,
           "32": 1.1159683429909837,
           "33": 1.1131139159202683,
           "34": 1.1105502420130546,
           "35": 1.1127260737905995,
           "36": 1.1119911626611725,
           "37": 1.1164100819407854,
           "38": 1.1193351776908655,
           "39": 1.1238545318946345,
           "4": 1.0996163280479867,
           "40": 1.1211689658964603,
           "41": 1.12197882287802,
           "42": 1.1204044943510385,
           "43": 1.120298681102866,
           "44": 1.1229475306122547,
           "45": 1.122472570506197,
           "46": 1.1218966653893934,
           "47": 1.124190064019235,
           "48": 1.129367076465711,
           "49": 1.1295289954809815,
           "5": 1.0993285265686887,
           "50": 1.1263027308455338,
           "51": 1.1255066226271546,
           "52": 1.1259109687096007,
           "53": 1.1261298752953472,
           "54": 1.1264919657360997,
           "55": 1.1303921884682575,
           "56": 1.1281163106693124,
           "57": 1.1327273383724294,
           "58": 1.1314426867104836,
           "59": 1.1316482564423025,
           "6": 1.0961957859474678,
           "60": 1.133335325643805,
           "61": 1.1378792013618515,
           "62": 1.1373564978240942,
           "63": 1.1389086133800843,
           "64": 1.1400485555729247,
           "65": 1.143205172763358,
           "66": 1.1436886915903204,
           "67": 1.1484350798344762,
           "68": 1.145873755304385,
           "69": 1.1444537073297394,
           "7": 1.0985652165689996,
           "70": 1.144037131356335,
           "71": 1.143322819929072,
           "72": 1.1407366299991146,
           "73": 1.1449875207425906,
           "74": 1.147062932283755,
           "75": 1.1416389586107891,
           "76": 1.14432738094847,
           "77": 1.1470411983822857,
           "78": 1.1454883641604294,
           "79": 1.148890538947294,
           "8": 1.093556684305395,
           "80": 1.1447013863883615,
           "81": 1.1431602670188123,
           "82": 1.143946392195064,
           "83": 1.1457732394224696,
           "84": 1.1461005604294303,
           "85": 1.147211339707514,
           "86": 1.145346536296672,
           "87": 1.1496896086585748,
           "88": 1.1513179369028528,
           "89": 1.1494513315587296,
           "9": 1.0960145473925655,
           "90": 1.1491174325218958,
           "91": 1.1522631083206123,
           "92": 1.1542314107092495,
           "93": 1.1525986056589683,
           "94": 1.15045656821722,
           "95": 1.154578729351968,
           "96": 1.148877123539686,
           "97": 1.14715801471203,
           "98": 1.1500546888428254,
           "99": 1.1471933421199372,
           "bdata": "yTm/8ml98T+9CsEQcYHxP6ahxD1MiPE/r13qc6uQ8T/C0XFKB5jxPxfCUoLZlvE/rISqlwSK8T///doeuZPxPzSfNks1f/E/adzPjEaJ8T/MP+qHb4/xP+mZt9V7ivE/QFNh8fGN8T9cXbZwQYXxP3B+9gB5fvE/RiQDY7CG8T/alj6YaInxP1lGvjcIoPE/PTVzHDy78T9DUABxo8DxP4Y9rM8jy/E/Yr2ZQL7W8T/8Ltm29sTxP5KoKmVav/E/NHQqK4298T/oFHH+F8LxP2zYwmKGwvE/U7PbOKnD8T+5MBdqKs/xPzc/YmwW0fE/I7/kI5HY8T8IFUqU7dzxPwhICJ8B2/E/ypmZiVDP8T/fLKBU0MTxP8tkBdu5zfE/zSHRPrfK8T8CxG3R0NzxPyYd1wDM6PE/dy6/40778T8HDJ3eTvDxP/8M8RCg8/E/TndYQy3t8T99a1FPvuzxP1GocdSX9/E/4LJPzKX18T8ibPXqSfPxP1E2d7iu/PE/+5YpNuMR8j+/l/f+jBLyP24IJgNWBfI/N9d5OxMC8j/wC004uwPyP70Sl8KgBPI/XLGAcBwG8j8kAJIeFhbyP76KRrDDDPI/74OZs6Yf8j+3hIulYxryP/nrvzM7G/I/nKrwOCQi8j8wXUrSwDTyP+PCILqcMvI/TJr5PPg48j+gmuCNoz3yP7sv2oGRSvI/ofdyg4xM8j/ZfVd2/V/yP1sIBrh/VfI/ZUbMsK5P8j+hXAnh+U3yP5Hahd4MS/I/kCBzDXVA8j9Hrj5v3lHyPyzNSaleWvI/VypxNidE8j/JdFE6Kk/yPw13I99HWvI/BUhgm+tT8j8qZrcL22HyP/uUo2ayUPI/OOuOa2JK8j8Krm27mk3yP0g5/1EWVfI/+4uPim1W8j9QThpH+lryP4Syv+NWU/I/edVb7iBl8j8wvGRbzGvyP982VhQnZPI/1x7/9chi8j9H/elwq2/yP9oxEFu7d/I/C4dLPAtx8j+0YX8lRWjyP0CVs4snefI/qZuL+sxh8j/whMhcwlryP/AP076fZvI/T4HpZ+da8j8FC6n6CGjyPxhpqUoAXfI/bW3Npp5O8j900WwDMkPyPwArbfF4SfI/YfM2Ai5D8j/mFv9VrznyP1hA9admPfI/PC+5NYQz8j9b+5G9eznyPy70xDmQQvI/tW4g2L1C8j+T5OaPKj3yP1cq2qywSPI/xjvjedJJ8j8eOZuzI1DyPyaMje0BXvI/7q/AoexW8j/hy94Uml/yP70Ft6rBX/I/IBpcEI5f8j8Ilqf9uFDyP7A5OdmaWfI/MlQ2cmVb8j+1FnUMjU3yPxiJmKW1UPI/Aj8YDTxN8j/9RZYdiWLyPw22zSVmZPI/",
           "dtype": "f8",
           "shape": "129"
          },
          "bdata": "yTm/8ml98T+9CsEQcYHxP6ahxD1MiPE/r13qc6uQ8T/C0XFKB5jxPxfCUoLZlvE/rISqlwSK8T///doeuZPxPzSfNks1f/E/adzPjEaJ8T/MP+qHb4/xP+mZt9V7ivE/QFNh8fGN8T9cXbZwQYXxP3B+9gB5fvE/RiQDY7CG8T/alj6YaInxP1lGvjcIoPE/PTVzHDy78T9DUABxo8DxP4Y9rM8jy/E/Yr2ZQL7W8T/8Ltm29sTxP5KoKmVav/E/NHQqK4298T/oFHH+F8LxP2zYwmKGwvE/U7PbOKnD8T+5MBdqKs/xPzc/YmwW0fE/I7/kI5HY8T8IFUqU7dzxPwhICJ8B2/E/ypmZiVDP8T/fLKBU0MTxP8tkBdu5zfE/zSHRPrfK8T8CxG3R0NzxPyYd1wDM6PE/dy6/40778T8HDJ3eTvDxP/8M8RCg8/E/TndYQy3t8T99a1FPvuzxP1GocdSX9/E/4LJPzKX18T8ibPXqSfPxP1E2d7iu/PE/+5YpNuMR8j+/l/f+jBLyP24IJgNWBfI/N9d5OxMC8j/wC004uwPyP70Sl8KgBPI/XLGAcBwG8j8kAJIeFhbyP76KRrDDDPI/74OZs6Yf8j+3hIulYxryP/nrvzM7G/I/nKrwOCQi8j8wXUrSwDTyP+PCILqcMvI/TJr5PPg48j+gmuCNoz3yP7sv2oGRSvI/ofdyg4xM8j/ZfVd2/V/yP1sIBrh/VfI/ZUbMsK5P8j+hXAnh+U3yP5Hahd4MS/I/kCBzDXVA8j9Hrj5v3lHyPyzNSaleWvI/VypxNidE8j/JdFE6Kk/yPw13I99HWvI/BUhgm+tT8j8qZrcL22HyP/uUo2ayUPI/OOuOa2JK8j8Krm27mk3yP0g5/1EWVfI/+4uPim1W8j9QThpH+lryP4Syv+NWU/I/edVb7iBl8j8wvGRbzGvyP982VhQnZPI/1x7/9chi8j9H/elwq2/yP9oxEFu7d/I/C4dLPAtx8j+0YX8lRWjyP0CVs4snefI/qZuL+sxh8j/whMhcwlryP/AP076fZvI/T4HpZ+da8j8FC6n6CGjyPxhpqUoAXfI/bW3Npp5O8j900WwDMkPyPwArbfF4SfI/YfM2Ai5D8j/mFv9VrznyP1hA9admPfI/PC+5NYQz8j9b+5G9eznyPy70xDmQQvI/tW4g2L1C8j+T5OaPKj3yP1cq2qywSPI/xjvjedJJ8j8eOZuzI1DyPyaMje0BXvI/7q/AoexW8j/hy94Uml/yP70Ft6rBX/I/IBpcEI5f8j8Ilqf9uFDyP7A5OdmaWfI/MlQ2cmVb8j+1FnUMjU3yPxiJmKW1UPI/Aj8YDTxN8j/9RZYdiWLyPw22zSVmZPI/",
          "dtype": "f8"
         },
         "type": "candlestick",
         "whiskerwidth": 0.3,
         "x": [
          "2025-01-01T00:00:00",
          "2025-01-02T00:00:00",
          "2025-01-03T00:00:00",
          "2025-01-06T00:00:00",
          "2025-01-07T00:00:00",
          "2025-01-08T00:00:00",
          "2025-01-09T00:00:00",
          "2025-01-10T00:00:00",
          "2025-01-13T00:00:00",
          "2025-01-14T00:00:00",
          "2025-01-15T00:00:00",
          "2025-01-16T00:00:00",
          "2025-01-17T00:00:00",
          "2025-01-20T00:00:00",
          "2025-01-21T00:00:00",
          "2025-01-22T00:00:00",
          "2025-01-23T00:00:00",
          "2025-01-24T00:00:00",
          "2025-01-27T00:00:00",
          "2025-01-28T00:00:00",
          "2025-01-29T00:00:00",
          "2025-01-30T00:00:00",
          "2025-01-31T00:00:00",
          "2025-02-03T00:00:00",
          "2025-02-04T00:00:00",
          "2025-02-05T00:00:00",
          "2025-02-06T00:00:00",
          "2025-02-07T00:00:00",
          "2025-02-10T00:00:00",
          "2025-02-11T00:00:00",
          "2025-02-12T00:00:00",
          "2025-02-13T00:00:00",
          "2025-02-14T00:00:00",
          "2025-02-17T00:00:00",
          "2025-02-18T00:00:00",
          "2025-02-19T00:00:00",
          "2025-02-20T00:00:00",
          "2025-02-21T00:00:00",
          "2025-02-24T00:00:00",
          "2025-02-25T00:00:00",
          "2025-02-26T00:00:00",
          "2025-02-27T00:00:00",
          "2025-02-28T00:00:00",
          "2025-03-03T00:00:00",
          "2025-03-04T00:00:00",
          "2025-03-05T00:00:00",
          "2025-03-06T00:00:00",
          "2025-03-07T00:00:00",
          "2025-03-10T00:00:00",
          "2025-03-11T00:00:00",
          "2025-03-12T00:00:00",
          "2025-03-13T00:00:00",
          "2025-03-14T00:00:00",
          "2025-03-17T00:00:00",
          "2025-03-18T00:00:00",
          "2025-03-19T00:00:00",
          "2025-03-20T00:00:00",
          "2025-03-21T00:00:00",
          "2025-03-24T00:00:00",
          "2025-03-25T00:00:00",
          "2025-03-26T00:00:00",
          "2025-03-27T00:00:00",
          "2025-03-28T00:00:00",
          "2025-03-31T00:00:00",
          "2025-04-01T00:00:00",
          "2025-04-02T00:00:00",
          "2025-04-03T00:00:00",
          "2025-04-04T00:00:00",
          "2025-04-07T00:00:00",
          "2025-04-08T00:00:00",
          "2025-04-09T00:00:00",
          "2025-04-10T00:00:00",
          "2025-04-11T00:00:00",
          "2025-04-14T00:00:00",
          "2025-04-15T00:00:00",
          "2025-04-16T00:00:00",
          "2025-04-17T00:00:00",
          "2025-04-18T00:00:00",
          "2025-04-21T00:00:00",
          "2025-04-22T00:00:00",
          "2025-04-23T00:00:00",
          "2025-04-24T00:00:00",
          "2025-04-25T00:00:00",
          "2025-04-28T00:00:00",
          "2025-04-29T00:00:00",
          "2025-04-30T00:00:00",
          "2025-05-01T00:00:00",
          "2025-05-02T00:00:00",
          "2025-05-05T00:00:00",
          "2025-05-06T00:00:00",
          "2025-05-07T00:00:00",
          "2025-05-08T00:00:00",
          "2025-05-09T00:00:00",
          "2025-05-12T00:00:00",
          "2025-05-13T00:00:00",
          "2025-05-14T00:00:00",
          "2025-05-15T00:00:00",
          "2025-05-16T00:00:00",
          "2025-05-19T00:00:00",
          "2025-05-20T00:00:00",
          "2025-05-21T00:00:00",
          "2025-05-22T00:00:00",
          "2025-05-23T00:00:00",
          "2025-05-26T00:00:00",
          "2025-05-27T00:00:00",
          "2025-05-28T00:00:00",
          "2025-05-29T00:00:00",
          "2025-05-30T00:00:00",
          "2025-06-02T00:00:00",
          "2025-06-03T00:00:00",
          "2025-06-04T00:00:00",
          "2025-06-05T00:00:00",
          "2025-06-06T00:00:00",
          "2025-06-09T00:00:00",
          "2025-06-10T00:00:00",
          "2025-06-11T00:00:00",
          "2025-06-12T00:00:00",
          "2025-06-13T00:00:00",
          "2025-06-16T00:00:00",
          "2025-06-17T00:00:00",
          "2025-06-18T00:00:00",
          "2025-06-19T00:00:00",
          "2025-06-20T00:00:00",
          "2025-06-23T00:00:00",
          "2025-06-24T00:00:00",
          "2025-06-25T00:00:00",
          "2025-06-26T00:00:00",
          "2025-06-27T00:00:00",
          "2025-06-30T00:00:00"
         ]
        },
        {
         "marker": {
          "color": "purple",
          "line": {
           "color": "white",
           "width": 1
          },
          "size": 7,
          "symbol": "circle"
         },
         "mode": "markers",
         "name": "Doji",
         "type": "scatter",
         "x": [
          "2025-01-06T00:00:00",
          "2025-01-10T00:00:00",
          "2025-01-14T00:00:00",
          "2025-01-15T00:00:00",
          "2025-01-16T00:00:00",
          "2025-01-20T00:00:00",
          "2025-01-22T00:00:00",
          "2025-01-24T00:00:00",
          "2025-01-27T00:00:00",
          "2025-02-03T00:00:00",
          "2025-02-10T00:00:00",
          "2025-02-11T00:00:00",
          "2025-02-12T00:00:00",
          "2025-02-13T00:00:00",
          "2025-02-25T00:00:00",
          "2025-03-05T00:00:00",
          "2025-03-07T00:00:00",
          "2025-03-20T00:00:00",
          "2025-03-21T00:00:00",
          "2025-04-01T00:00:00",
          "2025-04-02T00:00:00",
          "2025-04-04T00:00:00",
          "2025-04-07T00:00:00",
          "2025-04-08T00:00:00",
          "2025-04-10T00:00:00",
          "2025-04-16T00:00:00",
          "2025-04-17T00:00:00",
          "2025-04-23T00:00:00",
          "2025-04-25T00:00:00",
          "2025-04-30T00:00:00",
          "2025-05-08T00:00:00",
          "2025-05-09T00:00:00",
          "2025-05-16T00:00:00",
          "2025-05-28T00:00:00",
          "2025-05-30T00:00:00",
          "2025-06-03T00:00:00",
          "2025-06-20T00:00:00",
          "2025-06-23T00:00:00",
          "2025-06-30T00:00:00"
         ],
         "y": {
          "_inputArray": {
           "0": 1.0990398698750372,
           "1": 1.100223080904823,
           "10": 1.1141559705582573,
           "11": 1.1149297104966491,
           "12": 1.116102878533762,
           "13": 1.1175561687272184,
           "14": 1.125832851259086,
           "15": 1.1233023541586344,
           "16": 1.1261018919448607,
           "17": 1.1304712778320423,
           "18": 1.1338324848582522,
           "19": 1.1434872361518655,
           "2": 1.0965149023536545,
           "20": 1.143754315556147,
           "21": 1.1489960506436974,
           "22": 1.148123743587343,
           "23": 1.1457748169056576,
           "24": 1.1460314113932706,
           "25": 1.1443454006533023,
           "26": 1.1453715401877893,
           "27": 1.1467516612603816,
           "28": 1.145091524575667,
           "29": 1.1494694614519994,
           "3": 1.098238355095505,
           "30": 1.1529978550003468,
           "31": 1.1566152194296995,
           "32": 1.1492982519959771,
           "33": 1.1423952404587685,
           "34": 1.1407469428139432,
           "35": 1.139734084882779,
           "36": 1.1488547374267843,
           "37": 1.1480707263348424,
           "38": 1.1508751236276429,
           "4": 1.097102299480346,
           "5": 1.0957605719435481,
           "6": 1.0967404029310286,
           "7": 1.1028781797977016,
           "8": 1.1114480877636723,
           "9": 1.1122848338597333,
           "bdata": "aNCh1KqV8T80pmyEg5rxPyL40jVTi/E/h5GlYWKS8T/ZJgoku43xP5Xmyzw8iPE/bKYsqj+M8T8MQBuXY6XxP+1YQsp9yPE/xTqULuvL8T+9DQM2ldPxP+y/PonA1vE/LWIksY7b8T/8BcKTguHxPyu5zk5pA/I/Kxmq4wv58T/V3t1qgwTyP/qx9QxpFvI/3LwZiC0k8j+spqpFuUvyP2yPP1PRTPI/J/fLrkli8j/pf6cAt17yPwILc/kXVfI/EfeBCCVW8j+pJHIfPU/yP+MCrhtxU/I/wPMbRRhZ8j8Xq499S1LyPz3+Chc6ZPI/r1r54K1y8j9PGtj1foHyP1XDWpCGY/I/AgZOO0BH8j+rXcbdf0DyPxFUy85ZPPI/r6RRgbVh8j9bpvFof17yP8IrnAj8afI/",
           "dtype": "f8",
           "shape": "39"
          },
          "bdata": "aNCh1KqV8T80pmyEg5rxPyL40jVTi/E/h5GlYWKS8T/ZJgoku43xP5Xmyzw8iPE/bKYsqj+M8T8MQBuXY6XxP+1YQsp9yPE/xTqULuvL8T+9DQM2ldPxP+y/PonA1vE/LWIksY7b8T/8BcKTguHxPyu5zk5pA/I/Kxmq4wv58T/V3t1qgwTyP/qx9QxpFvI/3LwZiC0k8j+spqpFuUvyP2yPP1PRTPI/J/fLrkli8j/pf6cAt17yPwILc/kXVfI/EfeBCCVW8j+pJHIfPU/yP+MCrhtxU/I/wPMbRRhZ8j8Xq499S1LyPz3+Chc6ZPI/r1r54K1y8j9PGtj1foHyP1XDWpCGY/I/AgZOO0BH8j+rXcbdf0DyPxFUy85ZPPI/r6RRgbVh8j9bpvFof17yP8IrnAj8afI/",
          "dtype": "f8"
         }
        }
       ],
       "layout": {
        "height": 500,
        "template": {
         "data": {
          "bar": [
           {
            "error_x": {
             "color": "#2a3f5f"
            },
            "error_y": {
             "color": "#2a3f5f"
            },
            "marker": {
             "line": {
              "color": "white",
              "width": 0.5
             },
             "pattern": {
              "fillmode": "overlay",
              "size": 10,
              "solidity": 0.2
             }
            },
            "type": "bar"
           }
          ],
          "barpolar": [
           {
            "marker": {
             "line": {
              "color": "white",
              "width": 0.5
             },
             "pattern": {
              "fillmode": "overlay",
              "size": 10,
              "solidity": 0.2
             }
            },
            "type": "barpolar"
           }
          ],
          "carpet": [
           {
            "aaxis": {
             "endlinecolor": "#2a3f5f",
             "gridcolor": "#C8D4E3",
             "linecolor": "#C8D4E3",
             "minorgridcolor": "#C8D4E3",
             "startlinecolor": "#2a3f5f"
            },
            "baxis": {
             "endlinecolor": "#2a3f5f",
             "gridcolor": "#C8D4E3",
             "linecolor": "#C8D4E3",
             "minorgridcolor": "#C8D4E3",
             "startlinecolor": "#2a3f5f"
            },
            "type": "carpet"
           }
          ],
          "choropleth": [
           {
            "colorbar": {
             "outlinewidth": 0,
             "ticks": ""
            },
            "type": "choropleth"
           }
          ],
          "contour": [
           {
            "colorbar": {
             "outlinewidth": 0,
             "ticks": ""
            },
            "colorscale": [
             [
              0,
              "#0d0887"
             ],
             [
              0.1111111111111111,
              "#46039f"
             ],
             [
              0.2222222222222222,
              "#7201a8"
             ],
             [
              0.3333333333333333,
              "#9c179e"
             ],
             [
              0.4444444444444444,
              "#bd3786"
             ],
             [
              0.5555555555555556,
              "#d8576b"
             ],
             [
              0.6666666666666666,
              "#ed7953"
             ],
             [
              0.7777777777777778,
              "#fb9f3a"
             ],
             [
              0.8888888888888888,
              "#fdca26"
             ],
             [
              1,
              "#f0f921"
             ]
            ],
            "type": "contour"
           }
          ],
          "contourcarpet": [
           {
            "colorbar": {
             "outlinewidth": 0,
             "ticks": ""
            },
            "type": "contourcarpet"
           }
          ],
          "heatmap": [
           {
            "colorbar": {
             "outlinewidth": 0,
             "ticks": ""
            },
            "colorscale": [
             [
              0,
              "#0d0887"
             ],
             [
              0.1111111111111111,
              "#46039f"
             ],
             [
              0.2222222222222222,
              "#7201a8"
             ],
             [
              0.3333333333333333,
              "#9c179e"
             ],
             [
              0.4444444444444444,
              "#bd3786"
             ],
             [
              0.5555555555555556,
              "#d8576b"
             ],
             [
              0.6666666666666666,
              "#ed7953"
             ],
             [
              0.7777777777777778,
              "#fb9f3a"
             ],
             [
              0.8888888888888888,
              "#fdca26"
             ],
             [
              1,
              "#f0f921"
             ]
            ],
            "type": "heatmap"
           }
          ],
          "histogram": [
           {
            "marker": {
             "pattern": {
              "fillmode": "overlay",
              "size": 10,
              "solidity": 0.2
             }
            },
            "type": "histogram"
           }
          ],
          "histogram2d": [
           {
            "colorbar": {
             "outlinewidth": 0,
             "ticks": ""
            },
            "colorscale": [
             [
              0,
              "#0d0887"
             ],
             [
              0.1111111111111111,
              "#46039f"
             ],
             [
              0.2222222222222222,
              "#7201a8"
             ],
             [
              0.3333333333333333,
              "#9c179e"
             ],
             [
              0.4444444444444444,
              "#bd3786"
             ],
             [
              0.5555555555555556,
              "#d8576b"
             ],
             [
              0.6666666666666666,
              "#ed7953"
             ],
             [
              0.7777777777777778,
              "#fb9f3a"
             ],
             [
              0.8888888888888888,
              "#fdca26"
             ],
             [
              1,
              "#f0f921"
             ]
            ],
            "type": "histogram2d"
           }
          ],
          "histogram2dcontour": [
           {
            "colorbar": {
             "outlinewidth": 0,
             "ticks": ""
            },
            "colorscale": [
             [
              0,
              "#0d0887"
             ],
             [
              0.1111111111111111,
              "#46039f"
             ],
             [
              0.2222222222222222,
              "#7201a8"
             ],
             [
              0.3333333333333333,
              "#9c179e"
             ],
             [
              0.4444444444444444,
              "#bd3786"
             ],
             [
              0.5555555555555556,
              "#d8576b"
             ],
             [
              0.6666666666666666,
              "#ed7953"
             ],
             [
              0.7777777777777778,
              "#fb9f3a"
             ],
             [
              0.8888888888888888,
              "#fdca26"
             ],
             [
              1,
              "#f0f921"
             ]
            ],
            "type": "histogram2dcontour"
           }
          ],
          "mesh3d": [
           {
            "colorbar": {
             "outlinewidth": 0,
             "ticks": ""
            },
            "type": "mesh3d"
           }
          ],
          "parcoords": [
           {
            "line": {
             "colorbar": {
              "outlinewidth": 0,
              "ticks": ""
             }
            },
            "type": "parcoords"
           }
          ],
          "pie": [
           {
            "automargin": true,
            "type": "pie"
           }
          ],
          "scatter": [
           {
            "fillpattern": {
             "fillmode": "overlay",
             "size": 10,
             "solidity": 0.2
            },
            "type": "scatter"
           }
          ],
          "scatter3d": [
           {
            "line": {
             "colorbar": {
              "outlinewidth": 0,
              "ticks": ""
             }
            },
            "marker": {
             "colorbar": {
              "outlinewidth": 0,
              "ticks": ""
             }
            },
            "type": "scatter3d"
           }
          ],
          "scattercarpet": [
           {
            "marker": {
             "colorbar": {
              "outlinewidth": 0,
              "ticks": ""
             }
            },
            "type": "scattercarpet"
           }
          ],
          "scattergeo": [
           {
            "marker": {
             "colorbar": {
              "outlinewidth": 0,
              "ticks": ""
             }
            },
            "type": "scattergeo"
           }
          ],
          "scattergl": [
           {
            "marker": {
             "colorbar": {
              "outlinewidth": 0,
              "ticks": ""
             }
            },
            "type": "scattergl"
           }
          ],
          "scattermap": [
           {
            "marker": {
             "colorbar": {
              "outlinewidth": 0,
              "ticks": ""
             }
            },
            "type": "scattermap"
           }
          ],
          "scattermapbox": [
           {
            "marker": {
             "colorbar": {
              "outlinewidth": 0,
              "ticks": ""
             }
            },
            "type": "scattermapbox"
           }
          ],
          "scatterpolar": [
           {
            "marker": {
             "colorbar": {
              "outlinewidth": 0,
              "ticks": ""
             }
            },
            "type": "scatterpolar"
           }
          ],
          "scatterpolargl": [
           {
            "marker": {
             "colorbar": {
              "outlinewidth": 0,
              "ticks": ""
             }
            },
            "type": "scatterpolargl"
           }
          ],
          "scatterternary": [
           {
            "marker": {
             "colorbar": {
              "outlinewidth": 0,
              "ticks": ""
             }
            },
            "type": "scatterternary"
           }
          ],
          "surface": [
           {
            "colorbar": {
             "outlinewidth": 0,
             "ticks": ""
            },
            "colorscale": [
             [
              0,
              "#0d0887"
             ],
             [
              0.1111111111111111,
              "#46039f"
             ],
             [
              0.2222222222222222,
              "#7201a8"
             ],
             [
              0.3333333333333333,
              "#9c179e"
             ],
             [
              0.4444444444444444,
              "#bd3786"
             ],
             [
              0.5555555555555556,
              "#d8576b"
             ],
             [
              0.6666666666666666,
              "#ed7953"
             ],
             [
              0.7777777777777778,
              "#fb9f3a"
             ],
             [
              0.8888888888888888,
              "#fdca26"
             ],
             [
              1,
              "#f0f921"
             ]
            ],
            "type": "surface"
           }
          ],
          "table": [
           {
            "cells": {
             "fill": {
              "color": "#EBF0F8"
             },
             "line": {
              "color": "white"
             }
            },
            "header": {
             "fill": {
              "color": "#C8D4E3"
             },
             "line": {
              "color": "white"
             }
            },
            "type": "table"
           }
          ]
         },
         "layout": {
          "annotationdefaults": {
           "arrowcolor": "#2a3f5f",
           "arrowhead": 0,
           "arrowwidth": 1
          },
          "autotypenumbers": "strict",
          "coloraxis": {
           "colorbar": {
            "outlinewidth": 0,
            "ticks": ""
           }
          },
          "colorscale": {
           "diverging": [
            [
             0,
             "#8e0152"
            ],
            [
             0.1,
             "#c51b7d"
            ],
            [
             0.2,
             "#de77ae"
            ],
            [
             0.3,
             "#f1b6da"
            ],
            [
             0.4,
             "#fde0ef"
            ],
            [
             0.5,
             "#f7f7f7"
            ],
            [
             0.6,
             "#e6f5d0"
            ],
            [
             0.7,
             "#b8e186"
            ],
            [
             0.8,
             "#7fbc41"
            ],
            [
             0.9,
             "#4d9221"
            ],
            [
             1,
             "#276419"
            ]
           ],
           "sequential": [
            [
             0,
             "#0d0887"
            ],
            [
             0.1111111111111111,
             "#46039f"
            ],
            [
             0.2222222222222222,
             "#7201a8"
            ],
            [
             0.3333333333333333,
             "#9c179e"
            ],
            [
             0.4444444444444444,
             "#bd3786"
            ],
            [
             0.5555555555555556,
             "#d8576b"
            ],
            [
             0.6666666666666666,
             "#ed7953"
            ],
            [
             0.7777777777777778,
             "#fb9f3a"
            ],
            [
             0.8888888888888888,
             "#fdca26"
            ],
            [
             1,
             "#f0f921"
            ]
           ],
           "sequentialminus": [
            [
             0,
             "#0d0887"
            ],
            [
             0.1111111111111111,
             "#46039f"
            ],
            [
             0.2222222222222222,
             "#7201a8"
            ],
            [
             0.3333333333333333,
             "#9c179e"
            ],
            [
             0.4444444444444444,
             "#bd3786"
            ],
            [
             0.5555555555555556,
             "#d8576b"
            ],
            [
             0.6666666666666666,
             "#ed7953"
            ],
            [
             0.7777777777777778,
             "#fb9f3a"
            ],
            [
             0.8888888888888888,
             "#fdca26"
            ],
            [
             1,
             "#f0f921"
            ]
           ]
          },
          "colorway": [
           "#636efa",
           "#EF553B",
           "#00cc96",
           "#ab63fa",
           "#FFA15A",
           "#19d3f3",
           "#FF6692",
           "#B6E880",
           "#FF97FF",
           "#FECB52"
          ],
          "font": {
           "color": "#2a3f5f"
          },
          "geo": {
           "bgcolor": "white",
           "lakecolor": "white",
           "landcolor": "white",
           "showlakes": true,
           "showland": true,
           "subunitcolor": "#C8D4E3"
          },
          "hoverlabel": {
           "align": "left"
          },
          "hovermode": "closest",
          "mapbox": {
           "style": "light"
          },
          "paper_bgcolor": "white",
          "plot_bgcolor": "white",
          "polar": {
           "angularaxis": {
            "gridcolor": "#EBF0F8",
            "linecolor": "#EBF0F8",
            "ticks": ""
           },
           "bgcolor": "white",
           "radialaxis": {
            "gridcolor": "#EBF0F8",
            "linecolor": "#EBF0F8",
            "ticks": ""
           }
          },
          "scene": {
           "xaxis": {
            "backgroundcolor": "white",
            "gridcolor": "#DFE8F3",
            "gridwidth": 2,
            "linecolor": "#EBF0F8",
            "showbackground": true,
            "ticks": "",
            "zerolinecolor": "#EBF0F8"
           },
           "yaxis": {
            "backgroundcolor": "white",
            "gridcolor": "#DFE8F3",
            "gridwidth": 2,
            "linecolor": "#EBF0F8",
            "showbackground": true,
            "ticks": "",
            "zerolinecolor": "#EBF0F8"
           },
           "zaxis": {
            "backgroundcolor": "white",
            "gridcolor": "#DFE8F3",
            "gridwidth": 2,
            "linecolor": "#EBF0F8",
            "showbackground": true,
            "ticks": "",
            "zerolinecolor": "#EBF0F8"
           }
          },
          "shapedefaults": {
           "line": {
            "color": "#2a3f5f"
           }
          },
          "ternary": {
           "aaxis": {
            "gridcolor": "#DFE8F3",
            "linecolor": "#A2B1C6",
            "ticks": ""
           },
           "baxis": {
            "gridcolor": "#DFE8F3",
            "linecolor": "#A2B1C6",
            "ticks": ""
           },
           "bgcolor": "white",
           "caxis": {
            "gridcolor": "#DFE8F3",
            "linecolor": "#A2B1C6",
            "ticks": ""
           }
          },
          "title": {
           "x": 0.05
          },
          "xaxis": {
           "automargin": true,
           "gridcolor": "#EBF0F8",
           "linecolor": "#EBF0F8",
           "ticks": "",
           "title": {
            "standoff": 15
           },
           "zerolinecolor": "#EBF0F8",
           "zerolinewidth": 2
          },
          "yaxis": {
           "automargin": true,
           "gridcolor": "#EBF0F8",
           "linecolor": "#EBF0F8",
           "ticks": "",
           "title": {
            "standoff": 15
           },
           "zerolinecolor": "#EBF0F8",
           "zerolinewidth": 2
          }
         }
        },
        "title": {
         "text": "EURUSD Candlestick Chart (Jan-Jun 2025)"
        },
        "width": 1000,
        "xaxis": {
         "autorange": true,
         "range": [
          "2024-12-26 02:06:21.2268",
          "2025-07-10 21:53:38.7732"
         ],
         "rangeslider": {
          "visible": false,
          "yaxis": {}
         },
         "title": {
          "text": "Date"
         },
         "type": "date"
        },
        "yaxis": {
         "autorange": true,
         "range": [
          1.0875524249541666,
          1.161311604702754
         ],
         "tickformat": ".4f",
         "title": {
          "text": "Price"
         },
         "type": "linear"
        }
       }
      }
     },
     "metadata": {},
     "output_type": "display_data"
    }
   ],
   "source": [
    "\n",
    "\n",
    "\n",
    "\n",
    "# Add Doji markers\n",
    "doji_dates = df[df['Doji']].index\n",
    "doji_prices = df[df['Doji']]['High'] + 0.0005  # place slightly above wick\n",
    "\n",
    "fig.add_trace(go.Scatter(\n",
    "    x = doji_dates,\n",
    "    y = doji_prices,\n",
    "    mode = 'markers',\n",
    "    marker = dict(color = 'purple',\n",
    "                  size = 7, \n",
    "                  symbol = 'circle',\n",
    "                 line = dict(width = 1, color = 'white')\n",
    "                 ),\n",
    "    name = 'Doji'\n",
    "))\n",
    "\n",
    "fig.show()\n"
   ]
  },
  {
   "cell_type": "code",
   "execution_count": null,
   "id": "25211980-d10d-4db2-a731-69708d4b6643",
   "metadata": {},
   "outputs": [],
   "source": []
  },
  {
   "cell_type": "markdown",
   "id": "cc347a50-5a49-48dd-b172-b4f49de3a7f3",
   "metadata": {},
   "source": [
    "Detect Bullish Engulfing Candlesticks"
   ]
  },
  {
   "cell_type": "code",
   "execution_count": 8,
   "id": "525ed23f-d01a-4125-ba6e-98ffbbc5a0dc",
   "metadata": {},
   "outputs": [],
   "source": [
    "# Prev Candle:  Bearish (Close < Open)\n",
    "# Current Candle: Bullish (Close > Open) AND  Current Open < Prev Close AND Current Close > Prev Open\n",
    "\n",
    "\n",
    "df[\"Prev_Open\"] = df[\"Open\"].shift(1)\n",
    "df[\"Prev_Close\"] = df[\"Close\"].shift(1)\n",
    "\n",
    "\n",
    "# Making a Bullish Engulfing \n",
    "\n",
    "df[\"Bullish_Engulfing\"] = (\n",
    "    (df[\"Prev_Close\"] < df[\"Prev_Open\"]) &     #  Previous Red candle\n",
    "    (df[\"Close\"] > df[\"Open\"]) &              # Current Green Candle\n",
    "    (df[\"Prev_Close\"] > df[\"Open\"] ) &       \n",
    "    (df[\"Prev_Open\"]  < df[\"Close\"])\n",
    ")"
   ]
  },
  {
   "cell_type": "code",
   "execution_count": 9,
   "id": "39259e46-996f-4f7e-8dce-ece3f1d8b2f1",
   "metadata": {},
   "outputs": [
    {
     "data": {
      "application/vnd.plotly.v1+json": {
       "config": {
        "plotlyServerURL": "https://plot.ly"
       },
       "data": [
        {
         "close": {
          "_inputArray": {
           "0": 1.0919671245985,
           "1": 1.093737456370461,
           "10": 1.0974180833125824,
           "100": 1.150809419758868,
           "101": 1.148220144840211,
           "102": 1.1449566984479238,
           "103": 1.1418325483008618,
           "104": 1.1421361981580709,
           "105": 1.1413085596500394,
           "106": 1.1395802381381963,
           "107": 1.140056431666022,
           "108": 1.138244802887256,
           "109": 1.1390786729909552,
           "11": 1.096145581979366,
           "110": 1.1409015423570732,
           "111": 1.1419988936705108,
           "112": 1.1394977150143328,
           "113": 1.141953709407335,
           "114": 1.1425581623779362,
           "115": 1.144840735688374,
           "116": 1.1474800348892331,
           "117": 1.1467094381394078,
           "118": 1.148867728266434,
           "119": 1.1472953439222375,
           "12": 1.096817320252989,
           "120": 1.1489624621607473,
           "121": 1.145109092597111,
           "122": 1.14700293038185,
           "123": 1.1472681940826568,
           "124": 1.1432724849376654,
           "125": 1.1443074176906187,
           "126": 1.1431762413768125,
           "127": 1.1486705598318694,
           "128": 1.1493643697962392,
           "13": 1.0951201401124628,
           "14": 1.0929870470717105,
           "15": 1.0955746883448698,
           "16": 1.096251674150799,
           "17": 1.1013985674610811,
           "18": 1.1081134856605594,
           "19": 1.1100222578744066,
           "2": 1.0962073799866523,
           "20": 1.1109789214958696,
           "21": 1.1154132288088796,
           "22": 1.111348013982042,
           "23": 1.108650215443171,
           "24": 1.108513113641656,
           "25": 1.1096894332484903,
           "26": 1.1103066948387224,
           "27": 1.110967949486928,
           "28": 1.1131872142725725,
           "29": 1.1135696134608648,
           "3": 1.0976669443712084,
           "30": 1.1153665809946132,
           "31": 1.1163906967416244,
           "32": 1.115347936684401,
           "33": 1.113662762431801,
           "34": 1.111504246423671,
           "35": 1.1129161255416251,
           "36": 1.1128241922504576,
           "37": 1.1177785792386088,
           "38": 1.1185738966355314,
           "39": 1.1237655273489553,
           "4": 1.0994947392410666,
           "40": 1.1214823685990218,
           "41": 1.1221743673615,
           "42": 1.1195327558774772,
           "43": 1.1197336720764912,
           "44": 1.1224986324566952,
           "45": 1.1223071376959728,
           "46": 1.1224281898362023,
           "47": 1.1242527544199297,
           "48": 1.1298398705280783,
           "49": 1.1285142233885217,
           "5": 1.098896444129584,
           "50": 1.126825910038495,
           "51": 1.1261598637796988,
           "52": 1.126727430708009,
           "53": 1.1257288106104062,
           "54": 1.127325734126514,
           "55": 1.1300877598223569,
           "56": 1.1279730741753322,
           "57": 1.132830234521567,
           "58": 1.1301956916176077,
           "59": 1.1319218863864535,
           "6": 1.0969762516710748,
           "60": 1.1330869621667377,
           "61": 1.138497008492585,
           "62": 1.137755711804462,
           "63": 1.138531552663443,
           "64": 1.14043457589491,
           "65": 1.1432223885818449,
           "66": 1.143344487378112,
           "67": 1.1483943181555936,
           "68": 1.1460813508624528,
           "69": 1.1444268766007806,
           "7": 1.098691165044812,
           "70": 1.145094687905191,
           "71": 1.143462575036334,
           "72": 1.140205274791044,
           "73": 1.1441115135312527,
           "74": 1.1467151589214823,
           "75": 1.14156212819378,
           "76": 1.1442435618264115,
           "77": 1.1474241634196003,
           "78": 1.1450072145753545,
           "79": 1.1484391260176776,
           "8": 1.0938457444347187,
           "80": 1.1449703409668373,
           "81": 1.1439351025709896,
           "82": 1.143728765734058,
           "83": 1.1451432875776952,
           "84": 1.1463245096053938,
           "85": 1.1470782363179026,
           "86": 1.1451402462159574,
           "87": 1.1491952222360355,
           "88": 1.151061020538335,
           "89": 1.1499154339745417,
           "9": 1.0958960495773589,
           "90": 1.1486939805728662,
           "91": 1.1524123261927686,
           "92": 1.154216839971381,
           "93": 1.152154090216855,
           "94": 1.1513761986488904,
           "95": 1.1541469315509372,
           "96": 1.1494154187919137,
           "97": 1.1474482062036429,
           "98": 1.1494501752005395,
           "99": 1.146592470105778,
           "bdata": "zVIHhbJ48T96V9jY8n/xPwPT6r8QivE/7Ze/NguQ8T+AobLLh5fxP9aiE3AUlfE/qKdW+DaN8T9/WOQvPZTxP0p0M2VkgPE/cAHMS8qI8T9e3Z1DBo/xP6gZJPPPifE/Y8SCUZCM8T9dlS+ynIXxP2b+YfzffPE/B0QMU3mH8T9dmwoyP4rxP5u0sRpUn/E/3bLSNNW68T9GcfaypsLxP/rrZdWRxvE/kCi0irvY8T9RcOjaFMjxPyWCIAIIvfE/3nIkP3i88T/+TQi1ScHxP23L7fPQw/E/ZTUfVIbG8T9GBHplnc/xP/Ij+l4u0fE/bMXGoIrY8T/cBcF9vNzxP4CH+xN32PE/gK52C5DR8T+hEzytuMjxP+dGpiOBzvE/Ap1+vSDO8T+Z/J/Ka+LxP59XA76t5fE/FGDFj/H68T9QxgJ/l/HxP1WiAxxt9PE/V7bULZvp8T+7xtzaberxP7hMQyDB9fE/j4tHVPj08T+NR/dCd/XxP4m+ynTw/PE/1yja+NIT8j+DZCjuZA7yP5Jp/pp6B/I/pAaQNMAE8j8iWqZXEwfyP2nJmzb8AvI/ezOAtYYJ8j81wCDn1hTyP0ughX4tDPI/0QqTmBIg8j9ePtkTSBXyP82Auh9aHPI/Z3tgyx8h8j+eHKGjSDfyPw2ZUFU/NPI/GnWC3Gw38j/qI2tTOD/yP3U5MI+jSvI/MJ3VliNL8j92P3a40l/yP+EnCGZZVvI/2J56jpJP8j+ZBLbOTlLyPy6yv2mfS/I/hETf4kc+8j8sgNnfR07yP8dSlv7xWPI/chxvptZD8j90P0tW0k7yP/9viHDZW/I/MJDEFfNR8j9/FXu0AWDyPwZ7lWvMUfI/857k5I5N8j/VJ8WItkzyP/0UlsSBUvI/Brx1XlhX8j8gBW+1blryP3hLLZR+UvI/VJKDhxpj8j+8me71vmryP4Bh4bkNZvI/pMJ68Axh8j9nFUjoR3DyP3e2whOsd/I/xfGWIDlv8j/Bb+lyCWzyP/Kj3MVid/I/rasTbAFk8j/m+Xem8lvyP3Xi7d0lZPI/VhuPWHFY8j9vsFwjt2nyP0cnKxYcX/I/L7hyHb5R8j9hXsc08kTyP8OqKpswRvI/83elw8xC8j8Ki998uDvyP7KZGdCrPfI/OuKzLkA28j9hEwGPqjnyP8sSxvkhQfI/3yDGoaBF8j8Rp730YTvyP840t0BxRfI/uA5TEetH8j/2j+6ERFHyP1qYagYUXPI/NCzt/utY8j+sWIUgw2HyPz78z1xSW/I/Jf50diZi8j/E6HDpXVLyP9d/pr4fWvI/QzfV5DVb8j8zldMW2EryP53SeEsVT/I/GXGkK3NK8j+6sYVh9GDyP2Rmt+TLY/I/",
           "dtype": "f8",
           "shape": "129"
          },
          "bdata": "zVIHhbJ48T96V9jY8n/xPwPT6r8QivE/7Ze/NguQ8T+AobLLh5fxP9aiE3AUlfE/qKdW+DaN8T9/WOQvPZTxP0p0M2VkgPE/cAHMS8qI8T9e3Z1DBo/xP6gZJPPPifE/Y8SCUZCM8T9dlS+ynIXxP2b+YfzffPE/B0QMU3mH8T9dmwoyP4rxP5u0sRpUn/E/3bLSNNW68T9GcfaypsLxP/rrZdWRxvE/kCi0irvY8T9RcOjaFMjxPyWCIAIIvfE/3nIkP3i88T/+TQi1ScHxP23L7fPQw/E/ZTUfVIbG8T9GBHplnc/xP/Ij+l4u0fE/bMXGoIrY8T/cBcF9vNzxP4CH+xN32PE/gK52C5DR8T+hEzytuMjxP+dGpiOBzvE/Ap1+vSDO8T+Z/J/Ka+LxP59XA76t5fE/FGDFj/H68T9QxgJ/l/HxP1WiAxxt9PE/V7bULZvp8T+7xtzaberxP7hMQyDB9fE/j4tHVPj08T+NR/dCd/XxP4m+ynTw/PE/1yja+NIT8j+DZCjuZA7yP5Jp/pp6B/I/pAaQNMAE8j8iWqZXEwfyP2nJmzb8AvI/ezOAtYYJ8j81wCDn1hTyP0ughX4tDPI/0QqTmBIg8j9ePtkTSBXyP82Auh9aHPI/Z3tgyx8h8j+eHKGjSDfyPw2ZUFU/NPI/GnWC3Gw38j/qI2tTOD/yP3U5MI+jSvI/MJ3VliNL8j92P3a40l/yP+EnCGZZVvI/2J56jpJP8j+ZBLbOTlLyPy6yv2mfS/I/hETf4kc+8j8sgNnfR07yP8dSlv7xWPI/chxvptZD8j90P0tW0k7yP/9viHDZW/I/MJDEFfNR8j9/FXu0AWDyPwZ7lWvMUfI/857k5I5N8j/VJ8WItkzyP/0UlsSBUvI/Brx1XlhX8j8gBW+1blryP3hLLZR+UvI/VJKDhxpj8j+8me71vmryP4Bh4bkNZvI/pMJ68Axh8j9nFUjoR3DyP3e2whOsd/I/xfGWIDlv8j/Bb+lyCWzyP/Kj3MVid/I/rasTbAFk8j/m+Xem8lvyP3Xi7d0lZPI/VhuPWHFY8j9vsFwjt2nyP0cnKxYcX/I/L7hyHb5R8j9hXsc08kTyP8OqKpswRvI/83elw8xC8j8Ki998uDvyP7KZGdCrPfI/OuKzLkA28j9hEwGPqjnyP8sSxvkhQfI/3yDGoaBF8j8Rp730YTvyP840t0BxRfI/uA5TEetH8j/2j+6ERFHyP1qYagYUXPI/NCzt/utY8j+sWIUgw2HyPz78z1xSW/I/Jf50diZi8j/E6HDpXVLyP9d/pr4fWvI/QzfV5DVb8j8zldMW2EryP53SeEsVT/I/GXGkK3NK8j+6sYVh9GDyP2Rmt+TLY/I/",
          "dtype": "f8"
         },
         "decreasing": {
          "line": {
           "color": "red"
          }
         },
         "high": {
          "_inputArray": {
           "0": 1.0945101372922883,
           "1": 1.0942494547075925,
           "10": 1.097738355095505,
           "100": 1.1508430101402898,
           "101": 1.1484403527750136,
           "102": 1.1452651701616603,
           "103": 1.142674614797504,
           "104": 1.1437687676831216,
           "105": 1.1418952404587686,
           "106": 1.1401330324551755,
           "107": 1.1402469428139432,
           "108": 1.138476412052867,
           "109": 1.139234084882779,
           "11": 1.0966022994803462,
           "110": 1.1414465282464477,
           "111": 1.1426510131334864,
           "112": 1.1407908648084506,
           "113": 1.1431201107841118,
           "114": 1.1430389660622404,
           "115": 1.1462738662782084,
           "116": 1.148737043967182,
           "117": 1.1476906075811544,
           "118": 1.1496846345133476,
           "119": 1.1485003410843213,
           "12": 1.09798891736811,
           "120": 1.1503892206837711,
           "121": 1.146369568038344,
           "122": 1.1483547374267844,
           "123": 1.1475707263348425,
           "124": 1.144059428346786,
           "125": 1.1451705260895249,
           "126": 1.1439919098746676,
           "127": 1.1497672118517084,
           "128": 1.150375123627643,
           "13": 1.0952605719435482,
           "14": 1.0934962618916442,
           "15": 1.0962404029310286,
           "16": 1.0966592606005847,
           "17": 1.1023781797977017,
           "18": 1.1109480877636724,
           "19": 1.1110074107292418,
           "2": 1.0969368463235944,
           "20": 1.112249974868086,
           "21": 1.1164264568213802,
           "22": 1.1124354498717983,
           "23": 1.1117848338597334,
           "24": 1.109438236206812,
           "25": 1.1102190844289572,
           "26": 1.1112352971125157,
           "27": 1.1126838996532806,
           "28": 1.1136559705582574,
           "29": 1.1144297104966492,
           "3": 1.0985398698750373,
           "30": 1.1156028785337622,
           "31": 1.1170561687272185,
           "32": 1.1180209059127528,
           "33": 1.113829408547804,
           "34": 1.1119501192062486,
           "35": 1.1136019993063933,
           "36": 1.1156092019182062,
           "37": 1.1193023296964892,
           "38": 1.1206254076218107,
           "39": 1.125332851259086,
           "4": 1.0999015848144116,
           "40": 1.1216966027926671,
           "41": 1.1224148773095268,
           "42": 1.1218254438270063,
           "43": 1.1206203406880948,
           "44": 1.1239548547444314,
           "45": 1.1228023541586345,
           "46": 1.1233487150085435,
           "47": 1.1256018919448607,
           "48": 1.130217732021107,
           "49": 1.1314844153689427,
           "5": 1.101419065717889,
           "50": 1.1276842142497847,
           "51": 1.1263820740246426,
           "52": 1.1267786335717516,
           "53": 1.12656900331847,
           "54": 1.128826775361581,
           "55": 1.131450545393672,
           "56": 1.1299712778320423,
           "57": 1.1333324848582522,
           "58": 1.1315572675870151,
           "59": 1.1322903738834011,
           "6": 1.097980307819084,
           "60": 1.1337946687121012,
           "61": 1.1390825211757083,
           "62": 1.1379376154941483,
           "63": 1.139511848845927,
           "64": 1.1429872361518656,
           "65": 1.143254315556147,
           "66": 1.1450958804335218,
           "67": 1.1484960506436974,
           "68": 1.147623743587343,
           "69": 1.1452748169056577,
           "7": 1.099723080904823,
           "70": 1.1466938585627926,
           "71": 1.1455314113932706,
           "72": 1.1422463770101925,
           "73": 1.145162203948856,
           "74": 1.147526359786487,
           "75": 1.1438454006533023,
           "76": 1.1448715401877894,
           "77": 1.148122459153478,
           "78": 1.1467413077933204,
           "79": 1.1499388862824254,
           "8": 1.0949268627117543,
           "80": 1.1462516612603817,
           "81": 1.1452118340211486,
           "82": 1.144591524575667,
           "83": 1.146070876510267,
           "84": 1.147080251801152,
           "85": 1.1489694614519994,
           "86": 1.1456535821772276,
           "87": 1.150219535589545,
           "88": 1.1522580571739522,
           "89": 1.1506616551933109,
           "9": 1.0960149023536545,
           "90": 1.1492586987471218,
           "91": 1.1524978550003468,
           "92": 1.1561152194296995,
           "93": 1.1539127478333056,
           "94": 1.1539774387421406,
           "95": 1.1551912813136398,
           "96": 1.151130381398219,
           "97": 1.1487982519959772,
           "98": 1.1518536787193767,
           "99": 1.1485061957837752,
           "bdata": "PPnMDx2D8T+6KFq3C4LxP6PLi6YNjfE/M3Lnip6T8T8ii3lnMpnxP/UvJ5lpn/E/ecKbzFOR8T//R7I6d5jxP+u9rQfShPE/7ZkY7EaJ8T9SM+sXVpDxP6TIT9qui/E/s3a301yR8T9giBHzL4bxPz/3se/1fvE/N0hyYDOK8T8tKbKU6ovxP9fhYE1Xo/E/uPqHgHHG8T+5Ieu0r8bxP2SQMKHGy/E/4/0G/eHc8T9JxEEdiczxP5Dc2eTeyfE/+wrXTkLA8T9pRzAWdcPxP0QltKmex/E/0b78oY3N8T+Ir0jsiNHxP7dhhD+01PE/+ANqZ4LZ8T/HpwdKdt/xP6o7suNp4/E/zpIwyT7S8T/gYkw1jMrxP7B/fFRQ0fE/iq/VCInZ8T/lIEaPqejxP2nWTOgU7vE/9loUBV0B8j//dRAjePLxP45paU1p9fE/P+yQPP/y8T/OzSeYD+7xP5ns9BW4+/E/9rrvmf/28T/ycY+APPnxP6CAIyF3AvI/OT1GMF8V8j+2F/9mjxryP0mxRpr+CvI/q8irNakF8j8ZW1AISQfyP9UKHzhtBvI/H28wqqwP8j9uHRjjaxryP8VTO8NcFPI/p15fPiEi8j/KZR3L2xryPyV61oLcHfI/Svbn4AUk8j99Uf6XrjnyPy34thL+NPI//inDxnA78j93SPD7rEnyPzcxhQnFSvI/2/DTDlBS8j/ymBFlPWDyP7Qh7baqXPI/zay4rwtT8j/l0dCo21jyP9yYx74YVPI/crsTI6RG8j+8NWmalVLyP1VLqZlEXPI/dMa31TBN8j+upPPRZFHyP2Xg3ae1XvI/AR3faQ1Z8j/2tE9RJmbyP4uVYfsLV/I/587hpMlS8j/iTNUzP1DyP4gnWGpOVvI/a/l10nBa8j8IoFDNLWLyP2zxv9mYVPI/DD2JmUxn8j9/1QElpm/yP2EQHTIcafI/zzLcFl1j8j96/D6XoXDyPxq8Haxyf/I/zBqmNm128j9ogvsLsXbyP9rcXdqpe/I/BJnYsAdr8j8gZaBGemHyP0AIfh/+bfI/pFBiCEhg8j+1HzZc2mnyP8g0yf0CYPI/rXkxkgFT8j8UZUgtZUjyP+YptnrgTPI/zaeT8TNF8j+iv3ci/D3yP3b/C5RzPvI/P43QCjM38j/c9RCFTTryP0A4T29dQ/I/uWTCbUxI8j982P7rrUDyP4Z7M1A4SvI/16cUOuNJ8j9Fyv5DI1fyPyavOBg6YfI/gcyX0/Bc8j85LR+3G2XyP51uxuRBYPI/ox8Ih/5n8j9aq72dh1fyP3pGlzepX/I/Jkg3H3Nc8j/g4FZCEU7yP6tcXlSeUvI/7838dcpN8j+4qM5NcmXyP43N4b7vZ/I/",
           "dtype": "f8",
           "shape": "129"
          },
          "bdata": "PPnMDx2D8T+6KFq3C4LxP6PLi6YNjfE/M3Lnip6T8T8ii3lnMpnxP/UvJ5lpn/E/ecKbzFOR8T//R7I6d5jxP+u9rQfShPE/7ZkY7EaJ8T9SM+sXVpDxP6TIT9qui/E/s3a301yR8T9giBHzL4bxPz/3se/1fvE/N0hyYDOK8T8tKbKU6ovxP9fhYE1Xo/E/uPqHgHHG8T+5Ieu0r8bxP2SQMKHGy/E/4/0G/eHc8T9JxEEdiczxP5Dc2eTeyfE/+wrXTkLA8T9pRzAWdcPxP0QltKmex/E/0b78oY3N8T+Ir0jsiNHxP7dhhD+01PE/+ANqZ4LZ8T/HpwdKdt/xP6o7suNp4/E/zpIwyT7S8T/gYkw1jMrxP7B/fFRQ0fE/iq/VCInZ8T/lIEaPqejxP2nWTOgU7vE/9loUBV0B8j//dRAjePLxP45paU1p9fE/P+yQPP/y8T/OzSeYD+7xP5ns9BW4+/E/9rrvmf/28T/ycY+APPnxP6CAIyF3AvI/OT1GMF8V8j+2F/9mjxryP0mxRpr+CvI/q8irNakF8j8ZW1AISQfyP9UKHzhtBvI/H28wqqwP8j9uHRjjaxryP8VTO8NcFPI/p15fPiEi8j/KZR3L2xryPyV61oLcHfI/Svbn4AUk8j99Uf6XrjnyPy34thL+NPI//inDxnA78j93SPD7rEnyPzcxhQnFSvI/2/DTDlBS8j/ymBFlPWDyP7Qh7baqXPI/zay4rwtT8j/l0dCo21jyP9yYx74YVPI/crsTI6RG8j+8NWmalVLyP1VLqZlEXPI/dMa31TBN8j+upPPRZFHyP2Xg3ae1XvI/AR3faQ1Z8j/2tE9RJmbyP4uVYfsLV/I/587hpMlS8j/iTNUzP1DyP4gnWGpOVvI/a/l10nBa8j8IoFDNLWLyP2zxv9mYVPI/DD2JmUxn8j9/1QElpm/yP2EQHTIcafI/zzLcFl1j8j96/D6XoXDyPxq8Haxyf/I/zBqmNm128j9ogvsLsXbyP9rcXdqpe/I/BJnYsAdr8j8gZaBGemHyP0AIfh/+bfI/pFBiCEhg8j+1HzZc2mnyP8g0yf0CYPI/rXkxkgFT8j8UZUgtZUjyP+YptnrgTPI/zaeT8TNF8j+iv3ci/D3yP3b/C5RzPvI/P43QCjM38j/c9RCFTTryP0A4T29dQ/I/uWTCbUxI8j982P7rrUDyP4Z7M1A4SvI/16cUOuNJ8j9Fyv5DI1fyPyavOBg6YfI/gcyX0/Bc8j85LR+3G2XyP51uxuRBYPI/ox8Ih/5n8j9aq72dh1fyP3pGlzepX/I/Jkg3H3Nc8j/g4FZCEU7yP6tcXlSeUvI/7838dcpN8j+4qM5NcmXyP43N4b7vZ/I/",
          "dtype": "f8"
         },
         "increasing": {
          "line": {
           "color": "green"
          }
         },
         "low": {
          "_inputArray": {
           "0": 1.091240383941596,
           "1": 1.093320044541935,
           "10": 1.096417081112007,
           "100": 1.150330659798583,
           "101": 1.147516672812775,
           "102": 1.1428992474722317,
           "103": 1.1398684351619357,
           "104": 1.140241666189431,
           "105": 1.1391586484678091,
           "106": 1.1386164692435796,
           "107": 1.1395501723020862,
           "108": 1.1369963928358613,
           "109": 1.1387633106501442,
           "11": 1.0944765710879227,
           "110": 1.1387655071254328,
           "111": 1.1394021940729175,
           "112": 1.1387998562305768,
           "113": 1.1415955582278974,
           "114": 1.1425372674110743,
           "115": 1.1442331595261384,
           "116": 1.1463603862871794,
           "117": 1.1449517140508023,
           "118": 1.1469665400036615,
           "119": 1.144709083818975,
           "12": 1.095337172548718,
           "120": 1.1476666481338187,
           "121": 1.1443635683533644,
           "122": 1.1465976158447952,
           "123": 1.1469094221992988,
           "124": 1.1421381070495338,
           "125": 1.1432817800985808,
           "126": 1.1427338677689822,
           "127": 1.1472773956793678,
           "128": 1.1485963821052108,
           "13": 1.0929479959420256,
           "14": 1.0926952254110165,
           "15": 1.0941917545030828,
           "16": 1.0957063807932566,
           "17": 1.1001645099475343,
           "18": 1.1071679627026554,
           "19": 1.1091298530940517,
           "2": 1.0945025649983686,
           "20": 1.1091994510790006,
           "21": 1.1149048408754392,
           "22": 1.1105553733012337,
           "23": 1.1057619677066184,
           "24": 1.1082081562663264,
           "25": 1.1083028339018426,
           "26": 1.1094324639582656,
           "27": 1.1095823384201786,
           "28": 1.1121080990762429,
           "29": 1.1129736822156582,
           "3": 1.0964722450414015,
           "30": 1.115031631278941,
           "31": 1.1152243921408642,
           "32": 1.114096983414841,
           "33": 1.1127218027879364,
           "34": 1.110302646167631,
           "35": 1.1119273937365166,
           "36": 1.1118018530904026,
           "37": 1.1161332563160256,
           "38": 1.1180203617276372,
           "39": 1.1236234863520072,
           "4": 1.0993495079453586,
           "40": 1.1205302649359614,
           "41": 1.1206274660598254,
           "42": 1.1193030015185994,
           "43": 1.1191619605593257,
           "44": 1.121075184507326,
           "45": 1.1205543131414069,
           "46": 1.1217657518679212,
           "47": 1.1226389382363788,
           "48": 1.1281244279034346,
           "49": 1.127708388935721,
           "5": 1.0988829247195646,
           "50": 1.1262660190813965,
           "51": 1.124469411146262,
           "52": 1.1251689926094854,
           "53": 1.124629260342797,
           "54": 1.1254664665461038,
           "55": 1.128955590152033,
           "56": 1.127054852566875,
           "57": 1.1314363464783277,
           "58": 1.1301868153084884,
           "59": 1.1315761456720277,
           "6": 1.094039298295039,
           "60": 1.131794417157679,
           "61": 1.1376649433739,
           "62": 1.1370315020988715,
           "63": 1.137512178609569,
           "64": 1.1388052042245314,
           "65": 1.142838491568142,
           "66": 1.1427551510017389,
           "67": 1.1457746505320037,
           "68": 1.1448091820569668,
           "69": 1.1426004163908778,
           "7": 1.098070299098591,
           "70": 1.1437497349014094,
           "71": 1.1418915458333645,
           "72": 1.1387183763856052,
           "73": 1.1438468811657372,
           "74": 1.146554473843832,
           "75": 1.1411096218628216,
           "76": 1.1439674231832802,
           "77": 1.1470402345262825,
           "78": 1.1448768923075476,
           "79": 1.1465303784504532,
           "8": 1.0934849143340617,
           "80": 1.1434347309289965,
           "81": 1.1422695844616788,
           "82": 1.1409447991543284,
           "83": 1.1437573145250526,
           "84": 1.1453547224612997,
           "85": 1.1467695777998863,
           "86": 1.1442045755111283,
           "87": 1.1482539774485527,
           "88": 1.1510527090622018,
           "89": 1.1485061072400924,
           "9": 1.0946044903945251,
           "90": 1.148067708089845,
           "91": 1.1509237093856837,
           "92": 1.1538600905741236,
           "93": 1.1514155969048545,
           "94": 1.1501637375149796,
           "95": 1.1538211656384234,
           "96": 1.1476162122015274,
           "97": 1.1457830582513857,
           "98": 1.1483267130860004,
           "99": 1.14627918056921,
           "bdata": "gagRerh18T/p5rUoPX7xP9HlIB8Vg/E/08oWeyaL8T/v+3eC75bxP5Da/EIGlfE/qXTrWS+B8T/wZXUpspHxPxu/mwnqfvE/p8mE/3+D8T/6bSKj7IrxPzv5cN35gvE/owljRYCG8T+9y6wJt3zxP64rGv2te/E/MUySNs+B8T+xaPhpA4jxP8gc5xlGmvE/JsrvwPW28T9Y5uDx/r7xP+IBcuxHv/E/vmRbdabW8T8qnQu21cTxP1leB3YzsfE/dDDFeTi78T+zwprAm7vxP6gkXUE8wPE/8L37aNnA8T8WY7LcMcvxP5fM5n29zvE/y5NlaCvX8T/UJD+I9dfxP4hsxVtX0/E/WVOIYLXN8T9bPB+1zMPxP2f/+WB0yvE/1HxqvfDJ8T9fr52LrtvxP94dnlFp4/E/1WPunlz68T8vQKEkse3xP+2e2xAX7vE/cmSdQ6ro8T8FeThfFujxP98OXYjs7/E/algFXMrt8T+quiClwPLxPwUQTz9U9vE/lp86M8wM8j/XdZ7zFwvyP7XPaIQvBfI/85sjo9P98T8zspszsQDyP3HAVEB7/vE/jvYoIOkB8j8GbqW8MxDyP1AqSatqCPI/EBWa/1wa8j/07CHFPhXyP36FqZbvGvI/Q813dtQb8j+ki9kn4DPyPyGVwPFHMfI/gOBe+D8z8j8di0rOizjyP4BSngMRSfI/SjUOoLlI8j+87snMF1XyP96F0W4jUfI/g7fMXxdI8j8TXaOFzEzyP1TuzhEwRfI/5OKewjA48j+m0CNjMk3yPzHeA4FJWPI/89OwKfxB8j9vL+TIsE3yP+zIZ9xGWvI/M4OmbmpR8j8PC/U8MFjyP6g1ZzeCS/I/nKfHeLxG8j/Li25VT0HyP1oiR3jUTPI/o6U0eV9T8j/9K4sOK1nyP84P/HSpTvI/mEsKkD9f8j9MT9Y+tmryP7OjnfBHYPI/1W69Pnxe8j9SCsD6LmryP67Okv81dvI/gPjMwjJs8j9fwFoXEmfyPxOYvS4NdvI/Qz080aJc8j9QAridIFXyP6I93dSLX/I/RBaK1ihX8j97vDYfwWfyP5WHVXE6XPI/i0KouFBJ8j8cNiyv5jzyP1sfnQtuPvI/L/9Ba/458j8faSHnxTfyP5wEI/aYO/I/X2YuISMx8j9uCJLgXzjyP1mqLi5iOPI/jYqIy/068j+AMrMyhjjyPxyQPbT5Q/I/S95fKNVH8j/CnfJtx07yP6eICP19V/I/tI5147hR8j+FwC6W+VnyP2b85ni6UPI/dB0HtNdc8j8n/EwsUE/yP3eZ2712WPI/uR+9sb1Z8j+EsJSbMkbyP1Yt+tXhSvI/ApfhTqNI8j+CIN6KP1vyP/8hl5mmYPI/",
           "dtype": "f8",
           "shape": "129"
          },
          "bdata": "gagRerh18T/p5rUoPX7xP9HlIB8Vg/E/08oWeyaL8T/v+3eC75bxP5Da/EIGlfE/qXTrWS+B8T/wZXUpspHxPxu/mwnqfvE/p8mE/3+D8T/6bSKj7IrxPzv5cN35gvE/owljRYCG8T+9y6wJt3zxP64rGv2te/E/MUySNs+B8T+xaPhpA4jxP8gc5xlGmvE/JsrvwPW28T9Y5uDx/r7xP+IBcuxHv/E/vmRbdabW8T8qnQu21cTxP1leB3YzsfE/dDDFeTi78T+zwprAm7vxP6gkXUE8wPE/8L37aNnA8T8WY7LcMcvxP5fM5n29zvE/y5NlaCvX8T/UJD+I9dfxP4hsxVtX0/E/WVOIYLXN8T9bPB+1zMPxP2f/+WB0yvE/1HxqvfDJ8T9fr52LrtvxP94dnlFp4/E/1WPunlz68T8vQKEkse3xP+2e2xAX7vE/cmSdQ6ro8T8FeThfFujxP98OXYjs7/E/algFXMrt8T+quiClwPLxPwUQTz9U9vE/lp86M8wM8j/XdZ7zFwvyP7XPaIQvBfI/85sjo9P98T8zspszsQDyP3HAVEB7/vE/jvYoIOkB8j8GbqW8MxDyP1AqSatqCPI/EBWa/1wa8j/07CHFPhXyP36FqZbvGvI/Q813dtQb8j+ki9kn4DPyPyGVwPFHMfI/gOBe+D8z8j8di0rOizjyP4BSngMRSfI/SjUOoLlI8j+87snMF1XyP96F0W4jUfI/g7fMXxdI8j8TXaOFzEzyP1TuzhEwRfI/5OKewjA48j+m0CNjMk3yPzHeA4FJWPI/89OwKfxB8j9vL+TIsE3yP+zIZ9xGWvI/M4OmbmpR8j8PC/U8MFjyP6g1ZzeCS/I/nKfHeLxG8j/Li25VT0HyP1oiR3jUTPI/o6U0eV9T8j/9K4sOK1nyP84P/HSpTvI/mEsKkD9f8j9MT9Y+tmryP7OjnfBHYPI/1W69Pnxe8j9SCsD6LmryP67Okv81dvI/gPjMwjJs8j9fwFoXEmfyPxOYvS4NdvI/Qz080aJc8j9QAridIFXyP6I93dSLX/I/RBaK1ihX8j97vDYfwWfyP5WHVXE6XPI/i0KouFBJ8j8cNiyv5jzyP1sfnQtuPvI/L/9Ba/458j8faSHnxTfyP5wEI/aYO/I/X2YuISMx8j9uCJLgXzjyP1mqLi5iOPI/jYqIy/068j+AMrMyhjjyPxyQPbT5Q/I/S95fKNVH8j/CnfJtx07yP6eICP19V/I/tI5147hR8j+FwC6W+VnyP2b85ni6UPI/dB0HtNdc8j8n/EwsUE/yP3eZ2712WPI/uR+9sb1Z8j+EsJSbMkbyP1Yt+tXhSvI/ApfhTqNI8j+CIN6KP1vyP/8hl5mmYPI/",
          "dtype": "f8"
         },
         "open": {
          "_inputArray": {
           "0": 1.0931186182311754,
           "1": 1.0941019682365287,
           "10": 1.097518473547086,
           "100": 1.150399188177006,
           "101": 1.1477053562617296,
           "102": 1.1441942706795445,
           "103": 1.141405118350204,
           "104": 1.1429376059265337,
           "105": 1.1414012991437732,
           "106": 1.1390832289920865,
           "107": 1.13999047859763,
           "108": 1.1375772570199407,
           "109": 1.1390340237701,
           "11": 1.0963095043495008,
           "110": 1.141250825559165,
           "111": 1.1412943308304595,
           "112": 1.1399331685227352,
           "113": 1.142746615604343,
           "114": 1.143022991298254,
           "115": 1.1445652976868312,
           "116": 1.1479510573779037,
           "117": 1.146221763464378,
           "118": 1.1483403029676469,
           "119": 1.1483780544807438,
           "12": 1.0971545628464838,
           "120": 1.1483288420728357,
           "121": 1.1447076710113624,
           "122": 1.1468761906904597,
           "123": 1.1473135434546404,
           "124": 1.1439333426109617,
           "125": 1.1447044819438528,
           "126": 1.1438560973655858,
           "127": 1.149056544851532,
           "128": 1.1495114781095055,
           "13": 1.0950331118418353,
           "14": 1.0933771169292434,
           "15": 1.0953830592791447,
           "16": 1.0960470149088253,
           "17": 1.1015703370543604,
           "18": 1.1082116233186092,
           "19": 1.1095308698759403,
           "2": 1.0957758343521191,
           "20": 1.1120946991175926,
           "21": 1.1149275325259045,
           "22": 1.1105868475451066,
           "23": 1.1092170669385593,
           "24": 1.108777207008882,
           "25": 1.109886163628568,
           "26": 1.1099914415222214,
           "27": 1.1102688046477922,
           "28": 1.1130775589145243,
           "29": 1.1135467752209942,
           "3": 1.0978197601269633,
           "30": 1.115372791489741,
           "31": 1.1164375107339897,
           "32": 1.1159683429909837,
           "33": 1.1131139159202683,
           "34": 1.1105502420130546,
           "35": 1.1127260737905995,
           "36": 1.1119911626611725,
           "37": 1.1164100819407854,
           "38": 1.1193351776908655,
           "39": 1.1238545318946345,
           "4": 1.0996163280479867,
           "40": 1.1211689658964603,
           "41": 1.12197882287802,
           "42": 1.1204044943510385,
           "43": 1.120298681102866,
           "44": 1.1229475306122547,
           "45": 1.122472570506197,
           "46": 1.1218966653893934,
           "47": 1.124190064019235,
           "48": 1.129367076465711,
           "49": 1.1295289954809815,
           "5": 1.0993285265686887,
           "50": 1.1263027308455338,
           "51": 1.1255066226271546,
           "52": 1.1259109687096007,
           "53": 1.1261298752953472,
           "54": 1.1264919657360997,
           "55": 1.1303921884682575,
           "56": 1.1281163106693124,
           "57": 1.1327273383724294,
           "58": 1.1314426867104836,
           "59": 1.1316482564423025,
           "6": 1.0961957859474678,
           "60": 1.133335325643805,
           "61": 1.1378792013618515,
           "62": 1.1373564978240942,
           "63": 1.1389086133800843,
           "64": 1.1400485555729247,
           "65": 1.143205172763358,
           "66": 1.1436886915903204,
           "67": 1.1484350798344762,
           "68": 1.145873755304385,
           "69": 1.1444537073297394,
           "7": 1.0985652165689996,
           "70": 1.144037131356335,
           "71": 1.143322819929072,
           "72": 1.1407366299991146,
           "73": 1.1449875207425906,
           "74": 1.147062932283755,
           "75": 1.1416389586107891,
           "76": 1.14432738094847,
           "77": 1.1470411983822857,
           "78": 1.1454883641604294,
           "79": 1.148890538947294,
           "8": 1.093556684305395,
           "80": 1.1447013863883615,
           "81": 1.1431602670188123,
           "82": 1.143946392195064,
           "83": 1.1457732394224696,
           "84": 1.1461005604294303,
           "85": 1.147211339707514,
           "86": 1.145346536296672,
           "87": 1.1496896086585748,
           "88": 1.1513179369028528,
           "89": 1.1494513315587296,
           "9": 1.0960145473925655,
           "90": 1.1491174325218958,
           "91": 1.1522631083206123,
           "92": 1.1542314107092495,
           "93": 1.1525986056589683,
           "94": 1.15045656821722,
           "95": 1.154578729351968,
           "96": 1.148877123539686,
           "97": 1.14715801471203,
           "98": 1.1500546888428254,
           "99": 1.1471933421199372,
           "bdata": "yTm/8ml98T+9CsEQcYHxP6ahxD1MiPE/r13qc6uQ8T/C0XFKB5jxPxfCUoLZlvE/rISqlwSK8T///doeuZPxPzSfNks1f/E/adzPjEaJ8T/MP+qHb4/xP+mZt9V7ivE/QFNh8fGN8T9cXbZwQYXxP3B+9gB5fvE/RiQDY7CG8T/alj6YaInxP1lGvjcIoPE/PTVzHDy78T9DUABxo8DxP4Y9rM8jy/E/Yr2ZQL7W8T/8Ltm29sTxP5KoKmVav/E/NHQqK4298T/oFHH+F8LxP2zYwmKGwvE/U7PbOKnD8T+5MBdqKs/xPzc/YmwW0fE/I7/kI5HY8T8IFUqU7dzxPwhICJ8B2/E/ypmZiVDP8T/fLKBU0MTxP8tkBdu5zfE/zSHRPrfK8T8CxG3R0NzxPyYd1wDM6PE/dy6/40778T8HDJ3eTvDxP/8M8RCg8/E/TndYQy3t8T99a1FPvuzxP1GocdSX9/E/4LJPzKX18T8ibPXqSfPxP1E2d7iu/PE/+5YpNuMR8j+/l/f+jBLyP24IJgNWBfI/N9d5OxMC8j/wC004uwPyP70Sl8KgBPI/XLGAcBwG8j8kAJIeFhbyP76KRrDDDPI/74OZs6Yf8j+3hIulYxryP/nrvzM7G/I/nKrwOCQi8j8wXUrSwDTyP+PCILqcMvI/TJr5PPg48j+gmuCNoz3yP7sv2oGRSvI/ofdyg4xM8j/ZfVd2/V/yP1sIBrh/VfI/ZUbMsK5P8j+hXAnh+U3yP5Hahd4MS/I/kCBzDXVA8j9Hrj5v3lHyPyzNSaleWvI/VypxNidE8j/JdFE6Kk/yPw13I99HWvI/BUhgm+tT8j8qZrcL22HyP/uUo2ayUPI/OOuOa2JK8j8Krm27mk3yP0g5/1EWVfI/+4uPim1W8j9QThpH+lryP4Syv+NWU/I/edVb7iBl8j8wvGRbzGvyP982VhQnZPI/1x7/9chi8j9H/elwq2/yP9oxEFu7d/I/C4dLPAtx8j+0YX8lRWjyP0CVs4snefI/qZuL+sxh8j/whMhcwlryP/AP076fZvI/T4HpZ+da8j8FC6n6CGjyPxhpqUoAXfI/bW3Npp5O8j900WwDMkPyPwArbfF4SfI/YfM2Ai5D8j/mFv9VrznyP1hA9admPfI/PC+5NYQz8j9b+5G9eznyPy70xDmQQvI/tW4g2L1C8j+T5OaPKj3yP1cq2qywSPI/xjvjedJJ8j8eOZuzI1DyPyaMje0BXvI/7q/AoexW8j/hy94Uml/yP70Ft6rBX/I/IBpcEI5f8j8Ilqf9uFDyP7A5OdmaWfI/MlQ2cmVb8j+1FnUMjU3yPxiJmKW1UPI/Aj8YDTxN8j/9RZYdiWLyPw22zSVmZPI/",
           "dtype": "f8",
           "shape": "129"
          },
          "bdata": "yTm/8ml98T+9CsEQcYHxP6ahxD1MiPE/r13qc6uQ8T/C0XFKB5jxPxfCUoLZlvE/rISqlwSK8T///doeuZPxPzSfNks1f/E/adzPjEaJ8T/MP+qHb4/xP+mZt9V7ivE/QFNh8fGN8T9cXbZwQYXxP3B+9gB5fvE/RiQDY7CG8T/alj6YaInxP1lGvjcIoPE/PTVzHDy78T9DUABxo8DxP4Y9rM8jy/E/Yr2ZQL7W8T/8Ltm29sTxP5KoKmVav/E/NHQqK4298T/oFHH+F8LxP2zYwmKGwvE/U7PbOKnD8T+5MBdqKs/xPzc/YmwW0fE/I7/kI5HY8T8IFUqU7dzxPwhICJ8B2/E/ypmZiVDP8T/fLKBU0MTxP8tkBdu5zfE/zSHRPrfK8T8CxG3R0NzxPyYd1wDM6PE/dy6/40778T8HDJ3eTvDxP/8M8RCg8/E/TndYQy3t8T99a1FPvuzxP1GocdSX9/E/4LJPzKX18T8ibPXqSfPxP1E2d7iu/PE/+5YpNuMR8j+/l/f+jBLyP24IJgNWBfI/N9d5OxMC8j/wC004uwPyP70Sl8KgBPI/XLGAcBwG8j8kAJIeFhbyP76KRrDDDPI/74OZs6Yf8j+3hIulYxryP/nrvzM7G/I/nKrwOCQi8j8wXUrSwDTyP+PCILqcMvI/TJr5PPg48j+gmuCNoz3yP7sv2oGRSvI/ofdyg4xM8j/ZfVd2/V/yP1sIBrh/VfI/ZUbMsK5P8j+hXAnh+U3yP5Hahd4MS/I/kCBzDXVA8j9Hrj5v3lHyPyzNSaleWvI/VypxNidE8j/JdFE6Kk/yPw13I99HWvI/BUhgm+tT8j8qZrcL22HyP/uUo2ayUPI/OOuOa2JK8j8Krm27mk3yP0g5/1EWVfI/+4uPim1W8j9QThpH+lryP4Syv+NWU/I/edVb7iBl8j8wvGRbzGvyP982VhQnZPI/1x7/9chi8j9H/elwq2/yP9oxEFu7d/I/C4dLPAtx8j+0YX8lRWjyP0CVs4snefI/qZuL+sxh8j/whMhcwlryP/AP076fZvI/T4HpZ+da8j8FC6n6CGjyPxhpqUoAXfI/bW3Npp5O8j900WwDMkPyPwArbfF4SfI/YfM2Ai5D8j/mFv9VrznyP1hA9admPfI/PC+5NYQz8j9b+5G9eznyPy70xDmQQvI/tW4g2L1C8j+T5OaPKj3yP1cq2qywSPI/xjvjedJJ8j8eOZuzI1DyPyaMje0BXvI/7q/AoexW8j/hy94Uml/yP70Ft6rBX/I/IBpcEI5f8j8Ilqf9uFDyP7A5OdmaWfI/MlQ2cmVb8j+1FnUMjU3yPxiJmKW1UPI/Aj8YDTxN8j/9RZYdiWLyPw22zSVmZPI/",
          "dtype": "f8"
         },
         "type": "candlestick",
         "whiskerwidth": 0.3,
         "x": [
          "2025-01-01T00:00:00",
          "2025-01-02T00:00:00",
          "2025-01-03T00:00:00",
          "2025-01-06T00:00:00",
          "2025-01-07T00:00:00",
          "2025-01-08T00:00:00",
          "2025-01-09T00:00:00",
          "2025-01-10T00:00:00",
          "2025-01-13T00:00:00",
          "2025-01-14T00:00:00",
          "2025-01-15T00:00:00",
          "2025-01-16T00:00:00",
          "2025-01-17T00:00:00",
          "2025-01-20T00:00:00",
          "2025-01-21T00:00:00",
          "2025-01-22T00:00:00",
          "2025-01-23T00:00:00",
          "2025-01-24T00:00:00",
          "2025-01-27T00:00:00",
          "2025-01-28T00:00:00",
          "2025-01-29T00:00:00",
          "2025-01-30T00:00:00",
          "2025-01-31T00:00:00",
          "2025-02-03T00:00:00",
          "2025-02-04T00:00:00",
          "2025-02-05T00:00:00",
          "2025-02-06T00:00:00",
          "2025-02-07T00:00:00",
          "2025-02-10T00:00:00",
          "2025-02-11T00:00:00",
          "2025-02-12T00:00:00",
          "2025-02-13T00:00:00",
          "2025-02-14T00:00:00",
          "2025-02-17T00:00:00",
          "2025-02-18T00:00:00",
          "2025-02-19T00:00:00",
          "2025-02-20T00:00:00",
          "2025-02-21T00:00:00",
          "2025-02-24T00:00:00",
          "2025-02-25T00:00:00",
          "2025-02-26T00:00:00",
          "2025-02-27T00:00:00",
          "2025-02-28T00:00:00",
          "2025-03-03T00:00:00",
          "2025-03-04T00:00:00",
          "2025-03-05T00:00:00",
          "2025-03-06T00:00:00",
          "2025-03-07T00:00:00",
          "2025-03-10T00:00:00",
          "2025-03-11T00:00:00",
          "2025-03-12T00:00:00",
          "2025-03-13T00:00:00",
          "2025-03-14T00:00:00",
          "2025-03-17T00:00:00",
          "2025-03-18T00:00:00",
          "2025-03-19T00:00:00",
          "2025-03-20T00:00:00",
          "2025-03-21T00:00:00",
          "2025-03-24T00:00:00",
          "2025-03-25T00:00:00",
          "2025-03-26T00:00:00",
          "2025-03-27T00:00:00",
          "2025-03-28T00:00:00",
          "2025-03-31T00:00:00",
          "2025-04-01T00:00:00",
          "2025-04-02T00:00:00",
          "2025-04-03T00:00:00",
          "2025-04-04T00:00:00",
          "2025-04-07T00:00:00",
          "2025-04-08T00:00:00",
          "2025-04-09T00:00:00",
          "2025-04-10T00:00:00",
          "2025-04-11T00:00:00",
          "2025-04-14T00:00:00",
          "2025-04-15T00:00:00",
          "2025-04-16T00:00:00",
          "2025-04-17T00:00:00",
          "2025-04-18T00:00:00",
          "2025-04-21T00:00:00",
          "2025-04-22T00:00:00",
          "2025-04-23T00:00:00",
          "2025-04-24T00:00:00",
          "2025-04-25T00:00:00",
          "2025-04-28T00:00:00",
          "2025-04-29T00:00:00",
          "2025-04-30T00:00:00",
          "2025-05-01T00:00:00",
          "2025-05-02T00:00:00",
          "2025-05-05T00:00:00",
          "2025-05-06T00:00:00",
          "2025-05-07T00:00:00",
          "2025-05-08T00:00:00",
          "2025-05-09T00:00:00",
          "2025-05-12T00:00:00",
          "2025-05-13T00:00:00",
          "2025-05-14T00:00:00",
          "2025-05-15T00:00:00",
          "2025-05-16T00:00:00",
          "2025-05-19T00:00:00",
          "2025-05-20T00:00:00",
          "2025-05-21T00:00:00",
          "2025-05-22T00:00:00",
          "2025-05-23T00:00:00",
          "2025-05-26T00:00:00",
          "2025-05-27T00:00:00",
          "2025-05-28T00:00:00",
          "2025-05-29T00:00:00",
          "2025-05-30T00:00:00",
          "2025-06-02T00:00:00",
          "2025-06-03T00:00:00",
          "2025-06-04T00:00:00",
          "2025-06-05T00:00:00",
          "2025-06-06T00:00:00",
          "2025-06-09T00:00:00",
          "2025-06-10T00:00:00",
          "2025-06-11T00:00:00",
          "2025-06-12T00:00:00",
          "2025-06-13T00:00:00",
          "2025-06-16T00:00:00",
          "2025-06-17T00:00:00",
          "2025-06-18T00:00:00",
          "2025-06-19T00:00:00",
          "2025-06-20T00:00:00",
          "2025-06-23T00:00:00",
          "2025-06-24T00:00:00",
          "2025-06-25T00:00:00",
          "2025-06-26T00:00:00",
          "2025-06-27T00:00:00",
          "2025-06-30T00:00:00"
         ]
        },
        {
         "marker": {
          "color": "purple",
          "line": {
           "color": "white",
           "width": 1
          },
          "size": 7,
          "symbol": "circle"
         },
         "mode": "markers",
         "name": "Doji",
         "type": "scatter",
         "x": [
          "2025-01-06T00:00:00",
          "2025-01-10T00:00:00",
          "2025-01-14T00:00:00",
          "2025-01-15T00:00:00",
          "2025-01-16T00:00:00",
          "2025-01-20T00:00:00",
          "2025-01-22T00:00:00",
          "2025-01-24T00:00:00",
          "2025-01-27T00:00:00",
          "2025-02-03T00:00:00",
          "2025-02-10T00:00:00",
          "2025-02-11T00:00:00",
          "2025-02-12T00:00:00",
          "2025-02-13T00:00:00",
          "2025-02-25T00:00:00",
          "2025-03-05T00:00:00",
          "2025-03-07T00:00:00",
          "2025-03-20T00:00:00",
          "2025-03-21T00:00:00",
          "2025-04-01T00:00:00",
          "2025-04-02T00:00:00",
          "2025-04-04T00:00:00",
          "2025-04-07T00:00:00",
          "2025-04-08T00:00:00",
          "2025-04-10T00:00:00",
          "2025-04-16T00:00:00",
          "2025-04-17T00:00:00",
          "2025-04-23T00:00:00",
          "2025-04-25T00:00:00",
          "2025-04-30T00:00:00",
          "2025-05-08T00:00:00",
          "2025-05-09T00:00:00",
          "2025-05-16T00:00:00",
          "2025-05-28T00:00:00",
          "2025-05-30T00:00:00",
          "2025-06-03T00:00:00",
          "2025-06-20T00:00:00",
          "2025-06-23T00:00:00",
          "2025-06-30T00:00:00"
         ],
         "y": {
          "_inputArray": {
           "0": 1.0990398698750372,
           "1": 1.100223080904823,
           "10": 1.1141559705582573,
           "11": 1.1149297104966491,
           "12": 1.116102878533762,
           "13": 1.1175561687272184,
           "14": 1.125832851259086,
           "15": 1.1233023541586344,
           "16": 1.1261018919448607,
           "17": 1.1304712778320423,
           "18": 1.1338324848582522,
           "19": 1.1434872361518655,
           "2": 1.0965149023536545,
           "20": 1.143754315556147,
           "21": 1.1489960506436974,
           "22": 1.148123743587343,
           "23": 1.1457748169056576,
           "24": 1.1460314113932706,
           "25": 1.1443454006533023,
           "26": 1.1453715401877893,
           "27": 1.1467516612603816,
           "28": 1.145091524575667,
           "29": 1.1494694614519994,
           "3": 1.098238355095505,
           "30": 1.1529978550003468,
           "31": 1.1566152194296995,
           "32": 1.1492982519959771,
           "33": 1.1423952404587685,
           "34": 1.1407469428139432,
           "35": 1.139734084882779,
           "36": 1.1488547374267843,
           "37": 1.1480707263348424,
           "38": 1.1508751236276429,
           "4": 1.097102299480346,
           "5": 1.0957605719435481,
           "6": 1.0967404029310286,
           "7": 1.1028781797977016,
           "8": 1.1114480877636723,
           "9": 1.1122848338597333,
           "bdata": "aNCh1KqV8T80pmyEg5rxPyL40jVTi/E/h5GlYWKS8T/ZJgoku43xP5Xmyzw8iPE/bKYsqj+M8T8MQBuXY6XxP+1YQsp9yPE/xTqULuvL8T+9DQM2ldPxP+y/PonA1vE/LWIksY7b8T/8BcKTguHxPyu5zk5pA/I/Kxmq4wv58T/V3t1qgwTyP/qx9QxpFvI/3LwZiC0k8j+spqpFuUvyP2yPP1PRTPI/J/fLrkli8j/pf6cAt17yPwILc/kXVfI/EfeBCCVW8j+pJHIfPU/yP+MCrhtxU/I/wPMbRRhZ8j8Xq499S1LyPz3+Chc6ZPI/r1r54K1y8j9PGtj1foHyP1XDWpCGY/I/AgZOO0BH8j+rXcbdf0DyPxFUy85ZPPI/r6RRgbVh8j9bpvFof17yP8IrnAj8afI/",
           "dtype": "f8",
           "shape": "39"
          },
          "bdata": "aNCh1KqV8T80pmyEg5rxPyL40jVTi/E/h5GlYWKS8T/ZJgoku43xP5Xmyzw8iPE/bKYsqj+M8T8MQBuXY6XxP+1YQsp9yPE/xTqULuvL8T+9DQM2ldPxP+y/PonA1vE/LWIksY7b8T/8BcKTguHxPyu5zk5pA/I/Kxmq4wv58T/V3t1qgwTyP/qx9QxpFvI/3LwZiC0k8j+spqpFuUvyP2yPP1PRTPI/J/fLrkli8j/pf6cAt17yPwILc/kXVfI/EfeBCCVW8j+pJHIfPU/yP+MCrhtxU/I/wPMbRRhZ8j8Xq499S1LyPz3+Chc6ZPI/r1r54K1y8j9PGtj1foHyP1XDWpCGY/I/AgZOO0BH8j+rXcbdf0DyPxFUy85ZPPI/r6RRgbVh8j9bpvFof17yP8IrnAj8afI/",
          "dtype": "f8"
         }
        },
        {
         "marker": {
          "color": "lime",
          "line": {
           "color": "black",
           "width": 1
          },
          "size": 9,
          "symbol": "triangle-up"
         },
         "mode": "markers",
         "name": "Bullish Engulfing",
         "type": "scatter",
         "x": [
          "2025-04-09T00:00:00"
         ],
         "y": {
          "_inputArray": {
           "0": 1.1432497349014095,
           "bdata": "3v7oO8BK8j8=",
           "dtype": "f8",
           "shape": "1"
          },
          "bdata": "3v7oO8BK8j8=",
          "dtype": "f8"
         }
        }
       ],
       "layout": {
        "height": 500,
        "template": {
         "data": {
          "bar": [
           {
            "error_x": {
             "color": "#2a3f5f"
            },
            "error_y": {
             "color": "#2a3f5f"
            },
            "marker": {
             "line": {
              "color": "white",
              "width": 0.5
             },
             "pattern": {
              "fillmode": "overlay",
              "size": 10,
              "solidity": 0.2
             }
            },
            "type": "bar"
           }
          ],
          "barpolar": [
           {
            "marker": {
             "line": {
              "color": "white",
              "width": 0.5
             },
             "pattern": {
              "fillmode": "overlay",
              "size": 10,
              "solidity": 0.2
             }
            },
            "type": "barpolar"
           }
          ],
          "carpet": [
           {
            "aaxis": {
             "endlinecolor": "#2a3f5f",
             "gridcolor": "#C8D4E3",
             "linecolor": "#C8D4E3",
             "minorgridcolor": "#C8D4E3",
             "startlinecolor": "#2a3f5f"
            },
            "baxis": {
             "endlinecolor": "#2a3f5f",
             "gridcolor": "#C8D4E3",
             "linecolor": "#C8D4E3",
             "minorgridcolor": "#C8D4E3",
             "startlinecolor": "#2a3f5f"
            },
            "type": "carpet"
           }
          ],
          "choropleth": [
           {
            "colorbar": {
             "outlinewidth": 0,
             "ticks": ""
            },
            "type": "choropleth"
           }
          ],
          "contour": [
           {
            "colorbar": {
             "outlinewidth": 0,
             "ticks": ""
            },
            "colorscale": [
             [
              0,
              "#0d0887"
             ],
             [
              0.1111111111111111,
              "#46039f"
             ],
             [
              0.2222222222222222,
              "#7201a8"
             ],
             [
              0.3333333333333333,
              "#9c179e"
             ],
             [
              0.4444444444444444,
              "#bd3786"
             ],
             [
              0.5555555555555556,
              "#d8576b"
             ],
             [
              0.6666666666666666,
              "#ed7953"
             ],
             [
              0.7777777777777778,
              "#fb9f3a"
             ],
             [
              0.8888888888888888,
              "#fdca26"
             ],
             [
              1,
              "#f0f921"
             ]
            ],
            "type": "contour"
           }
          ],
          "contourcarpet": [
           {
            "colorbar": {
             "outlinewidth": 0,
             "ticks": ""
            },
            "type": "contourcarpet"
           }
          ],
          "heatmap": [
           {
            "colorbar": {
             "outlinewidth": 0,
             "ticks": ""
            },
            "colorscale": [
             [
              0,
              "#0d0887"
             ],
             [
              0.1111111111111111,
              "#46039f"
             ],
             [
              0.2222222222222222,
              "#7201a8"
             ],
             [
              0.3333333333333333,
              "#9c179e"
             ],
             [
              0.4444444444444444,
              "#bd3786"
             ],
             [
              0.5555555555555556,
              "#d8576b"
             ],
             [
              0.6666666666666666,
              "#ed7953"
             ],
             [
              0.7777777777777778,
              "#fb9f3a"
             ],
             [
              0.8888888888888888,
              "#fdca26"
             ],
             [
              1,
              "#f0f921"
             ]
            ],
            "type": "heatmap"
           }
          ],
          "histogram": [
           {
            "marker": {
             "pattern": {
              "fillmode": "overlay",
              "size": 10,
              "solidity": 0.2
             }
            },
            "type": "histogram"
           }
          ],
          "histogram2d": [
           {
            "colorbar": {
             "outlinewidth": 0,
             "ticks": ""
            },
            "colorscale": [
             [
              0,
              "#0d0887"
             ],
             [
              0.1111111111111111,
              "#46039f"
             ],
             [
              0.2222222222222222,
              "#7201a8"
             ],
             [
              0.3333333333333333,
              "#9c179e"
             ],
             [
              0.4444444444444444,
              "#bd3786"
             ],
             [
              0.5555555555555556,
              "#d8576b"
             ],
             [
              0.6666666666666666,
              "#ed7953"
             ],
             [
              0.7777777777777778,
              "#fb9f3a"
             ],
             [
              0.8888888888888888,
              "#fdca26"
             ],
             [
              1,
              "#f0f921"
             ]
            ],
            "type": "histogram2d"
           }
          ],
          "histogram2dcontour": [
           {
            "colorbar": {
             "outlinewidth": 0,
             "ticks": ""
            },
            "colorscale": [
             [
              0,
              "#0d0887"
             ],
             [
              0.1111111111111111,
              "#46039f"
             ],
             [
              0.2222222222222222,
              "#7201a8"
             ],
             [
              0.3333333333333333,
              "#9c179e"
             ],
             [
              0.4444444444444444,
              "#bd3786"
             ],
             [
              0.5555555555555556,
              "#d8576b"
             ],
             [
              0.6666666666666666,
              "#ed7953"
             ],
             [
              0.7777777777777778,
              "#fb9f3a"
             ],
             [
              0.8888888888888888,
              "#fdca26"
             ],
             [
              1,
              "#f0f921"
             ]
            ],
            "type": "histogram2dcontour"
           }
          ],
          "mesh3d": [
           {
            "colorbar": {
             "outlinewidth": 0,
             "ticks": ""
            },
            "type": "mesh3d"
           }
          ],
          "parcoords": [
           {
            "line": {
             "colorbar": {
              "outlinewidth": 0,
              "ticks": ""
             }
            },
            "type": "parcoords"
           }
          ],
          "pie": [
           {
            "automargin": true,
            "type": "pie"
           }
          ],
          "scatter": [
           {
            "fillpattern": {
             "fillmode": "overlay",
             "size": 10,
             "solidity": 0.2
            },
            "type": "scatter"
           }
          ],
          "scatter3d": [
           {
            "line": {
             "colorbar": {
              "outlinewidth": 0,
              "ticks": ""
             }
            },
            "marker": {
             "colorbar": {
              "outlinewidth": 0,
              "ticks": ""
             }
            },
            "type": "scatter3d"
           }
          ],
          "scattercarpet": [
           {
            "marker": {
             "colorbar": {
              "outlinewidth": 0,
              "ticks": ""
             }
            },
            "type": "scattercarpet"
           }
          ],
          "scattergeo": [
           {
            "marker": {
             "colorbar": {
              "outlinewidth": 0,
              "ticks": ""
             }
            },
            "type": "scattergeo"
           }
          ],
          "scattergl": [
           {
            "marker": {
             "colorbar": {
              "outlinewidth": 0,
              "ticks": ""
             }
            },
            "type": "scattergl"
           }
          ],
          "scattermap": [
           {
            "marker": {
             "colorbar": {
              "outlinewidth": 0,
              "ticks": ""
             }
            },
            "type": "scattermap"
           }
          ],
          "scattermapbox": [
           {
            "marker": {
             "colorbar": {
              "outlinewidth": 0,
              "ticks": ""
             }
            },
            "type": "scattermapbox"
           }
          ],
          "scatterpolar": [
           {
            "marker": {
             "colorbar": {
              "outlinewidth": 0,
              "ticks": ""
             }
            },
            "type": "scatterpolar"
           }
          ],
          "scatterpolargl": [
           {
            "marker": {
             "colorbar": {
              "outlinewidth": 0,
              "ticks": ""
             }
            },
            "type": "scatterpolargl"
           }
          ],
          "scatterternary": [
           {
            "marker": {
             "colorbar": {
              "outlinewidth": 0,
              "ticks": ""
             }
            },
            "type": "scatterternary"
           }
          ],
          "surface": [
           {
            "colorbar": {
             "outlinewidth": 0,
             "ticks": ""
            },
            "colorscale": [
             [
              0,
              "#0d0887"
             ],
             [
              0.1111111111111111,
              "#46039f"
             ],
             [
              0.2222222222222222,
              "#7201a8"
             ],
             [
              0.3333333333333333,
              "#9c179e"
             ],
             [
              0.4444444444444444,
              "#bd3786"
             ],
             [
              0.5555555555555556,
              "#d8576b"
             ],
             [
              0.6666666666666666,
              "#ed7953"
             ],
             [
              0.7777777777777778,
              "#fb9f3a"
             ],
             [
              0.8888888888888888,
              "#fdca26"
             ],
             [
              1,
              "#f0f921"
             ]
            ],
            "type": "surface"
           }
          ],
          "table": [
           {
            "cells": {
             "fill": {
              "color": "#EBF0F8"
             },
             "line": {
              "color": "white"
             }
            },
            "header": {
             "fill": {
              "color": "#C8D4E3"
             },
             "line": {
              "color": "white"
             }
            },
            "type": "table"
           }
          ]
         },
         "layout": {
          "annotationdefaults": {
           "arrowcolor": "#2a3f5f",
           "arrowhead": 0,
           "arrowwidth": 1
          },
          "autotypenumbers": "strict",
          "coloraxis": {
           "colorbar": {
            "outlinewidth": 0,
            "ticks": ""
           }
          },
          "colorscale": {
           "diverging": [
            [
             0,
             "#8e0152"
            ],
            [
             0.1,
             "#c51b7d"
            ],
            [
             0.2,
             "#de77ae"
            ],
            [
             0.3,
             "#f1b6da"
            ],
            [
             0.4,
             "#fde0ef"
            ],
            [
             0.5,
             "#f7f7f7"
            ],
            [
             0.6,
             "#e6f5d0"
            ],
            [
             0.7,
             "#b8e186"
            ],
            [
             0.8,
             "#7fbc41"
            ],
            [
             0.9,
             "#4d9221"
            ],
            [
             1,
             "#276419"
            ]
           ],
           "sequential": [
            [
             0,
             "#0d0887"
            ],
            [
             0.1111111111111111,
             "#46039f"
            ],
            [
             0.2222222222222222,
             "#7201a8"
            ],
            [
             0.3333333333333333,
             "#9c179e"
            ],
            [
             0.4444444444444444,
             "#bd3786"
            ],
            [
             0.5555555555555556,
             "#d8576b"
            ],
            [
             0.6666666666666666,
             "#ed7953"
            ],
            [
             0.7777777777777778,
             "#fb9f3a"
            ],
            [
             0.8888888888888888,
             "#fdca26"
            ],
            [
             1,
             "#f0f921"
            ]
           ],
           "sequentialminus": [
            [
             0,
             "#0d0887"
            ],
            [
             0.1111111111111111,
             "#46039f"
            ],
            [
             0.2222222222222222,
             "#7201a8"
            ],
            [
             0.3333333333333333,
             "#9c179e"
            ],
            [
             0.4444444444444444,
             "#bd3786"
            ],
            [
             0.5555555555555556,
             "#d8576b"
            ],
            [
             0.6666666666666666,
             "#ed7953"
            ],
            [
             0.7777777777777778,
             "#fb9f3a"
            ],
            [
             0.8888888888888888,
             "#fdca26"
            ],
            [
             1,
             "#f0f921"
            ]
           ]
          },
          "colorway": [
           "#636efa",
           "#EF553B",
           "#00cc96",
           "#ab63fa",
           "#FFA15A",
           "#19d3f3",
           "#FF6692",
           "#B6E880",
           "#FF97FF",
           "#FECB52"
          ],
          "font": {
           "color": "#2a3f5f"
          },
          "geo": {
           "bgcolor": "white",
           "lakecolor": "white",
           "landcolor": "white",
           "showlakes": true,
           "showland": true,
           "subunitcolor": "#C8D4E3"
          },
          "hoverlabel": {
           "align": "left"
          },
          "hovermode": "closest",
          "mapbox": {
           "style": "light"
          },
          "paper_bgcolor": "white",
          "plot_bgcolor": "white",
          "polar": {
           "angularaxis": {
            "gridcolor": "#EBF0F8",
            "linecolor": "#EBF0F8",
            "ticks": ""
           },
           "bgcolor": "white",
           "radialaxis": {
            "gridcolor": "#EBF0F8",
            "linecolor": "#EBF0F8",
            "ticks": ""
           }
          },
          "scene": {
           "xaxis": {
            "backgroundcolor": "white",
            "gridcolor": "#DFE8F3",
            "gridwidth": 2,
            "linecolor": "#EBF0F8",
            "showbackground": true,
            "ticks": "",
            "zerolinecolor": "#EBF0F8"
           },
           "yaxis": {
            "backgroundcolor": "white",
            "gridcolor": "#DFE8F3",
            "gridwidth": 2,
            "linecolor": "#EBF0F8",
            "showbackground": true,
            "ticks": "",
            "zerolinecolor": "#EBF0F8"
           },
           "zaxis": {
            "backgroundcolor": "white",
            "gridcolor": "#DFE8F3",
            "gridwidth": 2,
            "linecolor": "#EBF0F8",
            "showbackground": true,
            "ticks": "",
            "zerolinecolor": "#EBF0F8"
           }
          },
          "shapedefaults": {
           "line": {
            "color": "#2a3f5f"
           }
          },
          "ternary": {
           "aaxis": {
            "gridcolor": "#DFE8F3",
            "linecolor": "#A2B1C6",
            "ticks": ""
           },
           "baxis": {
            "gridcolor": "#DFE8F3",
            "linecolor": "#A2B1C6",
            "ticks": ""
           },
           "bgcolor": "white",
           "caxis": {
            "gridcolor": "#DFE8F3",
            "linecolor": "#A2B1C6",
            "ticks": ""
           }
          },
          "title": {
           "x": 0.05
          },
          "xaxis": {
           "automargin": true,
           "gridcolor": "#EBF0F8",
           "linecolor": "#EBF0F8",
           "ticks": "",
           "title": {
            "standoff": 15
           },
           "zerolinecolor": "#EBF0F8",
           "zerolinewidth": 2
          },
          "yaxis": {
           "automargin": true,
           "gridcolor": "#EBF0F8",
           "linecolor": "#EBF0F8",
           "ticks": "",
           "title": {
            "standoff": 15
           },
           "zerolinecolor": "#EBF0F8",
           "zerolinewidth": 2
          }
         }
        },
        "title": {
         "text": "EURUSD Candlestick Chart (Jan-Jun 2025)"
        },
        "width": 1000,
        "xaxis": {
         "autorange": true,
         "range": [
          "2024-12-25 23:56:22.1958",
          "2025-07-11 00:03:37.8042"
         ],
         "rangeslider": {
          "visible": false,
          "yaxis": {}
         },
         "title": {
          "text": "Date"
         },
         "type": "date"
        },
        "yaxis": {
         "autorange": true,
         "range": [
          1.0875524249541666,
          1.161311604702754
         ],
         "tickformat": ".4f",
         "title": {
          "text": "Price"
         },
         "type": "linear"
        }
       }
      }
     },
     "metadata": {},
     "output_type": "display_data"
    }
   ],
   "source": [
    "engulfing_dates = df[df['Bullish_Engulfing']].index     # engulfing_dates is an array of dates on which a bullish‑engulfing candle occurs.\n",
    "\n",
    "engulfing_lows = df[df['Bullish_Engulfing']]['Low'] - 0.0005  # WHy - 0.0005? Subtracting  a small offset so the triangle marker \n",
    "                                                             # sits just below the wick,  preventing overlap with the candle graphic.\n",
    "\n",
    "fig.add_trace(go.Scatter(\n",
    "    x=engulfing_dates,\n",
    "    y=engulfing_lows,\n",
    "    mode='markers',\n",
    "    marker=dict(\n",
    "        color='lime',\n",
    "        size=9,\n",
    "        symbol='triangle-up',\n",
    "        line=dict(width=1, color='black')\n",
    "    ),\n",
    "    name='Bullish Engulfing'\n",
    "))"
   ]
  },
  {
   "cell_type": "markdown",
   "id": "ff1d6137-4010-4939-a421-1fcfd7f9ff3c",
   "metadata": {},
   "source": [
    "Detect Hammer Candles"
   ]
  },
  {
   "cell_type": "code",
   "execution_count": 10,
   "id": "667fdc98-fd21-44ed-bab5-4d74efa6ca51",
   "metadata": {},
   "outputs": [],
   "source": [
    "#  Body is small\n",
    "#  Lower wick is 2x (or more) the body\n",
    "#  Close is near the top of the candle\n",
    "\n",
    "\n",
    "\n",
    "# Candle structure\n",
    "df['Upper_Wick'] = df['High'] - df[['Open', 'Close']].max(axis=1)\n",
    "df['Lower_Wick'] = df[['Open', 'Close']].min(axis=1) - df['Low']\n",
    "df['Body_Size'] = abs(df['Close'] - df['Open'])\n",
    "\n",
    "# Hammer conditions\n",
    "df['Hammer'] = (\n",
    "    (df['Lower_Wick'] >= 2 * df['Body_Size']) &\n",
    "    (df['Upper_Wick'] <= df['Body_Size']) & \n",
    "    (df['Close'] > df['Open'])  # optional: only bullish hammer\n",
    ")"
   ]
  },
  {
   "cell_type": "code",
   "execution_count": 11,
   "id": "5429f3ce-f253-45f7-bc31-2ca0b9b5affa",
   "metadata": {},
   "outputs": [
    {
     "data": {
      "application/vnd.plotly.v1+json": {
       "config": {
        "plotlyServerURL": "https://plot.ly"
       },
       "data": [
        {
         "close": {
          "_inputArray": {
           "0": 1.0919671245985,
           "1": 1.093737456370461,
           "10": 1.0974180833125824,
           "100": 1.150809419758868,
           "101": 1.148220144840211,
           "102": 1.1449566984479238,
           "103": 1.1418325483008618,
           "104": 1.1421361981580709,
           "105": 1.1413085596500394,
           "106": 1.1395802381381963,
           "107": 1.140056431666022,
           "108": 1.138244802887256,
           "109": 1.1390786729909552,
           "11": 1.096145581979366,
           "110": 1.1409015423570732,
           "111": 1.1419988936705108,
           "112": 1.1394977150143328,
           "113": 1.141953709407335,
           "114": 1.1425581623779362,
           "115": 1.144840735688374,
           "116": 1.1474800348892331,
           "117": 1.1467094381394078,
           "118": 1.148867728266434,
           "119": 1.1472953439222375,
           "12": 1.096817320252989,
           "120": 1.1489624621607473,
           "121": 1.145109092597111,
           "122": 1.14700293038185,
           "123": 1.1472681940826568,
           "124": 1.1432724849376654,
           "125": 1.1443074176906187,
           "126": 1.1431762413768125,
           "127": 1.1486705598318694,
           "128": 1.1493643697962392,
           "13": 1.0951201401124628,
           "14": 1.0929870470717105,
           "15": 1.0955746883448698,
           "16": 1.096251674150799,
           "17": 1.1013985674610811,
           "18": 1.1081134856605594,
           "19": 1.1100222578744066,
           "2": 1.0962073799866523,
           "20": 1.1109789214958696,
           "21": 1.1154132288088796,
           "22": 1.111348013982042,
           "23": 1.108650215443171,
           "24": 1.108513113641656,
           "25": 1.1096894332484903,
           "26": 1.1103066948387224,
           "27": 1.110967949486928,
           "28": 1.1131872142725725,
           "29": 1.1135696134608648,
           "3": 1.0976669443712084,
           "30": 1.1153665809946132,
           "31": 1.1163906967416244,
           "32": 1.115347936684401,
           "33": 1.113662762431801,
           "34": 1.111504246423671,
           "35": 1.1129161255416251,
           "36": 1.1128241922504576,
           "37": 1.1177785792386088,
           "38": 1.1185738966355314,
           "39": 1.1237655273489553,
           "4": 1.0994947392410666,
           "40": 1.1214823685990218,
           "41": 1.1221743673615,
           "42": 1.1195327558774772,
           "43": 1.1197336720764912,
           "44": 1.1224986324566952,
           "45": 1.1223071376959728,
           "46": 1.1224281898362023,
           "47": 1.1242527544199297,
           "48": 1.1298398705280783,
           "49": 1.1285142233885217,
           "5": 1.098896444129584,
           "50": 1.126825910038495,
           "51": 1.1261598637796988,
           "52": 1.126727430708009,
           "53": 1.1257288106104062,
           "54": 1.127325734126514,
           "55": 1.1300877598223569,
           "56": 1.1279730741753322,
           "57": 1.132830234521567,
           "58": 1.1301956916176077,
           "59": 1.1319218863864535,
           "6": 1.0969762516710748,
           "60": 1.1330869621667377,
           "61": 1.138497008492585,
           "62": 1.137755711804462,
           "63": 1.138531552663443,
           "64": 1.14043457589491,
           "65": 1.1432223885818449,
           "66": 1.143344487378112,
           "67": 1.1483943181555936,
           "68": 1.1460813508624528,
           "69": 1.1444268766007806,
           "7": 1.098691165044812,
           "70": 1.145094687905191,
           "71": 1.143462575036334,
           "72": 1.140205274791044,
           "73": 1.1441115135312527,
           "74": 1.1467151589214823,
           "75": 1.14156212819378,
           "76": 1.1442435618264115,
           "77": 1.1474241634196003,
           "78": 1.1450072145753545,
           "79": 1.1484391260176776,
           "8": 1.0938457444347187,
           "80": 1.1449703409668373,
           "81": 1.1439351025709896,
           "82": 1.143728765734058,
           "83": 1.1451432875776952,
           "84": 1.1463245096053938,
           "85": 1.1470782363179026,
           "86": 1.1451402462159574,
           "87": 1.1491952222360355,
           "88": 1.151061020538335,
           "89": 1.1499154339745417,
           "9": 1.0958960495773589,
           "90": 1.1486939805728662,
           "91": 1.1524123261927686,
           "92": 1.154216839971381,
           "93": 1.152154090216855,
           "94": 1.1513761986488904,
           "95": 1.1541469315509372,
           "96": 1.1494154187919137,
           "97": 1.1474482062036429,
           "98": 1.1494501752005395,
           "99": 1.146592470105778,
           "bdata": "zVIHhbJ48T96V9jY8n/xPwPT6r8QivE/7Ze/NguQ8T+AobLLh5fxP9aiE3AUlfE/qKdW+DaN8T9/WOQvPZTxP0p0M2VkgPE/cAHMS8qI8T9e3Z1DBo/xP6gZJPPPifE/Y8SCUZCM8T9dlS+ynIXxP2b+YfzffPE/B0QMU3mH8T9dmwoyP4rxP5u0sRpUn/E/3bLSNNW68T9GcfaypsLxP/rrZdWRxvE/kCi0irvY8T9RcOjaFMjxPyWCIAIIvfE/3nIkP3i88T/+TQi1ScHxP23L7fPQw/E/ZTUfVIbG8T9GBHplnc/xP/Ij+l4u0fE/bMXGoIrY8T/cBcF9vNzxP4CH+xN32PE/gK52C5DR8T+hEzytuMjxP+dGpiOBzvE/Ap1+vSDO8T+Z/J/Ka+LxP59XA76t5fE/FGDFj/H68T9QxgJ/l/HxP1WiAxxt9PE/V7bULZvp8T+7xtzaberxP7hMQyDB9fE/j4tHVPj08T+NR/dCd/XxP4m+ynTw/PE/1yja+NIT8j+DZCjuZA7yP5Jp/pp6B/I/pAaQNMAE8j8iWqZXEwfyP2nJmzb8AvI/ezOAtYYJ8j81wCDn1hTyP0ughX4tDPI/0QqTmBIg8j9ePtkTSBXyP82Auh9aHPI/Z3tgyx8h8j+eHKGjSDfyPw2ZUFU/NPI/GnWC3Gw38j/qI2tTOD/yP3U5MI+jSvI/MJ3VliNL8j92P3a40l/yP+EnCGZZVvI/2J56jpJP8j+ZBLbOTlLyPy6yv2mfS/I/hETf4kc+8j8sgNnfR07yP8dSlv7xWPI/chxvptZD8j90P0tW0k7yP/9viHDZW/I/MJDEFfNR8j9/FXu0AWDyPwZ7lWvMUfI/857k5I5N8j/VJ8WItkzyP/0UlsSBUvI/Brx1XlhX8j8gBW+1blryP3hLLZR+UvI/VJKDhxpj8j+8me71vmryP4Bh4bkNZvI/pMJ68Axh8j9nFUjoR3DyP3e2whOsd/I/xfGWIDlv8j/Bb+lyCWzyP/Kj3MVid/I/rasTbAFk8j/m+Xem8lvyP3Xi7d0lZPI/VhuPWHFY8j9vsFwjt2nyP0cnKxYcX/I/L7hyHb5R8j9hXsc08kTyP8OqKpswRvI/83elw8xC8j8Ki998uDvyP7KZGdCrPfI/OuKzLkA28j9hEwGPqjnyP8sSxvkhQfI/3yDGoaBF8j8Rp730YTvyP840t0BxRfI/uA5TEetH8j/2j+6ERFHyP1qYagYUXPI/NCzt/utY8j+sWIUgw2HyPz78z1xSW/I/Jf50diZi8j/E6HDpXVLyP9d/pr4fWvI/QzfV5DVb8j8zldMW2EryP53SeEsVT/I/GXGkK3NK8j+6sYVh9GDyP2Rmt+TLY/I/",
           "dtype": "f8",
           "shape": "129"
          },
          "bdata": "zVIHhbJ48T96V9jY8n/xPwPT6r8QivE/7Ze/NguQ8T+AobLLh5fxP9aiE3AUlfE/qKdW+DaN8T9/WOQvPZTxP0p0M2VkgPE/cAHMS8qI8T9e3Z1DBo/xP6gZJPPPifE/Y8SCUZCM8T9dlS+ynIXxP2b+YfzffPE/B0QMU3mH8T9dmwoyP4rxP5u0sRpUn/E/3bLSNNW68T9GcfaypsLxP/rrZdWRxvE/kCi0irvY8T9RcOjaFMjxPyWCIAIIvfE/3nIkP3i88T/+TQi1ScHxP23L7fPQw/E/ZTUfVIbG8T9GBHplnc/xP/Ij+l4u0fE/bMXGoIrY8T/cBcF9vNzxP4CH+xN32PE/gK52C5DR8T+hEzytuMjxP+dGpiOBzvE/Ap1+vSDO8T+Z/J/Ka+LxP59XA76t5fE/FGDFj/H68T9QxgJ/l/HxP1WiAxxt9PE/V7bULZvp8T+7xtzaberxP7hMQyDB9fE/j4tHVPj08T+NR/dCd/XxP4m+ynTw/PE/1yja+NIT8j+DZCjuZA7yP5Jp/pp6B/I/pAaQNMAE8j8iWqZXEwfyP2nJmzb8AvI/ezOAtYYJ8j81wCDn1hTyP0ughX4tDPI/0QqTmBIg8j9ePtkTSBXyP82Auh9aHPI/Z3tgyx8h8j+eHKGjSDfyPw2ZUFU/NPI/GnWC3Gw38j/qI2tTOD/yP3U5MI+jSvI/MJ3VliNL8j92P3a40l/yP+EnCGZZVvI/2J56jpJP8j+ZBLbOTlLyPy6yv2mfS/I/hETf4kc+8j8sgNnfR07yP8dSlv7xWPI/chxvptZD8j90P0tW0k7yP/9viHDZW/I/MJDEFfNR8j9/FXu0AWDyPwZ7lWvMUfI/857k5I5N8j/VJ8WItkzyP/0UlsSBUvI/Brx1XlhX8j8gBW+1blryP3hLLZR+UvI/VJKDhxpj8j+8me71vmryP4Bh4bkNZvI/pMJ68Axh8j9nFUjoR3DyP3e2whOsd/I/xfGWIDlv8j/Bb+lyCWzyP/Kj3MVid/I/rasTbAFk8j/m+Xem8lvyP3Xi7d0lZPI/VhuPWHFY8j9vsFwjt2nyP0cnKxYcX/I/L7hyHb5R8j9hXsc08kTyP8OqKpswRvI/83elw8xC8j8Ki998uDvyP7KZGdCrPfI/OuKzLkA28j9hEwGPqjnyP8sSxvkhQfI/3yDGoaBF8j8Rp730YTvyP840t0BxRfI/uA5TEetH8j/2j+6ERFHyP1qYagYUXPI/NCzt/utY8j+sWIUgw2HyPz78z1xSW/I/Jf50diZi8j/E6HDpXVLyP9d/pr4fWvI/QzfV5DVb8j8zldMW2EryP53SeEsVT/I/GXGkK3NK8j+6sYVh9GDyP2Rmt+TLY/I/",
          "dtype": "f8"
         },
         "decreasing": {
          "line": {
           "color": "red"
          }
         },
         "high": {
          "_inputArray": {
           "0": 1.0945101372922883,
           "1": 1.0942494547075925,
           "10": 1.097738355095505,
           "100": 1.1508430101402898,
           "101": 1.1484403527750136,
           "102": 1.1452651701616603,
           "103": 1.142674614797504,
           "104": 1.1437687676831216,
           "105": 1.1418952404587686,
           "106": 1.1401330324551755,
           "107": 1.1402469428139432,
           "108": 1.138476412052867,
           "109": 1.139234084882779,
           "11": 1.0966022994803462,
           "110": 1.1414465282464477,
           "111": 1.1426510131334864,
           "112": 1.1407908648084506,
           "113": 1.1431201107841118,
           "114": 1.1430389660622404,
           "115": 1.1462738662782084,
           "116": 1.148737043967182,
           "117": 1.1476906075811544,
           "118": 1.1496846345133476,
           "119": 1.1485003410843213,
           "12": 1.09798891736811,
           "120": 1.1503892206837711,
           "121": 1.146369568038344,
           "122": 1.1483547374267844,
           "123": 1.1475707263348425,
           "124": 1.144059428346786,
           "125": 1.1451705260895249,
           "126": 1.1439919098746676,
           "127": 1.1497672118517084,
           "128": 1.150375123627643,
           "13": 1.0952605719435482,
           "14": 1.0934962618916442,
           "15": 1.0962404029310286,
           "16": 1.0966592606005847,
           "17": 1.1023781797977017,
           "18": 1.1109480877636724,
           "19": 1.1110074107292418,
           "2": 1.0969368463235944,
           "20": 1.112249974868086,
           "21": 1.1164264568213802,
           "22": 1.1124354498717983,
           "23": 1.1117848338597334,
           "24": 1.109438236206812,
           "25": 1.1102190844289572,
           "26": 1.1112352971125157,
           "27": 1.1126838996532806,
           "28": 1.1136559705582574,
           "29": 1.1144297104966492,
           "3": 1.0985398698750373,
           "30": 1.1156028785337622,
           "31": 1.1170561687272185,
           "32": 1.1180209059127528,
           "33": 1.113829408547804,
           "34": 1.1119501192062486,
           "35": 1.1136019993063933,
           "36": 1.1156092019182062,
           "37": 1.1193023296964892,
           "38": 1.1206254076218107,
           "39": 1.125332851259086,
           "4": 1.0999015848144116,
           "40": 1.1216966027926671,
           "41": 1.1224148773095268,
           "42": 1.1218254438270063,
           "43": 1.1206203406880948,
           "44": 1.1239548547444314,
           "45": 1.1228023541586345,
           "46": 1.1233487150085435,
           "47": 1.1256018919448607,
           "48": 1.130217732021107,
           "49": 1.1314844153689427,
           "5": 1.101419065717889,
           "50": 1.1276842142497847,
           "51": 1.1263820740246426,
           "52": 1.1267786335717516,
           "53": 1.12656900331847,
           "54": 1.128826775361581,
           "55": 1.131450545393672,
           "56": 1.1299712778320423,
           "57": 1.1333324848582522,
           "58": 1.1315572675870151,
           "59": 1.1322903738834011,
           "6": 1.097980307819084,
           "60": 1.1337946687121012,
           "61": 1.1390825211757083,
           "62": 1.1379376154941483,
           "63": 1.139511848845927,
           "64": 1.1429872361518656,
           "65": 1.143254315556147,
           "66": 1.1450958804335218,
           "67": 1.1484960506436974,
           "68": 1.147623743587343,
           "69": 1.1452748169056577,
           "7": 1.099723080904823,
           "70": 1.1466938585627926,
           "71": 1.1455314113932706,
           "72": 1.1422463770101925,
           "73": 1.145162203948856,
           "74": 1.147526359786487,
           "75": 1.1438454006533023,
           "76": 1.1448715401877894,
           "77": 1.148122459153478,
           "78": 1.1467413077933204,
           "79": 1.1499388862824254,
           "8": 1.0949268627117543,
           "80": 1.1462516612603817,
           "81": 1.1452118340211486,
           "82": 1.144591524575667,
           "83": 1.146070876510267,
           "84": 1.147080251801152,
           "85": 1.1489694614519994,
           "86": 1.1456535821772276,
           "87": 1.150219535589545,
           "88": 1.1522580571739522,
           "89": 1.1506616551933109,
           "9": 1.0960149023536545,
           "90": 1.1492586987471218,
           "91": 1.1524978550003468,
           "92": 1.1561152194296995,
           "93": 1.1539127478333056,
           "94": 1.1539774387421406,
           "95": 1.1551912813136398,
           "96": 1.151130381398219,
           "97": 1.1487982519959772,
           "98": 1.1518536787193767,
           "99": 1.1485061957837752,
           "bdata": "PPnMDx2D8T+6KFq3C4LxP6PLi6YNjfE/M3Lnip6T8T8ii3lnMpnxP/UvJ5lpn/E/ecKbzFOR8T//R7I6d5jxP+u9rQfShPE/7ZkY7EaJ8T9SM+sXVpDxP6TIT9qui/E/s3a301yR8T9giBHzL4bxPz/3se/1fvE/N0hyYDOK8T8tKbKU6ovxP9fhYE1Xo/E/uPqHgHHG8T+5Ieu0r8bxP2SQMKHGy/E/4/0G/eHc8T9JxEEdiczxP5Dc2eTeyfE/+wrXTkLA8T9pRzAWdcPxP0QltKmex/E/0b78oY3N8T+Ir0jsiNHxP7dhhD+01PE/+ANqZ4LZ8T/HpwdKdt/xP6o7suNp4/E/zpIwyT7S8T/gYkw1jMrxP7B/fFRQ0fE/iq/VCInZ8T/lIEaPqejxP2nWTOgU7vE/9loUBV0B8j//dRAjePLxP45paU1p9fE/P+yQPP/y8T/OzSeYD+7xP5ns9BW4+/E/9rrvmf/28T/ycY+APPnxP6CAIyF3AvI/OT1GMF8V8j+2F/9mjxryP0mxRpr+CvI/q8irNakF8j8ZW1AISQfyP9UKHzhtBvI/H28wqqwP8j9uHRjjaxryP8VTO8NcFPI/p15fPiEi8j/KZR3L2xryPyV61oLcHfI/Svbn4AUk8j99Uf6XrjnyPy34thL+NPI//inDxnA78j93SPD7rEnyPzcxhQnFSvI/2/DTDlBS8j/ymBFlPWDyP7Qh7baqXPI/zay4rwtT8j/l0dCo21jyP9yYx74YVPI/crsTI6RG8j+8NWmalVLyP1VLqZlEXPI/dMa31TBN8j+upPPRZFHyP2Xg3ae1XvI/AR3faQ1Z8j/2tE9RJmbyP4uVYfsLV/I/587hpMlS8j/iTNUzP1DyP4gnWGpOVvI/a/l10nBa8j8IoFDNLWLyP2zxv9mYVPI/DD2JmUxn8j9/1QElpm/yP2EQHTIcafI/zzLcFl1j8j96/D6XoXDyPxq8Haxyf/I/zBqmNm128j9ogvsLsXbyP9rcXdqpe/I/BJnYsAdr8j8gZaBGemHyP0AIfh/+bfI/pFBiCEhg8j+1HzZc2mnyP8g0yf0CYPI/rXkxkgFT8j8UZUgtZUjyP+YptnrgTPI/zaeT8TNF8j+iv3ci/D3yP3b/C5RzPvI/P43QCjM38j/c9RCFTTryP0A4T29dQ/I/uWTCbUxI8j982P7rrUDyP4Z7M1A4SvI/16cUOuNJ8j9Fyv5DI1fyPyavOBg6YfI/gcyX0/Bc8j85LR+3G2XyP51uxuRBYPI/ox8Ih/5n8j9aq72dh1fyP3pGlzepX/I/Jkg3H3Nc8j/g4FZCEU7yP6tcXlSeUvI/7838dcpN8j+4qM5NcmXyP43N4b7vZ/I/",
           "dtype": "f8",
           "shape": "129"
          },
          "bdata": "PPnMDx2D8T+6KFq3C4LxP6PLi6YNjfE/M3Lnip6T8T8ii3lnMpnxP/UvJ5lpn/E/ecKbzFOR8T//R7I6d5jxP+u9rQfShPE/7ZkY7EaJ8T9SM+sXVpDxP6TIT9qui/E/s3a301yR8T9giBHzL4bxPz/3se/1fvE/N0hyYDOK8T8tKbKU6ovxP9fhYE1Xo/E/uPqHgHHG8T+5Ieu0r8bxP2SQMKHGy/E/4/0G/eHc8T9JxEEdiczxP5Dc2eTeyfE/+wrXTkLA8T9pRzAWdcPxP0QltKmex/E/0b78oY3N8T+Ir0jsiNHxP7dhhD+01PE/+ANqZ4LZ8T/HpwdKdt/xP6o7suNp4/E/zpIwyT7S8T/gYkw1jMrxP7B/fFRQ0fE/iq/VCInZ8T/lIEaPqejxP2nWTOgU7vE/9loUBV0B8j//dRAjePLxP45paU1p9fE/P+yQPP/y8T/OzSeYD+7xP5ns9BW4+/E/9rrvmf/28T/ycY+APPnxP6CAIyF3AvI/OT1GMF8V8j+2F/9mjxryP0mxRpr+CvI/q8irNakF8j8ZW1AISQfyP9UKHzhtBvI/H28wqqwP8j9uHRjjaxryP8VTO8NcFPI/p15fPiEi8j/KZR3L2xryPyV61oLcHfI/Svbn4AUk8j99Uf6XrjnyPy34thL+NPI//inDxnA78j93SPD7rEnyPzcxhQnFSvI/2/DTDlBS8j/ymBFlPWDyP7Qh7baqXPI/zay4rwtT8j/l0dCo21jyP9yYx74YVPI/crsTI6RG8j+8NWmalVLyP1VLqZlEXPI/dMa31TBN8j+upPPRZFHyP2Xg3ae1XvI/AR3faQ1Z8j/2tE9RJmbyP4uVYfsLV/I/587hpMlS8j/iTNUzP1DyP4gnWGpOVvI/a/l10nBa8j8IoFDNLWLyP2zxv9mYVPI/DD2JmUxn8j9/1QElpm/yP2EQHTIcafI/zzLcFl1j8j96/D6XoXDyPxq8Haxyf/I/zBqmNm128j9ogvsLsXbyP9rcXdqpe/I/BJnYsAdr8j8gZaBGemHyP0AIfh/+bfI/pFBiCEhg8j+1HzZc2mnyP8g0yf0CYPI/rXkxkgFT8j8UZUgtZUjyP+YptnrgTPI/zaeT8TNF8j+iv3ci/D3yP3b/C5RzPvI/P43QCjM38j/c9RCFTTryP0A4T29dQ/I/uWTCbUxI8j982P7rrUDyP4Z7M1A4SvI/16cUOuNJ8j9Fyv5DI1fyPyavOBg6YfI/gcyX0/Bc8j85LR+3G2XyP51uxuRBYPI/ox8Ih/5n8j9aq72dh1fyP3pGlzepX/I/Jkg3H3Nc8j/g4FZCEU7yP6tcXlSeUvI/7838dcpN8j+4qM5NcmXyP43N4b7vZ/I/",
          "dtype": "f8"
         },
         "increasing": {
          "line": {
           "color": "green"
          }
         },
         "low": {
          "_inputArray": {
           "0": 1.091240383941596,
           "1": 1.093320044541935,
           "10": 1.096417081112007,
           "100": 1.150330659798583,
           "101": 1.147516672812775,
           "102": 1.1428992474722317,
           "103": 1.1398684351619357,
           "104": 1.140241666189431,
           "105": 1.1391586484678091,
           "106": 1.1386164692435796,
           "107": 1.1395501723020862,
           "108": 1.1369963928358613,
           "109": 1.1387633106501442,
           "11": 1.0944765710879227,
           "110": 1.1387655071254328,
           "111": 1.1394021940729175,
           "112": 1.1387998562305768,
           "113": 1.1415955582278974,
           "114": 1.1425372674110743,
           "115": 1.1442331595261384,
           "116": 1.1463603862871794,
           "117": 1.1449517140508023,
           "118": 1.1469665400036615,
           "119": 1.144709083818975,
           "12": 1.095337172548718,
           "120": 1.1476666481338187,
           "121": 1.1443635683533644,
           "122": 1.1465976158447952,
           "123": 1.1469094221992988,
           "124": 1.1421381070495338,
           "125": 1.1432817800985808,
           "126": 1.1427338677689822,
           "127": 1.1472773956793678,
           "128": 1.1485963821052108,
           "13": 1.0929479959420256,
           "14": 1.0926952254110165,
           "15": 1.0941917545030828,
           "16": 1.0957063807932566,
           "17": 1.1001645099475343,
           "18": 1.1071679627026554,
           "19": 1.1091298530940517,
           "2": 1.0945025649983686,
           "20": 1.1091994510790006,
           "21": 1.1149048408754392,
           "22": 1.1105553733012337,
           "23": 1.1057619677066184,
           "24": 1.1082081562663264,
           "25": 1.1083028339018426,
           "26": 1.1094324639582656,
           "27": 1.1095823384201786,
           "28": 1.1121080990762429,
           "29": 1.1129736822156582,
           "3": 1.0964722450414015,
           "30": 1.115031631278941,
           "31": 1.1152243921408642,
           "32": 1.114096983414841,
           "33": 1.1127218027879364,
           "34": 1.110302646167631,
           "35": 1.1119273937365166,
           "36": 1.1118018530904026,
           "37": 1.1161332563160256,
           "38": 1.1180203617276372,
           "39": 1.1236234863520072,
           "4": 1.0993495079453586,
           "40": 1.1205302649359614,
           "41": 1.1206274660598254,
           "42": 1.1193030015185994,
           "43": 1.1191619605593257,
           "44": 1.121075184507326,
           "45": 1.1205543131414069,
           "46": 1.1217657518679212,
           "47": 1.1226389382363788,
           "48": 1.1281244279034346,
           "49": 1.127708388935721,
           "5": 1.0988829247195646,
           "50": 1.1262660190813965,
           "51": 1.124469411146262,
           "52": 1.1251689926094854,
           "53": 1.124629260342797,
           "54": 1.1254664665461038,
           "55": 1.128955590152033,
           "56": 1.127054852566875,
           "57": 1.1314363464783277,
           "58": 1.1301868153084884,
           "59": 1.1315761456720277,
           "6": 1.094039298295039,
           "60": 1.131794417157679,
           "61": 1.1376649433739,
           "62": 1.1370315020988715,
           "63": 1.137512178609569,
           "64": 1.1388052042245314,
           "65": 1.142838491568142,
           "66": 1.1427551510017389,
           "67": 1.1457746505320037,
           "68": 1.1448091820569668,
           "69": 1.1426004163908778,
           "7": 1.098070299098591,
           "70": 1.1437497349014094,
           "71": 1.1418915458333645,
           "72": 1.1387183763856052,
           "73": 1.1438468811657372,
           "74": 1.146554473843832,
           "75": 1.1411096218628216,
           "76": 1.1439674231832802,
           "77": 1.1470402345262825,
           "78": 1.1448768923075476,
           "79": 1.1465303784504532,
           "8": 1.0934849143340617,
           "80": 1.1434347309289965,
           "81": 1.1422695844616788,
           "82": 1.1409447991543284,
           "83": 1.1437573145250526,
           "84": 1.1453547224612997,
           "85": 1.1467695777998863,
           "86": 1.1442045755111283,
           "87": 1.1482539774485527,
           "88": 1.1510527090622018,
           "89": 1.1485061072400924,
           "9": 1.0946044903945251,
           "90": 1.148067708089845,
           "91": 1.1509237093856837,
           "92": 1.1538600905741236,
           "93": 1.1514155969048545,
           "94": 1.1501637375149796,
           "95": 1.1538211656384234,
           "96": 1.1476162122015274,
           "97": 1.1457830582513857,
           "98": 1.1483267130860004,
           "99": 1.14627918056921,
           "bdata": "gagRerh18T/p5rUoPX7xP9HlIB8Vg/E/08oWeyaL8T/v+3eC75bxP5Da/EIGlfE/qXTrWS+B8T/wZXUpspHxPxu/mwnqfvE/p8mE/3+D8T/6bSKj7IrxPzv5cN35gvE/owljRYCG8T+9y6wJt3zxP64rGv2te/E/MUySNs+B8T+xaPhpA4jxP8gc5xlGmvE/JsrvwPW28T9Y5uDx/r7xP+IBcuxHv/E/vmRbdabW8T8qnQu21cTxP1leB3YzsfE/dDDFeTi78T+zwprAm7vxP6gkXUE8wPE/8L37aNnA8T8WY7LcMcvxP5fM5n29zvE/y5NlaCvX8T/UJD+I9dfxP4hsxVtX0/E/WVOIYLXN8T9bPB+1zMPxP2f/+WB0yvE/1HxqvfDJ8T9fr52LrtvxP94dnlFp4/E/1WPunlz68T8vQKEkse3xP+2e2xAX7vE/cmSdQ6ro8T8FeThfFujxP98OXYjs7/E/algFXMrt8T+quiClwPLxPwUQTz9U9vE/lp86M8wM8j/XdZ7zFwvyP7XPaIQvBfI/85sjo9P98T8zspszsQDyP3HAVEB7/vE/jvYoIOkB8j8GbqW8MxDyP1AqSatqCPI/EBWa/1wa8j/07CHFPhXyP36FqZbvGvI/Q813dtQb8j+ki9kn4DPyPyGVwPFHMfI/gOBe+D8z8j8di0rOizjyP4BSngMRSfI/SjUOoLlI8j+87snMF1XyP96F0W4jUfI/g7fMXxdI8j8TXaOFzEzyP1TuzhEwRfI/5OKewjA48j+m0CNjMk3yPzHeA4FJWPI/89OwKfxB8j9vL+TIsE3yP+zIZ9xGWvI/M4OmbmpR8j8PC/U8MFjyP6g1ZzeCS/I/nKfHeLxG8j/Li25VT0HyP1oiR3jUTPI/o6U0eV9T8j/9K4sOK1nyP84P/HSpTvI/mEsKkD9f8j9MT9Y+tmryP7OjnfBHYPI/1W69Pnxe8j9SCsD6LmryP67Okv81dvI/gPjMwjJs8j9fwFoXEmfyPxOYvS4NdvI/Qz080aJc8j9QAridIFXyP6I93dSLX/I/RBaK1ihX8j97vDYfwWfyP5WHVXE6XPI/i0KouFBJ8j8cNiyv5jzyP1sfnQtuPvI/L/9Ba/458j8faSHnxTfyP5wEI/aYO/I/X2YuISMx8j9uCJLgXzjyP1mqLi5iOPI/jYqIy/068j+AMrMyhjjyPxyQPbT5Q/I/S95fKNVH8j/CnfJtx07yP6eICP19V/I/tI5147hR8j+FwC6W+VnyP2b85ni6UPI/dB0HtNdc8j8n/EwsUE/yP3eZ2712WPI/uR+9sb1Z8j+EsJSbMkbyP1Yt+tXhSvI/ApfhTqNI8j+CIN6KP1vyP/8hl5mmYPI/",
           "dtype": "f8",
           "shape": "129"
          },
          "bdata": "gagRerh18T/p5rUoPX7xP9HlIB8Vg/E/08oWeyaL8T/v+3eC75bxP5Da/EIGlfE/qXTrWS+B8T/wZXUpspHxPxu/mwnqfvE/p8mE/3+D8T/6bSKj7IrxPzv5cN35gvE/owljRYCG8T+9y6wJt3zxP64rGv2te/E/MUySNs+B8T+xaPhpA4jxP8gc5xlGmvE/JsrvwPW28T9Y5uDx/r7xP+IBcuxHv/E/vmRbdabW8T8qnQu21cTxP1leB3YzsfE/dDDFeTi78T+zwprAm7vxP6gkXUE8wPE/8L37aNnA8T8WY7LcMcvxP5fM5n29zvE/y5NlaCvX8T/UJD+I9dfxP4hsxVtX0/E/WVOIYLXN8T9bPB+1zMPxP2f/+WB0yvE/1HxqvfDJ8T9fr52LrtvxP94dnlFp4/E/1WPunlz68T8vQKEkse3xP+2e2xAX7vE/cmSdQ6ro8T8FeThfFujxP98OXYjs7/E/algFXMrt8T+quiClwPLxPwUQTz9U9vE/lp86M8wM8j/XdZ7zFwvyP7XPaIQvBfI/85sjo9P98T8zspszsQDyP3HAVEB7/vE/jvYoIOkB8j8GbqW8MxDyP1AqSatqCPI/EBWa/1wa8j/07CHFPhXyP36FqZbvGvI/Q813dtQb8j+ki9kn4DPyPyGVwPFHMfI/gOBe+D8z8j8di0rOizjyP4BSngMRSfI/SjUOoLlI8j+87snMF1XyP96F0W4jUfI/g7fMXxdI8j8TXaOFzEzyP1TuzhEwRfI/5OKewjA48j+m0CNjMk3yPzHeA4FJWPI/89OwKfxB8j9vL+TIsE3yP+zIZ9xGWvI/M4OmbmpR8j8PC/U8MFjyP6g1ZzeCS/I/nKfHeLxG8j/Li25VT0HyP1oiR3jUTPI/o6U0eV9T8j/9K4sOK1nyP84P/HSpTvI/mEsKkD9f8j9MT9Y+tmryP7OjnfBHYPI/1W69Pnxe8j9SCsD6LmryP67Okv81dvI/gPjMwjJs8j9fwFoXEmfyPxOYvS4NdvI/Qz080aJc8j9QAridIFXyP6I93dSLX/I/RBaK1ihX8j97vDYfwWfyP5WHVXE6XPI/i0KouFBJ8j8cNiyv5jzyP1sfnQtuPvI/L/9Ba/458j8faSHnxTfyP5wEI/aYO/I/X2YuISMx8j9uCJLgXzjyP1mqLi5iOPI/jYqIy/068j+AMrMyhjjyPxyQPbT5Q/I/S95fKNVH8j/CnfJtx07yP6eICP19V/I/tI5147hR8j+FwC6W+VnyP2b85ni6UPI/dB0HtNdc8j8n/EwsUE/yP3eZ2712WPI/uR+9sb1Z8j+EsJSbMkbyP1Yt+tXhSvI/ApfhTqNI8j+CIN6KP1vyP/8hl5mmYPI/",
          "dtype": "f8"
         },
         "open": {
          "_inputArray": {
           "0": 1.0931186182311754,
           "1": 1.0941019682365287,
           "10": 1.097518473547086,
           "100": 1.150399188177006,
           "101": 1.1477053562617296,
           "102": 1.1441942706795445,
           "103": 1.141405118350204,
           "104": 1.1429376059265337,
           "105": 1.1414012991437732,
           "106": 1.1390832289920865,
           "107": 1.13999047859763,
           "108": 1.1375772570199407,
           "109": 1.1390340237701,
           "11": 1.0963095043495008,
           "110": 1.141250825559165,
           "111": 1.1412943308304595,
           "112": 1.1399331685227352,
           "113": 1.142746615604343,
           "114": 1.143022991298254,
           "115": 1.1445652976868312,
           "116": 1.1479510573779037,
           "117": 1.146221763464378,
           "118": 1.1483403029676469,
           "119": 1.1483780544807438,
           "12": 1.0971545628464838,
           "120": 1.1483288420728357,
           "121": 1.1447076710113624,
           "122": 1.1468761906904597,
           "123": 1.1473135434546404,
           "124": 1.1439333426109617,
           "125": 1.1447044819438528,
           "126": 1.1438560973655858,
           "127": 1.149056544851532,
           "128": 1.1495114781095055,
           "13": 1.0950331118418353,
           "14": 1.0933771169292434,
           "15": 1.0953830592791447,
           "16": 1.0960470149088253,
           "17": 1.1015703370543604,
           "18": 1.1082116233186092,
           "19": 1.1095308698759403,
           "2": 1.0957758343521191,
           "20": 1.1120946991175926,
           "21": 1.1149275325259045,
           "22": 1.1105868475451066,
           "23": 1.1092170669385593,
           "24": 1.108777207008882,
           "25": 1.109886163628568,
           "26": 1.1099914415222214,
           "27": 1.1102688046477922,
           "28": 1.1130775589145243,
           "29": 1.1135467752209942,
           "3": 1.0978197601269633,
           "30": 1.115372791489741,
           "31": 1.1164375107339897,
           "32": 1.1159683429909837,
           "33": 1.1131139159202683,
           "34": 1.1105502420130546,
           "35": 1.1127260737905995,
           "36": 1.1119911626611725,
           "37": 1.1164100819407854,
           "38": 1.1193351776908655,
           "39": 1.1238545318946345,
           "4": 1.0996163280479867,
           "40": 1.1211689658964603,
           "41": 1.12197882287802,
           "42": 1.1204044943510385,
           "43": 1.120298681102866,
           "44": 1.1229475306122547,
           "45": 1.122472570506197,
           "46": 1.1218966653893934,
           "47": 1.124190064019235,
           "48": 1.129367076465711,
           "49": 1.1295289954809815,
           "5": 1.0993285265686887,
           "50": 1.1263027308455338,
           "51": 1.1255066226271546,
           "52": 1.1259109687096007,
           "53": 1.1261298752953472,
           "54": 1.1264919657360997,
           "55": 1.1303921884682575,
           "56": 1.1281163106693124,
           "57": 1.1327273383724294,
           "58": 1.1314426867104836,
           "59": 1.1316482564423025,
           "6": 1.0961957859474678,
           "60": 1.133335325643805,
           "61": 1.1378792013618515,
           "62": 1.1373564978240942,
           "63": 1.1389086133800843,
           "64": 1.1400485555729247,
           "65": 1.143205172763358,
           "66": 1.1436886915903204,
           "67": 1.1484350798344762,
           "68": 1.145873755304385,
           "69": 1.1444537073297394,
           "7": 1.0985652165689996,
           "70": 1.144037131356335,
           "71": 1.143322819929072,
           "72": 1.1407366299991146,
           "73": 1.1449875207425906,
           "74": 1.147062932283755,
           "75": 1.1416389586107891,
           "76": 1.14432738094847,
           "77": 1.1470411983822857,
           "78": 1.1454883641604294,
           "79": 1.148890538947294,
           "8": 1.093556684305395,
           "80": 1.1447013863883615,
           "81": 1.1431602670188123,
           "82": 1.143946392195064,
           "83": 1.1457732394224696,
           "84": 1.1461005604294303,
           "85": 1.147211339707514,
           "86": 1.145346536296672,
           "87": 1.1496896086585748,
           "88": 1.1513179369028528,
           "89": 1.1494513315587296,
           "9": 1.0960145473925655,
           "90": 1.1491174325218958,
           "91": 1.1522631083206123,
           "92": 1.1542314107092495,
           "93": 1.1525986056589683,
           "94": 1.15045656821722,
           "95": 1.154578729351968,
           "96": 1.148877123539686,
           "97": 1.14715801471203,
           "98": 1.1500546888428254,
           "99": 1.1471933421199372,
           "bdata": "yTm/8ml98T+9CsEQcYHxP6ahxD1MiPE/r13qc6uQ8T/C0XFKB5jxPxfCUoLZlvE/rISqlwSK8T///doeuZPxPzSfNks1f/E/adzPjEaJ8T/MP+qHb4/xP+mZt9V7ivE/QFNh8fGN8T9cXbZwQYXxP3B+9gB5fvE/RiQDY7CG8T/alj6YaInxP1lGvjcIoPE/PTVzHDy78T9DUABxo8DxP4Y9rM8jy/E/Yr2ZQL7W8T/8Ltm29sTxP5KoKmVav/E/NHQqK4298T/oFHH+F8LxP2zYwmKGwvE/U7PbOKnD8T+5MBdqKs/xPzc/YmwW0fE/I7/kI5HY8T8IFUqU7dzxPwhICJ8B2/E/ypmZiVDP8T/fLKBU0MTxP8tkBdu5zfE/zSHRPrfK8T8CxG3R0NzxPyYd1wDM6PE/dy6/40778T8HDJ3eTvDxP/8M8RCg8/E/TndYQy3t8T99a1FPvuzxP1GocdSX9/E/4LJPzKX18T8ibPXqSfPxP1E2d7iu/PE/+5YpNuMR8j+/l/f+jBLyP24IJgNWBfI/N9d5OxMC8j/wC004uwPyP70Sl8KgBPI/XLGAcBwG8j8kAJIeFhbyP76KRrDDDPI/74OZs6Yf8j+3hIulYxryP/nrvzM7G/I/nKrwOCQi8j8wXUrSwDTyP+PCILqcMvI/TJr5PPg48j+gmuCNoz3yP7sv2oGRSvI/ofdyg4xM8j/ZfVd2/V/yP1sIBrh/VfI/ZUbMsK5P8j+hXAnh+U3yP5Hahd4MS/I/kCBzDXVA8j9Hrj5v3lHyPyzNSaleWvI/VypxNidE8j/JdFE6Kk/yPw13I99HWvI/BUhgm+tT8j8qZrcL22HyP/uUo2ayUPI/OOuOa2JK8j8Krm27mk3yP0g5/1EWVfI/+4uPim1W8j9QThpH+lryP4Syv+NWU/I/edVb7iBl8j8wvGRbzGvyP982VhQnZPI/1x7/9chi8j9H/elwq2/yP9oxEFu7d/I/C4dLPAtx8j+0YX8lRWjyP0CVs4snefI/qZuL+sxh8j/whMhcwlryP/AP076fZvI/T4HpZ+da8j8FC6n6CGjyPxhpqUoAXfI/bW3Npp5O8j900WwDMkPyPwArbfF4SfI/YfM2Ai5D8j/mFv9VrznyP1hA9admPfI/PC+5NYQz8j9b+5G9eznyPy70xDmQQvI/tW4g2L1C8j+T5OaPKj3yP1cq2qywSPI/xjvjedJJ8j8eOZuzI1DyPyaMje0BXvI/7q/AoexW8j/hy94Uml/yP70Ft6rBX/I/IBpcEI5f8j8Ilqf9uFDyP7A5OdmaWfI/MlQ2cmVb8j+1FnUMjU3yPxiJmKW1UPI/Aj8YDTxN8j/9RZYdiWLyPw22zSVmZPI/",
           "dtype": "f8",
           "shape": "129"
          },
          "bdata": "yTm/8ml98T+9CsEQcYHxP6ahxD1MiPE/r13qc6uQ8T/C0XFKB5jxPxfCUoLZlvE/rISqlwSK8T///doeuZPxPzSfNks1f/E/adzPjEaJ8T/MP+qHb4/xP+mZt9V7ivE/QFNh8fGN8T9cXbZwQYXxP3B+9gB5fvE/RiQDY7CG8T/alj6YaInxP1lGvjcIoPE/PTVzHDy78T9DUABxo8DxP4Y9rM8jy/E/Yr2ZQL7W8T/8Ltm29sTxP5KoKmVav/E/NHQqK4298T/oFHH+F8LxP2zYwmKGwvE/U7PbOKnD8T+5MBdqKs/xPzc/YmwW0fE/I7/kI5HY8T8IFUqU7dzxPwhICJ8B2/E/ypmZiVDP8T/fLKBU0MTxP8tkBdu5zfE/zSHRPrfK8T8CxG3R0NzxPyYd1wDM6PE/dy6/40778T8HDJ3eTvDxP/8M8RCg8/E/TndYQy3t8T99a1FPvuzxP1GocdSX9/E/4LJPzKX18T8ibPXqSfPxP1E2d7iu/PE/+5YpNuMR8j+/l/f+jBLyP24IJgNWBfI/N9d5OxMC8j/wC004uwPyP70Sl8KgBPI/XLGAcBwG8j8kAJIeFhbyP76KRrDDDPI/74OZs6Yf8j+3hIulYxryP/nrvzM7G/I/nKrwOCQi8j8wXUrSwDTyP+PCILqcMvI/TJr5PPg48j+gmuCNoz3yP7sv2oGRSvI/ofdyg4xM8j/ZfVd2/V/yP1sIBrh/VfI/ZUbMsK5P8j+hXAnh+U3yP5Hahd4MS/I/kCBzDXVA8j9Hrj5v3lHyPyzNSaleWvI/VypxNidE8j/JdFE6Kk/yPw13I99HWvI/BUhgm+tT8j8qZrcL22HyP/uUo2ayUPI/OOuOa2JK8j8Krm27mk3yP0g5/1EWVfI/+4uPim1W8j9QThpH+lryP4Syv+NWU/I/edVb7iBl8j8wvGRbzGvyP982VhQnZPI/1x7/9chi8j9H/elwq2/yP9oxEFu7d/I/C4dLPAtx8j+0YX8lRWjyP0CVs4snefI/qZuL+sxh8j/whMhcwlryP/AP076fZvI/T4HpZ+da8j8FC6n6CGjyPxhpqUoAXfI/bW3Npp5O8j900WwDMkPyPwArbfF4SfI/YfM2Ai5D8j/mFv9VrznyP1hA9admPfI/PC+5NYQz8j9b+5G9eznyPy70xDmQQvI/tW4g2L1C8j+T5OaPKj3yP1cq2qywSPI/xjvjedJJ8j8eOZuzI1DyPyaMje0BXvI/7q/AoexW8j/hy94Uml/yP70Ft6rBX/I/IBpcEI5f8j8Ilqf9uFDyP7A5OdmaWfI/MlQ2cmVb8j+1FnUMjU3yPxiJmKW1UPI/Aj8YDTxN8j/9RZYdiWLyPw22zSVmZPI/",
          "dtype": "f8"
         },
         "type": "candlestick",
         "whiskerwidth": 0.3,
         "x": [
          "2025-01-01T00:00:00",
          "2025-01-02T00:00:00",
          "2025-01-03T00:00:00",
          "2025-01-06T00:00:00",
          "2025-01-07T00:00:00",
          "2025-01-08T00:00:00",
          "2025-01-09T00:00:00",
          "2025-01-10T00:00:00",
          "2025-01-13T00:00:00",
          "2025-01-14T00:00:00",
          "2025-01-15T00:00:00",
          "2025-01-16T00:00:00",
          "2025-01-17T00:00:00",
          "2025-01-20T00:00:00",
          "2025-01-21T00:00:00",
          "2025-01-22T00:00:00",
          "2025-01-23T00:00:00",
          "2025-01-24T00:00:00",
          "2025-01-27T00:00:00",
          "2025-01-28T00:00:00",
          "2025-01-29T00:00:00",
          "2025-01-30T00:00:00",
          "2025-01-31T00:00:00",
          "2025-02-03T00:00:00",
          "2025-02-04T00:00:00",
          "2025-02-05T00:00:00",
          "2025-02-06T00:00:00",
          "2025-02-07T00:00:00",
          "2025-02-10T00:00:00",
          "2025-02-11T00:00:00",
          "2025-02-12T00:00:00",
          "2025-02-13T00:00:00",
          "2025-02-14T00:00:00",
          "2025-02-17T00:00:00",
          "2025-02-18T00:00:00",
          "2025-02-19T00:00:00",
          "2025-02-20T00:00:00",
          "2025-02-21T00:00:00",
          "2025-02-24T00:00:00",
          "2025-02-25T00:00:00",
          "2025-02-26T00:00:00",
          "2025-02-27T00:00:00",
          "2025-02-28T00:00:00",
          "2025-03-03T00:00:00",
          "2025-03-04T00:00:00",
          "2025-03-05T00:00:00",
          "2025-03-06T00:00:00",
          "2025-03-07T00:00:00",
          "2025-03-10T00:00:00",
          "2025-03-11T00:00:00",
          "2025-03-12T00:00:00",
          "2025-03-13T00:00:00",
          "2025-03-14T00:00:00",
          "2025-03-17T00:00:00",
          "2025-03-18T00:00:00",
          "2025-03-19T00:00:00",
          "2025-03-20T00:00:00",
          "2025-03-21T00:00:00",
          "2025-03-24T00:00:00",
          "2025-03-25T00:00:00",
          "2025-03-26T00:00:00",
          "2025-03-27T00:00:00",
          "2025-03-28T00:00:00",
          "2025-03-31T00:00:00",
          "2025-04-01T00:00:00",
          "2025-04-02T00:00:00",
          "2025-04-03T00:00:00",
          "2025-04-04T00:00:00",
          "2025-04-07T00:00:00",
          "2025-04-08T00:00:00",
          "2025-04-09T00:00:00",
          "2025-04-10T00:00:00",
          "2025-04-11T00:00:00",
          "2025-04-14T00:00:00",
          "2025-04-15T00:00:00",
          "2025-04-16T00:00:00",
          "2025-04-17T00:00:00",
          "2025-04-18T00:00:00",
          "2025-04-21T00:00:00",
          "2025-04-22T00:00:00",
          "2025-04-23T00:00:00",
          "2025-04-24T00:00:00",
          "2025-04-25T00:00:00",
          "2025-04-28T00:00:00",
          "2025-04-29T00:00:00",
          "2025-04-30T00:00:00",
          "2025-05-01T00:00:00",
          "2025-05-02T00:00:00",
          "2025-05-05T00:00:00",
          "2025-05-06T00:00:00",
          "2025-05-07T00:00:00",
          "2025-05-08T00:00:00",
          "2025-05-09T00:00:00",
          "2025-05-12T00:00:00",
          "2025-05-13T00:00:00",
          "2025-05-14T00:00:00",
          "2025-05-15T00:00:00",
          "2025-05-16T00:00:00",
          "2025-05-19T00:00:00",
          "2025-05-20T00:00:00",
          "2025-05-21T00:00:00",
          "2025-05-22T00:00:00",
          "2025-05-23T00:00:00",
          "2025-05-26T00:00:00",
          "2025-05-27T00:00:00",
          "2025-05-28T00:00:00",
          "2025-05-29T00:00:00",
          "2025-05-30T00:00:00",
          "2025-06-02T00:00:00",
          "2025-06-03T00:00:00",
          "2025-06-04T00:00:00",
          "2025-06-05T00:00:00",
          "2025-06-06T00:00:00",
          "2025-06-09T00:00:00",
          "2025-06-10T00:00:00",
          "2025-06-11T00:00:00",
          "2025-06-12T00:00:00",
          "2025-06-13T00:00:00",
          "2025-06-16T00:00:00",
          "2025-06-17T00:00:00",
          "2025-06-18T00:00:00",
          "2025-06-19T00:00:00",
          "2025-06-20T00:00:00",
          "2025-06-23T00:00:00",
          "2025-06-24T00:00:00",
          "2025-06-25T00:00:00",
          "2025-06-26T00:00:00",
          "2025-06-27T00:00:00",
          "2025-06-30T00:00:00"
         ]
        },
        {
         "marker": {
          "color": "purple",
          "line": {
           "color": "white",
           "width": 1
          },
          "size": 7,
          "symbol": "circle"
         },
         "mode": "markers",
         "name": "Doji",
         "type": "scatter",
         "x": [
          "2025-01-06T00:00:00",
          "2025-01-10T00:00:00",
          "2025-01-14T00:00:00",
          "2025-01-15T00:00:00",
          "2025-01-16T00:00:00",
          "2025-01-20T00:00:00",
          "2025-01-22T00:00:00",
          "2025-01-24T00:00:00",
          "2025-01-27T00:00:00",
          "2025-02-03T00:00:00",
          "2025-02-10T00:00:00",
          "2025-02-11T00:00:00",
          "2025-02-12T00:00:00",
          "2025-02-13T00:00:00",
          "2025-02-25T00:00:00",
          "2025-03-05T00:00:00",
          "2025-03-07T00:00:00",
          "2025-03-20T00:00:00",
          "2025-03-21T00:00:00",
          "2025-04-01T00:00:00",
          "2025-04-02T00:00:00",
          "2025-04-04T00:00:00",
          "2025-04-07T00:00:00",
          "2025-04-08T00:00:00",
          "2025-04-10T00:00:00",
          "2025-04-16T00:00:00",
          "2025-04-17T00:00:00",
          "2025-04-23T00:00:00",
          "2025-04-25T00:00:00",
          "2025-04-30T00:00:00",
          "2025-05-08T00:00:00",
          "2025-05-09T00:00:00",
          "2025-05-16T00:00:00",
          "2025-05-28T00:00:00",
          "2025-05-30T00:00:00",
          "2025-06-03T00:00:00",
          "2025-06-20T00:00:00",
          "2025-06-23T00:00:00",
          "2025-06-30T00:00:00"
         ],
         "y": {
          "_inputArray": {
           "0": 1.0990398698750372,
           "1": 1.100223080904823,
           "10": 1.1141559705582573,
           "11": 1.1149297104966491,
           "12": 1.116102878533762,
           "13": 1.1175561687272184,
           "14": 1.125832851259086,
           "15": 1.1233023541586344,
           "16": 1.1261018919448607,
           "17": 1.1304712778320423,
           "18": 1.1338324848582522,
           "19": 1.1434872361518655,
           "2": 1.0965149023536545,
           "20": 1.143754315556147,
           "21": 1.1489960506436974,
           "22": 1.148123743587343,
           "23": 1.1457748169056576,
           "24": 1.1460314113932706,
           "25": 1.1443454006533023,
           "26": 1.1453715401877893,
           "27": 1.1467516612603816,
           "28": 1.145091524575667,
           "29": 1.1494694614519994,
           "3": 1.098238355095505,
           "30": 1.1529978550003468,
           "31": 1.1566152194296995,
           "32": 1.1492982519959771,
           "33": 1.1423952404587685,
           "34": 1.1407469428139432,
           "35": 1.139734084882779,
           "36": 1.1488547374267843,
           "37": 1.1480707263348424,
           "38": 1.1508751236276429,
           "4": 1.097102299480346,
           "5": 1.0957605719435481,
           "6": 1.0967404029310286,
           "7": 1.1028781797977016,
           "8": 1.1114480877636723,
           "9": 1.1122848338597333,
           "bdata": "aNCh1KqV8T80pmyEg5rxPyL40jVTi/E/h5GlYWKS8T/ZJgoku43xP5Xmyzw8iPE/bKYsqj+M8T8MQBuXY6XxP+1YQsp9yPE/xTqULuvL8T+9DQM2ldPxP+y/PonA1vE/LWIksY7b8T/8BcKTguHxPyu5zk5pA/I/Kxmq4wv58T/V3t1qgwTyP/qx9QxpFvI/3LwZiC0k8j+spqpFuUvyP2yPP1PRTPI/J/fLrkli8j/pf6cAt17yPwILc/kXVfI/EfeBCCVW8j+pJHIfPU/yP+MCrhtxU/I/wPMbRRhZ8j8Xq499S1LyPz3+Chc6ZPI/r1r54K1y8j9PGtj1foHyP1XDWpCGY/I/AgZOO0BH8j+rXcbdf0DyPxFUy85ZPPI/r6RRgbVh8j9bpvFof17yP8IrnAj8afI/",
           "dtype": "f8",
           "shape": "39"
          },
          "bdata": "aNCh1KqV8T80pmyEg5rxPyL40jVTi/E/h5GlYWKS8T/ZJgoku43xP5Xmyzw8iPE/bKYsqj+M8T8MQBuXY6XxP+1YQsp9yPE/xTqULuvL8T+9DQM2ldPxP+y/PonA1vE/LWIksY7b8T/8BcKTguHxPyu5zk5pA/I/Kxmq4wv58T/V3t1qgwTyP/qx9QxpFvI/3LwZiC0k8j+spqpFuUvyP2yPP1PRTPI/J/fLrkli8j/pf6cAt17yPwILc/kXVfI/EfeBCCVW8j+pJHIfPU/yP+MCrhtxU/I/wPMbRRhZ8j8Xq499S1LyPz3+Chc6ZPI/r1r54K1y8j9PGtj1foHyP1XDWpCGY/I/AgZOO0BH8j+rXcbdf0DyPxFUy85ZPPI/r6RRgbVh8j9bpvFof17yP8IrnAj8afI/",
          "dtype": "f8"
         }
        },
        {
         "marker": {
          "color": "lime",
          "line": {
           "color": "black",
           "width": 1
          },
          "size": 9,
          "symbol": "triangle-up"
         },
         "mode": "markers",
         "name": "Bullish Engulfing",
         "type": "scatter",
         "x": [
          "2025-04-09T00:00:00"
         ],
         "y": {
          "_inputArray": {
           "0": 1.1432497349014095,
           "bdata": "3v7oO8BK8j8=",
           "dtype": "f8",
           "shape": "1"
          },
          "bdata": "3v7oO8BK8j8=",
          "dtype": "f8"
         }
        },
        {
         "marker": {
          "color": "gold",
          "line": {
           "color": "black",
           "width": 1
          },
          "size": 9,
          "symbol": "diamond"
         },
         "mode": "markers",
         "name": "Hammer",
         "type": "scatter",
         "x": [
          "2025-02-26T00:00:00",
          "2025-03-10T00:00:00",
          "2025-05-08T00:00:00",
          "2025-06-05T00:00:00"
         ],
         "y": {
          "_inputArray": {
           "0": 1.1200302649359615,
           "1": 1.1276244279034346,
           "2": 1.1504237093856837,
           "3": 1.1389021940729176,
           "bdata": "+uHm2qTr8T9hQYDpvwryPx2sBbEiaPI/WCzOgfE48j8=",
           "dtype": "f8",
           "shape": "4"
          },
          "bdata": "+uHm2qTr8T9hQYDpvwryPx2sBbEiaPI/WCzOgfE48j8=",
          "dtype": "f8"
         }
        }
       ],
       "layout": {
        "height": 500,
        "template": {
         "data": {
          "bar": [
           {
            "error_x": {
             "color": "#2a3f5f"
            },
            "error_y": {
             "color": "#2a3f5f"
            },
            "marker": {
             "line": {
              "color": "white",
              "width": 0.5
             },
             "pattern": {
              "fillmode": "overlay",
              "size": 10,
              "solidity": 0.2
             }
            },
            "type": "bar"
           }
          ],
          "barpolar": [
           {
            "marker": {
             "line": {
              "color": "white",
              "width": 0.5
             },
             "pattern": {
              "fillmode": "overlay",
              "size": 10,
              "solidity": 0.2
             }
            },
            "type": "barpolar"
           }
          ],
          "carpet": [
           {
            "aaxis": {
             "endlinecolor": "#2a3f5f",
             "gridcolor": "#C8D4E3",
             "linecolor": "#C8D4E3",
             "minorgridcolor": "#C8D4E3",
             "startlinecolor": "#2a3f5f"
            },
            "baxis": {
             "endlinecolor": "#2a3f5f",
             "gridcolor": "#C8D4E3",
             "linecolor": "#C8D4E3",
             "minorgridcolor": "#C8D4E3",
             "startlinecolor": "#2a3f5f"
            },
            "type": "carpet"
           }
          ],
          "choropleth": [
           {
            "colorbar": {
             "outlinewidth": 0,
             "ticks": ""
            },
            "type": "choropleth"
           }
          ],
          "contour": [
           {
            "colorbar": {
             "outlinewidth": 0,
             "ticks": ""
            },
            "colorscale": [
             [
              0,
              "#0d0887"
             ],
             [
              0.1111111111111111,
              "#46039f"
             ],
             [
              0.2222222222222222,
              "#7201a8"
             ],
             [
              0.3333333333333333,
              "#9c179e"
             ],
             [
              0.4444444444444444,
              "#bd3786"
             ],
             [
              0.5555555555555556,
              "#d8576b"
             ],
             [
              0.6666666666666666,
              "#ed7953"
             ],
             [
              0.7777777777777778,
              "#fb9f3a"
             ],
             [
              0.8888888888888888,
              "#fdca26"
             ],
             [
              1,
              "#f0f921"
             ]
            ],
            "type": "contour"
           }
          ],
          "contourcarpet": [
           {
            "colorbar": {
             "outlinewidth": 0,
             "ticks": ""
            },
            "type": "contourcarpet"
           }
          ],
          "heatmap": [
           {
            "colorbar": {
             "outlinewidth": 0,
             "ticks": ""
            },
            "colorscale": [
             [
              0,
              "#0d0887"
             ],
             [
              0.1111111111111111,
              "#46039f"
             ],
             [
              0.2222222222222222,
              "#7201a8"
             ],
             [
              0.3333333333333333,
              "#9c179e"
             ],
             [
              0.4444444444444444,
              "#bd3786"
             ],
             [
              0.5555555555555556,
              "#d8576b"
             ],
             [
              0.6666666666666666,
              "#ed7953"
             ],
             [
              0.7777777777777778,
              "#fb9f3a"
             ],
             [
              0.8888888888888888,
              "#fdca26"
             ],
             [
              1,
              "#f0f921"
             ]
            ],
            "type": "heatmap"
           }
          ],
          "histogram": [
           {
            "marker": {
             "pattern": {
              "fillmode": "overlay",
              "size": 10,
              "solidity": 0.2
             }
            },
            "type": "histogram"
           }
          ],
          "histogram2d": [
           {
            "colorbar": {
             "outlinewidth": 0,
             "ticks": ""
            },
            "colorscale": [
             [
              0,
              "#0d0887"
             ],
             [
              0.1111111111111111,
              "#46039f"
             ],
             [
              0.2222222222222222,
              "#7201a8"
             ],
             [
              0.3333333333333333,
              "#9c179e"
             ],
             [
              0.4444444444444444,
              "#bd3786"
             ],
             [
              0.5555555555555556,
              "#d8576b"
             ],
             [
              0.6666666666666666,
              "#ed7953"
             ],
             [
              0.7777777777777778,
              "#fb9f3a"
             ],
             [
              0.8888888888888888,
              "#fdca26"
             ],
             [
              1,
              "#f0f921"
             ]
            ],
            "type": "histogram2d"
           }
          ],
          "histogram2dcontour": [
           {
            "colorbar": {
             "outlinewidth": 0,
             "ticks": ""
            },
            "colorscale": [
             [
              0,
              "#0d0887"
             ],
             [
              0.1111111111111111,
              "#46039f"
             ],
             [
              0.2222222222222222,
              "#7201a8"
             ],
             [
              0.3333333333333333,
              "#9c179e"
             ],
             [
              0.4444444444444444,
              "#bd3786"
             ],
             [
              0.5555555555555556,
              "#d8576b"
             ],
             [
              0.6666666666666666,
              "#ed7953"
             ],
             [
              0.7777777777777778,
              "#fb9f3a"
             ],
             [
              0.8888888888888888,
              "#fdca26"
             ],
             [
              1,
              "#f0f921"
             ]
            ],
            "type": "histogram2dcontour"
           }
          ],
          "mesh3d": [
           {
            "colorbar": {
             "outlinewidth": 0,
             "ticks": ""
            },
            "type": "mesh3d"
           }
          ],
          "parcoords": [
           {
            "line": {
             "colorbar": {
              "outlinewidth": 0,
              "ticks": ""
             }
            },
            "type": "parcoords"
           }
          ],
          "pie": [
           {
            "automargin": true,
            "type": "pie"
           }
          ],
          "scatter": [
           {
            "fillpattern": {
             "fillmode": "overlay",
             "size": 10,
             "solidity": 0.2
            },
            "type": "scatter"
           }
          ],
          "scatter3d": [
           {
            "line": {
             "colorbar": {
              "outlinewidth": 0,
              "ticks": ""
             }
            },
            "marker": {
             "colorbar": {
              "outlinewidth": 0,
              "ticks": ""
             }
            },
            "type": "scatter3d"
           }
          ],
          "scattercarpet": [
           {
            "marker": {
             "colorbar": {
              "outlinewidth": 0,
              "ticks": ""
             }
            },
            "type": "scattercarpet"
           }
          ],
          "scattergeo": [
           {
            "marker": {
             "colorbar": {
              "outlinewidth": 0,
              "ticks": ""
             }
            },
            "type": "scattergeo"
           }
          ],
          "scattergl": [
           {
            "marker": {
             "colorbar": {
              "outlinewidth": 0,
              "ticks": ""
             }
            },
            "type": "scattergl"
           }
          ],
          "scattermap": [
           {
            "marker": {
             "colorbar": {
              "outlinewidth": 0,
              "ticks": ""
             }
            },
            "type": "scattermap"
           }
          ],
          "scattermapbox": [
           {
            "marker": {
             "colorbar": {
              "outlinewidth": 0,
              "ticks": ""
             }
            },
            "type": "scattermapbox"
           }
          ],
          "scatterpolar": [
           {
            "marker": {
             "colorbar": {
              "outlinewidth": 0,
              "ticks": ""
             }
            },
            "type": "scatterpolar"
           }
          ],
          "scatterpolargl": [
           {
            "marker": {
             "colorbar": {
              "outlinewidth": 0,
              "ticks": ""
             }
            },
            "type": "scatterpolargl"
           }
          ],
          "scatterternary": [
           {
            "marker": {
             "colorbar": {
              "outlinewidth": 0,
              "ticks": ""
             }
            },
            "type": "scatterternary"
           }
          ],
          "surface": [
           {
            "colorbar": {
             "outlinewidth": 0,
             "ticks": ""
            },
            "colorscale": [
             [
              0,
              "#0d0887"
             ],
             [
              0.1111111111111111,
              "#46039f"
             ],
             [
              0.2222222222222222,
              "#7201a8"
             ],
             [
              0.3333333333333333,
              "#9c179e"
             ],
             [
              0.4444444444444444,
              "#bd3786"
             ],
             [
              0.5555555555555556,
              "#d8576b"
             ],
             [
              0.6666666666666666,
              "#ed7953"
             ],
             [
              0.7777777777777778,
              "#fb9f3a"
             ],
             [
              0.8888888888888888,
              "#fdca26"
             ],
             [
              1,
              "#f0f921"
             ]
            ],
            "type": "surface"
           }
          ],
          "table": [
           {
            "cells": {
             "fill": {
              "color": "#EBF0F8"
             },
             "line": {
              "color": "white"
             }
            },
            "header": {
             "fill": {
              "color": "#C8D4E3"
             },
             "line": {
              "color": "white"
             }
            },
            "type": "table"
           }
          ]
         },
         "layout": {
          "annotationdefaults": {
           "arrowcolor": "#2a3f5f",
           "arrowhead": 0,
           "arrowwidth": 1
          },
          "autotypenumbers": "strict",
          "coloraxis": {
           "colorbar": {
            "outlinewidth": 0,
            "ticks": ""
           }
          },
          "colorscale": {
           "diverging": [
            [
             0,
             "#8e0152"
            ],
            [
             0.1,
             "#c51b7d"
            ],
            [
             0.2,
             "#de77ae"
            ],
            [
             0.3,
             "#f1b6da"
            ],
            [
             0.4,
             "#fde0ef"
            ],
            [
             0.5,
             "#f7f7f7"
            ],
            [
             0.6,
             "#e6f5d0"
            ],
            [
             0.7,
             "#b8e186"
            ],
            [
             0.8,
             "#7fbc41"
            ],
            [
             0.9,
             "#4d9221"
            ],
            [
             1,
             "#276419"
            ]
           ],
           "sequential": [
            [
             0,
             "#0d0887"
            ],
            [
             0.1111111111111111,
             "#46039f"
            ],
            [
             0.2222222222222222,
             "#7201a8"
            ],
            [
             0.3333333333333333,
             "#9c179e"
            ],
            [
             0.4444444444444444,
             "#bd3786"
            ],
            [
             0.5555555555555556,
             "#d8576b"
            ],
            [
             0.6666666666666666,
             "#ed7953"
            ],
            [
             0.7777777777777778,
             "#fb9f3a"
            ],
            [
             0.8888888888888888,
             "#fdca26"
            ],
            [
             1,
             "#f0f921"
            ]
           ],
           "sequentialminus": [
            [
             0,
             "#0d0887"
            ],
            [
             0.1111111111111111,
             "#46039f"
            ],
            [
             0.2222222222222222,
             "#7201a8"
            ],
            [
             0.3333333333333333,
             "#9c179e"
            ],
            [
             0.4444444444444444,
             "#bd3786"
            ],
            [
             0.5555555555555556,
             "#d8576b"
            ],
            [
             0.6666666666666666,
             "#ed7953"
            ],
            [
             0.7777777777777778,
             "#fb9f3a"
            ],
            [
             0.8888888888888888,
             "#fdca26"
            ],
            [
             1,
             "#f0f921"
            ]
           ]
          },
          "colorway": [
           "#636efa",
           "#EF553B",
           "#00cc96",
           "#ab63fa",
           "#FFA15A",
           "#19d3f3",
           "#FF6692",
           "#B6E880",
           "#FF97FF",
           "#FECB52"
          ],
          "font": {
           "color": "#2a3f5f"
          },
          "geo": {
           "bgcolor": "white",
           "lakecolor": "white",
           "landcolor": "white",
           "showlakes": true,
           "showland": true,
           "subunitcolor": "#C8D4E3"
          },
          "hoverlabel": {
           "align": "left"
          },
          "hovermode": "closest",
          "mapbox": {
           "style": "light"
          },
          "paper_bgcolor": "white",
          "plot_bgcolor": "white",
          "polar": {
           "angularaxis": {
            "gridcolor": "#EBF0F8",
            "linecolor": "#EBF0F8",
            "ticks": ""
           },
           "bgcolor": "white",
           "radialaxis": {
            "gridcolor": "#EBF0F8",
            "linecolor": "#EBF0F8",
            "ticks": ""
           }
          },
          "scene": {
           "xaxis": {
            "backgroundcolor": "white",
            "gridcolor": "#DFE8F3",
            "gridwidth": 2,
            "linecolor": "#EBF0F8",
            "showbackground": true,
            "ticks": "",
            "zerolinecolor": "#EBF0F8"
           },
           "yaxis": {
            "backgroundcolor": "white",
            "gridcolor": "#DFE8F3",
            "gridwidth": 2,
            "linecolor": "#EBF0F8",
            "showbackground": true,
            "ticks": "",
            "zerolinecolor": "#EBF0F8"
           },
           "zaxis": {
            "backgroundcolor": "white",
            "gridcolor": "#DFE8F3",
            "gridwidth": 2,
            "linecolor": "#EBF0F8",
            "showbackground": true,
            "ticks": "",
            "zerolinecolor": "#EBF0F8"
           }
          },
          "shapedefaults": {
           "line": {
            "color": "#2a3f5f"
           }
          },
          "ternary": {
           "aaxis": {
            "gridcolor": "#DFE8F3",
            "linecolor": "#A2B1C6",
            "ticks": ""
           },
           "baxis": {
            "gridcolor": "#DFE8F3",
            "linecolor": "#A2B1C6",
            "ticks": ""
           },
           "bgcolor": "white",
           "caxis": {
            "gridcolor": "#DFE8F3",
            "linecolor": "#A2B1C6",
            "ticks": ""
           }
          },
          "title": {
           "x": 0.05
          },
          "xaxis": {
           "automargin": true,
           "gridcolor": "#EBF0F8",
           "linecolor": "#EBF0F8",
           "ticks": "",
           "title": {
            "standoff": 15
           },
           "zerolinecolor": "#EBF0F8",
           "zerolinewidth": 2
          },
          "yaxis": {
           "automargin": true,
           "gridcolor": "#EBF0F8",
           "linecolor": "#EBF0F8",
           "ticks": "",
           "title": {
            "standoff": 15
           },
           "zerolinecolor": "#EBF0F8",
           "zerolinewidth": 2
          }
         }
        },
        "title": {
         "text": "EURUSD Candlestick Chart (Jan-Jun 2025)"
        },
        "width": 1000,
        "xaxis": {
         "autorange": true,
         "range": [
          "2024-12-25 23:56:22.1958",
          "2025-07-11 00:03:37.8042"
         ],
         "rangeslider": {
          "visible": false,
          "yaxis": {}
         },
         "title": {
          "text": "Date"
         },
         "type": "date"
        },
        "yaxis": {
         "autorange": true,
         "range": [
          1.0875524249541666,
          1.161311604702754
         ],
         "tickformat": ".4f",
         "title": {
          "text": "Price"
         },
         "type": "linear"
        }
       }
      }
     },
     "metadata": {},
     "output_type": "display_data"
    }
   ],
   "source": [
    "hammer_dates = df[df['Hammer']].index\n",
    "hammer_lows = df[df['Hammer']]['Low'] - 0.0005  # place below wick\n",
    "\n",
    "fig.add_trace(go.Scatter(\n",
    "    x=hammer_dates,\n",
    "    y=hammer_lows,\n",
    "    mode='markers',\n",
    "    marker=dict(\n",
    "        color='gold',\n",
    "        size=9,\n",
    "        symbol='diamond',\n",
    "        line=dict(width=1, color='black')\n",
    "    ),\n",
    "    name='Hammer'\n",
    "))"
   ]
  },
  {
   "cell_type": "code",
   "execution_count": 19,
   "id": "49e505c0-0cbc-4da9-b132-d1f008d7f5db",
   "metadata": {},
   "outputs": [],
   "source": [
    "\n",
    "#  without this block the x axis was showing 1.74 * 10^18 and so on , instaead of proper dates\n",
    "\n",
    "\n",
    "#  fig.update_xaxes(\n",
    "#     title_text=\"Date\",\n",
    "#     type=\"date\",\n",
    "#     tickformat=\"%d %b\",   # e.g., 15 Jan, 01 Mar\n",
    "#     dtick=\"M1\",           # every 1 month\n",
    "#     tickangle=0\n",
    "# )   \n",
    "\n",
    "# This code was fine but was causing overlapping, hence tilted\n"
   ]
  },
  {
   "cell_type": "code",
   "execution_count": 20,
   "id": "a7358ee4-222c-4040-84c6-60c6e6d79f10",
   "metadata": {},
   "outputs": [],
   "source": [
    "fig.update_xaxes(\n",
    "    title_text=\"Date\",\n",
    "    type=\"date\",\n",
    "    tickformat=\"%d %b\",   # e.g., 15 Jan\n",
    "    dtick=\"M1\",           # every 1 month\n",
    "    tickangle=45          # slight tilt for better readability\n",
    ")\n",
    "\n",
    "fig.write_image(\"eurusd_candlestick_patterns.png\", scale=2)"
   ]
  },
  {
   "cell_type": "code",
   "execution_count": 21,
   "id": "cc2a7fa8-d1f3-4e69-b163-fe1655dd52db",
   "metadata": {},
   "outputs": [],
   "source": [
    "df.to_csv(\"EURUSD_patterns_2025.csv\")"
   ]
  },
  {
   "cell_type": "code",
   "execution_count": null,
   "id": "df215301-988a-436c-8e51-a4eaa7945840",
   "metadata": {},
   "outputs": [],
   "source": []
  },
  {
   "cell_type": "code",
   "execution_count": null,
   "id": "4c8443ef-bd68-4fd4-b467-51782cfd1a3a",
   "metadata": {},
   "outputs": [],
   "source": []
  },
  {
   "cell_type": "code",
   "execution_count": null,
   "id": "e9d3ad32-6da1-449e-80a3-18f6fc9c1e10",
   "metadata": {},
   "outputs": [],
   "source": []
  },
  {
   "cell_type": "code",
   "execution_count": null,
   "id": "046b1d39-ba7a-4070-9ec1-76ea9da87cea",
   "metadata": {},
   "outputs": [],
   "source": []
  },
  {
   "cell_type": "code",
   "execution_count": null,
   "id": "754fddb3-e95a-4f1e-8e8f-3e1b0adfad7d",
   "metadata": {},
   "outputs": [],
   "source": []
  }
 ],
 "metadata": {
  "kernelspec": {
   "display_name": "Python 3 (ipykernel)",
   "language": "python",
   "name": "python3"
  },
  "language_info": {
   "codemirror_mode": {
    "name": "ipython",
    "version": 3
   },
   "file_extension": ".py",
   "mimetype": "text/x-python",
   "name": "python",
   "nbconvert_exporter": "python",
   "pygments_lexer": "ipython3",
   "version": "3.12.7"
  }
 },
 "nbformat": 4,
 "nbformat_minor": 5
}
