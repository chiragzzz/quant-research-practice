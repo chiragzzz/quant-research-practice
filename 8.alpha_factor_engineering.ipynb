{
 "cells": [
  {
   "cell_type": "code",
   "execution_count": 1,
   "id": "466e76b5-130a-4bd8-8c35-95ceb363f0d0",
   "metadata": {},
   "outputs": [],
   "source": [
    "import pandas as pd\n",
    "import matplotlib.pyplot as plt\n"
   ]
  },
  {
   "cell_type": "code",
   "execution_count": 2,
   "id": "4cd9e0e4-2ad4-49ef-8657-9f2d0aba9ed0",
   "metadata": {},
   "outputs": [
    {
     "data": {
      "text/html": [
       "<div>\n",
       "<style scoped>\n",
       "    .dataframe tbody tr th:only-of-type {\n",
       "        vertical-align: middle;\n",
       "    }\n",
       "\n",
       "    .dataframe tbody tr th {\n",
       "        vertical-align: top;\n",
       "    }\n",
       "\n",
       "    .dataframe thead th {\n",
       "        text-align: right;\n",
       "    }\n",
       "</style>\n",
       "<table border=\"1\" class=\"dataframe\">\n",
       "  <thead>\n",
       "    <tr style=\"text-align: right;\">\n",
       "      <th></th>\n",
       "      <th>Date</th>\n",
       "      <th>Stock</th>\n",
       "      <th>Open</th>\n",
       "      <th>High</th>\n",
       "      <th>Low</th>\n",
       "      <th>Close</th>\n",
       "      <th>Volume</th>\n",
       "    </tr>\n",
       "  </thead>\n",
       "  <tbody>\n",
       "    <tr>\n",
       "      <th>0</th>\n",
       "      <td>2023-01-02</td>\n",
       "      <td>RELIANCE</td>\n",
       "      <td>100.706957</td>\n",
       "      <td>101.009809</td>\n",
       "      <td>99.623462</td>\n",
       "      <td>100.496714</td>\n",
       "      <td>1449590.0</td>\n",
       "    </tr>\n",
       "    <tr>\n",
       "      <th>1</th>\n",
       "      <td>2023-01-03</td>\n",
       "      <td>RELIANCE</td>\n",
       "      <td>100.172800</td>\n",
       "      <td>101.521987</td>\n",
       "      <td>99.631180</td>\n",
       "      <td>100.358450</td>\n",
       "      <td>3604438.0</td>\n",
       "    </tr>\n",
       "    <tr>\n",
       "      <th>2</th>\n",
       "      <td>2023-01-04</td>\n",
       "      <td>RELIANCE</td>\n",
       "      <td>100.977306</td>\n",
       "      <td>101.684174</td>\n",
       "      <td>100.432942</td>\n",
       "      <td>101.006138</td>\n",
       "      <td>NaN</td>\n",
       "    </tr>\n",
       "    <tr>\n",
       "      <th>3</th>\n",
       "      <td>2023-01-05</td>\n",
       "      <td>RELIANCE</td>\n",
       "      <td>102.850805</td>\n",
       "      <td>103.990239</td>\n",
       "      <td>101.425720</td>\n",
       "      <td>102.529168</td>\n",
       "      <td>3145529.0</td>\n",
       "    </tr>\n",
       "    <tr>\n",
       "      <th>4</th>\n",
       "      <td>2023-01-06</td>\n",
       "      <td>RELIANCE</td>\n",
       "      <td>102.254280</td>\n",
       "      <td>102.943678</td>\n",
       "      <td>101.126802</td>\n",
       "      <td>102.295015</td>\n",
       "      <td>2325541.0</td>\n",
       "    </tr>\n",
       "  </tbody>\n",
       "</table>\n",
       "</div>"
      ],
      "text/plain": [
       "         Date     Stock        Open        High         Low       Close  \\\n",
       "0  2023-01-02  RELIANCE  100.706957  101.009809   99.623462  100.496714   \n",
       "1  2023-01-03  RELIANCE  100.172800  101.521987   99.631180  100.358450   \n",
       "2  2023-01-04  RELIANCE  100.977306  101.684174  100.432942  101.006138   \n",
       "3  2023-01-05  RELIANCE  102.850805  103.990239  101.425720  102.529168   \n",
       "4  2023-01-06  RELIANCE  102.254280  102.943678  101.126802  102.295015   \n",
       "\n",
       "      Volume  \n",
       "0  1449590.0  \n",
       "1  3604438.0  \n",
       "2        NaN  \n",
       "3  3145529.0  \n",
       "4  2325541.0  "
      ]
     },
     "execution_count": 2,
     "metadata": {},
     "output_type": "execute_result"
    }
   ],
   "source": [
    "df = pd.read_csv(r\"C:\\Users\\chira\\Downloads\\8.nifty_alpha_factors_unclean.csv\")\n",
    "\n",
    "df.head()"
   ]
  },
  {
   "cell_type": "markdown",
   "id": "95cee68b-e486-4469-a2ff-11da75e81a02",
   "metadata": {},
   "source": [
    "Inspecting the Raw data"
   ]
  },
  {
   "cell_type": "code",
   "execution_count": 3,
   "id": "8c238e5a-f886-4e59-99f5-468cdb0e0b95",
   "metadata": {},
   "outputs": [
    {
     "name": "stdout",
     "output_type": "stream",
     "text": [
      "<class 'pandas.core.frame.DataFrame'>\n",
      "RangeIndex: 6500 entries, 0 to 6499\n",
      "Data columns (total 7 columns):\n",
      " #   Column  Non-Null Count  Dtype  \n",
      "---  ------  --------------  -----  \n",
      " 0   Date    6500 non-null   object \n",
      " 1   Stock   6500 non-null   object \n",
      " 2   Open    6500 non-null   float64\n",
      " 3   High    6500 non-null   float64\n",
      " 4   Low     6500 non-null   float64\n",
      " 5   Close   6466 non-null   float64\n",
      " 6   Volume  6466 non-null   float64\n",
      "dtypes: float64(5), object(2)\n",
      "memory usage: 355.6+ KB\n"
     ]
    }
   ],
   "source": [
    "# Checking the Raw data\n",
    "df.info()"
   ]
  },
  {
   "cell_type": "code",
   "execution_count": 4,
   "id": "5b252c7e-1eec-471e-8db5-4ac029ce602d",
   "metadata": {},
   "outputs": [
    {
     "data": {
      "text/plain": [
       "Date       0\n",
       "Stock      0\n",
       "Open       0\n",
       "High       0\n",
       "Low        0\n",
       "Close     34\n",
       "Volume    34\n",
       "dtype: int64"
      ]
     },
     "execution_count": 4,
     "metadata": {},
     "output_type": "execute_result"
    }
   ],
   "source": [
    " # Checking missing Values\n",
    "\n",
    "df.isnull().sum()"
   ]
  },
  {
   "cell_type": "code",
   "execution_count": 5,
   "id": "ba1538a5-c3fe-4c80-9b0a-92f5b13cf169",
   "metadata": {},
   "outputs": [
    {
     "data": {
      "text/plain": [
       "7"
      ]
     },
     "execution_count": 5,
     "metadata": {},
     "output_type": "execute_result"
    }
   ],
   "source": [
    "# Checking for duplicates\n",
    "\n",
    "df.duplicated().sum()"
   ]
  },
  {
   "cell_type": "code",
   "execution_count": 6,
   "id": "ee11f6ab-d5f9-433a-9c1b-69bb851d1ba0",
   "metadata": {},
   "outputs": [
    {
     "name": "stdout",
     "output_type": "stream",
     "text": [
      "After Cleaning\n",
      "<class 'pandas.core.frame.DataFrame'>\n",
      "Index: 6425 entries, 0 to 6499\n",
      "Data columns (total 7 columns):\n",
      " #   Column  Non-Null Count  Dtype         \n",
      "---  ------  --------------  -----         \n",
      " 0   Date    6425 non-null   datetime64[ns]\n",
      " 1   Stock   6425 non-null   object        \n",
      " 2   Open    6425 non-null   float64       \n",
      " 3   High    6425 non-null   float64       \n",
      " 4   Low     6425 non-null   float64       \n",
      " 5   Close   6425 non-null   float64       \n",
      " 6   Volume  6425 non-null   float64       \n",
      "dtypes: datetime64[ns](1), float64(5), object(1)\n",
      "memory usage: 401.6+ KB\n"
     ]
    }
   ],
   "source": [
    "# Date is still Object type, need to convert it\n",
    "# 34 Null Close and Volume\n",
    "# 7 Duplicate Rows\n",
    "\n",
    "\n",
    "df[\"Date\"] = pd.to_datetime(df[\"Date\"])\n",
    "\n",
    "df = df.dropna(subset = [\"Close\", \"Volume\"])\n",
    "\n",
    "df = df.drop_duplicates()\n",
    "\n",
    "\n",
    "print(\"After Cleaning\")\n",
    "df.info()"
   ]
  },
  {
   "cell_type": "markdown",
   "id": "484281fb-c9b2-4066-9327-bed52eec320e",
   "metadata": {},
   "source": []
  },
  {
   "cell_type": "markdown",
   "id": "e0381f40-1d28-4fc5-a150-171f06a563f6",
   "metadata": {},
   "source": [
    " Momentum Factor (Past Return) 20 days"
   ]
  },
  {
   "cell_type": "code",
   "execution_count": 7,
   "id": "8cfae587-143d-4055-8f5f-caa94cd92db9",
   "metadata": {},
   "outputs": [],
   "source": [
    "# Sorting the df by stock and date\n",
    "df = df.sort_values(by = [\"Stock\", \"Date\"])\n",
    "\n",
    "\n",
    "\n",
    "# Group by each stock and calculate 20-day momentum return\n",
    "\n",
    "df[\"Momentum_20d\"] = df.groupby(\"Stock\")[\"Close\"].transform(lambda x : x.pct_change(periods = 20))"
   ]
  },
  {
   "cell_type": "code",
   "execution_count": 8,
   "id": "ca60ff97-1d6b-4003-b575-94d5432b710f",
   "metadata": {},
   "outputs": [
    {
     "data": {
      "text/html": [
       "<div>\n",
       "<style scoped>\n",
       "    .dataframe tbody tr th:only-of-type {\n",
       "        vertical-align: middle;\n",
       "    }\n",
       "\n",
       "    .dataframe tbody tr th {\n",
       "        vertical-align: top;\n",
       "    }\n",
       "\n",
       "    .dataframe thead th {\n",
       "        text-align: right;\n",
       "    }\n",
       "</style>\n",
       "<table border=\"1\" class=\"dataframe\">\n",
       "  <thead>\n",
       "    <tr style=\"text-align: right;\">\n",
       "      <th></th>\n",
       "      <th>Date</th>\n",
       "      <th>Stock</th>\n",
       "      <th>Close</th>\n",
       "      <th>Momentum_20d</th>\n",
       "    </tr>\n",
       "  </thead>\n",
       "  <tbody>\n",
       "    <tr>\n",
       "      <th>1948</th>\n",
       "      <td>2025-06-24</td>\n",
       "      <td>TCS</td>\n",
       "      <td>96.050586</td>\n",
       "      <td>0.071867</td>\n",
       "    </tr>\n",
       "    <tr>\n",
       "      <th>1949</th>\n",
       "      <td>2025-06-25</td>\n",
       "      <td>TCS</td>\n",
       "      <td>97.431301</td>\n",
       "      <td>0.070576</td>\n",
       "    </tr>\n",
       "    <tr>\n",
       "      <th>1950</th>\n",
       "      <td>2025-06-26</td>\n",
       "      <td>TCS</td>\n",
       "      <td>98.277708</td>\n",
       "      <td>0.065232</td>\n",
       "    </tr>\n",
       "    <tr>\n",
       "      <th>1951</th>\n",
       "      <td>2025-06-27</td>\n",
       "      <td>TCS</td>\n",
       "      <td>98.786849</td>\n",
       "      <td>0.069065</td>\n",
       "    </tr>\n",
       "    <tr>\n",
       "      <th>1952</th>\n",
       "      <td>2025-06-30</td>\n",
       "      <td>TCS</td>\n",
       "      <td>98.918544</td>\n",
       "      <td>0.054544</td>\n",
       "    </tr>\n",
       "  </tbody>\n",
       "</table>\n",
       "</div>"
      ],
      "text/plain": [
       "           Date Stock      Close  Momentum_20d\n",
       "1948 2025-06-24   TCS  96.050586      0.071867\n",
       "1949 2025-06-25   TCS  97.431301      0.070576\n",
       "1950 2025-06-26   TCS  98.277708      0.065232\n",
       "1951 2025-06-27   TCS  98.786849      0.069065\n",
       "1952 2025-06-30   TCS  98.918544      0.054544"
      ]
     },
     "execution_count": 8,
     "metadata": {},
     "output_type": "execute_result"
    }
   ],
   "source": [
    "df[[\"Date\", \"Stock\", \"Close\", \"Momentum_20d\"]].tail()"
   ]
  },
  {
   "cell_type": "code",
   "execution_count": null,
   "id": "fb1864d6-249d-4888-8068-a849eb3f8251",
   "metadata": {},
   "outputs": [],
   "source": []
  },
  {
   "cell_type": "markdown",
   "id": "7f9c34a9-7de2-4373-8688-6f9164762c01",
   "metadata": {},
   "source": [
    "Volatility Factor (Risk Signal) : Measures how much a stock's price fluctuates, can be used alone or to normalize other factors."
   ]
  },
  {
   "cell_type": "code",
   "execution_count": 9,
   "id": "49c67cdd-5a97-499b-8bce-9fac09e42775",
   "metadata": {},
   "outputs": [],
   "source": [
    "# Calculating Daily return\n",
    "\n",
    "df[\"Daily_Return\"] = df.groupby(\"Stock\")[\"Close\"].pct_change()\n",
    "\n",
    "# Calculating Volatility = 20 day rolling STD deviation\n",
    "\n",
    "df[\"Volatility_20d\"] = df.groupby(\"Stock\")[\"Daily_Return\"].transform(lambda x : x.rolling(window = 20).std())\n"
   ]
  },
  {
   "cell_type": "code",
   "execution_count": 10,
   "id": "0e02d92a-e510-485d-9e89-ea3a08aa5272",
   "metadata": {},
   "outputs": [
    {
     "data": {
      "text/html": [
       "<div>\n",
       "<style scoped>\n",
       "    .dataframe tbody tr th:only-of-type {\n",
       "        vertical-align: middle;\n",
       "    }\n",
       "\n",
       "    .dataframe tbody tr th {\n",
       "        vertical-align: top;\n",
       "    }\n",
       "\n",
       "    .dataframe thead th {\n",
       "        text-align: right;\n",
       "    }\n",
       "</style>\n",
       "<table border=\"1\" class=\"dataframe\">\n",
       "  <thead>\n",
       "    <tr style=\"text-align: right;\">\n",
       "      <th></th>\n",
       "      <th>Date</th>\n",
       "      <th>Stock</th>\n",
       "      <th>Close</th>\n",
       "      <th>Volatility_20d</th>\n",
       "    </tr>\n",
       "  </thead>\n",
       "  <tbody>\n",
       "    <tr>\n",
       "      <th>1948</th>\n",
       "      <td>2025-06-24</td>\n",
       "      <td>TCS</td>\n",
       "      <td>96.050586</td>\n",
       "      <td>0.012420</td>\n",
       "    </tr>\n",
       "    <tr>\n",
       "      <th>1949</th>\n",
       "      <td>2025-06-25</td>\n",
       "      <td>TCS</td>\n",
       "      <td>97.431301</td>\n",
       "      <td>0.012360</td>\n",
       "    </tr>\n",
       "    <tr>\n",
       "      <th>1950</th>\n",
       "      <td>2025-06-26</td>\n",
       "      <td>TCS</td>\n",
       "      <td>98.277708</td>\n",
       "      <td>0.012190</td>\n",
       "    </tr>\n",
       "    <tr>\n",
       "      <th>1951</th>\n",
       "      <td>2025-06-27</td>\n",
       "      <td>TCS</td>\n",
       "      <td>98.786849</td>\n",
       "      <td>0.012190</td>\n",
       "    </tr>\n",
       "    <tr>\n",
       "      <th>1952</th>\n",
       "      <td>2025-06-30</td>\n",
       "      <td>TCS</td>\n",
       "      <td>98.918544</td>\n",
       "      <td>0.011879</td>\n",
       "    </tr>\n",
       "  </tbody>\n",
       "</table>\n",
       "</div>"
      ],
      "text/plain": [
       "           Date Stock      Close  Volatility_20d\n",
       "1948 2025-06-24   TCS  96.050586        0.012420\n",
       "1949 2025-06-25   TCS  97.431301        0.012360\n",
       "1950 2025-06-26   TCS  98.277708        0.012190\n",
       "1951 2025-06-27   TCS  98.786849        0.012190\n",
       "1952 2025-06-30   TCS  98.918544        0.011879"
      ]
     },
     "execution_count": 10,
     "metadata": {},
     "output_type": "execute_result"
    }
   ],
   "source": [
    "df[[\"Date\", \"Stock\", \"Close\", \"Volatility_20d\" ]].tail()"
   ]
  },
  {
   "cell_type": "markdown",
   "id": "03c2b214-6672-488e-9122-d40988112672",
   "metadata": {},
   "source": [
    "We have now Momentum_20d (Trend Signal) and Volatility_20d (Risk Measure). These are the two foundational alpha factors."
   ]
  },
  {
   "cell_type": "code",
   "execution_count": null,
   "id": "1b10a178-51cf-4269-b438-d245b9011367",
   "metadata": {},
   "outputs": [],
   "source": []
  },
  {
   "cell_type": "markdown",
   "id": "163e0fb8-47f8-462e-847d-ea8f421b6cc0",
   "metadata": {},
   "source": [
    "\n",
    "Rank Stocks by Momentum"
   ]
  },
  {
   "cell_type": "code",
   "execution_count": 11,
   "id": "266a4f54-9b12-41e7-8ead-567fad530177",
   "metadata": {},
   "outputs": [
    {
     "data": {
      "text/html": [
       "<div>\n",
       "<style scoped>\n",
       "    .dataframe tbody tr th:only-of-type {\n",
       "        vertical-align: middle;\n",
       "    }\n",
       "\n",
       "    .dataframe tbody tr th {\n",
       "        vertical-align: top;\n",
       "    }\n",
       "\n",
       "    .dataframe thead th {\n",
       "        text-align: right;\n",
       "    }\n",
       "</style>\n",
       "<table border=\"1\" class=\"dataframe\">\n",
       "  <thead>\n",
       "    <tr style=\"text-align: right;\">\n",
       "      <th></th>\n",
       "      <th>Stock</th>\n",
       "      <th>Momentum_20d</th>\n",
       "      <th>Volatility_20d</th>\n",
       "    </tr>\n",
       "  </thead>\n",
       "  <tbody>\n",
       "    <tr>\n",
       "      <th>6499</th>\n",
       "      <td>KOTAKBANK</td>\n",
       "      <td>0.064552</td>\n",
       "      <td>0.010734</td>\n",
       "    </tr>\n",
       "    <tr>\n",
       "      <th>1952</th>\n",
       "      <td>TCS</td>\n",
       "      <td>0.054544</td>\n",
       "      <td>0.011879</td>\n",
       "    </tr>\n",
       "    <tr>\n",
       "      <th>5853</th>\n",
       "      <td>ASIANPAINT</td>\n",
       "      <td>0.047227</td>\n",
       "      <td>0.019436</td>\n",
       "    </tr>\n",
       "    <tr>\n",
       "      <th>3254</th>\n",
       "      <td>ITC</td>\n",
       "      <td>0.034306</td>\n",
       "      <td>0.008481</td>\n",
       "    </tr>\n",
       "    <tr>\n",
       "      <th>4551</th>\n",
       "      <td>SBIN</td>\n",
       "      <td>0.026799</td>\n",
       "      <td>0.006618</td>\n",
       "    </tr>\n",
       "  </tbody>\n",
       "</table>\n",
       "</div>"
      ],
      "text/plain": [
       "           Stock  Momentum_20d  Volatility_20d\n",
       "6499   KOTAKBANK      0.064552        0.010734\n",
       "1952         TCS      0.054544        0.011879\n",
       "5853  ASIANPAINT      0.047227        0.019436\n",
       "3254         ITC      0.034306        0.008481\n",
       "4551        SBIN      0.026799        0.006618"
      ]
     },
     "execution_count": 11,
     "metadata": {},
     "output_type": "execute_result"
    }
   ],
   "source": [
    "# Picking a recent date fwith full data\n",
    "latest_date = df[\"Date\"].max()\n",
    "\n",
    "# Filter for that date\n",
    "snapshot = df[df[\"Date\"] == latest_date].copy()\n",
    "\n",
    "# Dropping stocks with missing values.  Some stocks might have NaN (missing) for Momentum_20d (maybe they don't have 20 days of data yet).\n",
    "snapshot = snapshot.dropna(subset = [\"Momentum_20d\"])\n",
    "\n",
    "#Rank by momentum\n",
    "snapshot = snapshot.sort_values(\"Momentum_20d\", ascending = False)\n",
    "\n",
    "# View top 5 Stocks\n",
    "snapshot[[\"Stock\", \"Momentum_20d\", \"Volatility_20d\"]].head()\n",
    "                           "
   ]
  },
  {
   "cell_type": "code",
   "execution_count": 12,
   "id": "5f84e855-9fd5-4ed4-a0c0-418a4c1c59ef",
   "metadata": {},
   "outputs": [],
   "source": [
    "df.to_csv(\"8.nifty_alpha_factors_cleaned.csv\", index=False)"
   ]
  },
  {
   "cell_type": "code",
   "execution_count": null,
   "id": "2a841de1-38d6-468d-9048-55d9e59d7f12",
   "metadata": {},
   "outputs": [],
   "source": []
  }
 ],
 "metadata": {
  "kernelspec": {
   "display_name": "Python 3 (ipykernel)",
   "language": "python",
   "name": "python3"
  },
  "language_info": {
   "codemirror_mode": {
    "name": "ipython",
    "version": 3
   },
   "file_extension": ".py",
   "mimetype": "text/x-python",
   "name": "python",
   "nbconvert_exporter": "python",
   "pygments_lexer": "ipython3",
   "version": "3.12.7"
  }
 },
 "nbformat": 4,
 "nbformat_minor": 5
}
