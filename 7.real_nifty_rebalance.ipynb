{
 "cells": [
  {
   "cell_type": "code",
   "execution_count": 1,
   "id": "fa802d4b-7b34-45e0-b5e6-bd08dd629cec",
   "metadata": {},
   "outputs": [],
   "source": [
    "import pandas as pd\n",
    "import matplotlib.pyplot as plt\n",
    "import seaborn as sns\n"
   ]
  },
  {
   "cell_type": "code",
   "execution_count": 2,
   "id": "88ad79a9-9ee0-439b-9b35-dd2aec08e3d7",
   "metadata": {},
   "outputs": [
    {
     "data": {
      "text/html": [
       "<div>\n",
       "<style scoped>\n",
       "    .dataframe tbody tr th:only-of-type {\n",
       "        vertical-align: middle;\n",
       "    }\n",
       "\n",
       "    .dataframe tbody tr th {\n",
       "        vertical-align: top;\n",
       "    }\n",
       "\n",
       "    .dataframe thead th {\n",
       "        text-align: right;\n",
       "    }\n",
       "</style>\n",
       "<table border=\"1\" class=\"dataframe\">\n",
       "  <thead>\n",
       "    <tr style=\"text-align: right;\">\n",
       "      <th></th>\n",
       "      <th>Stock</th>\n",
       "      <th>Market_Cap</th>\n",
       "      <th>Weight_Before</th>\n",
       "      <th>Weight_After</th>\n",
       "      <th>Avg_Daily_Volume</th>\n",
       "    </tr>\n",
       "  </thead>\n",
       "  <tbody>\n",
       "    <tr>\n",
       "      <th>0</th>\n",
       "      <td>BSE</td>\n",
       "      <td>714673</td>\n",
       "      <td>0.000</td>\n",
       "      <td>0.012</td>\n",
       "      <td>105</td>\n",
       "    </tr>\n",
       "    <tr>\n",
       "      <th>1</th>\n",
       "      <td>INDIGO</td>\n",
       "      <td>577875</td>\n",
       "      <td>0.000</td>\n",
       "      <td>0.010</td>\n",
       "      <td>499</td>\n",
       "    </tr>\n",
       "    <tr>\n",
       "      <th>2</th>\n",
       "      <td>INDUSINDBK</td>\n",
       "      <td>207337</td>\n",
       "      <td>0.015</td>\n",
       "      <td>0.000</td>\n",
       "      <td>226</td>\n",
       "    </tr>\n",
       "    <tr>\n",
       "      <th>3</th>\n",
       "      <td>HEROMOTOCO</td>\n",
       "      <td>721368</td>\n",
       "      <td>0.012</td>\n",
       "      <td>0.000</td>\n",
       "      <td>1295</td>\n",
       "    </tr>\n",
       "    <tr>\n",
       "      <th>4</th>\n",
       "      <td>RELIANCE</td>\n",
       "      <td>269305</td>\n",
       "      <td>0.100</td>\n",
       "      <td>0.098</td>\n",
       "      <td>109</td>\n",
       "    </tr>\n",
       "  </tbody>\n",
       "</table>\n",
       "</div>"
      ],
      "text/plain": [
       "        Stock  Market_Cap  Weight_Before  Weight_After  Avg_Daily_Volume\n",
       "0         BSE      714673          0.000         0.012               105\n",
       "1      INDIGO      577875          0.000         0.010               499\n",
       "2  INDUSINDBK      207337          0.015         0.000               226\n",
       "3  HEROMOTOCO      721368          0.012         0.000              1295\n",
       "4    RELIANCE      269305          0.100         0.098               109"
      ]
     },
     "execution_count": 2,
     "metadata": {},
     "output_type": "execute_result"
    }
   ],
   "source": [
    "df = pd.read_csv(r\"C:\\Users\\chira\\Downloads\\nifty50_june2025_rebalance.csv\")\n",
    "\n",
    "df.head()"
   ]
  },
  {
   "cell_type": "code",
   "execution_count": 3,
   "id": "a2d48efe-1415-417f-a8d1-d5912765151e",
   "metadata": {},
   "outputs": [
    {
     "data": {
      "text/plain": [
       "Stock               0\n",
       "Market_Cap          0\n",
       "Weight_Before       0\n",
       "Weight_After        0\n",
       "Avg_Daily_Volume    0\n",
       "dtype: int64"
      ]
     },
     "execution_count": 3,
     "metadata": {},
     "output_type": "execute_result"
    }
   ],
   "source": [
    "df.isnull().sum()"
   ]
  },
  {
   "cell_type": "code",
   "execution_count": 4,
   "id": "0ba36cbd-f313-4583-92cf-c0961f3f7679",
   "metadata": {},
   "outputs": [
    {
     "data": {
      "text/plain": [
       "0.41000000000000003"
      ]
     },
     "execution_count": 4,
     "metadata": {},
     "output_type": "execute_result"
    }
   ],
   "source": [
    "df[\"Weight_Before\"].sum()"
   ]
  },
  {
   "cell_type": "code",
   "execution_count": 5,
   "id": "56ade6fd-4161-43ee-8235-284a20e4afc5",
   "metadata": {},
   "outputs": [
    {
     "data": {
      "text/plain": [
       "0.4089999999999999"
      ]
     },
     "execution_count": 5,
     "metadata": {},
     "output_type": "execute_result"
    }
   ],
   "source": [
    "df[\"Weight_After\"].sum()"
   ]
  },
  {
   "cell_type": "markdown",
   "id": "51c9bf97-ed77-4554-b3b3-49b25d3b1710",
   "metadata": {},
   "source": [
    "# Simulate a ₹1000 crore ETF that must rebalance according to the Weight_Before → Weight_After changes.\n",
    "\n"
   ]
  },
  {
   "cell_type": "markdown",
   "id": "e6fc0161-3677-4fb2-a654-520e0e021176",
   "metadata": {},
   "source": [
    "Calculating Flow per stock"
   ]
  },
  {
   "cell_type": "code",
   "execution_count": 6,
   "id": "32111cb7-54d7-48d2-a511-00c651d5a616",
   "metadata": {},
   "outputs": [
    {
     "data": {
      "text/html": [
       "<div>\n",
       "<style scoped>\n",
       "    .dataframe tbody tr th:only-of-type {\n",
       "        vertical-align: middle;\n",
       "    }\n",
       "\n",
       "    .dataframe tbody tr th {\n",
       "        vertical-align: top;\n",
       "    }\n",
       "\n",
       "    .dataframe thead th {\n",
       "        text-align: right;\n",
       "    }\n",
       "</style>\n",
       "<table border=\"1\" class=\"dataframe\">\n",
       "  <thead>\n",
       "    <tr style=\"text-align: right;\">\n",
       "      <th></th>\n",
       "      <th>Stock</th>\n",
       "      <th>Market_Cap</th>\n",
       "      <th>Weight_Before</th>\n",
       "      <th>Weight_After</th>\n",
       "      <th>Avg_Daily_Volume</th>\n",
       "      <th>Weight_Change</th>\n",
       "      <th>Flow_Amount</th>\n",
       "    </tr>\n",
       "  </thead>\n",
       "  <tbody>\n",
       "    <tr>\n",
       "      <th>0</th>\n",
       "      <td>BSE</td>\n",
       "      <td>714673</td>\n",
       "      <td>0.000</td>\n",
       "      <td>0.012</td>\n",
       "      <td>105</td>\n",
       "      <td>0.012</td>\n",
       "      <td>12.0</td>\n",
       "    </tr>\n",
       "    <tr>\n",
       "      <th>1</th>\n",
       "      <td>INDIGO</td>\n",
       "      <td>577875</td>\n",
       "      <td>0.000</td>\n",
       "      <td>0.010</td>\n",
       "      <td>499</td>\n",
       "      <td>0.010</td>\n",
       "      <td>10.0</td>\n",
       "    </tr>\n",
       "    <tr>\n",
       "      <th>2</th>\n",
       "      <td>INDUSINDBK</td>\n",
       "      <td>207337</td>\n",
       "      <td>0.015</td>\n",
       "      <td>0.000</td>\n",
       "      <td>226</td>\n",
       "      <td>-0.015</td>\n",
       "      <td>-15.0</td>\n",
       "    </tr>\n",
       "  </tbody>\n",
       "</table>\n",
       "</div>"
      ],
      "text/plain": [
       "        Stock  Market_Cap  Weight_Before  Weight_After  Avg_Daily_Volume  \\\n",
       "0         BSE      714673          0.000         0.012               105   \n",
       "1      INDIGO      577875          0.000         0.010               499   \n",
       "2  INDUSINDBK      207337          0.015         0.000               226   \n",
       "\n",
       "   Weight_Change  Flow_Amount  \n",
       "0          0.012         12.0  \n",
       "1          0.010         10.0  \n",
       "2         -0.015        -15.0  "
      ]
     },
     "execution_count": 6,
     "metadata": {},
     "output_type": "execute_result"
    }
   ],
   "source": [
    "total_fund = 1000   #Crores\n",
    "\n",
    "# Calculating Weight change\n",
    "df[\"Weight_Change\"] = df[\"Weight_After\"] - df[\"Weight_Before\"]\n",
    "\n",
    "# Flow amount = how much ETF will buy/sell per stock\n",
    "df[\"Flow_Amount\"] = df[\"Weight_Change\"] * total_fund\n",
    "\n",
    "df.head(3)"
   ]
  },
  {
   "cell_type": "markdown",
   "id": "734417a9-c261-4390-96f8-16bfdc8b61a9",
   "metadata": {},
   "source": [
    "Estimating Flow Pressure"
   ]
  },
  {
   "cell_type": "code",
   "execution_count": 7,
   "id": "01d9b68c-22bf-49b8-a95b-b279165cfd75",
   "metadata": {},
   "outputs": [],
   "source": [
    "# Flow %\n",
    "df[\"Flow_to_Volume_%\"] = (df[\"Flow_Amount\"] /df[\"Avg_Daily_Volume\"]) * 100\n",
    "\n",
    "# Absolute pressure (For sorting)\n",
    "\n",
    "df[\"Abs_Flow_to_Volume_%\"] = df[\"Flow_to_Volume_%\"].abs()"
   ]
  },
  {
   "cell_type": "code",
   "execution_count": 8,
   "id": "ec5db668-2163-491b-8a1b-51386bea071a",
   "metadata": {},
   "outputs": [
    {
     "data": {
      "text/html": [
       "<div>\n",
       "<style scoped>\n",
       "    .dataframe tbody tr th:only-of-type {\n",
       "        vertical-align: middle;\n",
       "    }\n",
       "\n",
       "    .dataframe tbody tr th {\n",
       "        vertical-align: top;\n",
       "    }\n",
       "\n",
       "    .dataframe thead th {\n",
       "        text-align: right;\n",
       "    }\n",
       "</style>\n",
       "<table border=\"1\" class=\"dataframe\">\n",
       "  <thead>\n",
       "    <tr style=\"text-align: right;\">\n",
       "      <th></th>\n",
       "      <th>Stock</th>\n",
       "      <th>Market_Cap</th>\n",
       "      <th>Weight_Before</th>\n",
       "      <th>Weight_After</th>\n",
       "      <th>Avg_Daily_Volume</th>\n",
       "      <th>Weight_Change</th>\n",
       "      <th>Flow_Amount</th>\n",
       "      <th>Flow_to_Volume_%</th>\n",
       "      <th>Abs_Flow_to_Volume_%</th>\n",
       "    </tr>\n",
       "  </thead>\n",
       "  <tbody>\n",
       "    <tr>\n",
       "      <th>0</th>\n",
       "      <td>BSE</td>\n",
       "      <td>714673</td>\n",
       "      <td>0.000</td>\n",
       "      <td>0.012</td>\n",
       "      <td>105</td>\n",
       "      <td>0.012</td>\n",
       "      <td>12.0</td>\n",
       "      <td>11.428571</td>\n",
       "      <td>11.428571</td>\n",
       "    </tr>\n",
       "    <tr>\n",
       "      <th>1</th>\n",
       "      <td>INDIGO</td>\n",
       "      <td>577875</td>\n",
       "      <td>0.000</td>\n",
       "      <td>0.010</td>\n",
       "      <td>499</td>\n",
       "      <td>0.010</td>\n",
       "      <td>10.0</td>\n",
       "      <td>2.004008</td>\n",
       "      <td>2.004008</td>\n",
       "    </tr>\n",
       "    <tr>\n",
       "      <th>2</th>\n",
       "      <td>INDUSINDBK</td>\n",
       "      <td>207337</td>\n",
       "      <td>0.015</td>\n",
       "      <td>0.000</td>\n",
       "      <td>226</td>\n",
       "      <td>-0.015</td>\n",
       "      <td>-15.0</td>\n",
       "      <td>-6.637168</td>\n",
       "      <td>6.637168</td>\n",
       "    </tr>\n",
       "  </tbody>\n",
       "</table>\n",
       "</div>"
      ],
      "text/plain": [
       "        Stock  Market_Cap  Weight_Before  Weight_After  Avg_Daily_Volume  \\\n",
       "0         BSE      714673          0.000         0.012               105   \n",
       "1      INDIGO      577875          0.000         0.010               499   \n",
       "2  INDUSINDBK      207337          0.015         0.000               226   \n",
       "\n",
       "   Weight_Change  Flow_Amount  Flow_to_Volume_%  Abs_Flow_to_Volume_%  \n",
       "0          0.012         12.0         11.428571             11.428571  \n",
       "1          0.010         10.0          2.004008              2.004008  \n",
       "2         -0.015        -15.0         -6.637168              6.637168  "
      ]
     },
     "execution_count": 8,
     "metadata": {},
     "output_type": "execute_result"
    }
   ],
   "source": [
    "df.head(3)"
   ]
  },
  {
   "cell_type": "markdown",
   "id": "2fde22b8-f842-45f4-ad3a-c2358f12ee98",
   "metadata": {},
   "source": [
    "Visualizing Top Pressure Stocks"
   ]
  },
  {
   "cell_type": "code",
   "execution_count": 9,
   "id": "737dba38-e0d5-4d1d-b65c-90aeb359dfd9",
   "metadata": {},
   "outputs": [
    {
     "data": {
      "image/png": "[encoded data removed]",
      "text/plain": [
       "<Figure size 1000x600 with 1 Axes>"
      ]
     },
     "metadata": {},
     "output_type": "display_data"
    }
   ],
   "source": [
    "# Sort and pick top 5 pressure stocks\n",
    "top_pressure = df.sort_values(\"Abs_Flow_to_Volume_%\", ascending = False).head(5)\n",
    "\n",
    "#Plot pressure\n",
    "\n",
    "plt.figure(figsize = (10,6))\n",
    "sns.barplot(data = top_pressure,\n",
    "            x = \"Flow_to_Volume_%\",\n",
    "            y = \"Stock\",\n",
    "            hue = \"Stock\",\n",
    "            legend = False,\n",
    "            palette = \"coolwarm\",\n",
    "            orient = \"h\",\n",
    "           )\n",
    "plt.axvline(0, color = \"black\", linewidth = 1)\n",
    "plt.title(\"Top 5 Stocks by Rebalance Flow Pressure (% of Daily Volume)\")\n",
    "plt.xlabel(\"Flow as % of Avg Daily Volume\")\n",
    "plt.ylabel(\"Stock\")\n",
    "plt.grid(True, linestyle = \"--\", alpha = 0.4)\n",
    "plt.tight_layout()\n",
    "\n",
    "plt.show()\n",
    "            "
   ]
  },
  {
   "cell_type": "code",
   "execution_count": 10,
   "id": "204032c3-687a-45a4-b031-a3c5d20902db",
   "metadata": {},
   "outputs": [],
   "source": [
    "df.to_csv(\"7.NIFTY50_June2025_Rebalance_Output.csv\", index = False)"
   ]
  },
  {
   "cell_type": "code",
   "execution_count": null,
   "id": "1f001c94-0929-4218-bfc6-84ea49c9d2cd",
   "metadata": {},
   "outputs": [],
   "source": []
  }
 ],
 "metadata": {
  "kernelspec": {
   "display_name": "Python 3 (ipykernel)",
   "language": "python",
   "name": "python3"
  },
  "language_info": {
   "codemirror_mode": {
    "name": "ipython",
    "version": 3
   },
   "file_extension": ".py",
   "mimetype": "text/x-python",
   "name": "python",
   "nbconvert_exporter": "python",
   "pygments_lexer": "ipython3",
   "version": "3.12.7"
  }
 },
 "nbformat": 4,
 "nbformat_minor": 5
}
